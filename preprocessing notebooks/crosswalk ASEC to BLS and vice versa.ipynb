{
 "cells": [
  {
   "cell_type": "code",
   "execution_count": null,
   "metadata": {
    "ExecuteTime": {
     "end_time": "2023-01-27T10:42:17.148106Z",
     "start_time": "2023-01-27T10:42:15.055905Z"
    }
   },
   "outputs": [],
   "source": [
    "import numpy as np\n",
    "import pandas as pd\n",
    "from matplotlib import pylab as plt"
   ]
  },
  {
   "cell_type": "markdown",
   "metadata": {},
   "source": [
    "# This notebook matches the ASEC codes on the BLS codes actually used"
   ]
  },
  {
   "cell_type": "code",
   "execution_count": null,
   "metadata": {
    "ExecuteTime": {
     "end_time": "2023-01-27T10:42:17.657533Z",
     "start_time": "2023-01-27T10:42:17.639619Z"
    }
   },
   "outputs": [],
   "source": [
    "# paths\n",
    "data = \"../data/\"\n",
    "data_out = '../results/data_out/'"
   ]
  },
  {
   "cell_type": "markdown",
   "metadata": {},
   "source": [
    "Read in data: 1) occupations in BLS, 2) occupations in ASEC, 3) crosswalk"
   ]
  },
  {
   "cell_type": "code",
   "execution_count": null,
   "metadata": {
    "ExecuteTime": {
     "end_time": "2022-12-19T09:57:52.721571Z",
     "start_time": "2022-12-19T09:57:52.601803Z"
    }
   },
   "outputs": [],
   "source": [
    "bls_used = pd.read_csv(data_out + 'occ_names_bls_minor_major.csv', index_col=0, usecols=[0,1,2,3])\n",
    "asec_used = pd.read_csv(data + 'occ_names_employment_asec_occ.csv')\n",
    "online = pd.read_excel(data + '2010-occ-codes-with-crosswalk-from-2002-2011.xls', skiprows=4, usecols=\"B:D\").dropna()"
   ]
  },
  {
   "cell_type": "code",
   "execution_count": null,
   "metadata": {
    "ExecuteTime": {
     "end_time": "2022-12-19T09:57:52.752373Z",
     "start_time": "2022-12-19T09:57:52.723572Z"
    }
   },
   "outputs": [],
   "source": [
    "online['2010 SOC Code'] = online['2010 SOC Code'].astype(str)\n",
    "online['2010 SOC Code'] = online['2010 SOC Code'].str.strip()\n",
    "online['2010 SOC Code zero'] = [x[:-1] + '0' for x in online['2010 SOC Code']]\n",
    "online = online.merge(bls_used[['OCC_CODE']], left_on='2010 SOC Code', \n",
    "                      right_on='OCC_CODE', how='left')\n",
    "online = online.merge(bls_used[['OCC_CODE']], left_on='2010 SOC Code zero', \n",
    "                      right_on='OCC_CODE', how='left', suffixes=('', '_y'))\n",
    "online.OCC_CODE = online.OCC_CODE.fillna(online.OCC_CODE_y)\n",
    "online.drop(['2010 SOC Code zero', 'OCC_CODE_y'], inplace=True, axis=1)"
   ]
  },
  {
   "cell_type": "code",
   "execution_count": null,
   "metadata": {
    "ExecuteTime": {
     "end_time": "2022-12-19T09:57:52.768278Z",
     "start_time": "2022-12-19T09:57:52.754374Z"
    }
   },
   "outputs": [],
   "source": [
    "occ_impute = pd.read_csv(data + 'soc_imputation.csv')\n",
    "online = online.merge(occ_impute, on='2010 SOC Code', how='left')\n",
    "online.OCC_CODE = online.OCC_CODE.fillna(online.impute)\n",
    "online.drop(['impute'], inplace=True, axis=1)"
   ]
  },
  {
   "cell_type": "code",
   "execution_count": null,
   "metadata": {
    "ExecuteTime": {
     "end_time": "2022-12-19T09:57:52.800350Z",
     "start_time": "2022-12-19T09:57:52.771280Z"
    }
   },
   "outputs": [],
   "source": [
    "online['2010 Census Code'] = pd.to_numeric(online['2010 Census Code'], errors='coerce')\n",
    "online = online.merge(asec_used[['Code']], left_on='2010 Census Code', right_on='Code',how='left')\n",
    "asec_impute = pd.read_csv(data + 'asec_imputation.csv')\n",
    "online = online.merge(asec_impute, on='2010 Census Code', how='left')\n",
    "online.Code = online.Code.fillna(online.imputation)\n",
    "online.drop(['imputation'], inplace=True, axis=1)"
   ]
  },
  {
   "cell_type": "code",
   "execution_count": null,
   "metadata": {
    "ExecuteTime": {
     "end_time": "2022-12-19T09:57:52.815884Z",
     "start_time": "2022-12-19T09:57:52.802856Z"
    }
   },
   "outputs": [],
   "source": [
    "# all codes in crosswalk, except fishing/hunting workers and military\n",
    "print(set(online['2010 Census Code']) - set(asec_used.Code))\n",
    "print(set(asec_used.Code) - set(online['2010 Census Code']))\n",
    "print(set(online['OCC_CODE']) - set(bls_used.OCC_CODE))\n",
    "print(set(bls_used.OCC_CODE) - set(online['OCC_CODE']))"
   ]
  },
  {
   "cell_type": "code",
   "execution_count": null,
   "metadata": {
    "ExecuteTime": {
     "end_time": "2022-12-19T09:57:52.831673Z",
     "start_time": "2022-12-19T09:57:52.818898Z"
    }
   },
   "outputs": [],
   "source": [
    "online.dropna(inplace=True)"
   ]
  },
  {
   "cell_type": "code",
   "execution_count": null,
   "metadata": {
    "ExecuteTime": {
     "end_time": "2022-12-19T09:57:52.878456Z",
     "start_time": "2022-12-19T09:57:52.838672Z"
    }
   },
   "outputs": [],
   "source": [
    "online"
   ]
  },
  {
   "cell_type": "code",
   "execution_count": null,
   "metadata": {
    "ExecuteTime": {
     "end_time": "2022-12-19T09:57:52.894531Z",
     "start_time": "2022-12-19T09:57:52.880432Z"
    }
   },
   "outputs": [],
   "source": [
    "# all codes in crosswalk, except fishing/hunting workers and military\n",
    "print(set(online.Code) - set(asec_used.Code))\n",
    "print(set(asec_used.Code) - set(online.Code))\n",
    "print(set(online['OCC_CODE']) - set(bls_used.OCC_CODE))\n",
    "print(set(bls_used.OCC_CODE) - set(online['OCC_CODE']))"
   ]
  },
  {
   "cell_type": "code",
   "execution_count": null,
   "metadata": {
    "ExecuteTime": {
     "end_time": "2022-12-19T09:57:52.925695Z",
     "start_time": "2022-12-19T09:57:52.898595Z"
    }
   },
   "outputs": [],
   "source": [
    "online[['OCC_CODE', 'Code']].drop_duplicates().to_csv(data_out + 'edgelist_bls_asec_2011-2019.csv')"
   ]
  },
  {
   "cell_type": "code",
   "execution_count": null,
   "metadata": {
    "ExecuteTime": {
     "end_time": "2022-12-19T09:57:52.972378Z",
     "start_time": "2022-12-19T09:57:52.927687Z"
    }
   },
   "outputs": [],
   "source": [
    "xwalk = online[['OCC_CODE', 'Code']].drop_duplicates().copy()\n",
    "xwalk.Code = xwalk.Code.astype(int)\n",
    "xwalk['val'] = 1\n",
    "xwalk=xwalk.pivot_table(index='OCC_CODE', columns='Code', values='val').fillna(0)"
   ]
  },
  {
   "cell_type": "code",
   "execution_count": null,
   "metadata": {
    "ExecuteTime": {
     "end_time": "2022-12-19T09:57:53.018495Z",
     "start_time": "2022-12-19T09:57:52.975386Z"
    }
   },
   "outputs": [],
   "source": [
    "xwalk"
   ]
  },
  {
   "cell_type": "markdown",
   "metadata": {
    "ExecuteTime": {
     "end_time": "2022-06-06T11:38:42.293683Z",
     "start_time": "2022-06-06T11:38:42.283470Z"
    }
   },
   "source": [
    "### proportional fitting"
   ]
  },
  {
   "cell_type": "code",
   "execution_count": null,
   "metadata": {
    "ExecuteTime": {
     "end_time": "2022-12-19T09:57:53.191319Z",
     "start_time": "2022-12-19T09:57:53.020497Z"
    }
   },
   "outputs": [],
   "source": [
    "bls_emp = bls_used[['OCC_CODE', 'TOT_EMP']].set_index('OCC_CODE')\n",
    "xwalk_asec_bls = xwalk.multiply(bls_emp['TOT_EMP'], axis=0)\n",
    "xwalk_asec_bls = xwalk_asec_bls.div(xwalk_asec_bls.sum())\n",
    "xwalk_asec_bls.to_csv(data_out + 'xwalk_asec_bls_2011-2019.csv')"
   ]
  },
  {
   "cell_type": "code",
   "execution_count": null,
   "metadata": {
    "ExecuteTime": {
     "end_time": "2022-12-19T09:57:53.238666Z",
     "start_time": "2022-12-19T09:57:53.193321Z"
    }
   },
   "outputs": [],
   "source": [
    "asec_emp = asec_used[['Code', 'EMP_2011_2019_avg']].set_index('Code')\n",
    "xwalk_bls_asec = xwalk.multiply(asec_emp['EMP_2011_2019_avg'], axis=1)\n",
    "xwalk_bls_asec = xwalk_bls_asec.div(xwalk_bls_asec.sum(axis=1), axis=0)"
   ]
  },
  {
   "cell_type": "code",
   "execution_count": null,
   "metadata": {
    "ExecuteTime": {
     "end_time": "2022-12-19T09:57:53.458473Z",
     "start_time": "2022-12-19T09:57:53.257163Z"
    }
   },
   "outputs": [],
   "source": [
    "xwalk_bls_asec.to_csv(data_out + 'xwalk_bls_asec_2011-2019.csv')"
   ]
  },
  {
   "cell_type": "markdown",
   "metadata": {},
   "source": [
    "#### Assert sums equal one"
   ]
  },
  {
   "cell_type": "code",
   "execution_count": null,
   "metadata": {
    "ExecuteTime": {
     "end_time": "2022-12-19T09:57:53.520619Z",
     "start_time": "2022-12-19T09:57:53.461504Z"
    }
   },
   "outputs": [],
   "source": [
    "np.testing.assert_array_almost_equal(xwalk_bls_asec.sum(axis=1).values, np.ones(len(xwalk_bls_asec.index)))"
   ]
  },
  {
   "cell_type": "code",
   "execution_count": null,
   "metadata": {
    "ExecuteTime": {
     "end_time": "2022-12-19T09:57:53.536579Z",
     "start_time": "2022-12-19T09:57:53.523619Z"
    }
   },
   "outputs": [],
   "source": [
    "np.testing.assert_array_equal(xwalk_asec_bls.sum(axis=0).values, np.ones(len(xwalk_asec_bls.columns)))"
   ]
  }
 ],
 "metadata": {
  "kernelspec": {
   "display_name": "Python 3 (ipykernel)",
   "language": "python",
   "name": "python3"
  },
  "language_info": {
   "codemirror_mode": {
    "name": "ipython",
    "version": 3
   },
   "file_extension": ".py",
   "mimetype": "text/x-python",
   "name": "python",
   "nbconvert_exporter": "python",
   "pygments_lexer": "ipython3",
   "version": "3.8.4"
  },
  "toc": {
   "base_numbering": 1,
   "nav_menu": {},
   "number_sections": true,
   "sideBar": true,
   "skip_h1_title": false,
   "title_cell": "Table of Contents",
   "title_sidebar": "Contents",
   "toc_cell": false,
   "toc_position": {},
   "toc_section_display": true,
   "toc_window_display": false
  },
  "varInspector": {
   "cols": {
    "lenName": 16,
    "lenType": 16,
    "lenVar": 40
   },
   "kernels_config": {
    "python": {
     "delete_cmd_postfix": "",
     "delete_cmd_prefix": "del ",
     "library": "var_list.py",
     "varRefreshCmd": "print(var_dic_list())"
    },
    "r": {
     "delete_cmd_postfix": ") ",
     "delete_cmd_prefix": "rm(",
     "library": "var_list.r",
     "varRefreshCmd": "cat(var_dic_list()) "
    }
   },
   "types_to_exclude": [
    "module",
    "function",
    "builtin_function_or_method",
    "instance",
    "_Feature"
   ],
   "window_display": false
  }
 },
 "nbformat": 4,
 "nbformat_minor": 4
}
