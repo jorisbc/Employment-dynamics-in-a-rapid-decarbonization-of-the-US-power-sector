{
 "cells": [
  {
   "cell_type": "code",
   "execution_count": null,
   "id": "84b47e0d",
   "metadata": {
    "ExecuteTime": {
     "end_time": "2023-02-09T15:20:43.529591Z",
     "start_time": "2023-02-09T15:20:42.732092Z"
    }
   },
   "outputs": [],
   "source": [
    "import numpy as np\n",
    "import pandas as pd"
   ]
  },
  {
   "cell_type": "markdown",
   "id": "044b3cb3",
   "metadata": {},
   "source": [
    "# Data read and clean"
   ]
  },
  {
   "cell_type": "code",
   "execution_count": null,
   "id": "0b266db8",
   "metadata": {
    "ExecuteTime": {
     "end_time": "2023-02-09T15:20:44.571659Z",
     "start_time": "2023-02-09T15:20:44.469036Z"
    }
   },
   "outputs": [],
   "source": [
    "edgelist_asec = pd.read_csv('../data/omn/edgelist_qualitycontrol_2011_2019.csv')\n",
    "xwalk = pd.read_csv('../results/data_out/xwalk_asec_bls_2011-2019.csv', index_col=0)"
   ]
  },
  {
   "cell_type": "code",
   "execution_count": null,
   "id": "98261e34",
   "metadata": {
    "ExecuteTime": {
     "end_time": "2023-02-09T15:20:44.791043Z",
     "start_time": "2023-02-09T15:20:44.777148Z"
    }
   },
   "outputs": [],
   "source": [
    "xwalk.columns = xwalk.columns.astype(int)"
   ]
  },
  {
   "cell_type": "code",
   "execution_count": null,
   "id": "fea36f81",
   "metadata": {
    "ExecuteTime": {
     "end_time": "2023-02-09T15:20:45.085705Z",
     "start_time": "2023-02-09T15:20:45.024943Z"
    }
   },
   "outputs": [],
   "source": [
    "# the edgelist misses 2960 (misc media and comm equipment workers), which maps on \n",
    "# 27-4090 (employment 2018: 18,790)), which we change to 2900 (broadcast and sound engineering technicians and radio), \n",
    "# which also maps on 27-4010 (employment 2018: 121,890)\n",
    "\n",
    "# the crosswalk misses 6100 (fishing workers) and 6110 (hunters), which we remove\n",
    "\n",
    "print(set(xwalk.columns) - set(edgelist_asec.OCC))\n",
    "print(set(edgelist_asec.OCC) - set(xwalk.columns))\n",
    "\n",
    "print(xwalk.loc['27-4090', 2960])\n",
    "print(xwalk.loc['27-4010', 2960])\n",
    "\n",
    "xwalk.loc['27-4090', 2900] = 18790 / (18790 + 121890)\n",
    "xwalk.loc['27-4010', 2900] = 121890 / (18790 + 121890)\n",
    "\n",
    "xwalk.drop(2960, axis=1, inplace=True)\n",
    "\n",
    "display(edgelist_asec[edgelist_asec.OCC == 6100].head())\n",
    "display(edgelist_asec[edgelist_asec.OCC == 6110])\n",
    "\n",
    "edgelist_asec = edgelist_asec[edgelist_asec.OCC != 6100]\n",
    "edgelist_asec = edgelist_asec[edgelist_asec.OCC != 6110]\n"
   ]
  },
  {
   "cell_type": "code",
   "execution_count": null,
   "id": "8edc49ed",
   "metadata": {
    "ExecuteTime": {
     "end_time": "2023-02-09T15:20:45.335904Z",
     "start_time": "2023-02-09T15:20:45.323942Z"
    }
   },
   "outputs": [],
   "source": [
    "print(set(xwalk.columns) - set(edgelist_asec.OCC))\n",
    "print(set(edgelist_asec.OCC) - set(xwalk.columns))\n",
    "\n",
    "print(xwalk.loc['27-4090', 2900])\n",
    "print(xwalk.loc['27-4010', 2900])"
   ]
  },
  {
   "cell_type": "code",
   "execution_count": null,
   "id": "81dd93a6",
   "metadata": {
    "ExecuteTime": {
     "end_time": "2023-02-09T15:20:45.571128Z",
     "start_time": "2023-02-09T15:20:45.546929Z"
    }
   },
   "outputs": [],
   "source": [
    "# 7330 matches both on 49-9041 (employment 2018: 362,440) and 49-9045 (employment \n",
    "# 2018: 1,120) larger than 1, but it seems to be a rounding error. Ignore\n",
    "print(xwalk.loc[:, xwalk.sum() > 1.000].columns)\n",
    "\n",
    "print(xwalk.loc['49-9041', 7330])\n",
    "print(xwalk.loc['49-9045', 7330])"
   ]
  },
  {
   "cell_type": "code",
   "execution_count": null,
   "id": "2c3af7bc",
   "metadata": {
    "ExecuteTime": {
     "end_time": "2023-02-09T15:20:45.803098Z",
     "start_time": "2023-02-09T15:20:45.773561Z"
    }
   },
   "outputs": [],
   "source": [
    "# check solar PV installers\n",
    "\n",
    "# IPUMS staff: Thank you for bringing this to our \n",
    "# attention. It does appear that these labels were inadvertently \n",
    "# switched. In the 2011-2019 samples, OCC = 6530 should refer to \n",
    "# structural iron and steel workers while OCC = 6540 are solar \n",
    "# photovoltaic installers. I have alerted the CPS team to this \n",
    "# issue so that it can be addressed.\n",
    "\n",
    "# should show incoming links into solar pv installers\n",
    "display(edgelist_asec[edgelist_asec.OCC == 6540])\n",
    "\n",
    "# solar pv installers are in the BLS: 47-2230\n",
    "print(xwalk.loc['47-2230', 6540]) #should be 1\n",
    "print(xwalk.loc['47-2230', 6530]) #should be 0\n",
    "\n",
    "# all good"
   ]
  },
  {
   "cell_type": "markdown",
   "id": "dc59052b",
   "metadata": {},
   "source": [
    "# Crosswalk"
   ]
  },
  {
   "cell_type": "code",
   "execution_count": null,
   "id": "fc1dc6d1",
   "metadata": {
    "ExecuteTime": {
     "end_time": "2023-02-09T15:20:46.055475Z",
     "start_time": "2023-02-09T15:20:46.028642Z"
    }
   },
   "outputs": [],
   "source": [
    "# we want to croswalk both OCCLY and OCC to BLS format\n",
    "edgelist_asec.head()"
   ]
  },
  {
   "cell_type": "code",
   "execution_count": null,
   "id": "0341976e",
   "metadata": {
    "ExecuteTime": {
     "end_time": "2023-02-09T15:20:46.289704Z",
     "start_time": "2023-02-09T15:20:46.259555Z"
    }
   },
   "outputs": [],
   "source": [
    "# make edgelist from crosswalk\n",
    "xedge = xwalk.unstack()\n",
    "xedge = xedge[xedge > 0]\n",
    "\n",
    "xedge = xedge.reset_index()\n",
    "\n",
    "xedge.rename(columns={0: 'frac'}, inplace=True)\n",
    "\n",
    "xedge.head()"
   ]
  },
  {
   "cell_type": "code",
   "execution_count": null,
   "id": "1d51ac36",
   "metadata": {
    "ExecuteTime": {
     "end_time": "2023-02-09T15:20:46.537138Z",
     "start_time": "2023-02-09T15:20:46.495717Z"
    }
   },
   "outputs": [],
   "source": [
    "# Merge crosswalk on edgelist\n",
    "edgelist_bls = edgelist_asec.merge(xedge, left_on = 'OCCLY', right_on='level_0', how='outer').drop('level_0', axis=1)\n",
    "edgelist_bls.rename(columns={'OCC_CODE': 'OCCLY_BLS'}, inplace=True)\n",
    "\n",
    "edgelist_bls = edgelist_bls.merge(xedge, left_on = 'OCC', right_on='level_0', how='outer').drop('level_0', axis=1)\n",
    "edgelist_bls.rename(columns={'OCC_CODE': 'OCC_BLS'}, inplace=True)"
   ]
  },
  {
   "cell_type": "code",
   "execution_count": null,
   "id": "435d36eb",
   "metadata": {
    "ExecuteTime": {
     "end_time": "2023-02-09T15:20:46.818470Z",
     "start_time": "2023-02-09T15:20:46.777414Z"
    }
   },
   "outputs": [],
   "source": [
    "# some occupations are split into fractions\n",
    "edgelist_bls['frac'] = edgelist_bls['frac_x'] * edgelist_bls['frac_y']\n",
    "\n",
    "# the weight and the number of observations are multiplied with fractions from both\n",
    "# occ and occly\n",
    "to_mult_frac = ['ASECWT', 'Observations', 'transition_adj_networkers']\n",
    "edgelist_bls[to_mult_frac] = edgelist_bls[to_mult_frac].T.mul(edgelist_bls['frac']).T\n",
    "\n",
    "# empoccly_... and empocc_... are only multiplier with their respective fractions\n",
    "to_mult_occly = ['EMPOCCLY_unadj']\n",
    "to_mult_occ = ['EMPOCC_unadj', 'EMPOCC_incimp']\n",
    "edgelist_bls[to_mult_occly] = edgelist_bls[to_mult_occly].T.mul(edgelist_bls['frac_x']).T\n",
    "edgelist_bls[to_mult_occ] = edgelist_bls[to_mult_occ].T.mul(edgelist_bls['frac_y']).T"
   ]
  },
  {
   "cell_type": "code",
   "execution_count": null,
   "id": "992e6683",
   "metadata": {
    "ExecuteTime": {
     "end_time": "2023-02-09T15:20:47.116870Z",
     "start_time": "2023-02-09T15:20:47.087969Z"
    },
    "scrolled": true
   },
   "outputs": [],
   "source": [
    "# Other times, multiple asec occupations merge on one bls\n",
    "print(len(edgelist_bls[edgelist_bls[['OCCLY_BLS', 'OCC_BLS']].duplicated(keep=False)]))\n",
    "\n",
    "# We sum the emplocc(ly) totals of those\n",
    "tot_emp_asec = edgelist_bls[['OCC', 'EMPOCC_unadj', 'EMPOCC_incimp', 'OCC_BLS']].drop_duplicates(['OCC','OCC_BLS'])\n",
    "tot_emp_asec = tot_emp_asec.drop('OCC', axis=1).groupby('OCC_BLS').sum()\n",
    "tot_emply_asec = edgelist_bls[['OCCLY', 'EMPOCCLY_unadj', 'OCCLY_BLS']].drop_duplicates(['OCCLY','OCCLY_BLS'])\n",
    "tot_emply_asec = tot_emply_asec.drop('OCCLY', axis=1).groupby('OCCLY_BLS').sum()"
   ]
  },
  {
   "cell_type": "code",
   "execution_count": null,
   "id": "cbb4c130",
   "metadata": {
    "ExecuteTime": {
     "end_time": "2023-02-09T15:20:49.164416Z",
     "start_time": "2023-02-09T15:20:47.387345Z"
    }
   },
   "outputs": [],
   "source": [
    "# We groupby occly_bls and occ_bls to find those that match on multiple\n",
    "# asec occupations. We sum the number of observations, the weights, and\n",
    "# the fractions, and we concatenate the strings\n",
    "edgelist_bls[['OCCLY', 'OCC']]  = edgelist_bls[['OCCLY', 'OCC']].astype(str)\n",
    "edgelist_bls = edgelist_bls.groupby(['OCCLY_BLS', 'OCC_BLS']).\\\n",
    "                                            agg(OCCLY = ('OCCLY', lambda x: ','.join(x)),\n",
    "                                                   OCC = ('OCC', lambda x: ','.join(x)),\n",
    "                                                   ASECWT = ('ASECWT', 'sum'),\n",
    "                                                   transition_adj_networkers = ('transition_adj_networkers', 'sum'),\n",
    "                                                   Observations = ('Observations', 'sum'),\n",
    "                                                   OCCLY_label = ('OCCLY_label', lambda x: ','.join(x)),\n",
    "                                                   OCC_label = ('OCC_label', lambda x: ','.join(x)),\n",
    "                                                   frac_x = ('frac_x', 'sum'),\n",
    "                                                   frac_y = ('frac_y', 'sum'),\n",
    "                                                   frac = ('frac', 'sum'))\n",
    "\n",
    "edgelist_bls = edgelist_bls.reset_index()\n",
    "\n",
    "# merge the empocc_ totals back on\n",
    "edgelist_bls = edgelist_bls.merge(tot_emp_asec, left_on='OCC_BLS', right_index=True, how='left')\n",
    "edgelist_bls = edgelist_bls.merge(tot_emply_asec, left_on='OCCLY_BLS', right_index=True, how='left')"
   ]
  },
  {
   "cell_type": "code",
   "execution_count": null,
   "id": "258c63a1",
   "metadata": {
    "ExecuteTime": {
     "end_time": "2023-02-09T15:20:49.464118Z",
     "start_time": "2023-02-09T15:20:49.439203Z"
    }
   },
   "outputs": [],
   "source": [
    "# read in the bls occupation names\n",
    "#bls_name = pd.read_csv('../results/data_out/scenario/annual_change/employment_effects_95% by 2035_2021-2022__3_oct_2022.csv', index_col=0, usecols=[0,1,2,3,4,5,6,7,8,9,10,11,12,13,14])\n",
    "bls_name = pd.read_csv('../results/data_out/occ_names_bls_minor_major.csv', index_col=0).set_index('OCC_CODE')"
   ]
  },
  {
   "cell_type": "code",
   "execution_count": null,
   "id": "399fb272",
   "metadata": {
    "ExecuteTime": {
     "end_time": "2023-02-09T15:20:49.825873Z",
     "start_time": "2023-02-09T15:20:49.780019Z"
    }
   },
   "outputs": [],
   "source": [
    "# add the names to the df with appropriate headings\n",
    "bls_name_OCCLY = bls_name.copy()\n",
    "new_n = [n + '_OCCLY' for n in bls_name_OCCLY.columns]\n",
    "bls_name_OCCLY.set_axis(new_n, axis=1, inplace=True)\n",
    "\n",
    "bls_name_OCC = bls_name.copy()\n",
    "new_n = [n + '_OCC' for n in bls_name_OCC.columns]\n",
    "bls_name_OCC.set_axis(new_n, axis=1, inplace=True)\n",
    "\n",
    "# merge\n",
    "edgelist_bls = edgelist_bls.merge(bls_name_OCC, left_on='OCC_BLS', right_index=True, how='outer')\n",
    "edgelist_bls = edgelist_bls.merge(bls_name_OCCLY, left_on='OCCLY_BLS', right_index=True, how='outer')"
   ]
  },
  {
   "cell_type": "code",
   "execution_count": null,
   "id": "eb66ad24",
   "metadata": {
    "ExecuteTime": {
     "end_time": "2023-02-09T15:20:50.189153Z",
     "start_time": "2023-02-09T15:20:50.176298Z"
    }
   },
   "outputs": [],
   "source": [
    "mp = {'ASECWT': 'ASECWT_BLS', 'transition_adj_networkers': 'transition_adj_networkers_BLS',\n",
    "      'Observations': 'Observations_BLS',  'EMPOCCLY_unadj': 'EMPOCCLY_unadj_BLS', \n",
    "      'EMPOCC_unadj': 'EMPOCC_unadj_BLS', 'EMPOCC_incimp': 'EMPOCC_incimp_BLS'}\n",
    "edgelist_bls.rename(mp, axis=1, inplace=True)"
   ]
  },
  {
   "cell_type": "code",
   "execution_count": null,
   "id": "5a27e198",
   "metadata": {
    "ExecuteTime": {
     "end_time": "2023-02-09T15:20:50.646872Z",
     "start_time": "2023-02-09T15:20:50.604065Z"
    }
   },
   "outputs": [],
   "source": [
    "edgelist_bls"
   ]
  },
  {
   "cell_type": "code",
   "execution_count": null,
   "id": "a5626fac",
   "metadata": {
    "ExecuteTime": {
     "end_time": "2023-02-09T15:20:51.641703Z",
     "start_time": "2023-02-09T15:20:51.010855Z"
    }
   },
   "outputs": [],
   "source": [
    "# reorder and save files\n",
    "edgelist_bls = edgelist_bls[[\n",
    "    'OCCLY_BLS', 'OCC_BLS', 'ASECWT_BLS', 'transition_adj_networkers_BLS', \n",
    "    'Observations_BLS', 'OCC_TITLE_OCC', 'OCC_TITLE_OCCLY', \n",
    "    'EMPOCCLY_unadj_BLS', 'EMPOCC_unadj_BLS', 'EMPOCC_incimp_BLS',\n",
    "    'TOT_EMP_OCC', 'A_MEAN_OCC', 'class_minor_OCC', 'class_major_OCC',\n",
    "    'OCC_CODE_minor_OCC', 'OCC_TITLE_minor_OCC', 'TOT_EMP_minor_OCC',\n",
    "    'A_MEAN_minor_OCC', 'OCC_CODE_major_OCC', 'OCC_TITLE_major_OCC',\n",
    "    'TOT_EMP_major_OCC', 'A_MEAN_major_OCC',\n",
    "    'TOT_EMP_OCCLY', 'A_MEAN_OCCLY', 'class_minor_OCCLY', 'class_major_OCCLY',\n",
    "    'OCC_CODE_minor_OCCLY', 'OCC_TITLE_minor_OCCLY', 'TOT_EMP_minor_OCCLY',\n",
    "    'A_MEAN_minor_OCCLY', 'OCC_CODE_major_OCCLY', 'OCC_TITLE_major_OCCLY',\n",
    "    'TOT_EMP_major_OCCLY', 'A_MEAN_major_OCCLY',\n",
    "    'OCCLY', 'OCC', 'OCCLY_label', 'OCC_label', 'frac_x', 'frac_y', 'frac'\n",
    "]]\n",
    "\n",
    "edgelist_bls.rename(\n",
    "    {\n",
    "        'OCCLY': 'OCCLY_ASEC',\n",
    "        'OCC': 'OCC_ASEC',\n",
    "        'OCCLY_label': 'OCCLY_label_ASEC',\n",
    "        'OCC_label': 'OCC_label_ASEC'\n",
    "    },\n",
    "    axis=1,\n",
    "    inplace=True)\n",
    "\n",
    "edgelist_bls.to_csv('../data/omn/jb/helperdoc_edgelist_qualitycontrol_2011_2019_bls-9feb.csv')\n",
    "\n",
    "\n",
    "\n",
    "edgelist_bls = edgelist_bls[[\n",
    "    'OCCLY_BLS', 'OCC_BLS', 'ASECWT_BLS', 'transition_adj_networkers_BLS', \n",
    "    'Observations_BLS', 'OCC_TITLE_OCC', 'OCC_TITLE_OCCLY',\n",
    "    'EMPOCCLY_unadj_BLS', 'EMPOCC_unadj_BLS', 'EMPOCC_incimp_BLS', 'TOT_EMP_OCC',\n",
    "    'A_MEAN_OCC', 'TOT_EMP_OCCLY', 'A_MEAN_OCCLY',\n",
    "    'OCCLY_ASEC', 'OCC_ASEC', 'OCCLY_label_ASEC',\n",
    "    'OCC_label_ASEC'\n",
    "]]\n",
    "\n",
    "edgelist_bls.to_csv('../data/omn/jb/edgelist_qualitycontrol_2011_2019_bls-9feb.csv')"
   ]
  },
  {
   "cell_type": "code",
   "execution_count": null,
   "id": "dc0eee5c",
   "metadata": {},
   "outputs": [],
   "source": []
  },
  {
   "cell_type": "markdown",
   "id": "9ba23081",
   "metadata": {},
   "source": [
    "# Employment file"
   ]
  },
  {
   "cell_type": "code",
   "execution_count": null,
   "id": "49464f4b",
   "metadata": {
    "ExecuteTime": {
     "end_time": "2023-02-09T15:22:18.474189Z",
     "start_time": "2023-02-09T15:22:18.451069Z"
    }
   },
   "outputs": [],
   "source": [
    "emp_asec = pd.read_csv('../data/omn/emp_asec_2011_2019_includeimputations.csv', index_col=0)"
   ]
  },
  {
   "cell_type": "code",
   "execution_count": null,
   "id": "84ec5b4c",
   "metadata": {
    "ExecuteTime": {
     "end_time": "2023-02-09T15:22:18.849233Z",
     "start_time": "2023-02-09T15:22:18.836056Z"
    }
   },
   "outputs": [],
   "source": [
    "# We remove 6100/6110 from emp_asec\n",
    "print(set(emp_asec.index) - set(xwalk.columns))\n",
    "print(set(xwalk.columns) - set(emp_asec.index))\n",
    "\n",
    "emp_asec.drop([6100, 6110], inplace=True)"
   ]
  },
  {
   "cell_type": "code",
   "execution_count": null,
   "id": "14f913ec",
   "metadata": {
    "ExecuteTime": {
     "end_time": "2023-02-09T15:22:19.348951Z",
     "start_time": "2023-02-09T15:22:19.194837Z"
    }
   },
   "outputs": [],
   "source": [
    "emp_bls = pd.concat([xwalk @ emp_asec.ASECWT, xwalk @ emp_asec.ASECWT_average_years], axis=1)"
   ]
  },
  {
   "cell_type": "code",
   "execution_count": null,
   "id": "ebf68fa3",
   "metadata": {
    "ExecuteTime": {
     "end_time": "2023-02-09T15:22:19.772402Z",
     "start_time": "2023-02-09T15:22:19.760463Z"
    }
   },
   "outputs": [],
   "source": [
    "emp_bls.columns = emp_asec.columns + '_BLS'"
   ]
  },
  {
   "cell_type": "code",
   "execution_count": null,
   "id": "30adcffd",
   "metadata": {
    "ExecuteTime": {
     "end_time": "2023-02-09T15:22:20.149098Z",
     "start_time": "2023-02-09T15:22:20.121893Z"
    }
   },
   "outputs": [],
   "source": [
    "emp_bls.to_csv('../data/omn/jb/emp_asec_2011_2019_includeimputations_bls-9feb.csv')"
   ]
  }
 ],
 "metadata": {
  "kernelspec": {
   "display_name": "Python 3 (ipykernel)",
   "language": "python",
   "name": "python3"
  },
  "language_info": {
   "codemirror_mode": {
    "name": "ipython",
    "version": 3
   },
   "file_extension": ".py",
   "mimetype": "text/x-python",
   "name": "python",
   "nbconvert_exporter": "python",
   "pygments_lexer": "ipython3",
   "version": "3.8.4"
  },
  "toc": {
   "base_numbering": 1,
   "nav_menu": {},
   "number_sections": true,
   "sideBar": true,
   "skip_h1_title": false,
   "title_cell": "Table of Contents",
   "title_sidebar": "Contents",
   "toc_cell": false,
   "toc_position": {
    "height": "calc(100% - 180px)",
    "left": "10px",
    "top": "150px",
    "width": "165px"
   },
   "toc_section_display": true,
   "toc_window_display": true
  },
  "varInspector": {
   "cols": {
    "lenName": 16,
    "lenType": 16,
    "lenVar": 40
   },
   "kernels_config": {
    "python": {
     "delete_cmd_postfix": "",
     "delete_cmd_prefix": "del ",
     "library": "var_list.py",
     "varRefreshCmd": "print(var_dic_list())"
    },
    "r": {
     "delete_cmd_postfix": ") ",
     "delete_cmd_prefix": "rm(",
     "library": "var_list.r",
     "varRefreshCmd": "cat(var_dic_list()) "
    }
   },
   "types_to_exclude": [
    "module",
    "function",
    "builtin_function_or_method",
    "instance",
    "_Feature"
   ],
   "window_display": false
  }
 },
 "nbformat": 4,
 "nbformat_minor": 5
}
