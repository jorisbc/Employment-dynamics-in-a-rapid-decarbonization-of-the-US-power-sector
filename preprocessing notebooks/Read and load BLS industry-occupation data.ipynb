{
 "cells": [
  {
   "cell_type": "code",
   "execution_count": null,
   "id": "illegal-newfoundland",
   "metadata": {
    "ExecuteTime": {
     "end_time": "2023-01-26T12:21:47.377611Z",
     "start_time": "2023-01-26T12:21:46.475024Z"
    }
   },
   "outputs": [],
   "source": [
    "import numpy as np\n",
    "import pandas as pd"
   ]
  },
  {
   "cell_type": "code",
   "execution_count": null,
   "id": "suitable-ballet",
   "metadata": {
    "ExecuteTime": {
     "end_time": "2023-01-26T12:21:47.424265Z",
     "start_time": "2023-01-26T12:21:47.413234Z"
    }
   },
   "outputs": [],
   "source": [
    "# paths\n",
    "data_out = \"../results/data_out/\"\n",
    "data = '../data/'"
   ]
  },
  {
   "cell_type": "markdown",
   "id": "coral-dietary",
   "metadata": {},
   "source": [
    "# This notebook reads the BLS occupation - industry data and saves a bipartite adjacency matrix between the two, using the relevant industries and occupations"
   ]
  },
  {
   "cell_type": "markdown",
   "id": "cardiovascular-venice",
   "metadata": {},
   "source": [
    "Employment data per sector (the interlayer links) come from BLS, which provides data on various levels. I will first show some statistics of this dataset."
   ]
  },
  {
   "cell_type": "code",
   "execution_count": null,
   "id": "expressed-surrey",
   "metadata": {
    "ExecuteTime": {
     "end_time": "2023-01-26T12:22:36.402007Z",
     "start_time": "2023-01-26T12:21:47.767199Z"
    }
   },
   "outputs": [],
   "source": [
    "# occuaptions at sector data 2018\n",
    "folder = \"BLS/oesm18in4/oesm18in4/\"\n",
    "filename_occ_sect = \"natsector_M2018_dl.xlsx\"\n",
    "filename_occ_3d = \"nat3d_M2018_dl.xlsx\"\n",
    "filename_occ_4d = \"nat4d_M2018_dl.xlsx\"\n",
    "filename_occ_5d = \"nat5d_6d_M2018_dl.xlsx\"\n",
    "\n",
    "tab = \"natsector_dl\"\n",
    "df_occ_sect = pd.read_excel(data + folder + filename_occ_sect, sheet_name = tab, header = 0)\n",
    "df_occ_3d = pd.read_excel(data + folder + filename_occ_3d, header = 0)\n",
    "df_occ_4d = pd.read_excel(data + folder + filename_occ_4d, header = 0)\n",
    "df_occ_5d = pd.read_excel(data + folder + filename_occ_5d, header = 0)\n",
    "\n",
    "# occuaptions at ownership data 2018\n",
    "folder = \"BLS/oesm18in4/oesm18in4/\"\n",
    "#filename_occ_sect_owner = \"national_owner_M2018_dl.xlsx\"\n",
    "filename_occ_3d_owner = \"nat3d_owner_M2018_dl.xlsx\"\n",
    "filename_occ_4d_owner = \"nat4d_owner_M2018_dl.xlsx\"\n",
    "\n",
    "#df_occ_sect_ow = pd.read_excel(data + folder + filename_occ_sect_owner, header = 0)\n",
    "df_occ_3d_ow = pd.read_excel(data + folder + filename_occ_3d_owner, header = 0)\n",
    "df_occ_4d_ow = pd.read_excel(data + folder + filename_occ_4d_owner, header = 0)"
   ]
  },
  {
   "cell_type": "code",
   "execution_count": null,
   "id": "c8822d13",
   "metadata": {
    "ExecuteTime": {
     "end_time": "2023-01-26T12:22:37.183452Z",
     "start_time": "2023-01-26T12:22:36.685708Z"
    }
   },
   "outputs": [],
   "source": [
    "# Occuations at the national level for wage imputation\n",
    "filename_occ_sect = \"BLS/oesm18nat/national_M2018_dl.xlsx\"\n",
    "tab = \"national_dl\"\n",
    "df_occ_wage = pd.read_excel(data + filename_occ_sect, sheet_name = tab, header = 0)\n",
    "df_occ_wage = df_occ_wage[['OCC_CODE', 'A_MEAN']].drop_duplicates()"
   ]
  },
  {
   "cell_type": "code",
   "execution_count": null,
   "id": "f6f2c2e4",
   "metadata": {},
   "outputs": [],
   "source": []
  },
  {
   "cell_type": "code",
   "execution_count": null,
   "id": "4dee653c",
   "metadata": {
    "ExecuteTime": {
     "end_time": "2023-01-26T12:22:37.543247Z",
     "start_time": "2023-01-26T12:22:37.505378Z"
    }
   },
   "outputs": [],
   "source": [
    "# We don't have data for most workers in 27-2000 occupations, which\n",
    "# are 'Entertainers and Performers, Sports and Related Workers'\n",
    "df_occ_wage.loc[df_occ_wage['A_MEAN'] == '*', :]"
   ]
  },
  {
   "cell_type": "code",
   "execution_count": null,
   "id": "849c0482",
   "metadata": {
    "ExecuteTime": {
     "end_time": "2023-01-26T12:22:37.872175Z",
     "start_time": "2023-01-26T12:22:37.861212Z"
    }
   },
   "outputs": [],
   "source": [
    "# we do have the annual wage for the higher level workers\n",
    "df_occ_wage.loc[df_occ_wage['OCC_CODE'] == '27-2000', :]"
   ]
  },
  {
   "cell_type": "code",
   "execution_count": null,
   "id": "f73fdb10",
   "metadata": {
    "ExecuteTime": {
     "end_time": "2023-01-26T12:22:38.172202Z",
     "start_time": "2023-01-26T12:22:38.158251Z"
    }
   },
   "outputs": [],
   "source": [
    "#We impute the more detailed occupations with this\n",
    "df_occ_wage.loc[df_occ_wage['A_MEAN'] == '*', 'A_MEAN'] = \\\n",
    "                df_occ_wage.loc[df_occ_wage['OCC_CODE'] == '27-2000', 'A_MEAN'].values"
   ]
  },
  {
   "cell_type": "code",
   "execution_count": null,
   "id": "10774e60",
   "metadata": {
    "ExecuteTime": {
     "end_time": "2023-01-26T12:22:38.592614Z",
     "start_time": "2023-01-26T12:22:38.488962Z"
    }
   },
   "outputs": [],
   "source": [
    "# We combine the data together into one list of industries used by BLS\n",
    "df_occ    = pd.DataFrame(pd.concat([df_occ_sect, df_occ_3d, df_occ_4d, df_occ_5d]))\n",
    "df_occ_ow = pd.DataFrame(pd.concat([df_occ_3d_ow, df_occ_4d_ow]))\n",
    "df_occ_ow['NAICS'] = (df_occ_ow['NAICS'].astype(str) + \\\n",
    "                                        df_occ_ow['OWNERSHIP']).fillna(df_occ_ow['NAICS'])\n",
    "\n",
    "df_occ = pd.DataFrame(pd.concat([df_occ, df_occ_ow]))"
   ]
  },
  {
   "cell_type": "markdown",
   "id": "settled-rogers",
   "metadata": {
    "ExecuteTime": {
     "end_time": "2021-04-15T11:18:47.395761Z",
     "start_time": "2021-04-15T11:18:47.177392Z"
    }
   },
   "source": [
    "Select the data we need for the BEA industries and OMN codes"
   ]
  },
  {
   "cell_type": "code",
   "execution_count": null,
   "id": "controlled-words",
   "metadata": {
    "ExecuteTime": {
     "end_time": "2023-01-26T12:22:39.301521Z",
     "start_time": "2023-01-26T12:22:39.129098Z"
    }
   },
   "outputs": [],
   "source": [
    "occupations_BLS_IPUMS = pd.read_csv(data_out + '2018_BLS_IPUMS_crosswalk_proportional.csv', header=0, index_col=0).index.to_numpy()\n",
    "\n",
    "# add additional occupations\n",
    "additional = pd.read_csv(data + 'soc_additional.csv')\n",
    "additional = additional.code.to_numpy()\n",
    "occupations_BLS_IPUMS = np.concatenate((occupations_BLS_IPUMS, additional))\n",
    "occupations_BLS_IPUMS.sort()\n",
    "\n",
    "# and remove a few as well\n",
    "occupations_BLS_IPUMS = np.setdiff1d(occupations_BLS_IPUMS, ['11-2000', '23-1000', '39-4000'])\n",
    "\n",
    "BLS_useful = df_occ[df_occ['OCC_CODE'].isin(occupations_BLS_IPUMS)]"
   ]
  },
  {
   "cell_type": "code",
   "execution_count": null,
   "id": "57f124c6",
   "metadata": {
    "ExecuteTime": {
     "end_time": "2023-01-26T12:23:43.494816Z",
     "start_time": "2023-01-26T12:23:43.031509Z"
    }
   },
   "outputs": [],
   "source": [
    "# Occuations at the national level for naming\n",
    "filename_national = \"BLS/oesm18nat/national_M2018_dl.xlsx\"\n",
    "tab = \"national_dl\"\n",
    "df_bls = pd.read_excel(data + filename_national, sheet_name = tab, header = 0)\n",
    "\n",
    "# Names of all occuaptions we need\n",
    "occ_names = df_bls[df_bls['OCC_CODE'].isin(occupations_BLS_IPUMS)].copy()\n",
    "occ_names = occ_names[['OCC_CODE', 'OCC_TITLE', 'TOT_EMP', 'A_MEAN']]\n",
    "occ_names.drop_duplicates(inplace=True)\n",
    "\n",
    "# minor and major occupations have more trailing 0s\n",
    "occ_names['class_minor'] = occ_names.OCC_CODE.str[:4] + '000'\n",
    "occ_names['class_major'] = occ_names.OCC_CODE.str[:3] + '0000'\n",
    "\n",
    "# printing workers (51-5100) does not have an aggregate occupation 51-5000\n",
    "occ_names.loc[occ_names['class_minor'] == '51-5000', 'class_minor'] = '51-5100'\n",
    "# Same with 15-1000\n",
    "occ_names.loc[occ_names['class_minor'] == '15-1000', 'class_minor'] = '15-1100'\n",
    "\n",
    "# Merge data on minor and major occupations\n",
    "occ_names = occ_names.merge(df_bls[['OCC_CODE', 'OCC_TITLE', 'TOT_EMP', 'A_MEAN']], \\\n",
    "               left_on='class_minor', right_on='OCC_CODE', suffixes=('', '_minor'), how='left')\n",
    "occ_names = occ_names.merge(df_bls[['OCC_CODE', 'OCC_TITLE', 'TOT_EMP', 'A_MEAN']], \\\n",
    "               left_on='class_major', right_on='OCC_CODE', suffixes=('', '_major'), how='left')\n",
    "\n",
    "#No data for two entertainment ocuaptions, we set them to minor level wage\n",
    "occ_names.loc[occ_names['A_MEAN'] == '*', 'A_MEAN'] = occ_names.loc[occ_names['A_MEAN'] == '*', 'A_MEAN_minor']\n",
    "\n",
    "occ_names.to_csv(data_out + 'occ_names_bls_minor_major.csv')"
   ]
  },
  {
   "cell_type": "code",
   "execution_count": null,
   "id": "simple-southwest",
   "metadata": {
    "ExecuteTime": {
     "end_time": "2023-01-26T12:23:50.225288Z",
     "start_time": "2023-01-26T12:23:50.031937Z"
    }
   },
   "outputs": [],
   "source": [
    "industries_389 = pd.read_csv(data + 'Data_out_BLS_NAICS/others/BEA_389_BLS_NAICS_othermethod_strict.csv', header=0, index_col=1)['BLS_NAICS'].to_numpy()\n",
    "industries_389 = np.unique(industries_389)\n",
    "\n",
    "industries_71 = pd.read_csv(data + 'Data_out_BLS_NAICS/BEA_71_BLS_NAICS.csv', header=0, index_col=1)['BLS_NAICS'].to_numpy()\n",
    "industries_71 = np.unique(industries_71)\n",
    "\n",
    "BLS_useful['NAICS'] = BLS_useful['NAICS'].apply('{:0<6}'.format)\n",
    "BLS_useful_389 = BLS_useful[BLS_useful['NAICS'].isin(industries_389.astype(str))]\n",
    "BLS_useful_71 = BLS_useful[BLS_useful['NAICS'].isin(industries_71.astype(str))]"
   ]
  },
  {
   "cell_type": "code",
   "execution_count": null,
   "id": "2d7d062e",
   "metadata": {
    "ExecuteTime": {
     "end_time": "2023-01-26T12:23:58.761718Z",
     "start_time": "2023-01-26T12:23:58.742782Z"
    }
   },
   "outputs": [],
   "source": [
    "def imputewage(row):\n",
    "    if row.A_MEAN == '*':\n",
    "        return df_occ_wage.loc[df_occ_wage['OCC_CODE'] == row.OCC_CODE, 'A_MEAN'].values[0]\n",
    "    else:\n",
    "        return row.A_MEAN"
   ]
  },
  {
   "cell_type": "code",
   "execution_count": null,
   "id": "c40d4aa9",
   "metadata": {
    "ExecuteTime": {
     "end_time": "2023-01-26T12:24:20.882090Z",
     "start_time": "2023-01-26T12:24:19.567329Z"
    }
   },
   "outputs": [],
   "source": [
    "# impute mean wage for occupation if specific wage for industry-occupation pair is not known\n",
    "BLS_useful_71['A_MEAN'] = BLS_useful_71.apply(lambda row: imputewage(row), axis=1)\n",
    "BLS_useful_389['A_MEAN'] = BLS_useful_389.apply(lambda row: imputewage(row), axis=1)"
   ]
  },
  {
   "cell_type": "code",
   "execution_count": null,
   "id": "338e1341",
   "metadata": {
    "ExecuteTime": {
     "end_time": "2023-01-26T12:24:24.308760Z",
     "start_time": "2023-01-26T12:24:24.286834Z"
    }
   },
   "outputs": [],
   "source": [
    "BLS_useful_71.loc[BLS_useful_71['A_MEAN'] == '*', :]"
   ]
  },
  {
   "cell_type": "markdown",
   "id": "portable-blood",
   "metadata": {},
   "source": [
    "We filter the occupations and industries we need from the entire dataset, for the 71 industry case"
   ]
  },
  {
   "cell_type": "code",
   "execution_count": null,
   "id": "consolidated-snake",
   "metadata": {
    "ExecuteTime": {
     "end_time": "2023-01-26T12:24:36.437387Z",
     "start_time": "2023-01-26T12:24:35.215562Z"
    }
   },
   "outputs": [],
   "source": [
    "for (size, df) in [('71', BLS_useful_71), ('389', BLS_useful_389)]:\n",
    "    df = df[~df.duplicated(keep='first')]\n",
    "\n",
    "    # remove data if total employment is not known (i.e. we assume it to be 0)\n",
    "    df = df[df['TOT_EMP'].astype(str).str.isnumeric()]\n",
    "    df['TOT_EMP'] = df['TOT_EMP'].astype(int)\n",
    "\n",
    "    # BLS_useful[~BLS_useful['A_MEAN'].astype(str).str.isnumeric()]\n",
    "\n",
    "    ind_occ_crosswalk = pd.crosstab(index = df['NAICS'], columns = df['OCC_CODE'], values = df['TOT_EMP'], aggfunc='sum').fillna(0)\n",
    "    # note: do not use this for BEA matching directly, as the industries don't match exactly (see below)\n",
    "    ind_occ_crosswalk.to_csv(data_out + f'2018_{size}_ind_occ_tot_emp.csv')\n",
    "\n",
    "    # This one is fine, as it only looks at relative employment figures:\n",
    "    ind_occ_crosswalk.div(ind_occ_crosswalk.sum(axis=1), axis=0).to_csv(data_out + f'2018_{size}_ind_occ_tot_emp_relative_ind.csv')\n",
    "\n",
    "    df = df[df['A_MEAN'].astype(str).str.isnumeric()]\n",
    "    df['A_MEAN'] = df['A_MEAN'].astype(int)\n",
    "\n",
    "    # Wage matrix\n",
    "    annual_mean_wage = pd.crosstab(index = df['NAICS'], columns = df['OCC_CODE'],\\\n",
    "            values = df['A_MEAN'], aggfunc='sum').fillna(0)\n",
    "\n",
    "    #annual_mean_wage = annual_mean_wage.apply(pd.to_numeric, errors='coerce') # missing values as NaN\n",
    "    # impute average wage\n",
    "    weighted_average_wage = annual_mean_wage.mul(ind_occ_crosswalk).sum() / ind_occ_crosswalk.sum()\n",
    "    annual_mean_wage = annual_mean_wage.fillna(weighted_average_wage)\n",
    "\n",
    "    annual_mean_wage.to_csv(data_out + f'2018_{size}_ind_occ_avg_wage.csv')\n",
    "\n",
    "    #total_wage\n",
    "    annual_mean_wage.mul(ind_occ_crosswalk).fillna(0.0).to_csv(data_out + f'2018_{size}_ind_occ_tot_wage.csv')"
   ]
  },
  {
   "cell_type": "code",
   "execution_count": null,
   "id": "c3c4cb9e",
   "metadata": {
    "ExecuteTime": {
     "end_time": "2023-01-26T12:25:12.503245Z",
     "start_time": "2023-01-26T12:25:12.369722Z"
    }
   },
   "outputs": [],
   "source": [
    "# also save with prse\n",
    "df = BLS_useful_71.copy()\n",
    "df = df[~df.duplicated(keep='first')]\n",
    "\n",
    "# remove data if total employment is not known (i.e. we assume it to be 0)\n",
    "df = df[df['TOT_EMP'].astype(str).str.isnumeric()]\n",
    "df['TOT_EMP'] = df['TOT_EMP'].astype(int)\n",
    "\n",
    "prse_crosswalk = pd.crosstab(index = df['NAICS'], columns = df['OCC_CODE'], values = df['EMP_PRSE'], aggfunc='sum').fillna(0)\n",
    "# note: do not use this for BEA matching directly, as the industries don't match exactly (see below)\n",
    "prse_crosswalk.to_csv(data_out + '2018_71_ind_occ_tot_emp_prse.csv')"
   ]
  },
  {
   "cell_type": "code",
   "execution_count": null,
   "id": "transsexual-detection",
   "metadata": {
    "ExecuteTime": {
     "end_time": "2022-12-19T09:42:46.287290Z",
     "start_time": "2022-12-19T09:42:44.015200Z"
    }
   },
   "outputs": [],
   "source": [
    "# aggfunc does not make a difference\n",
    "a = (pd.crosstab(index = df['NAICS'], columns = df['OCC_CODE'], values = df['EMP_PRSE'], aggfunc='mean').fillna(0) - \\\n",
    "    pd.crosstab(index = df['NAICS'], columns = df['OCC_CODE'], values = df['EMP_PRSE'], aggfunc='sum').fillna(0)).\\\n",
    "    stack()\n",
    "a[a>0]"
   ]
  }
 ],
 "metadata": {
  "kernelspec": {
   "display_name": "Python 3 (ipykernel)",
   "language": "python",
   "name": "python3"
  },
  "language_info": {
   "codemirror_mode": {
    "name": "ipython",
    "version": 3
   },
   "file_extension": ".py",
   "mimetype": "text/x-python",
   "name": "python",
   "nbconvert_exporter": "python",
   "pygments_lexer": "ipython3",
   "version": "3.8.4"
  },
  "toc": {
   "base_numbering": 1,
   "nav_menu": {},
   "number_sections": true,
   "sideBar": true,
   "skip_h1_title": false,
   "title_cell": "Table of Contents",
   "title_sidebar": "Contents",
   "toc_cell": false,
   "toc_position": {},
   "toc_section_display": true,
   "toc_window_display": false
  },
  "varInspector": {
   "cols": {
    "lenName": 16,
    "lenType": 16,
    "lenVar": 40
   },
   "kernels_config": {
    "python": {
     "delete_cmd_postfix": "",
     "delete_cmd_prefix": "del ",
     "library": "var_list.py",
     "varRefreshCmd": "print(var_dic_list())"
    },
    "r": {
     "delete_cmd_postfix": ") ",
     "delete_cmd_prefix": "rm(",
     "library": "var_list.r",
     "varRefreshCmd": "cat(var_dic_list()) "
    }
   },
   "types_to_exclude": [
    "module",
    "function",
    "builtin_function_or_method",
    "instance",
    "_Feature"
   ],
   "window_display": false
  }
 },
 "nbformat": 4,
 "nbformat_minor": 5
}
