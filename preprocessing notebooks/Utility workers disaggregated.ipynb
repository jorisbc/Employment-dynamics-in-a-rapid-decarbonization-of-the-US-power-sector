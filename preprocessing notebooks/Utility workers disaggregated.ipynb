{
 "cells": [
  {
   "cell_type": "code",
   "execution_count": null,
   "id": "c5942f2a",
   "metadata": {
    "ExecuteTime": {
     "end_time": "2022-12-19T10:07:15.422992Z",
     "start_time": "2022-12-19T10:07:12.782242Z"
    }
   },
   "outputs": [],
   "source": [
    "import numpy as np\n",
    "import pandas as pd"
   ]
  },
  {
   "cell_type": "code",
   "execution_count": null,
   "id": "3ff8e8d2",
   "metadata": {
    "ExecuteTime": {
     "end_time": "2022-12-19T10:07:15.469696Z",
     "start_time": "2022-12-19T10:07:15.460542Z"
    }
   },
   "outputs": [],
   "source": [
    "data = '../data/'\n",
    "data_out = '../results/data_out/'"
   ]
  },
  {
   "cell_type": "code",
   "execution_count": null,
   "id": "2a4ac8c8",
   "metadata": {
    "ExecuteTime": {
     "end_time": "2022-12-19T10:07:15.517093Z",
     "start_time": "2022-12-19T10:07:15.506058Z"
    }
   },
   "outputs": [],
   "source": [
    "util = ['221000']\n",
    "utils = ['221100', '221200', '221300']\n",
    "elec_tech = ['221111', '221112', '221113', '221114', '221115', '221116', '221117', '221118']"
   ]
  },
  {
   "cell_type": "code",
   "execution_count": null,
   "id": "f442461b",
   "metadata": {
    "ExecuteTime": {
     "end_time": "2022-12-19T10:08:07.129604Z",
     "start_time": "2022-12-19T10:07:15.550720Z"
    }
   },
   "outputs": [],
   "source": [
    "cols = ['naics', 'naics_title', 'tot_emp', 'a_mean', 'a_median', 'emp_prse']\n",
    "elec_jobs = pd.DataFrame(columns=['naics', 'naics_title', 'tot_emp', 'a_mean', 'a_median'])\n",
    "\n",
    "yr = '18'\n",
    "folder = 'oesm' + yr + 'in4/oesm' + yr + 'in4'\n",
    "suff = '.xlsx'\n",
    "filename_end = ''\n",
    "\n",
    "occ_naics_3 = pd.read_excel(data + 'BLS/' + folder + \\\n",
    "                                '/nat3d_M20' + yr + '_dl' + filename_end + suff)\n",
    "\n",
    "occ_naics_3.columns = occ_naics_3.columns.str.lower()\n",
    "occ_naics_3 = occ_naics_3[(occ_naics_3['occ_code'] == '00-0000') & (occ_naics_3['naics'].astype(str).isin(util))]\n",
    "\n",
    "occ_naics_4 = pd.read_excel(data + 'BLS/' + folder + \\\n",
    "                            '/nat4d_M20' + yr + '_dl' + filename_end + suff)\n",
    "occ_naics_4.columns = occ_naics_4.columns.str.lower()\n",
    "\n",
    "occ_naics_4 = occ_naics_4[(occ_naics_4['occ_code'] == '00-0000') & (occ_naics_4['naics'].astype(str).isin(utils))]\n",
    "\n",
    "occ_naics_56 = pd.read_excel(data + 'BLS/' + folder + \\\n",
    "                             '/nat5d_6d_M20' + yr + '_dl' + suff)\n",
    "\n",
    "occ_naics_56.columns = occ_naics_56.columns.str.lower()\n",
    "occ_naics_56 = occ_naics_56[(occ_naics_56['occ_code'] == '00-0000') & (occ_naics_56['naics'].astype(str).isin(elec_tech))]\n",
    "\n",
    "elec_jobs = pd.concat([elec_jobs, \\\n",
    "                          occ_naics_3[['naics', 'naics_title', 'tot_emp', 'a_mean', 'a_median']], \\\n",
    "                          occ_naics_4[['naics', 'naics_title', 'tot_emp', 'a_mean', 'a_median']], \\\n",
    "                          occ_naics_56[['naics', 'naics_title', 'tot_emp', 'a_mean', 'a_median']]], ignore_index=True)"
   ]
  },
  {
   "cell_type": "code",
   "execution_count": null,
   "id": "5b51e008",
   "metadata": {
    "ExecuteTime": {
     "end_time": "2022-12-19T10:08:07.488421Z",
     "start_time": "2022-12-19T10:08:07.413139Z"
    }
   },
   "outputs": [],
   "source": [
    "elec_jobs['tot_wage'] = elec_jobs['tot_emp'] * elec_jobs['a_mean']\n",
    "elec_jobs.naics = elec_jobs.naics.astype(int)\n",
    "elec_jobs"
   ]
  },
  {
   "cell_type": "code",
   "execution_count": null,
   "id": "f4913313",
   "metadata": {
    "ExecuteTime": {
     "end_time": "2022-12-19T10:08:07.643792Z",
     "start_time": "2022-12-19T10:08:07.617704Z"
    }
   },
   "outputs": [],
   "source": [
    "elec_jobs[elec_jobs.naics.astype(str).isin(['221111', '221112', '221113', '221114', '221115', '221116', '221117', '221118'])].sum()"
   ]
  },
  {
   "cell_type": "code",
   "execution_count": null,
   "id": "3d3ab135",
   "metadata": {
    "ExecuteTime": {
     "end_time": "2022-12-19T10:08:59.911079Z",
     "start_time": "2022-12-19T10:08:07.801167Z"
    }
   },
   "outputs": [],
   "source": [
    "cols = ['naics', 'naics_title', 'occ_code', 'occ_title', 'occ_group', 'tot_emp', 'a_mean', 'a_median', 'emp_prse']\n",
    "\n",
    "yr = '18'\n",
    "folder = 'oesm' + yr + 'in4/oesm' + yr + 'in4'\n",
    "suff = '.xlsx'\n",
    "filename_end = ''\n",
    "\n",
    "occ_naics_3 = pd.read_excel(data + 'BLS/' + folder + \\\n",
    "                                '/nat3d_M20' + yr + '_dl' + filename_end + suff)\n",
    "\n",
    "occ_naics_3.columns = occ_naics_3.columns.str.lower()\n",
    "occ_naics_3 = occ_naics_3[occ_naics_3['naics'].astype(str).isin(util)]\n",
    "\n",
    "occ_naics_4 = pd.read_excel(data + 'BLS/' + folder + \\\n",
    "                            '/nat4d_M20' + yr + '_dl' + filename_end + suff)\n",
    "occ_naics_4.columns = occ_naics_4.columns.str.lower()\n",
    "\n",
    "occ_naics_4 = occ_naics_4[occ_naics_4['naics'].astype(str).isin(utils)]\n",
    "\n",
    "occ_naics_56 = pd.read_excel(data + 'BLS/' + folder + \\\n",
    "                             '/nat5d_6d_M20' + yr + '_dl' + suff)\n",
    "\n",
    "occ_naics_56.columns = occ_naics_56.columns.str.lower()\n",
    "occ_naics_56 = occ_naics_56[occ_naics_56['naics'].astype(str).isin(elec_tech)]\n",
    "\n",
    "elec_workers = pd.concat([occ_naics_3[cols], \\\n",
    "                          occ_naics_4[cols], \\\n",
    "                          occ_naics_56[cols]], ignore_index=True)"
   ]
  },
  {
   "cell_type": "code",
   "execution_count": null,
   "id": "e96e24fe",
   "metadata": {
    "ExecuteTime": {
     "end_time": "2022-12-19T10:09:00.127228Z",
     "start_time": "2022-12-19T10:09:00.070006Z"
    }
   },
   "outputs": [],
   "source": [
    "elec_workers.naics = elec_workers.naics.astype(int)\n",
    "elec_workers"
   ]
  },
  {
   "cell_type": "markdown",
   "id": "66b3d19d",
   "metadata": {},
   "source": [
    "### Crosswalk and add to datasets"
   ]
  },
  {
   "cell_type": "code",
   "execution_count": null,
   "id": "f1cd105c",
   "metadata": {
    "ExecuteTime": {
     "end_time": "2022-12-19T10:10:22.279094Z",
     "start_time": "2022-12-19T10:10:22.161306Z"
    }
   },
   "outputs": [],
   "source": [
    "bls_ipums = pd.read_csv(data_out + 'xwalk_asec_bls_2011-2019.csv', index_col=0)"
   ]
  },
  {
   "cell_type": "code",
   "execution_count": null,
   "id": "39ddfd66",
   "metadata": {
    "ExecuteTime": {
     "end_time": "2022-12-19T10:10:28.767754Z",
     "start_time": "2022-12-19T10:10:28.745557Z"
    }
   },
   "outputs": [],
   "source": [
    "# only pick those occupations in crosswalk\n",
    "elec_workers_ipums = elec_workers[elec_workers['occ_code'].isin(bls_ipums.index)]\n",
    "\n",
    "# remove duplicates\n",
    "elec_workers_ipums = elec_workers_ipums[~((elec_workers_ipums[['naics', 'occ_code']].duplicated(keep=False)) & (elec_workers_ipums['occ_group'] == 'detailed'))]\n",
    "\n",
    "elec_workers_ipums.naics = elec_workers_ipums.naics.astype(int)"
   ]
  },
  {
   "cell_type": "markdown",
   "id": "9d8d95ad",
   "metadata": {},
   "source": [
    "#### Manual fixes. Some total employment data is not known ('*' in BLS data). We manually fix that"
   ]
  },
  {
   "cell_type": "code",
   "execution_count": null,
   "id": "cd0bb966",
   "metadata": {
    "ExecuteTime": {
     "end_time": "2022-12-19T10:11:35.926419Z",
     "start_time": "2022-12-19T10:11:35.905921Z"
    }
   },
   "outputs": [],
   "source": [
    "manual = pd.read_csv(data_out + 'manual_tot_emp_utilities.csv')"
   ]
  },
  {
   "cell_type": "code",
   "execution_count": null,
   "id": "74306e59",
   "metadata": {
    "ExecuteTime": {
     "end_time": "2022-12-19T10:11:39.772656Z",
     "start_time": "2022-12-19T10:11:39.654370Z"
    }
   },
   "outputs": [],
   "source": [
    "for i, row in manual.iterrows():\n",
    "    elec_workers_ipums.loc[(elec_workers_ipums['naics'] == row['naics']) & (elec_workers_ipums['occ_code'] == row['occ-code']), 'tot_emp'] = row['tot_emp']\n",
    "    elec_workers.loc[(elec_workers['naics'] == row['naics']) & (elec_workers['occ_code'] == row['occ-code']), 'tot_emp'] = row['tot_emp']\n",
    "\n",
    "# fixes below are to the higher levels, to get the imputation algorithm to work below\n",
    "elec_workers.loc[(elec_workers['naics'] == 221111) & (elec_workers['occ_code'] == '51-9000'), 'tot_emp'] = 210\n",
    "elec_workers.loc[(elec_workers['naics'] == 221112) & (elec_workers['occ_code'] == '53-2000'), 'tot_emp'] = 0\n",
    "elec_workers.loc[(elec_workers['naics'] == 221112) & (elec_workers['occ_code'] == '53-6000'), 'tot_emp'] = 60\n",
    "elec_workers.loc[(elec_workers['naics'] == 221112) & (elec_workers['occ_code'] == '49-9040'), 'tot_emp'] = 3330\n",
    "elec_workers.loc[(elec_workers['naics'] == 221115) & (elec_workers['occ_code'] == '49-9040'), 'tot_emp'] = 430\n",
    "elec_workers.loc[(elec_workers['naics'] == 221115) & (elec_workers['occ_code'] == '51-1000'), 'tot_emp'] = 80\n",
    "elec_workers.loc[(elec_workers['naics'] == 221118) & (elec_workers['occ_code'] == '13-1000'), 'tot_emp'] = 100"
   ]
  },
  {
   "cell_type": "code",
   "execution_count": null,
   "id": "6197b28b",
   "metadata": {
    "ExecuteTime": {
     "end_time": "2022-12-19T10:11:41.427817Z",
     "start_time": "2022-12-19T10:11:41.394840Z"
    }
   },
   "outputs": [],
   "source": [
    "elec_workers_ipums[elec_workers_ipums.tot_emp == '**']"
   ]
  },
  {
   "cell_type": "code",
   "execution_count": null,
   "id": "9e3dbfdb",
   "metadata": {
    "ExecuteTime": {
     "end_time": "2022-12-19T10:11:42.040330Z",
     "start_time": "2022-12-19T10:11:42.020062Z"
    }
   },
   "outputs": [],
   "source": [
    "sum_of_workers = elec_workers_ipums[['naics', 'tot_emp']].groupby('naics').sum()\n",
    "sum_of_workers.columns = ['sum_of_occ']\n",
    "sum_of_workers['tot_emp'] = elec_jobs[['naics', 'tot_emp']].set_index('naics')"
   ]
  },
  {
   "cell_type": "code",
   "execution_count": null,
   "id": "6bd221f3",
   "metadata": {
    "ExecuteTime": {
     "end_time": "2022-12-19T10:11:50.129707Z",
     "start_time": "2022-12-19T10:11:50.094722Z"
    }
   },
   "outputs": [],
   "source": [
    "#BLS's combined total is more than the sum of the parts due to small occupations dropping out of the sample\n",
    "sum_of_workers['diff'] = sum_of_workers.tot_emp / sum_of_workers.sum_of_occ\n",
    "sum_of_workers['diff abs'] = sum_of_workers.tot_emp - sum_of_workers.sum_of_occ\n",
    "sum_of_workers"
   ]
  },
  {
   "cell_type": "code",
   "execution_count": null,
   "id": "daccc7e5",
   "metadata": {
    "ExecuteTime": {
     "end_time": "2022-12-19T10:11:52.475061Z",
     "start_time": "2022-12-19T10:11:52.455286Z"
    }
   },
   "outputs": [],
   "source": [
    "# large industries we rescale to fit total employment\n",
    "ncs = [221000, 221100, 221200, 221300]\n",
    "for naic in ncs:\n",
    "    elec_workers_ipums.loc[elec_workers_ipums.naics == naic, 'tot_emp'] *=  sum_of_workers.loc[naic, 'diff']"
   ]
  },
  {
   "cell_type": "markdown",
   "id": "d437c94c",
   "metadata": {},
   "source": [
    "#### For the smaller industries there are two ways to fill to the total number of workers\n",
    "1. Impute workers for new occuaptions\n",
    "2. Rescale workers in existing employment to fit total\n",
    "\n",
    "We take a three-step approach\n",
    "1. We check if the 'minor' occupation has more workers, and if so, we add workers of all occuaptions in that minor category\n",
    "2. We check if the 'major' occupation has more workers, and, if so, we rescale all minor workers to fit the major category\n",
    "3. We do the same at the 'total' level for each industry"
   ]
  },
  {
   "cell_type": "code",
   "execution_count": null,
   "id": "bf665657",
   "metadata": {
    "ExecuteTime": {
     "end_time": "2022-12-19T10:12:01.875388Z",
     "start_time": "2022-12-19T10:12:01.838248Z"
    }
   },
   "outputs": [],
   "source": [
    "occ_names = pd.read_csv(data_out + 'occ_names_bls_minor_major.csv', index_col=0)"
   ]
  },
  {
   "cell_type": "code",
   "execution_count": null,
   "id": "150526bc",
   "metadata": {
    "ExecuteTime": {
     "end_time": "2022-12-19T10:12:11.603761Z",
     "start_time": "2022-12-19T10:12:11.582650Z"
    }
   },
   "outputs": [],
   "source": [
    "elec_workers_ipums.reset_index(inplace=True, drop=True)"
   ]
  },
  {
   "cell_type": "code",
   "execution_count": null,
   "id": "e67d769d",
   "metadata": {
    "ExecuteTime": {
     "end_time": "2022-12-19T10:12:14.111580Z",
     "start_time": "2022-12-19T10:12:13.991455Z"
    }
   },
   "outputs": [],
   "source": [
    "def occUp(occ, lvl):\n",
    "    if lvl == 0:\n",
    "            return occ[:-1] + 1 * '0', 1\n",
    "    if lvl == 1:\n",
    "            return occ[:-3] + 3 * '0', 3\n",
    "    if lvl == 3:\n",
    "            return occ[:-4] + 4 * '0', 4\n",
    "    if lvl == 4:\n",
    "            return '00-0000', 6\n",
    "    if lvl == 6:\n",
    "            return '00-0000', 6\n",
    "\n",
    "def get_lvl(occ):\n",
    "    lvl = 2*len(occ) - len(occ.lstrip('0')) - len(occ.rstrip('0'))\n",
    "    if lvl == 0:\n",
    "            return 'detailed'\n",
    "    if lvl == 1:\n",
    "            return 'broad'\n",
    "    if lvl in [2,3]:\n",
    "            return 'minor'\n",
    "    if lvl == 4:\n",
    "            return 'major'\n",
    "    if lvl == 6:\n",
    "            return 'total'\n",
    "        \n",
    "def get_occ_oth(occ, lvl, df, tech = None, occ_lab = 'occ_code'):\n",
    "    if tech is not None:\n",
    "        df = df.loc[(df['naics'] == tech), :].copy()\n",
    "    occ_other = []\n",
    "    if lvl == 0:\n",
    "        return False\n",
    "    elif lvl in [1,4]:\n",
    "        for i in range(1, 10):\n",
    "            occ_oth = occ[:-lvl] + str(i) + '0' * (lvl-1)\n",
    "            if df.loc[df[occ_lab] == occ_oth].size > 0:\\\n",
    "                occ_other += [occ_oth]\n",
    "    elif lvl == 3:\n",
    "        for i in range(1, 100):\n",
    "            if i < 10:\n",
    "                occ_oth = occ[:-lvl] + '0'+  str(i) + '0'\n",
    "            else:\n",
    "                occ_oth = occ[:-lvl] + str(i) + '0'\n",
    "            if df.loc[df[occ_lab] == occ_oth].size > 0:\\\n",
    "                occ_other += [occ_oth]\n",
    "    elif lvl == 6:\n",
    "        for i in range(10, 100):\n",
    "            occ_oth = str(i) + '-0000'\n",
    "            if df.loc[df[occ_lab] == occ_oth].size > 0:\\\n",
    "                occ_other += [occ_oth]\n",
    "    return occ_other\n",
    "\n",
    "def get_occ_oth_full(occ, lvl, df, tech=None, occ_lab='occ_code'):\n",
    "    if tech is not None:\n",
    "        df = df.loc[(df['naics'] == tech), :].copy()\n",
    "    occ_other = []\n",
    "    if lvl == 0:\n",
    "        return False\n",
    "    elif lvl in [1,3,4]:\n",
    "        for i in range(1, 10**lvl):\n",
    "            x = len(str(i))\n",
    "            occ_oth = occ[:-lvl] + (lvl-x) * '0' + str(i)\n",
    "            if df.loc[df[occ_lab] == occ_oth].size > 0:\\\n",
    "                occ_other += [occ_oth]\n",
    "    elif lvl == 6:\n",
    "        occ_other = list(df[occ_lab])\n",
    "\n",
    "    return occ_other\n",
    "\n",
    "def sort_by_lvl(lst):\n",
    "    tot = [i for i in lst if i == '00-0000']\n",
    "    maj = [i for i in lst if i[-4:] == '0000' and i !='00-0000']\n",
    "    minor = [i for i in lst if i[-3:] == '000' and i[-4] != '0']\n",
    "    brd = [i for i in lst if i[-2:] == '00' and i[-3] != '0']\n",
    "    brd2 = [i for i in lst if i[-1] == '0' and i[-2] != '0']\n",
    "    det = [i for i in lst if i[-1] != '0']\n",
    "\n",
    "    return det + brd2 + brd + minor + maj + tot\n",
    "\n",
    "def minor_no_child(tot, loc):\n",
    "    ret = []\n",
    "    for occ in set(tot) - set(loc):\n",
    "        lvl = 2*len(occ) - len(occ.lstrip('0')) - len(occ.rstrip('0'))\n",
    "        if lvl in [2,3]: # if minor occupation\n",
    "            children = [x for x in loc if x[:4] == occ[:4]] # if first 4 digits same, share same minor level\n",
    "            if len(children) == 0:\n",
    "                ret.append(occ)\n",
    "    return ret\n",
    "            "
   ]
  },
  {
   "cell_type": "code",
   "execution_count": null,
   "id": "195066d4",
   "metadata": {
    "ExecuteTime": {
     "end_time": "2022-12-19T10:12:15.938662Z",
     "start_time": "2022-12-19T10:12:15.926626Z"
    }
   },
   "outputs": [],
   "source": [
    "elec_workers_ipums['occ_up'] = None"
   ]
  },
  {
   "cell_type": "code",
   "execution_count": null,
   "id": "3930020c",
   "metadata": {
    "ExecuteTime": {
     "end_time": "2022-12-19T10:18:23.857003Z",
     "start_time": "2022-12-19T10:12:29.248087Z"
    },
    "scrolled": true
   },
   "outputs": [],
   "source": [
    "tiny_frac = 0.002 # remove occupations smaller than 0.2% of total industry employment\n",
    "tiny_abs = 30     # remove occupations smaller than 30 workers\n",
    "        \n",
    "df = elec_workers_ipums.copy()\n",
    "df_tot = elec_workers.copy()\n",
    "df_full = occ_names.copy()\n",
    "\n",
    "for tech in elec_tech: #221111-221118\n",
    "    tech = int(tech)\n",
    "    print('now imputing values for ' + str(tech))\n",
    "    \n",
    "    # every occupation on every level in BLS\n",
    "    total_occ_set =  list(set(df_tot.loc[df_tot['naics'] == tech, 'occ_code']))\n",
    "    \n",
    "    # the occupations that are part of our set\n",
    "    local_occ_set = list(set(df.loc[df['naics'] == tech, 'occ_code']))\n",
    "    \n",
    "    # We check if there are any minor occupations absent without broad/detailed occs in local set\n",
    "    minor_set = minor_no_child(total_occ_set, local_occ_set)\n",
    "\n",
    "    # We loop through all local occupations, adding higher levels as we go through\n",
    "    while len(local_occ_set) > 0:\n",
    "        minr = False\n",
    "        local_occ_set = sort_by_lvl(local_occ_set) # get most detailed first\n",
    "        if len(minor_set) > 0:\n",
    "            occ = minor_set.pop(0)\n",
    "            local_occ_set.insert(0, occ)\n",
    "            minr = True\n",
    "        occ = local_occ_set.pop(0)\n",
    "        if occ == '00-0000':\n",
    "            continue\n",
    "        lvl = 2*len(occ) - len(occ.lstrip('0')) - len(occ.rstrip('0')) #0 is detailed, 1 broad, ..., 6 total\n",
    "        if lvl == 2:\n",
    "            print('minor at lvl 2 for ' + occ)\n",
    "            lvl = 3\n",
    "        if minr:\n",
    "            occ_up = occ\n",
    "        else: # not minr:\n",
    "            occ_up, lvl = occUp(occ, lvl)\n",
    "        occ_oth = get_occ_oth(occ_up, lvl, df_tot, tech = tech) # all occuaptions one level below\n",
    "        occ_all = get_occ_oth_full(occ_up, lvl, df) # all occupations any level below\n",
    "        sum_emp = df.loc[(df['naics'] == tech) & (df['occ_code'].isin(occ_all)), \n",
    "                         ['occ_code', 'tot_emp']].drop_duplicates()['tot_emp'].sum()\n",
    "        occ_up_emp  = df_tot.loc[(df_tot['naics'] == tech) & (df_tot['occ_code'] == occ_up), 'tot_emp'].values\n",
    "        occ_up_prse = df_tot.loc[(df_tot['naics'] == tech) & (df_tot['occ_code'] == occ_up), 'emp_prse'].values\n",
    "        if len(occ_up_emp) > 0:\n",
    "            occ_up_emp  = occ_up_emp[0]\n",
    "            occ_up_prse = occ_up_prse[0]\n",
    "        else:\n",
    "            print('no value found for upper level occ ' + occ_up)\n",
    "            local_occ_set = [i for i in local_occ_set if i not in occ_oth]\n",
    "            continue\n",
    "            \n",
    "        # diff is the number of jobs that are unaccounted for in that occupational category\n",
    "        diff = occ_up_emp - sum_emp\n",
    "        \n",
    "        # for broad and minor level, we add occupations\n",
    "        # for major and total, we scale up those we already have\n",
    "        if (diff > 25) and (lvl in [1,3]):\n",
    "                # add occupations, any that is part of our dataset\n",
    "                new_occ_all = get_occ_oth_full(occ_up, lvl, df_full, occ_lab = 'OCC_CODE') # all possible occupations in our set\n",
    "                new_occ = [item for item in new_occ_all if item not in occ_oth] # don't add occupations we already have\n",
    "                sum_emp_full = df_full.loc[df_full['OCC_CODE'].isin(new_occ), 'TOT_EMP'].sum()\n",
    "                for o in new_occ:\n",
    "                    e = df_full.loc[df_full['OCC_CODE'] == o, 'TOT_EMP'].sum()\n",
    "                    if e > 0:\n",
    "                        # for each imputed occupation, we add proportional to the total employment in that\n",
    "                        # occupational category economy-wide\n",
    "                        \n",
    "                        if len(elec_workers.loc[(elec_workers.naics_title == 'Utilities') & (elec_workers.occ_code == o), 'a_mean'].values) > 0:\n",
    "                            to_append = pd.Series([tech, \n",
    "                                                   df.loc[df['naics'] == tech, 'naics_title'].values[0], \\\n",
    "                                                   o, \n",
    "                                                   df_full.loc[df_full['OCC_CODE'] == o, 'OCC_TITLE'].values[0], \n",
    "                                                   get_lvl(o), \\\n",
    "                                                   diff * e / sum_emp_full, # <- THIS IS IMPUTED TOT_EMP\n",
    "                                                   elec_workers.loc[(elec_workers.naics_title == 'Utilities') & (elec_workers.occ_code == o), 'a_mean'].values[0], \\\n",
    "                                                   elec_workers.loc[(elec_workers.naics_title == 'Utilities') & (elec_workers.occ_code == o), 'a_median'].values[0], \\\n",
    "                                                   occ_up_prse,\n",
    "                                                   occ_up],\n",
    "                                                  index = df.columns)\n",
    "                        else:\n",
    "                            to_append = pd.Series([tech, \n",
    "                                                   df.loc[df['naics'] == tech, 'naics_title'].values[0], \\\n",
    "                                                   o, \n",
    "                                                   df_full.loc[df_full['OCC_CODE'] == o, 'OCC_TITLE'].values[0], \n",
    "                                                   get_lvl(o), \\\n",
    "                                                   diff * (e / sum_emp_full),  # <- THIS IS IMPUTED TOT_EMP\n",
    "                                                   df_full.loc[df_full['OCC_CODE'] == o, 'A_MEAN'].values[0], \\\n",
    "                                                   df_full.loc[df_full['OCC_CODE'] == o, 'A_MEAN'].values[0], \\\n",
    "                                                   occ_up_prse,\n",
    "                                                   occ_up],\n",
    "                                                  index = df.columns)\n",
    "                            \n",
    "                        df = pd.concat([df.T, to_append], axis=1).T\n",
    "                \n",
    "                # Finally we remove any tiny occupations and rescale to fit\n",
    "                sm_tot = df_tot.loc[(df_tot['naics'] == tech) & (df_tot['occ_group'] == 'total'), 'tot_emp'].sum()\n",
    "                tiny = min(tiny_abs, tiny_frac * sm_tot)\n",
    "                \n",
    "                sm_occ = df.loc[(df['naics'] == tech) & (df['occ_code'].isin(new_occ_all)), 'tot_emp'].sum()\n",
    "                df = df[(df['naics'] != tech) | (df['tot_emp'] > tiny)]\n",
    "                sm_after = df.loc[(df['naics'] == tech) & (df['occ_code'].isin(new_occ_all)), 'tot_emp'].sum()\n",
    "                if sm_after > 0:\n",
    "                    df.loc[(df['naics'] == tech) & (df['occ_code'].isin(new_occ_all)), 'tot_emp'] *= \\\n",
    "                                                                        1 + (sm_occ - sm_after) / sm_after\n",
    "                else:\n",
    "                    print('imputed occs too small')\n",
    "                    continue # continue without appending higher level becasue no occs are available\n",
    "\n",
    "        elif diff > 0: # and/or lvl in [4,6]:\n",
    "            # rescale existing\n",
    "            scaling_factor = occ_up_emp / (occ_up_emp - diff)\n",
    "            df.loc[(df['naics'] == tech) & (df['occ_code'].isin(occ_all)), 'tot_emp'] *= scaling_factor\n",
    "            new_sm = df.loc[(df['naics'] == tech) & (df['occ_code'].isin(occ_all)), 'tot_emp'].sum()\n",
    "        else:\n",
    "            ; # nothing to do\n",
    "            \n",
    "        local_occ_set = [i for i in local_occ_set if i not in occ_oth]\n",
    "        local_occ_set.append(occ_up)"
   ]
  },
  {
   "cell_type": "code",
   "execution_count": null,
   "id": "d2114a03",
   "metadata": {
    "ExecuteTime": {
     "end_time": "2022-12-19T10:18:24.188497Z",
     "start_time": "2022-12-19T10:18:24.161512Z"
    }
   },
   "outputs": [],
   "source": [
    "df.reset_index(inplace=True, drop=True)\n",
    "df[['naics', 'occ_code', 'occ_up', 'emp_prse']].to_csv(data_out + 'bi-partite_emp_sum_elec_impute_parent_prse.csv')\n",
    "elec_workers_ipums = df.drop('occ_up', axis=1).copy()"
   ]
  },
  {
   "cell_type": "code",
   "execution_count": null,
   "id": "63bba9cb",
   "metadata": {
    "ExecuteTime": {
     "end_time": "2022-12-19T10:19:13.252470Z",
     "start_time": "2022-12-19T10:19:13.177061Z"
    }
   },
   "outputs": [],
   "source": [
    "# fill occs for which we have no wage data with wage data for that occupation in the entire utilities sector (221000)\n",
    "for index, row in elec_workers_ipums[elec_workers_ipums.a_mean == '*'].iterrows():\n",
    "    elec_workers_ipums.loc[index, 'a_mean'] = elec_workers_ipums[(elec_workers_ipums.naics == 221000) & (elec_workers_ipums.occ_code == row.occ_code)].a_mean.values[0]\n",
    "    elec_workers_ipums.loc[index, 'a_median'] = elec_workers_ipums[(elec_workers_ipums.naics == 221000) & (elec_workers_ipums.occ_code == row.occ_code)].a_median.values[0]"
   ]
  },
  {
   "cell_type": "code",
   "execution_count": null,
   "id": "cd2519fb",
   "metadata": {
    "ExecuteTime": {
     "end_time": "2022-12-19T10:19:19.197482Z",
     "start_time": "2022-12-19T10:19:19.161097Z"
    }
   },
   "outputs": [],
   "source": [
    "# utilities sector does not have wage for biological scientists or data entry keyers\n",
    "elec_workers_ipums.loc[elec_workers_ipums.a_mean == '*']"
   ]
  },
  {
   "cell_type": "code",
   "execution_count": null,
   "id": "4623a76d",
   "metadata": {
    "ExecuteTime": {
     "end_time": "2022-12-19T10:19:30.516493Z",
     "start_time": "2022-12-19T10:19:29.933865Z"
    }
   },
   "outputs": [],
   "source": [
    "# We use national level data for these occuaptions\n",
    "filename_occ_sect = \"BLS/oesm18nat/national_M2018_dl.xlsx\"\n",
    "tab = \"national_dl\"\n",
    "df_occ_wage = pd.read_excel(data + filename_occ_sect, sheet_name = tab, header = 0)\n",
    "df_occ_wage = df_occ_wage[['OCC_CODE', 'A_MEAN', 'A_MEDIAN']].drop_duplicates()"
   ]
  },
  {
   "cell_type": "code",
   "execution_count": null,
   "id": "6dc8dd14",
   "metadata": {
    "ExecuteTime": {
     "end_time": "2022-12-19T10:19:32.195498Z",
     "start_time": "2022-12-19T10:19:32.164497Z"
    }
   },
   "outputs": [],
   "source": [
    "print(df_occ_wage.loc[df_occ_wage['OCC_CODE'] == '19-1020', :])\n",
    "print(df_occ_wage.loc[df_occ_wage['OCC_CODE'] == '43-9021', :])"
   ]
  },
  {
   "cell_type": "code",
   "execution_count": null,
   "id": "fe95b20e",
   "metadata": {
    "ExecuteTime": {
     "end_time": "2022-12-19T10:19:35.096387Z",
     "start_time": "2022-12-19T10:19:35.078339Z"
    }
   },
   "outputs": [],
   "source": [
    "# set final two items (in utilities) to the national average\n",
    "elec_workers_ipums.loc[elec_workers_ipums['occ_code'] == '19-1020', 'a_mean'] = 86390\n",
    "elec_workers_ipums.loc[elec_workers_ipums['occ_code'] == '43-9021', 'a_mean'] = 33740\n",
    "elec_workers_ipums.loc[elec_workers_ipums['occ_code'] == '19-1020', 'a_mean'] = 77550\n",
    "elec_workers_ipums.loc[elec_workers_ipums['occ_code'] == '43-9021', 'a_mean'] = 32170"
   ]
  },
  {
   "cell_type": "code",
   "execution_count": null,
   "id": "b53d5c1e",
   "metadata": {
    "ExecuteTime": {
     "end_time": "2022-12-19T10:19:36.710062Z",
     "start_time": "2022-12-19T10:19:36.685051Z"
    }
   },
   "outputs": [],
   "source": [
    "elec_names = elec_workers_ipums[['naics', 'naics_title']].drop_duplicates().copy()\n",
    "elec_names = elec_names.set_index('naics')"
   ]
  },
  {
   "cell_type": "code",
   "execution_count": null,
   "id": "008652b2",
   "metadata": {
    "ExecuteTime": {
     "end_time": "2022-12-19T10:19:40.681581Z",
     "start_time": "2022-12-19T10:19:40.637401Z"
    }
   },
   "outputs": [],
   "source": [
    "avg_wage = elec_workers_ipums[['naics', 'tot_emp', 'a_mean']].groupby('naics') \\\n",
    "                .apply(lambda x: np.average(x.a_mean, weights=x.tot_emp))\n",
    "pd.concat([avg_wage, elec_names], axis=1).to_csv(data_out + 'elec_avg_wage.csv')"
   ]
  },
  {
   "cell_type": "code",
   "execution_count": null,
   "id": "18d705cd",
   "metadata": {},
   "outputs": [],
   "source": []
  },
  {
   "cell_type": "code",
   "execution_count": null,
   "id": "4905553b",
   "metadata": {
    "ExecuteTime": {
     "end_time": "2022-12-19T10:19:45.345980Z",
     "start_time": "2022-12-19T10:19:43.881234Z"
    }
   },
   "outputs": [],
   "source": [
    "# transmission_distribution = utilities - everything else\n",
    "transmission_distribution = elec_workers_ipums[elec_workers_ipums.naics == 221100].copy()\n",
    "for i, row in transmission_distribution.iterrows():\n",
    "    oc = row['occ_code']\n",
    "    empl = 0\n",
    "    for tech in elec_tech:\n",
    "        if len(elec_workers_ipums[(elec_workers_ipums['naics'] == int(tech)) & (elec_workers_ipums['occ_code'] == oc)]) > 0:\n",
    "            empl += elec_workers_ipums.loc[(elec_workers_ipums['naics'] == int(tech)) & \\\n",
    "                                          (elec_workers_ipums['occ_code'] == oc), 'tot_emp'].values[0]\n",
    "    transmission_distribution.loc[i, 'tot_emp'] -= empl"
   ]
  },
  {
   "cell_type": "code",
   "execution_count": null,
   "id": "b3800a83",
   "metadata": {
    "ExecuteTime": {
     "end_time": "2022-12-19T10:19:45.722860Z",
     "start_time": "2022-12-19T10:19:45.696318Z"
    }
   },
   "outputs": [],
   "source": [
    "elec_tech_tot_workers = elec_workers_ipums.loc[elec_workers_ipums.naics.isin([int(t) for t in elec_tech])].tot_emp.sum()\n",
    "elec_gen_tot_workers = elec_workers_ipums[elec_workers_ipums.naics == 221100].tot_emp.sum()\n",
    "trans_dist_tot_workers = transmission_distribution.tot_emp.sum()\n",
    "\n",
    "transmission_distribution.tot_emp *= (elec_gen_tot_workers - elec_tech_tot_workers) / trans_dist_tot_workers"
   ]
  },
  {
   "cell_type": "code",
   "execution_count": null,
   "id": "c764c9cd",
   "metadata": {
    "ExecuteTime": {
     "end_time": "2022-12-19T10:19:46.143136Z",
     "start_time": "2022-12-19T10:19:46.122440Z"
    }
   },
   "outputs": [],
   "source": [
    "transmission_distribution.naics = 221120\n",
    "transmission_distribution.naics_title = 'Electricity Transmission and Distribution'"
   ]
  },
  {
   "cell_type": "code",
   "execution_count": null,
   "id": "f1168d55",
   "metadata": {
    "ExecuteTime": {
     "end_time": "2022-12-19T10:19:46.678622Z",
     "start_time": "2022-12-19T10:19:46.660622Z"
    }
   },
   "outputs": [],
   "source": [
    "elec_workers_ipums = pd.concat([elec_workers_ipums, transmission_distribution], axis=0)"
   ]
  },
  {
   "cell_type": "code",
   "execution_count": null,
   "id": "b27595e8",
   "metadata": {
    "ExecuteTime": {
     "end_time": "2022-12-19T10:19:54.198273Z",
     "start_time": "2022-12-19T10:19:54.165561Z"
    }
   },
   "outputs": [],
   "source": [
    "elec_workers_ipums[['naics', 'tot_emp']].groupby('naics').sum()"
   ]
  },
  {
   "cell_type": "markdown",
   "id": "baa7baf2",
   "metadata": {},
   "source": [
    "#### crosswalk"
   ]
  },
  {
   "cell_type": "code",
   "execution_count": null,
   "id": "68b71113",
   "metadata": {
    "ExecuteTime": {
     "end_time": "2022-12-19T10:20:15.732508Z",
     "start_time": "2022-12-19T10:20:15.461109Z"
    }
   },
   "outputs": [],
   "source": [
    "# We use the BLS data. Remove the '_IPUMS' ending to do the rest of the analysis on ASEC codes\n",
    "elec_workers_pivot = elec_workers_ipums.pivot_table(values='tot_emp', index='naics', columns='occ_code', fill_value=0).round(1)\n",
    "elec_workers_pivot_IPUMS = elec_workers_pivot.dot(bls_ipums.loc[elec_workers_pivot.columns, :])"
   ]
  },
  {
   "cell_type": "code",
   "execution_count": null,
   "id": "13feaa4d",
   "metadata": {},
   "outputs": [],
   "source": []
  },
  {
   "cell_type": "code",
   "execution_count": null,
   "id": "aa5420cc",
   "metadata": {
    "ExecuteTime": {
     "end_time": "2022-12-19T10:20:17.721124Z",
     "start_time": "2022-12-19T10:20:17.557660Z"
    }
   },
   "outputs": [],
   "source": [
    "#elec mean prse\n",
    "elec_prse_mean = elec_workers_ipums[elec_workers_ipums.applymap(np.isreal).emp_prse].emp_prse.mean()\n",
    "\n",
    "# impute mean in '**' cases\n",
    "elec_workers_ipums.loc[elec_workers_ipums.applymap(np.isreal).emp_prse == False, 'emp_prse'] = elec_prse_mean"
   ]
  },
  {
   "cell_type": "code",
   "execution_count": null,
   "id": "1175bcb3",
   "metadata": {
    "ExecuteTime": {
     "end_time": "2022-12-19T10:20:18.766411Z",
     "start_time": "2022-12-19T10:20:18.499473Z"
    }
   },
   "outputs": [],
   "source": [
    "elec_prse_pivot = elec_workers_ipums.pivot_table(values='emp_prse', index='naics', columns='occ_code', fill_value=0).round(1)"
   ]
  },
  {
   "cell_type": "code",
   "execution_count": null,
   "id": "2f6ecc5b",
   "metadata": {
    "ExecuteTime": {
     "end_time": "2022-08-15T15:09:45.912998Z",
     "start_time": "2022-08-15T15:09:45.866279Z"
    }
   },
   "outputs": [],
   "source": []
  },
  {
   "cell_type": "markdown",
   "id": "cf95ee8b",
   "metadata": {},
   "source": [
    "## merge with data"
   ]
  },
  {
   "cell_type": "code",
   "execution_count": null,
   "id": "9cae22a8",
   "metadata": {
    "ExecuteTime": {
     "end_time": "2022-12-19T10:20:37.167185Z",
     "start_time": "2022-12-19T10:20:37.141210Z"
    }
   },
   "outputs": [],
   "source": [
    "emp_per_million_output = pd.read_csv(data_out + 'emp_per_million_output_sum_2018_no_elec_split.csv', index_col=0)"
   ]
  },
  {
   "cell_type": "code",
   "execution_count": null,
   "id": "9fe7b588",
   "metadata": {
    "ExecuteTime": {
     "end_time": "2022-12-19T10:20:43.862812Z",
     "start_time": "2022-12-19T10:20:43.797614Z"
    }
   },
   "outputs": [],
   "source": [
    "emp_per_million_output.head()"
   ]
  },
  {
   "cell_type": "code",
   "execution_count": null,
   "id": "0fb7ab80",
   "metadata": {
    "ExecuteTime": {
     "end_time": "2022-12-19T10:20:58.272088Z",
     "start_time": "2022-12-19T10:20:57.868731Z"
    }
   },
   "outputs": [],
   "source": [
    "# BEA total output in 2018 of detailed electricty sectors, in millions of dollar\n",
    "bea_electricity_output = pd.read_excel(data + \"BEA/GrossOutput.xlsx\", sheet_name='UGO305-A', usecols=[1, 24], skiprows=list(range(7)) + list(range(8, 29)), nrows=12)\n",
    "bea_electricity_output.set_index('Industry', inplace=True)\n",
    "eia_elec_output = pd.read_csv(data + 'US_generated_electricity.csv', index_col=1)\n",
    "\n",
    "# BEA output only has 'fossil fuel', not coal and gas separately. We use\n",
    "# EIA data with total GWh output to disaggregate the two, assuming relative monetary output\n",
    "# reflects relative GWh output\n",
    "gas_oil_frac_fossil = (eia_elec_output.loc[2018, 'oil'] + eia_elec_output.loc[2018, 'gas']) / \\\n",
    "    (eia_elec_output.loc[2018, 'oil'] + eia_elec_output.loc[2018, 'gas'] + eia_elec_output.loc[2018, 'coal'])\n",
    "\n",
    "coal_frac_fossil = (eia_elec_output.loc[2018, 'coal']) / \\\n",
    "    (eia_elec_output.loc[2018, 'oil'] + eia_elec_output.loc[2018, 'gas'] + eia_elec_output.loc[2018, 'coal'])\n",
    "\n",
    "bea_electricity_output.loc['Coal electric power generation', '2018'] = (coal_frac_fossil * \\\n",
    "                bea_electricity_output.loc['Fossil fuel electric power generation', '2018']).round()\n",
    "bea_electricity_output.loc['Gas electric power generation', '2018'] = (gas_oil_frac_fossil * \\\n",
    "                bea_electricity_output.loc['Fossil fuel electric power generation', '2018']).round()\n",
    "bea_electricity_output.drop('Fossil fuel electric power generation', axis=0, inplace=True)"
   ]
  },
  {
   "cell_type": "code",
   "execution_count": null,
   "id": "36e2be7b",
   "metadata": {
    "ExecuteTime": {
     "end_time": "2022-12-19T10:20:59.546140Z",
     "start_time": "2022-12-19T10:20:59.517188Z"
    }
   },
   "outputs": [],
   "source": [
    "elec_workers_pivot['name'] = elec_workers_ipums[['naics', 'naics_title']].drop_duplicates().set_index('naics')\n",
    "elec_workers_pivot = elec_workers_pivot.set_index('name')\n",
    "\n",
    "elec_prse_pivot['name'] = elec_workers_ipums[['naics', 'naics_title']].drop_duplicates().set_index('naics')\n",
    "elec_prse_pivot = elec_prse_pivot.set_index('name')"
   ]
  },
  {
   "cell_type": "code",
   "execution_count": null,
   "id": "0eed1682",
   "metadata": {
    "ExecuteTime": {
     "end_time": "2022-12-19T10:21:08.450856Z",
     "start_time": "2022-12-19T10:21:08.382504Z"
    }
   },
   "outputs": [],
   "source": [
    "# There is output data for more detailed industries (a, b), but occupational data only for\n",
    "# the aggreagte industry (c = a + b). We split the number of workers accoring to the amount of total output\n",
    "a = 'Electric Bulk Power Transmission and Control'\n",
    "b = 'Electric Power Distribution'\n",
    "c = 'Electricity Transmission and Distribution'\n",
    "\n",
    "fact = bea_electricity_output.loc['Electric bulk power transmission and control', '2018'] / (bea_electricity_output.loc[\\\n",
    "                    'Electric bulk power transmission and control', '2018'] + \\\n",
    "                    bea_electricity_output.loc['Electric power distribution', '2018'])\n",
    "\n",
    "elec_workers_pivot.loc[a, :] = elec_workers_pivot.loc[c, :] * fact\n",
    "elec_workers_pivot.loc[b, :] = elec_workers_pivot.loc[c, :] * (1.0-fact)\n",
    "# prse is a percentage. We take over the value\n",
    "elec_prse_pivot.loc[a, :] = elec_prse_pivot.loc[c, :]\n",
    "elec_prse_pivot.loc[b, :] = elec_prse_pivot.loc[c, :]\n",
    "\n",
    "a = 'Gas Electric Power Generation'\n",
    "b = 'Coal Electric Power Generation'\n",
    "c = 'Fossil Fuel Electric Power Generation'\n",
    "\n",
    "fact = bea_electricity_output.loc['Gas electric power generation', '2018'] / (bea_electricity_output.loc[\\\n",
    "                    'Gas electric power generation', '2018'] + \\\n",
    "                    bea_electricity_output.loc['Coal electric power generation', '2018'])\n",
    "\n",
    "elec_workers_pivot.loc[a, :] = elec_workers_pivot.loc[c, :] * fact\n",
    "elec_workers_pivot.loc[b, :] = elec_workers_pivot.loc[c, :] * (1.0-fact)\n",
    "elec_prse_pivot.loc[a, :] = elec_prse_pivot.loc[c, :]\n",
    "elec_prse_pivot.loc[b, :] = elec_prse_pivot.loc[c, :]"
   ]
  },
  {
   "cell_type": "code",
   "execution_count": null,
   "id": "509a6f45",
   "metadata": {
    "ExecuteTime": {
     "end_time": "2022-12-19T10:21:08.997275Z",
     "start_time": "2022-12-19T10:21:08.984528Z"
    }
   },
   "outputs": [],
   "source": [
    "elec_workers_pivot_select = elec_workers_pivot.iloc[2:].drop(['Electricity Transmission and Distribution', \n",
    "                                                              'Fossil Fuel Electric Power Generation'], axis=0)\n",
    "elec_prse_pivot_select = elec_prse_pivot.iloc[2:].drop(['Electricity Transmission and Distribution', \n",
    "                                                        'Fossil Fuel Electric Power Generation'], axis=0)"
   ]
  },
  {
   "cell_type": "code",
   "execution_count": null,
   "id": "ae2531a4",
   "metadata": {
    "ExecuteTime": {
     "end_time": "2022-12-19T10:21:10.195401Z",
     "start_time": "2022-12-19T10:21:10.177212Z"
    }
   },
   "outputs": [],
   "source": [
    "# variance is std_dev squared = ((prse * x_mean) / 100)^2\n",
    "elec_var_pivot_select = (elec_workers_pivot_select.multiply(elec_prse_pivot_select) / 100)**2"
   ]
  },
  {
   "cell_type": "code",
   "execution_count": null,
   "id": "9b214c9e",
   "metadata": {
    "ExecuteTime": {
     "end_time": "2022-12-19T10:21:25.159687Z",
     "start_time": "2022-12-19T10:21:24.812113Z"
    }
   },
   "outputs": [],
   "source": [
    "bipartite = pd.read_csv(data_out + 'bi-partite_emp_sum.csv', index_col = 0)\n",
    "\n",
    "# fillna(0.0) because elec_workers_pivot does not contain all occupations (some are not employed in the utilities sector)\n",
    "bipartite_elec = pd.concat([bipartite.iloc[:5], elec_workers_pivot_select.round(1), bipartite.iloc[6:]])\n",
    "bipartite_elec.iloc[5:18, :] = bipartite_elec.iloc[5:18, :].fillna(value=0)\n",
    "\n",
    "bipartite_elec.to_csv(data_out + 'bi-partite_emp_sum_elec.csv')"
   ]
  },
  {
   "cell_type": "code",
   "execution_count": null,
   "id": "4cf3a388",
   "metadata": {
    "ExecuteTime": {
     "end_time": "2022-12-19T10:21:26.364720Z",
     "start_time": "2022-12-19T10:21:26.056032Z"
    }
   },
   "outputs": [],
   "source": [
    "bipartite = pd.read_csv(data_out + 'bi-partite_emp_sum_var.csv', index_col = 0)\n",
    "\n",
    "# fillna(0.0) because elec_workers_pivot does not contain all occupations (some are not employed in the utilities sector)\n",
    "bipartite_var = pd.concat([bipartite.iloc[:5], elec_var_pivot_select.round(1), bipartite.iloc[6:]])\n",
    "bipartite_var.iloc[5:18, :] = bipartite_var.iloc[5:18, :].fillna(value=0)\n",
    "\n",
    "bipartite_var.to_csv(data_out + 'bi-partite_emp_sum_var_elec.csv')"
   ]
  },
  {
   "cell_type": "code",
   "execution_count": null,
   "id": "beb8c92f",
   "metadata": {},
   "outputs": [],
   "source": []
  },
  {
   "cell_type": "code",
   "execution_count": null,
   "id": "85ff9033",
   "metadata": {
    "ExecuteTime": {
     "end_time": "2022-12-19T10:21:27.962655Z",
     "start_time": "2022-12-19T10:21:27.949665Z"
    }
   },
   "outputs": [],
   "source": [
    "# some data uses All Caps For Each Word, other data Only the first word\n",
    "title_capitals = {'Biomass electric power generation': 'Biomass Electric Power Generation', \n",
    "                  'Electric bulk power transmission and control': 'Electric Bulk Power Transmission and Control',\n",
    "                  'Electric power distribution': 'Electric Power Distribution',\n",
    "                  'Geothermal electric power generation': 'Geothermal Electric Power Generation',\n",
    "                  'Hydroelectric power generation': 'Hydroelectric Power Generation', \n",
    "                  'Natural gas distribution': 'Natural Gas Distribution', \n",
    "                  'Nuclear electric power generation': 'Nuclear Electric Power Generation',\n",
    "                  'Other electric power generation': 'Other Electric Power Generation',\n",
    "                  'Solar electric power generation': 'Solar Electric Power Generation',\n",
    "                  'Water, sewage and other systems': 'Water, Sewage and Other Systems', \n",
    "                  'Wind electric power generation': 'Wind Electric Power Generation',\n",
    "                  'Coal electric power generation': 'Coal Electric Power Generation',\n",
    "                  'Gas electric power generation': 'Gas Electric Power Generation'}\n",
    "title_lower = {v: k for k, v in title_capitals.items()}"
   ]
  },
  {
   "cell_type": "code",
   "execution_count": null,
   "id": "09c012d5",
   "metadata": {
    "ExecuteTime": {
     "end_time": "2022-12-19T10:21:28.972190Z",
     "start_time": "2022-12-19T10:21:28.959305Z"
    }
   },
   "outputs": [],
   "source": [
    "bea_electricity_output.index = bea_electricity_output.index.map(title_capitals)\n",
    "bea_electricity_output = bea_electricity_output.loc[bea_electricity_output.index.dropna()]"
   ]
  },
  {
   "cell_type": "code",
   "execution_count": null,
   "id": "dd0c0cfe",
   "metadata": {
    "ExecuteTime": {
     "end_time": "2022-12-19T10:21:29.794833Z",
     "start_time": "2022-12-19T10:21:29.770271Z"
    }
   },
   "outputs": [],
   "source": [
    "emp_per_million_output_elec = elec_workers_pivot.divide(bea_electricity_output['2018'], axis=0).dropna()\n",
    "emp_per_million_output_elec = emp_per_million_output_elec.T"
   ]
  },
  {
   "cell_type": "code",
   "execution_count": null,
   "id": "e3706821",
   "metadata": {
    "ExecuteTime": {
     "end_time": "2022-12-19T10:21:30.650695Z",
     "start_time": "2022-12-19T10:21:30.625530Z"
    }
   },
   "outputs": [],
   "source": [
    "emp_per_million_output_elec = pd.concat([emp_per_million_output.iloc[:, :5], emp_per_million_output_elec, emp_per_million_output.iloc[:, 6:]], axis=1)"
   ]
  },
  {
   "cell_type": "code",
   "execution_count": null,
   "id": "8298f332",
   "metadata": {
    "ExecuteTime": {
     "end_time": "2022-12-19T10:21:32.164699Z",
     "start_time": "2022-12-19T10:21:32.140638Z"
    }
   },
   "outputs": [],
   "source": [
    "# Some occuaptions are not present in utilities, we fill them with 0\n",
    "emp_per_million_output_elec.iloc[:, 5:18] = emp_per_million_output_elec.iloc[:, 5:18].fillna(0.0)"
   ]
  },
  {
   "cell_type": "code",
   "execution_count": null,
   "id": "55e1e32c",
   "metadata": {
    "ExecuteTime": {
     "end_time": "2022-12-19T10:21:42.823805Z",
     "start_time": "2022-12-19T10:21:42.751720Z"
    }
   },
   "outputs": [],
   "source": [
    "emp_per_million_output_elec.to_csv(data_out + 'emp_per_million_output_sum_2018.csv')"
   ]
  }
 ],
 "metadata": {
  "kernelspec": {
   "display_name": "Python 3 (ipykernel)",
   "language": "python",
   "name": "python3"
  },
  "language_info": {
   "codemirror_mode": {
    "name": "ipython",
    "version": 3
   },
   "file_extension": ".py",
   "mimetype": "text/x-python",
   "name": "python",
   "nbconvert_exporter": "python",
   "pygments_lexer": "ipython3",
   "version": "3.8.4"
  },
  "toc": {
   "base_numbering": 1,
   "nav_menu": {},
   "number_sections": true,
   "sideBar": true,
   "skip_h1_title": false,
   "title_cell": "Table of Contents",
   "title_sidebar": "Contents",
   "toc_cell": false,
   "toc_position": {},
   "toc_section_display": true,
   "toc_window_display": false
  },
  "varInspector": {
   "cols": {
    "lenName": 16,
    "lenType": 16,
    "lenVar": 40
   },
   "kernels_config": {
    "python": {
     "delete_cmd_postfix": "",
     "delete_cmd_prefix": "del ",
     "library": "var_list.py",
     "varRefreshCmd": "print(var_dic_list())"
    },
    "r": {
     "delete_cmd_postfix": ") ",
     "delete_cmd_prefix": "rm(",
     "library": "var_list.r",
     "varRefreshCmd": "cat(var_dic_list()) "
    }
   },
   "position": {
    "height": "644.833px",
    "left": "1336.67px",
    "right": "20px",
    "top": "120px",
    "width": "350px"
   },
   "types_to_exclude": [
    "module",
    "function",
    "builtin_function_or_method",
    "instance",
    "_Feature"
   ],
   "window_display": false
  }
 },
 "nbformat": 4,
 "nbformat_minor": 5
}
