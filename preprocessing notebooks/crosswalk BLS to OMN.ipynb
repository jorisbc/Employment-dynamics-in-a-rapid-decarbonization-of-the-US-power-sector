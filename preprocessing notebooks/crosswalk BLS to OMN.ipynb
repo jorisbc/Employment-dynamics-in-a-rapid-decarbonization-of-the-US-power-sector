{
 "cells": [
  {
   "cell_type": "code",
   "execution_count": null,
   "metadata": {
    "ExecuteTime": {
     "end_time": "2022-08-15T09:04:24.330349Z",
     "start_time": "2022-08-15T09:04:22.172932Z"
    }
   },
   "outputs": [],
   "source": [
    "import numpy as np\n",
    "import pandas as pd\n",
    "from matplotlib import pylab as plt"
   ]
  },
  {
   "cell_type": "markdown",
   "metadata": {},
   "source": [
    "# This notebook matches the OCC-ACS codes crosswalks on the BLS codes and OMN codes actually used"
   ]
  },
  {
   "cell_type": "code",
   "execution_count": null,
   "metadata": {
    "ExecuteTime": {
     "end_time": "2022-08-15T09:04:24.375574Z",
     "start_time": "2022-08-15T09:04:24.365018Z"
    }
   },
   "outputs": [],
   "source": [
    "# paths\n",
    "data_local = \"../data/\"\n",
    "data_out = '../results/data_out/'"
   ]
  },
  {
   "cell_type": "markdown",
   "metadata": {},
   "source": [
    "Read in data: 1) occupations in BLS, 2) occupations in OMN, 3) crosswalk"
   ]
  },
  {
   "cell_type": "code",
   "execution_count": null,
   "metadata": {
    "ExecuteTime": {
     "end_time": "2022-08-15T09:04:25.496753Z",
     "start_time": "2022-08-15T09:04:24.411863Z"
    }
   },
   "outputs": [],
   "source": [
    "# occuaptions to sector data 2018\n",
    "filename_occ_sect = \"BLS/oesm18nat/national_M2018_dl.xlsx\"\n",
    "tab = \"national_dl\"\n",
    "df_occ_sect_2018 = pd.read_excel(data_local + filename_occ_sect, sheet_name = tab, header = 0)\n",
    "df_occ_2018 = df_occ_sect_2018[['OCC_CODE', 'OCC_TITLE', 'OCC_GROUP']].drop_duplicates().sort_values('OCC_CODE')"
   ]
  },
  {
   "cell_type": "code",
   "execution_count": null,
   "metadata": {
    "ExecuteTime": {
     "end_time": "2022-08-15T09:04:26.226018Z",
     "start_time": "2022-08-15T09:04:25.580646Z"
    }
   },
   "outputs": [],
   "source": [
    "df_occ_2018['OCC_GROUP'].hist(xlabelsize=20, ylabelsize=23)"
   ]
  },
  {
   "cell_type": "code",
   "execution_count": null,
   "metadata": {
    "ExecuteTime": {
     "end_time": "2022-08-15T09:04:26.535596Z",
     "start_time": "2022-08-15T09:04:26.509938Z"
    }
   },
   "outputs": [],
   "source": [
    "# occupations in occupational mobility network (OMN) with ASEC\n",
    "filename_omn_meta = \"occ_names_employment_asec.csv\"\n",
    "df_IPUMS = pd.read_csv(data_local + filename_omn_meta, header=0)"
   ]
  },
  {
   "cell_type": "code",
   "execution_count": null,
   "metadata": {
    "ExecuteTime": {
     "end_time": "2022-08-15T09:04:28.599614Z",
     "start_time": "2022-08-15T09:04:28.576234Z"
    }
   },
   "outputs": [],
   "source": [
    "df_IPUMS"
   ]
  },
  {
   "cell_type": "code",
   "execution_count": null,
   "metadata": {
    "ExecuteTime": {
     "end_time": "2022-08-15T09:04:31.940827Z",
     "start_time": "2022-08-15T09:04:31.913183Z"
    }
   },
   "outputs": [],
   "source": [
    "# labour occupations crosswalk\n",
    "filename_asec_soc = \"occ_names_class_asec_soc_map.csv\"\n",
    "df_asec_soc = pd.read_csv(data_local + filename_asec_soc, header=0, index_col=0)"
   ]
  },
  {
   "cell_type": "code",
   "execution_count": null,
   "metadata": {
    "ExecuteTime": {
     "end_time": "2022-08-15T09:04:32.140947Z",
     "start_time": "2022-08-15T09:04:32.120830Z"
    }
   },
   "outputs": [],
   "source": [
    "df_asec_soc"
   ]
  },
  {
   "cell_type": "markdown",
   "metadata": {},
   "source": [
    "# We will check how well the data from the IPUMS and BLS map on the crosswalk. For IPUMS"
   ]
  },
  {
   "cell_type": "code",
   "execution_count": null,
   "metadata": {
    "ExecuteTime": {
     "end_time": "2022-08-15T09:04:34.896784Z",
     "start_time": "2022-08-15T09:04:34.872383Z"
    }
   },
   "outputs": [],
   "source": [
    "a = df_asec_soc.merge(df_IPUMS, on='Code', how='outer', suffixes=('', '_a'))"
   ]
  },
  {
   "cell_type": "code",
   "execution_count": null,
   "metadata": {
    "ExecuteTime": {
     "end_time": "2022-08-15T09:04:35.328812Z",
     "start_time": "2022-08-15T09:04:35.303715Z"
    }
   },
   "outputs": [],
   "source": [
    "a['Code'].isnull().sum()"
   ]
  },
  {
   "cell_type": "code",
   "execution_count": null,
   "metadata": {
    "ExecuteTime": {
     "end_time": "2022-08-15T09:04:35.952171Z",
     "start_time": "2022-08-15T09:04:35.936983Z"
    }
   },
   "outputs": [],
   "source": [
    "a['soc_code'].isnull().sum()"
   ]
  },
  {
   "cell_type": "code",
   "execution_count": null,
   "metadata": {
    "ExecuteTime": {
     "end_time": "2022-08-15T09:04:38.558598Z",
     "start_time": "2022-08-15T09:04:38.536205Z"
    }
   },
   "outputs": [],
   "source": [
    "a[a['soc_code'].isnull()][['Label_a', 'EMP_2019', 'EMP_2010_2019_avg']]"
   ]
  },
  {
   "cell_type": "markdown",
   "metadata": {},
   "source": [
    "In the crosswalk there are 23 asec codes that do not have a corresponding soc code"
   ]
  },
  {
   "cell_type": "markdown",
   "metadata": {},
   "source": [
    "# For the BLS we find:"
   ]
  },
  {
   "cell_type": "markdown",
   "metadata": {},
   "source": [
    "We first note that many codes merge on the detailed level when the broad level has the same name and potentially more reliable information in the BLS dataset. We rectify this as follows"
   ]
  },
  {
   "cell_type": "code",
   "execution_count": null,
   "metadata": {
    "ExecuteTime": {
     "end_time": "2022-08-15T09:04:40.895887Z",
     "start_time": "2022-08-15T09:04:40.874906Z"
    }
   },
   "outputs": [],
   "source": [
    "# dataframe b matches the BLS dataset on the OCC-ASEC crosswalk\n",
    "b = df_occ_2018\n",
    "b = b.merge(df_asec_soc, how='outer', right_on='soc_code', left_on=\"OCC_CODE\")"
   ]
  },
  {
   "cell_type": "code",
   "execution_count": null,
   "metadata": {
    "ExecuteTime": {
     "end_time": "2022-08-15T09:04:41.466930Z",
     "start_time": "2022-08-15T09:04:41.300387Z"
    }
   },
   "outputs": [],
   "source": [
    "b[~b['Code'].isnull()]['OCC_GROUP'].hist(xlabelsize=23, ylabelsize=23)"
   ]
  },
  {
   "cell_type": "code",
   "execution_count": null,
   "metadata": {
    "ExecuteTime": {
     "end_time": "2022-08-15T09:04:42.991951Z",
     "start_time": "2022-08-15T09:04:42.959239Z"
    }
   },
   "outputs": [],
   "source": [
    "b.iloc[104:110]"
   ]
  },
  {
   "cell_type": "code",
   "execution_count": null,
   "metadata": {
    "ExecuteTime": {
     "end_time": "2022-08-15T09:04:44.978897Z",
     "start_time": "2022-08-15T09:04:44.514746Z"
    }
   },
   "outputs": [],
   "source": [
    "# If broad and detailed occupation titles are the same, we assign the crosswalk to the 'broad' level\n",
    "def assign_broad(group, title):\n",
    "    if ((group == 'detailed') and ((b['OCC_TITLE'] == title).sum() > 1)):\n",
    "        loc = b.index[(b['OCC_TITLE'] == title) & (b['OCC_GROUP'] == 'broad')][0]\n",
    "        return b['OCC_CODE'].loc[loc]\n",
    "    \n",
    "b['code_new'] = b.apply(lambda x: assign_broad(x['OCC_GROUP'], x['OCC_TITLE']), axis=1)\n",
    "df_det_to_broad = b[['code_new', 'soc_code']].rename(columns={'code': 'code_old'}).dropna()"
   ]
  },
  {
   "cell_type": "markdown",
   "metadata": {},
   "source": [
    "Looking at the number of non-matches we see:"
   ]
  },
  {
   "cell_type": "code",
   "execution_count": null,
   "metadata": {
    "ExecuteTime": {
     "end_time": "2022-08-15T09:06:19.012065Z",
     "start_time": "2022-08-15T09:06:18.992780Z"
    }
   },
   "outputs": [],
   "source": [
    "# unused BLS codes\n",
    "b['soc_code'].isnull().sum()"
   ]
  },
  {
   "cell_type": "code",
   "execution_count": null,
   "metadata": {
    "ExecuteTime": {
     "end_time": "2022-08-15T09:06:19.846368Z",
     "start_time": "2022-08-15T09:06:19.826074Z"
    }
   },
   "outputs": [],
   "source": [
    "# unused crosswalk codes\n",
    "b['OCC_CODE'].isnull().sum()"
   ]
  },
  {
   "cell_type": "markdown",
   "metadata": {},
   "source": [
    "The BLS data contains codes from all levels of detail. We only need one of those levels to match. This explains the high number of non-matches (966). However, the other way around should result in zero (0) non-matches, but is 27. We see that those mismatches are mostly due to aggregation codes ending on X, XXX, YY, or similar, as well as a few military codes"
   ]
  },
  {
   "cell_type": "code",
   "execution_count": null,
   "metadata": {
    "ExecuteTime": {
     "end_time": "2022-08-15T09:06:22.210005Z",
     "start_time": "2022-08-15T09:06:22.185435Z"
    }
   },
   "outputs": [],
   "source": [
    "# the crosswalk has XX codes, which BLS does not have. We fit these manually\n",
    "print(b[b['OCC_CODE'].isnull()]['soc_code'].to_list())"
   ]
  },
  {
   "cell_type": "code",
   "execution_count": null,
   "metadata": {
    "ExecuteTime": {
     "end_time": "2022-08-15T09:06:24.367076Z",
     "start_time": "2022-08-15T09:06:24.343082Z"
    }
   },
   "outputs": [],
   "source": [
    "print(b[b['OCC_CODE'].isnull()]['Code'].to_list())"
   ]
  },
  {
   "cell_type": "markdown",
   "metadata": {},
   "source": [
    "The above codes we fit manually on the BLS data, by using information on their original names and description of change. We use the following csv file to help with the manual fitting"
   ]
  },
  {
   "cell_type": "code",
   "execution_count": null,
   "metadata": {
    "ExecuteTime": {
     "end_time": "2022-05-24T07:35:00.625447Z",
     "start_time": "2022-05-24T07:35:00.597470Z"
    }
   },
   "outputs": [],
   "source": [
    "pd.DataFrame(b[b['OCC_CODE'].isnull()]).to_csv(data_out + 'mismatched_codes_asec_soc.csv')"
   ]
  },
  {
   "cell_type": "code",
   "execution_count": null,
   "metadata": {
    "ExecuteTime": {
     "end_time": "2022-08-15T09:06:31.893240Z",
     "start_time": "2022-08-15T09:06:31.872819Z"
    }
   },
   "outputs": [],
   "source": [
    "# manually fitted result:\n",
    "df_aggregate_codes = pd.read_csv(data_local + \"manual_matched_asec_soc.csv\", dtype=object)\n",
    "df_aggregate_codes.head()"
   ]
  },
  {
   "cell_type": "code",
   "execution_count": null,
   "metadata": {
    "ExecuteTime": {
     "end_time": "2022-08-15T09:10:18.432100Z",
     "start_time": "2022-08-15T09:10:18.402748Z"
    }
   },
   "outputs": [],
   "source": [
    "df_manual_codes = pd.read_csv(data_local + \"manual_insertion_asec_soc.csv\", dtype=object, usecols=[0,1])\n",
    "df_manual_codes.head()"
   ]
  },
  {
   "cell_type": "code",
   "execution_count": null,
   "metadata": {
    "ExecuteTime": {
     "end_time": "2022-08-15T09:10:20.890843Z",
     "start_time": "2022-08-15T09:10:20.808907Z"
    }
   },
   "outputs": [],
   "source": [
    "df_asec_soc_imputed = df_asec_soc.astype(str).merge(df_aggregate_codes, on='Code', how='outer')\n",
    "df_asec_soc_imputed = df_asec_soc_imputed.astype(str).merge(df_manual_codes, on='Code', how='outer', suffixes=('_x', ''))\n",
    "df_asec_soc_imputed.replace('nan', np.NaN, inplace=True)\n",
    "df_asec_soc_imputed.code_impute.fillna(df_asec_soc_imputed.code_impute_x, inplace=True)\n",
    "df_asec_soc_imputed.code_impute.fillna(df_asec_soc_imputed.soc_code, inplace=True)\n",
    "df_asec_soc_imputed.replace(list(df_det_to_broad.soc_code), list(df_det_to_broad.code_new), inplace=True)"
   ]
  },
  {
   "cell_type": "code",
   "execution_count": null,
   "metadata": {
    "ExecuteTime": {
     "end_time": "2022-08-15T09:10:21.342198Z",
     "start_time": "2022-08-15T09:10:21.319765Z"
    }
   },
   "outputs": [],
   "source": [
    "df_asec_soc_imputed.drop(['soc_code', 'code_impute_x'], axis=1, inplace=True)\n",
    "df_asec_soc_imputed.drop_duplicates(inplace=True)"
   ]
  },
  {
   "cell_type": "markdown",
   "metadata": {},
   "source": [
    "Using these new codes, as well as the above detailed-to-broad list we try again:"
   ]
  },
  {
   "cell_type": "code",
   "execution_count": null,
   "metadata": {
    "ExecuteTime": {
     "end_time": "2022-08-15T09:10:22.120402Z",
     "start_time": "2022-08-15T09:10:22.095932Z"
    }
   },
   "outputs": [],
   "source": [
    "b = df_occ_2018\n",
    "b = b.merge(df_asec_soc_imputed, how='outer', left_on='OCC_CODE', right_on='code_impute')"
   ]
  },
  {
   "cell_type": "code",
   "execution_count": null,
   "metadata": {
    "ExecuteTime": {
     "end_time": "2022-08-15T09:10:22.736717Z",
     "start_time": "2022-08-15T09:10:22.712759Z"
    }
   },
   "outputs": [],
   "source": [
    "b['Code'].isnull().sum()"
   ]
  },
  {
   "cell_type": "code",
   "execution_count": null,
   "metadata": {
    "ExecuteTime": {
     "end_time": "2022-08-15T09:10:23.725223Z",
     "start_time": "2022-08-15T09:10:23.704049Z"
    }
   },
   "outputs": [],
   "source": [
    "b['OCC_CODE'].isnull().sum()"
   ]
  },
  {
   "cell_type": "markdown",
   "metadata": {},
   "source": [
    "All we have left now are fising and hunting workers, and military occupations, which we both drop"
   ]
  },
  {
   "cell_type": "code",
   "execution_count": null,
   "metadata": {
    "ExecuteTime": {
     "end_time": "2022-08-15T09:10:25.121186Z",
     "start_time": "2022-08-15T09:10:25.096712Z"
    }
   },
   "outputs": [],
   "source": [
    "b[b['OCC_CODE'].isnull()]"
   ]
  },
  {
   "cell_type": "code",
   "execution_count": null,
   "metadata": {
    "ExecuteTime": {
     "end_time": "2022-08-15T09:10:27.950912Z",
     "start_time": "2022-08-15T09:10:27.927630Z"
    }
   },
   "outputs": [],
   "source": [
    "b[~b['Code'].isnull()]['OCC_GROUP'].dropna().count()"
   ]
  },
  {
   "cell_type": "markdown",
   "metadata": {},
   "source": [
    "Most codes now match on broad categories"
   ]
  },
  {
   "cell_type": "code",
   "execution_count": null,
   "metadata": {
    "ExecuteTime": {
     "end_time": "2022-08-15T09:10:29.553206Z",
     "start_time": "2022-08-15T09:10:29.358783Z"
    }
   },
   "outputs": [],
   "source": [
    "b[~b['Code'].isnull()]['OCC_GROUP'].hist(xlabelsize=23, ylabelsize=23)"
   ]
  },
  {
   "cell_type": "markdown",
   "metadata": {
    "ExecuteTime": {
     "end_time": "2021-04-06T11:05:31.123873Z",
     "start_time": "2021-04-06T11:05:31.073055Z"
    }
   },
   "source": [
    "We can now thus define a prep data analysis crosswalk as follows"
   ]
  },
  {
   "cell_type": "code",
   "execution_count": null,
   "metadata": {
    "ExecuteTime": {
     "end_time": "2022-08-15T09:10:31.072289Z",
     "start_time": "2022-08-15T09:10:31.047755Z"
    }
   },
   "outputs": [],
   "source": [
    "df_BLS_2018_prep = b[['OCC_CODE', 'OCC_TITLE', 'Code']].dropna().drop_duplicates()"
   ]
  },
  {
   "cell_type": "code",
   "execution_count": null,
   "metadata": {
    "ExecuteTime": {
     "end_time": "2022-08-15T09:10:31.352920Z",
     "start_time": "2022-08-15T09:10:31.337922Z"
    }
   },
   "outputs": [],
   "source": [
    "# All manual codes added\n",
    "set(df_aggregate_codes.code_impute) - set(df_BLS_2018_prep.OCC_CODE)"
   ]
  },
  {
   "cell_type": "code",
   "execution_count": null,
   "metadata": {
    "ExecuteTime": {
     "end_time": "2022-08-15T09:10:31.818176Z",
     "start_time": "2022-08-15T09:10:31.789007Z"
    }
   },
   "outputs": [],
   "source": [
    "# all manual codes added\n",
    "set(df_manual_codes.code_impute) - set(df_BLS_2018_prep.OCC_CODE)"
   ]
  },
  {
   "cell_type": "code",
   "execution_count": null,
   "metadata": {
    "ExecuteTime": {
     "end_time": "2022-08-15T09:10:33.238873Z",
     "start_time": "2022-08-15T09:10:33.223990Z"
    }
   },
   "outputs": [],
   "source": [
    "# all original codes included except XX codes, and 23-1010 (changed to 23-1000), \n",
    "# and 45-3010 (fishing and hunting workers) which is not in the national BLS data\n",
    "set([str(x)[:6] for x in df_asec_soc.soc_code]) - set([x[:6] for x in df_BLS_2018_prep.OCC_CODE])"
   ]
  },
  {
   "cell_type": "code",
   "execution_count": null,
   "metadata": {
    "ExecuteTime": {
     "end_time": "2022-08-15T09:10:37.678892Z",
     "start_time": "2022-08-15T09:10:37.637545Z"
    }
   },
   "outputs": [],
   "source": [
    "df_BLS_2018_prep.to_csv(data_out + 'SOC_to_IPUMS.csv')"
   ]
  },
  {
   "cell_type": "markdown",
   "metadata": {
    "ExecuteTime": {
     "end_time": "2021-04-06T06:39:53.974179Z",
     "start_time": "2021-04-06T06:39:53.957088Z"
    }
   },
   "source": [
    "# Next to do is to merge the two to get a combined crosswalk to get IPUMS to BLS data\n",
    "\n",
    "We rescale any many-to-one relations with their total employment"
   ]
  },
  {
   "cell_type": "code",
   "execution_count": null,
   "metadata": {
    "ExecuteTime": {
     "end_time": "2022-08-15T09:10:39.043200Z",
     "start_time": "2022-08-15T09:10:38.985739Z"
    }
   },
   "outputs": [],
   "source": [
    "BLS_IPUMS_crosswalk = df_BLS_2018_prep.set_index('OCC_CODE')\n",
    "\n",
    "BLS_IPUMS_crosswalk = pd.get_dummies(BLS_IPUMS_crosswalk.Code)\n",
    "BLS_IPUMS_crosswalk = BLS_IPUMS_crosswalk.groupby(BLS_IPUMS_crosswalk.index).sum()\n",
    "BLS_IPUMS_crosswalk = BLS_IPUMS_crosswalk.T.groupby(BLS_IPUMS_crosswalk.T.index).sum().T"
   ]
  },
  {
   "cell_type": "code",
   "execution_count": null,
   "metadata": {
    "ExecuteTime": {
     "end_time": "2022-08-15T09:10:39.294279Z",
     "start_time": "2022-08-15T09:10:39.269078Z"
    }
   },
   "outputs": [],
   "source": [
    "# There are no occupations without a counterpart\n",
    "print(len(BLS_IPUMS_crosswalk[BLS_IPUMS_crosswalk.sum(axis=1) == 0].head()))\n",
    "print(len(BLS_IPUMS_crosswalk.T[BLS_IPUMS_crosswalk.sum() == 0].head()))"
   ]
  },
  {
   "cell_type": "code",
   "execution_count": null,
   "metadata": {
    "ExecuteTime": {
     "end_time": "2022-08-15T09:10:40.152827Z",
     "start_time": "2022-08-15T09:10:40.119417Z"
    }
   },
   "outputs": [],
   "source": [
    "# 54 IPUMS occupations match on more than 1 BLS occupation\n",
    "# Vice versa, 2 BLS occupations match on multiple IPUMS occupations\n",
    "# Our main crosswalk is from BLS to ipums, so the 52 many-to-one are not a problem, but\n",
    "# the 2 one-to-many are. We deal with them manually\n",
    "print(len(BLS_IPUMS_crosswalk[BLS_IPUMS_crosswalk.sum(axis=1) >1]))\n",
    "print(len(BLS_IPUMS_crosswalk.T[BLS_IPUMS_crosswalk.sum() >1]))"
   ]
  },
  {
   "cell_type": "code",
   "execution_count": null,
   "metadata": {
    "ExecuteTime": {
     "end_time": "2022-08-15T09:10:42.033348Z",
     "start_time": "2022-08-15T09:10:41.999762Z"
    }
   },
   "outputs": [],
   "source": [
    "BLS_IPUMS_crosswalk[BLS_IPUMS_crosswalk.sum(axis=1) >1]"
   ]
  },
  {
   "cell_type": "code",
   "execution_count": null,
   "metadata": {
    "ExecuteTime": {
     "end_time": "2022-08-15T09:10:43.402883Z",
     "start_time": "2022-08-15T09:10:43.383972Z"
    }
   },
   "outputs": [],
   "source": [
    "# This helper function prints the names of all occupations that match, and their employment totals\n",
    "def wm(row):\n",
    "    s = 0\n",
    "    for col in row.index:\n",
    "        if row[col] > 0:\n",
    "            print(int(col))\n",
    "            val = df_IPUMS[df_IPUMS['Code'] == int(col)]['EMP_2010_2019_avg'].values[0]\n",
    "            print(val)\n",
    "            s += val\n",
    "    print(s)"
   ]
  },
  {
   "cell_type": "code",
   "execution_count": null,
   "metadata": {
    "ExecuteTime": {
     "end_time": "2022-08-15T09:10:44.442778Z",
     "start_time": "2022-08-15T09:10:44.391977Z"
    }
   },
   "outputs": [],
   "source": [
    "# we print \n",
    "BLS_IPUMS_crosswalk.loc[BLS_IPUMS_crosswalk.sum(axis=1) >1].apply(lambda r: wm(r), axis=1)"
   ]
  },
  {
   "cell_type": "code",
   "execution_count": null,
   "metadata": {
    "ExecuteTime": {
     "end_time": "2022-08-15T09:10:51.382194Z",
     "start_time": "2022-08-15T09:10:51.359788Z"
    }
   },
   "outputs": [],
   "source": [
    "# only 2 items, so set manually the fractions of total employment:\n",
    "BLS_IPUMS_crosswalk.loc['13-1020', '510'] = 15442.0234 / 541587.255\n",
    "BLS_IPUMS_crosswalk.loc['13-1020', '520'] = 226654.904 / 541587.255\n",
    "BLS_IPUMS_crosswalk.loc['13-1020', '530'] = 299490.327 / 541587.255\n",
    "\n",
    "BLS_IPUMS_crosswalk.loc['51-4022', '7920'] = 13292.424 / 29839.588\n",
    "BLS_IPUMS_crosswalk.loc['51-4022', '7940'] = 16547.164 / 29839.588"
   ]
  },
  {
   "cell_type": "markdown",
   "metadata": {},
   "source": [
    "Now SOC <--> IPUMS has some n-1 relations, but not vice versa. So SOC --> IPUMS is fine to use, but IPUMS --> SOC needs more care"
   ]
  },
  {
   "cell_type": "code",
   "execution_count": null,
   "metadata": {
    "ExecuteTime": {
     "end_time": "2022-08-15T09:10:53.338695Z",
     "start_time": "2022-08-15T09:10:53.279680Z"
    }
   },
   "outputs": [],
   "source": [
    "BLS_IPUMS_crosswalk.to_csv(data_out + '2018_BLS_IPUMS_crosswalk_proportional.csv')"
   ]
  },
  {
   "cell_type": "code",
   "execution_count": null,
   "metadata": {
    "ExecuteTime": {
     "end_time": "2022-08-15T09:13:23.019539Z",
     "start_time": "2022-08-15T09:13:22.963686Z"
    }
   },
   "outputs": [],
   "source": [
    "# node lists:\n",
    "ipums_node_list = df_IPUMS.copy()\n",
    "ipums_node_list.set_index('Code', inplace=True)\n",
    "ipums_node_list.index = ipums_node_list.index.astype(str)\n",
    "ipums_node_list = ipums_node_list.loc[BLS_IPUMS_crosswalk.columns]\n",
    "ipums_node_list.to_csv(data_out + '2018_BLS_IPUMS_crosswalk_nodelist_IPUMS.csv')\n",
    "\n",
    "bls_nodelist = pd.read_csv(data_out + 'occ_names_bls_minor_major.csv', index_col=0)\n",
    "bls_nodelist.set_index('OCC_CODE', inplace=True)\n",
    "#bls_nodelist = bls_nodelist.loc[BLS_IPUMS_crosswalk.index]\n",
    "bls_nodelist.to_csv(data_out + '2018_BLS_IPUMS_crosswalk_nodelist_BLS.csv')"
   ]
  },
  {
   "cell_type": "markdown",
   "metadata": {},
   "source": [
    "# Crosswalk other way around: IPUMS to BLS"
   ]
  },
  {
   "cell_type": "code",
   "execution_count": null,
   "metadata": {
    "ExecuteTime": {
     "end_time": "2022-08-15T09:13:24.782396Z",
     "start_time": "2022-08-15T09:13:24.757066Z"
    }
   },
   "outputs": [],
   "source": [
    "df_BLS_2018_prep"
   ]
  },
  {
   "cell_type": "code",
   "execution_count": null,
   "metadata": {
    "ExecuteTime": {
     "end_time": "2022-08-15T09:13:28.476771Z",
     "start_time": "2022-08-15T09:13:28.427191Z"
    }
   },
   "outputs": [],
   "source": [
    "IPUMS_BLS_crosswalk = df_BLS_2018_prep.set_index('Code')\n",
    "\n",
    "IPUMS_BLS_crosswalk = pd.get_dummies(IPUMS_BLS_crosswalk.OCC_CODE)\n",
    "IPUMS_BLS_crosswalk = IPUMS_BLS_crosswalk.groupby(IPUMS_BLS_crosswalk.index).sum()\n",
    "IPUMS_BLS_crosswalk = IPUMS_BLS_crosswalk.T.groupby(IPUMS_BLS_crosswalk.T.index).sum().T"
   ]
  },
  {
   "cell_type": "code",
   "execution_count": null,
   "metadata": {
    "ExecuteTime": {
     "end_time": "2022-08-15T09:13:28.837252Z",
     "start_time": "2022-08-15T09:13:28.812382Z"
    }
   },
   "outputs": [],
   "source": [
    "# There are no occupations without a counterpart\n",
    "print(len(IPUMS_BLS_crosswalk[IPUMS_BLS_crosswalk.sum(axis=1) == 0].head()))\n",
    "print(len(IPUMS_BLS_crosswalk.T[IPUMS_BLS_crosswalk.sum() == 0].head()))"
   ]
  },
  {
   "cell_type": "code",
   "execution_count": null,
   "metadata": {
    "ExecuteTime": {
     "end_time": "2022-08-15T09:13:29.692999Z",
     "start_time": "2022-08-15T09:13:29.670867Z"
    }
   },
   "outputs": [],
   "source": [
    "# 54 IPUMS occupations match on more than 1 BLS occupation\n",
    "# Vice versa, 2 BLS occupations match on multiple IPUMS occupations\n",
    "# Our main crosswalk is from BLS to ipums, so the 52 many-to-one are not a problem, but\n",
    "# the 2 one-to-many are. We deal with them manually\n",
    "print(len(IPUMS_BLS_crosswalk[IPUMS_BLS_crosswalk.sum(axis=1) >1]))\n",
    "print(len(IPUMS_BLS_crosswalk.T[IPUMS_BLS_crosswalk.sum() >1]))"
   ]
  },
  {
   "cell_type": "code",
   "execution_count": null,
   "metadata": {},
   "outputs": [],
   "source": []
  },
  {
   "cell_type": "code",
   "execution_count": null,
   "metadata": {
    "ExecuteTime": {
     "end_time": "2022-08-15T09:13:32.078121Z",
     "start_time": "2022-08-15T09:13:32.059727Z"
    }
   },
   "outputs": [],
   "source": [
    "bls_emp = pd.read_csv(data_out + 'occ_names_bls_minor_major.csv', index_col=0)[['OCC_CODE', 'TOT_EMP']]"
   ]
  },
  {
   "cell_type": "code",
   "execution_count": null,
   "metadata": {
    "ExecuteTime": {
     "end_time": "2022-08-15T09:13:32.485760Z",
     "start_time": "2022-08-15T09:13:32.465747Z"
    }
   },
   "outputs": [],
   "source": [
    "bls_emp"
   ]
  },
  {
   "cell_type": "code",
   "execution_count": null,
   "metadata": {},
   "outputs": [],
   "source": []
  },
  {
   "cell_type": "code",
   "execution_count": null,
   "metadata": {
    "ExecuteTime": {
     "end_time": "2022-08-15T09:13:34.178879Z",
     "start_time": "2022-08-15T09:13:34.157938Z"
    }
   },
   "outputs": [],
   "source": [
    "# This helper function prints the names of all occupations that match, and their employment totals\n",
    "def wm(row):\n",
    "    print(row.name)\n",
    "    s = 0\n",
    "    cols = []\n",
    "    emps = []\n",
    "    for col in row.index:\n",
    "        if row[col] > 0:\n",
    "            cols += [col]\n",
    "            val = bls_emp[bls_emp['OCC_CODE'] == col]['TOT_EMP'].values[0]\n",
    "            emps += [val]\n",
    "            s += val\n",
    "    print(cols)\n",
    "    print(emps)\n",
    "    # set new values\n",
    "    for col, emp in list(zip(cols, emps)):\n",
    "        IPUMS_BLS_crosswalk.loc[row.name, col] = emp / s\n",
    "    print(s)"
   ]
  },
  {
   "cell_type": "code",
   "execution_count": null,
   "metadata": {
    "ExecuteTime": {
     "end_time": "2022-08-15T09:13:35.795596Z",
     "start_time": "2022-08-15T09:13:35.339315Z"
    }
   },
   "outputs": [],
   "source": [
    "# we print \n",
    "IPUMS_BLS_crosswalk.loc[IPUMS_BLS_crosswalk.sum(axis=1) >1].apply(lambda r: wm(r), axis=1)"
   ]
  },
  {
   "cell_type": "code",
   "execution_count": null,
   "metadata": {
    "ExecuteTime": {
     "end_time": "2022-08-15T09:13:42.560671Z",
     "start_time": "2022-08-15T09:13:42.405108Z"
    }
   },
   "outputs": [],
   "source": [
    "IPUMS_BLS_crosswalk.to_csv(data_out + '2018_IPUMS_BLS_crosswalk_proportional.csv')"
   ]
  },
  {
   "cell_type": "code",
   "execution_count": null,
   "metadata": {},
   "outputs": [],
   "source": []
  }
 ],
 "metadata": {
  "kernelspec": {
   "display_name": "Python 3 (ipykernel)",
   "language": "python",
   "name": "python3"
  },
  "language_info": {
   "codemirror_mode": {
    "name": "ipython",
    "version": 3
   },
   "file_extension": ".py",
   "mimetype": "text/x-python",
   "name": "python",
   "nbconvert_exporter": "python",
   "pygments_lexer": "ipython3",
   "version": "3.8.4"
  },
  "toc": {
   "base_numbering": 1,
   "nav_menu": {},
   "number_sections": true,
   "sideBar": true,
   "skip_h1_title": false,
   "title_cell": "Table of Contents",
   "title_sidebar": "Contents",
   "toc_cell": false,
   "toc_position": {},
   "toc_section_display": true,
   "toc_window_display": false
  },
  "varInspector": {
   "cols": {
    "lenName": 16,
    "lenType": 16,
    "lenVar": 40
   },
   "kernels_config": {
    "python": {
     "delete_cmd_postfix": "",
     "delete_cmd_prefix": "del ",
     "library": "var_list.py",
     "varRefreshCmd": "print(var_dic_list())"
    },
    "r": {
     "delete_cmd_postfix": ") ",
     "delete_cmd_prefix": "rm(",
     "library": "var_list.r",
     "varRefreshCmd": "cat(var_dic_list()) "
    }
   },
   "types_to_exclude": [
    "module",
    "function",
    "builtin_function_or_method",
    "instance",
    "_Feature"
   ],
   "window_display": false
  }
 },
 "nbformat": 4,
 "nbformat_minor": 4
}
