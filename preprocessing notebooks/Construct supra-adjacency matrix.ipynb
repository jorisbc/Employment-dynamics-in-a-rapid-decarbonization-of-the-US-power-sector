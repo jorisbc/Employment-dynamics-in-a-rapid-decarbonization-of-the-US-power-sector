{
 "cells": [
  {
   "cell_type": "code",
   "execution_count": null,
   "id": "advanced-discussion",
   "metadata": {
    "ExecuteTime": {
     "end_time": "2022-12-19T10:00:01.292597Z",
     "start_time": "2022-12-19T10:00:00.131392Z"
    }
   },
   "outputs": [],
   "source": [
    "import pandas as pd\n",
    "import numpy as np"
   ]
  },
  {
   "cell_type": "code",
   "execution_count": null,
   "id": "55544d2e",
   "metadata": {
    "ExecuteTime": {
     "end_time": "2022-12-19T10:00:01.339855Z",
     "start_time": "2022-12-19T10:00:01.330665Z"
    }
   },
   "outputs": [],
   "source": [
    "data = '../data/'\n",
    "data_out = '../results/data_out/'\n",
    "fig_folder = '../results/figs/'"
   ]
  },
  {
   "cell_type": "markdown",
   "id": "hollow-furniture",
   "metadata": {},
   "source": [
    "# This notebook will combine the IPUMS OMN, BLS occupations-industries and the BEA's IO into one network"
   ]
  },
  {
   "cell_type": "markdown",
   "id": "reduced-defensive",
   "metadata": {},
   "source": [
    "The supra-adjacency matrix will have 4 blocks A, B, C1, and C2, all of which are adjacency matrices in their own right:"
   ]
  },
  {
   "cell_type": "code",
   "execution_count": null,
   "id": "focused-baker",
   "metadata": {
    "ExecuteTime": {
     "end_time": "2022-12-19T10:00:01.401601Z",
     "start_time": "2022-12-19T10:00:01.375405Z"
    }
   },
   "outputs": [],
   "source": [
    "print(pd.DataFrame(np.matrix([['A', 'C1'], ['C2', 'B']])))"
   ]
  },
  {
   "cell_type": "markdown",
   "id": "coral-taiwan",
   "metadata": {},
   "source": [
    "In our case, A is the I-O matrix of industries (from BEA), B is the occupational mobility network (from IPUMS), and C1 and C2 are bipartite networks of occupations and industries (from BLS). We have already defined all of these networks in earlier notebooks. In this notebook, we stitch them all together. First by making sure the indices and columns are the same by forcing the BLS codes into BEA and IPUMS codes. Then we normalise to the correct numbers. C1.T does not necessarily equal C2. For example, C1 can be the fraction of workers from that occupation working in an industry, and C2 can be the fraction of works from an industry working in a particular occupation."
   ]
  },
  {
   "cell_type": "markdown",
   "id": "professional-pizza",
   "metadata": {},
   "source": [
    "## 1) industries"
   ]
  },
  {
   "cell_type": "markdown",
   "id": "trying-ending",
   "metadata": {},
   "source": [
    "1. Read in BEA IO\n",
    "2. Read in BLS industries\n",
    "3. Match them using a crosswalk and use additional BEA data to split and merge BLS data correctly into BEA industries"
   ]
  },
  {
   "cell_type": "code",
   "execution_count": null,
   "id": "raised-match",
   "metadata": {
    "ExecuteTime": {
     "end_time": "2022-12-19T10:00:07.235335Z",
     "start_time": "2022-12-19T10:00:02.575415Z"
    }
   },
   "outputs": [],
   "source": [
    "# Read IO: Matrix Z\n",
    "Z_2018 = pd.read_excel(data + 'Data_out_IO/2018-Z_sum.xlsx', index_col=0)"
   ]
  },
  {
   "cell_type": "code",
   "execution_count": null,
   "id": "animal-doctrine",
   "metadata": {
    "ExecuteTime": {
     "end_time": "2022-12-19T10:00:07.576505Z",
     "start_time": "2022-12-19T10:00:07.393543Z"
    }
   },
   "outputs": [],
   "source": [
    "# Read BLS industries\n",
    "tot_emp_2018_sum = pd.read_csv(data_out + '2018_71_ind_occ_tot_emp.csv', index_col=0)\n",
    "tot_wage_2018_sum = pd.read_csv(data_out + '2018_71_ind_occ_tot_wage.csv', index_col=0)"
   ]
  },
  {
   "cell_type": "code",
   "execution_count": null,
   "id": "progressive-cradle",
   "metadata": {
    "ExecuteTime": {
     "end_time": "2022-12-19T10:00:08.012371Z",
     "start_time": "2022-12-19T10:00:07.968289Z"
    }
   },
   "outputs": [],
   "source": [
    "# Read crosswalk\n",
    "crosswalk_71_BLS = pd.read_csv(data + 'Data_out_BLS_NAICS/BEA_71_BLS_NAICS_proportional_ownership.csv', index_col=0)"
   ]
  },
  {
   "cell_type": "code",
   "execution_count": null,
   "id": "passing-certificate",
   "metadata": {
    "ExecuteTime": {
     "end_time": "2022-12-19T10:00:08.466811Z",
     "start_time": "2022-12-19T10:00:08.446833Z"
    }
   },
   "outputs": [],
   "source": [
    "print((tot_emp_2018_sum.index.astype(str) != crosswalk_71_BLS.columns).sum())\n",
    "print((tot_wage_2018_sum.index.astype(str) != crosswalk_71_BLS.columns).sum())"
   ]
  },
  {
   "cell_type": "code",
   "execution_count": null,
   "id": "angry-florence",
   "metadata": {
    "ExecuteTime": {
     "end_time": "2022-12-19T10:00:08.980931Z",
     "start_time": "2022-12-19T10:00:08.890530Z"
    }
   },
   "outputs": [],
   "source": [
    "# matrix multiplication matches occupation numbers on BEA industries: total employees per occupation per sector\n",
    "BEA_occ_71 = crosswalk_71_BLS.dot(tot_emp_2018_sum.to_numpy())\n",
    "BEA_occ_71.columns = tot_emp_2018_sum.columns"
   ]
  },
  {
   "cell_type": "code",
   "execution_count": null,
   "id": "cooperative-operation",
   "metadata": {
    "ExecuteTime": {
     "end_time": "2022-12-19T10:00:09.510768Z",
     "start_time": "2022-12-19T10:00:09.498129Z"
    }
   },
   "outputs": [],
   "source": [
    "# Total wage per occupation per sector\n",
    "BEA_wage_71 = crosswalk_71_BLS.dot(tot_wage_2018_sum.to_numpy())\n",
    "BEA_wage_71.columns = tot_wage_2018_sum.columns"
   ]
  },
  {
   "cell_type": "markdown",
   "id": "closing-feeling",
   "metadata": {
    "ExecuteTime": {
     "end_time": "2021-04-16T13:00:26.771431Z",
     "start_time": "2021-04-16T13:00:26.732182Z"
    }
   },
   "source": [
    "Now we have BLS occupations matched on BEA industries, and the total amount of employees and total wage figures per occupation per industry: Matrix A done, and C1 and C2 partially (still need to convert from BLS industries to IPUMS)"
   ]
  },
  {
   "cell_type": "markdown",
   "id": "bd8503e1",
   "metadata": {
    "ExecuteTime": {
     "end_time": "2022-04-29T07:56:37.367127Z",
     "start_time": "2022-04-29T07:56:37.318215Z"
    }
   },
   "source": [
    "### 1.1) We can now save the bi-partite graphs BEA-BLS"
   ]
  },
  {
   "cell_type": "code",
   "execution_count": null,
   "id": "3cf80dda",
   "metadata": {
    "ExecuteTime": {
     "end_time": "2022-12-19T10:00:10.737247Z",
     "start_time": "2022-12-19T10:00:10.076507Z"
    }
   },
   "outputs": [],
   "source": [
    "BEA_occ_71.to_csv(data_out + \"bi-partite_emp_sum.csv\")\n",
    "BEA_wage_71.to_csv(data_out + \"bi-partite_wage_sum.csv\")"
   ]
  },
  {
   "cell_type": "code",
   "execution_count": null,
   "id": "bac57eeb",
   "metadata": {
    "ExecuteTime": {
     "end_time": "2022-12-19T10:01:34.420617Z",
     "start_time": "2022-12-19T10:01:34.359950Z"
    }
   },
   "outputs": [],
   "source": [
    "# and variance\n",
    "tot_emp_2018_sum_prse = pd.read_csv(data_out + '2018_71_ind_occ_tot_emp_prse.csv', index_col=0)\n",
    "\n",
    "#stddev = prse * x_mean / 100\n",
    "#variance = stddev^2\n",
    "var = (tot_emp_2018_sum.multiply(tot_emp_2018_sum_prse) / 100)**2\n",
    "\n",
    "# variance is additive\n",
    "BEA_var = crosswalk_71_BLS.dot(var)"
   ]
  },
  {
   "cell_type": "code",
   "execution_count": null,
   "id": "cb56835e",
   "metadata": {
    "ExecuteTime": {
     "end_time": "2022-12-19T10:01:42.959019Z",
     "start_time": "2022-12-19T10:01:42.902682Z"
    }
   },
   "outputs": [],
   "source": [
    "BEA_var.to_csv(data_out + \"bi-partite_emp_sum_var.csv\")"
   ]
  },
  {
   "cell_type": "markdown",
   "id": "specific-causing",
   "metadata": {},
   "source": [
    "## 2) Occupations"
   ]
  },
  {
   "cell_type": "markdown",
   "id": "devoted-academy",
   "metadata": {},
   "source": [
    "1. Read in IPUMS OMN\n",
    "2. Read in IPUMS/BLS crosswalk (with merge/split fractions)\n",
    "3. convert BLS occupations into IPUMS"
   ]
  },
  {
   "cell_type": "code",
   "execution_count": null,
   "id": "treated-button",
   "metadata": {
    "ExecuteTime": {
     "end_time": "2022-12-19T10:01:51.936483Z",
     "start_time": "2022-12-19T10:01:51.852812Z"
    }
   },
   "outputs": [],
   "source": [
    "# Read OMN\n",
    "omn = pd.read_csv(data + 'asec_10_19_avg.csv', header=None)\n",
    "names = pd.read_csv(data + 'occ_names_class_asec_soc_map.csv', index_col=0)\n",
    "omn.index = names.Code\n",
    "omn.columns = names.Code\n",
    "\n",
    "#omn_rel = omn.div(omn.sum(axis=1), axis=0)\n",
    "#assert(np.allclose(omn_rel.sum(axis=1), np.ones(omn_rel.shape[0])))"
   ]
  },
  {
   "cell_type": "code",
   "execution_count": null,
   "id": "arbitrary-scholarship",
   "metadata": {
    "ExecuteTime": {
     "end_time": "2022-12-19T10:01:57.243217Z",
     "start_time": "2022-12-19T10:01:57.177417Z"
    }
   },
   "outputs": [],
   "source": [
    "# Read crosswalk (with correct merge/split fractions)\n",
    "bls_to_omn = pd.read_csv(data_out + \"2018_BLS_IPUMS_crosswalk_proportional.csv\", index_col=0)\n",
    "bls_to_omn.columns = bls_to_omn.columns.astype(float).astype(int).astype(str)"
   ]
  },
  {
   "cell_type": "code",
   "execution_count": null,
   "id": "compliant-request",
   "metadata": {
    "ExecuteTime": {
     "end_time": "2022-12-19T10:01:58.115466Z",
     "start_time": "2022-12-19T10:01:58.060117Z"
    }
   },
   "outputs": [],
   "source": [
    "# Convert (merge/split) BLS occupations into IPUMS\n",
    "C1_emp_sum = BEA_occ_71.dot(bls_to_omn.reindex(BEA_occ_71.columns))\n",
    "C1_wage_sum = BEA_wage_71.dot(bls_to_omn.reindex(BEA_occ_71.columns))"
   ]
  },
  {
   "cell_type": "markdown",
   "id": "e6d04ffb",
   "metadata": {
    "ExecuteTime": {
     "end_time": "2021-05-13T10:03:08.767781Z",
     "start_time": "2021-05-13T10:03:08.748754Z"
    }
   },
   "source": [
    "### 2.2) We can now save the bi-partite graphs BEA-IPUMS"
   ]
  },
  {
   "cell_type": "markdown",
   "id": "c7bbcdcb",
   "metadata": {
    "ExecuteTime": {
     "end_time": "2021-05-10T10:13:17.685568Z",
     "start_time": "2021-05-10T10:13:17.628086Z"
    }
   },
   "source": [
    "We have matrix B (df_omn), as well as two versions of matrix C1 (total employment and total wage)"
   ]
  },
  {
   "cell_type": "code",
   "execution_count": null,
   "id": "81496ff1",
   "metadata": {
    "ExecuteTime": {
     "end_time": "2022-12-19T10:02:25.336098Z",
     "start_time": "2022-12-19T10:02:25.166619Z"
    }
   },
   "outputs": [],
   "source": [
    "C1_emp_sum.to_csv(data_out + \"bi-partite_emp_sum_IPUMS.csv\")\n",
    "C1_wage_sum.to_csv(data_out + \"bi-partite_wage_sum_IPUMS.csv\")"
   ]
  },
  {
   "cell_type": "markdown",
   "id": "dfc6e27b",
   "metadata": {
    "ExecuteTime": {
     "end_time": "2022-04-29T08:06:33.204965Z",
     "start_time": "2022-04-29T08:06:33.168296Z"
    }
   },
   "source": [
    "# We do everything in BLS occupations. Comment out this cell if we require data in IPUMS/ASEC codes"
   ]
  },
  {
   "cell_type": "code",
   "execution_count": null,
   "id": "8a8c2ecd",
   "metadata": {
    "ExecuteTime": {
     "end_time": "2022-12-19T10:02:26.304588Z",
     "start_time": "2022-12-19T10:02:26.291645Z"
    }
   },
   "outputs": [],
   "source": [
    "C1_emp_sum = BEA_occ_71\n",
    "C1_wage_sum = BEA_wage_71"
   ]
  },
  {
   "cell_type": "markdown",
   "id": "b4fa01fe",
   "metadata": {},
   "source": [
    "### 2.2) Change total wage to total employment compensation"
   ]
  },
  {
   "cell_type": "code",
   "execution_count": null,
   "id": "5f60e241",
   "metadata": {
    "ExecuteTime": {
     "end_time": "2022-12-19T10:02:33.070492Z",
     "start_time": "2022-12-19T10:02:30.227855Z"
    }
   },
   "outputs": [],
   "source": [
    "# read in labour compensation\n",
    "labour_comp_sum = pd.read_excel(data + \"AllTablesIO/IOUse_After_Redefinitions_PRO_1997-2019_Summary.xlsx\", \n",
    "                      sheet_name = '2018', header = 5, skiprows = range(6, 83), nrows = 1, \n",
    "                      index_col = 0, usecols = \"B:BU\", engine='openpyxl')"
   ]
  },
  {
   "cell_type": "code",
   "execution_count": null,
   "metadata": {},
   "outputs": [],
   "source": [
    "# scale up wages to labour compensation, so it fits with IO numbers\n",
    "labour_comp_sum = labour_comp_sum.T.merge(C1_wage_sum.reindex(labour_comp_sum.columns).sum(axis=1).rename('wagesum') / 1000000, left_index=True, right_index=True)\n",
    "labour_comp_sum.plot.bar(figsize=(18, 5))\n",
    "labour_comp_sum['factor'] = (labour_comp_sum['Compensation of employees'] / labour_comp_sum.wagesum) / 1000000"
   ]
  },
  {
   "cell_type": "code",
   "execution_count": null,
   "id": "766ba5fe",
   "metadata": {
    "ExecuteTime": {
     "end_time": "2022-12-19T10:02:45.531758Z",
     "start_time": "2022-12-19T10:02:45.508665Z"
    }
   },
   "outputs": [],
   "source": [
    "C1_comp_sum = C1_wage_sum.mul(labour_comp_sum.reindex(C1_wage_sum.index).factor, axis=0).fillna(0)"
   ]
  },
  {
   "cell_type": "code",
   "execution_count": null,
   "id": "df8dfcd4",
   "metadata": {
    "ExecuteTime": {
     "end_time": "2022-12-19T10:02:46.529926Z",
     "start_time": "2022-12-19T10:02:46.503378Z"
    }
   },
   "outputs": [],
   "source": [
    "labour_comp_sum"
   ]
  },
  {
   "cell_type": "markdown",
   "id": "yellow-better",
   "metadata": {},
   "source": [
    "## 3) Merge industries and occupations into one supra-adjacency matrix and normalise correctly"
   ]
  },
  {
   "cell_type": "markdown",
   "id": "1c709f9d",
   "metadata": {},
   "source": [
    "1. Find correct submatrices\n",
    "2. Prepare different supra-adjacency matrices as laid out in document by correct normalisation"
   ]
  },
  {
   "cell_type": "code",
   "execution_count": null,
   "id": "71e85fbc",
   "metadata": {
    "ExecuteTime": {
     "end_time": "2022-12-19T10:03:23.818752Z",
     "start_time": "2022-12-19T10:03:23.165307Z"
    }
   },
   "outputs": [],
   "source": [
    "# combine submatrices pieces into one matrix\n",
    "Z_2018.append(C1_comp_sum.T).fillna(0).to_csv(data_out + \"IO_occupations_2018_sum.csv\")"
   ]
  },
  {
   "cell_type": "code",
   "execution_count": null,
   "id": "26cd61aa",
   "metadata": {
    "ExecuteTime": {
     "end_time": "2022-12-19T10:06:26.488253Z",
     "start_time": "2022-12-19T10:06:26.342164Z"
    }
   },
   "outputs": [],
   "source": [
    "# IO with value added and final consumption and occupations\n",
    "va = pd.read_excel(data + \"Data_out_IO/2018-va_sum.xlsx\", index_col=0)\n",
    "fc = pd.read_excel(data + \"Data_out_IO/2018-f_sum.xlsx\", index_col=0)\n",
    "\n",
    "# only keep the labour compensation value added for where we don't have any occupational data (e.g. agriculture + military)\n",
    "va.loc['V001'] = (va.loc['V001'] - round(C1_comp_sum.sum(axis=1))).fillna(va.loc['V001'])\n",
    "\n",
    "full_IO_sum = pd.concat([Z_2018.append(C1_comp_sum.T).fillna(0).append(va), fc], axis=1)\n",
    "# make sure the index codes do not overlap\n",
    "full_IO_sum[full_IO_sum.index.duplicated(keep=False)]"
   ]
  },
  {
   "cell_type": "code",
   "execution_count": null,
   "id": "9133f26f",
   "metadata": {
    "ExecuteTime": {
     "end_time": "2022-12-19T10:06:52.622985Z",
     "start_time": "2022-12-19T10:06:52.024626Z"
    }
   },
   "outputs": [],
   "source": [
    "full_IO_sum.to_csv(data_out + \"full_IO_occupations_2018_sum.csv\")"
   ]
  },
  {
   "cell_type": "code",
   "execution_count": null,
   "id": "7f7fa88e",
   "metadata": {
    "ExecuteTime": {
     "end_time": "2022-12-19T10:06:54.029560Z",
     "start_time": "2022-12-19T10:06:53.926650Z"
    }
   },
   "outputs": [],
   "source": [
    "# employment per 1 million output\n",
    "A_emp_sum = C1_emp_sum.T.div(full_IO_sum.iloc[:,:71].sum(axis=0))\n",
    "A_emp_sum.to_csv(data_out + \"emp_per_million_output_sum_2018_no_elec_split.csv\")"
   ]
  }
 ],
 "metadata": {
  "kernelspec": {
   "display_name": "Python 3 (ipykernel)",
   "language": "python",
   "name": "python3"
  },
  "language_info": {
   "codemirror_mode": {
    "name": "ipython",
    "version": 3
   },
   "file_extension": ".py",
   "mimetype": "text/x-python",
   "name": "python",
   "nbconvert_exporter": "python",
   "pygments_lexer": "ipython3",
   "version": "3.8.4"
  },
  "toc": {
   "base_numbering": 1,
   "nav_menu": {},
   "number_sections": true,
   "sideBar": true,
   "skip_h1_title": false,
   "title_cell": "Table of Contents",
   "title_sidebar": "Contents",
   "toc_cell": false,
   "toc_position": {},
   "toc_section_display": true,
   "toc_window_display": false
  },
  "varInspector": {
   "cols": {
    "lenName": 16,
    "lenType": 16,
    "lenVar": 40
   },
   "kernels_config": {
    "python": {
     "delete_cmd_postfix": "",
     "delete_cmd_prefix": "del ",
     "library": "var_list.py",
     "varRefreshCmd": "print(var_dic_list())"
    },
    "r": {
     "delete_cmd_postfix": ") ",
     "delete_cmd_prefix": "rm(",
     "library": "var_list.r",
     "varRefreshCmd": "cat(var_dic_list()) "
    }
   },
   "types_to_exclude": [
    "module",
    "function",
    "builtin_function_or_method",
    "instance",
    "_Feature"
   ],
   "window_display": false
  }
 },
 "nbformat": 4,
 "nbformat_minor": 5
}
