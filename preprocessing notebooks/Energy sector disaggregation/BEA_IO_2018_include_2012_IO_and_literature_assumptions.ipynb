{
 "cells": [
  {
   "cell_type": "code",
   "execution_count": null,
   "id": "c4109111",
   "metadata": {
    "ExecuteTime": {
     "end_time": "2023-02-08T08:41:04.836685Z",
     "start_time": "2023-02-08T08:41:02.556157Z"
    }
   },
   "outputs": [],
   "source": [
    "import numpy as np\n",
    "import pandas as pd"
   ]
  },
  {
   "cell_type": "code",
   "execution_count": null,
   "id": "5d56f295",
   "metadata": {
    "ExecuteTime": {
     "end_time": "2023-02-08T08:41:04.882811Z",
     "start_time": "2023-02-08T08:41:04.870838Z"
    }
   },
   "outputs": [],
   "source": [
    "data = '../../data/'"
   ]
  },
  {
   "cell_type": "markdown",
   "id": "761b4a7b",
   "metadata": {},
   "source": [
    "# This notebook disaggregates the 2018 US IO Z matrix utilities sector\n",
    "A. The 2012 US IO Z matrix with detailed industries is used to disaggregate the utilities sector into an electricity sector (221100), a gas sector (221200), and a water sector (221300). \n",
    "\n",
    "B. A literature based IO matrix is used to disaggregate the electricity sector (221100) further into electric power and control, electric power distribution, and 8 electricity generation technologies (Biomass, fossil fuel, geotherman, hydro, nuclear, solar, wind, and other). The BEA detailed industry output figures for 2018 were used to get the correct split between them."
   ]
  },
  {
   "cell_type": "markdown",
   "id": "9634168f",
   "metadata": {},
   "source": [
    "## A. 2012 detailed BEA IO table interstion into 2018 summary BEA IO table\n",
    "1. We first read the BEA IO tables\n",
    "2. Then we take the utility rows and columns to insert and transform them into 71 industry rows and columns\n",
    "3. Then we make the imputation by tackling the 4 constraints\n",
    "4. Finally, we combine everything into a 2018 extended IO table"
   ]
  },
  {
   "cell_type": "markdown",
   "id": "5267b87f",
   "metadata": {},
   "source": [
    "### 1. Read in BEA IO tables"
   ]
  },
  {
   "cell_type": "code",
   "execution_count": null,
   "id": "207b6c89",
   "metadata": {
    "ExecuteTime": {
     "end_time": "2023-02-08T08:46:50.401413Z",
     "start_time": "2023-02-08T08:46:46.158654Z"
    }
   },
   "outputs": [],
   "source": [
    "A_2018 = pd.read_excel(data + \"Data_out_IO/2018-A_sum_dom.xlsx\", index_col=0)\n",
    "Z_2018 = pd.read_excel(data + \"Data_out_IO/2018-Z_sum_dom.xlsx\", index_col=0)\n",
    "va_2018 = pd.read_excel(data + \"Data_out_IO/2018-va_sum_dom.xlsx\", index_col=0)\n",
    "fd_2018 = pd.read_excel(data + \"Data_out_IO/2018-f_sum_dom.xlsx\", index_col=0)\n",
    "\n",
    "A_2012 = pd.read_excel(data + \"Data_out_IO389/2012-A_det_dom.xlsx\", index_col=0)\n",
    "Z_2012 = pd.read_excel(data + \"Data_out_IO389/2012-Z_det_dom.xlsx\", index_col=0)\n",
    "va_2012 = pd.read_excel(data + \"Data_out_IO389/2012-va_det_dom.xlsx\", index_col=0)\n",
    "fd_2012 = pd.read_excel(data + \"Data_out_IO389/2012-f_det_dom.xlsx\", index_col=0)"
   ]
  },
  {
   "cell_type": "code",
   "execution_count": null,
   "id": "d1c85d57",
   "metadata": {
    "ExecuteTime": {
     "end_time": "2023-02-08T08:46:51.306974Z",
     "start_time": "2023-02-08T08:46:51.202353Z"
    }
   },
   "outputs": [],
   "source": [
    "BEA_71_400 = pd.read_excel(data + \"BEA_71_400_naics.xlsx\", usecols=[2, 6], index_col=0)\n",
    "BEA_71_400.loc['imports'] = 'imports'\n",
    "crosswalk_71_400 = BEA_71_400.copy()\n",
    "crosswalk_71_400['val'] = 1\n",
    "crosswalk_71_400 = crosswalk_71_400.pivot(columns='Detail').fillna(0).droplevel(0, axis=1)"
   ]
  },
  {
   "cell_type": "markdown",
   "id": "3eeb2286",
   "metadata": {},
   "source": [
    "### 2. We take the ultily rows and columns of the 2012 400 industry version and crosswalk them into a 71 industry version "
   ]
  },
  {
   "cell_type": "code",
   "execution_count": null,
   "id": "4ecb8f80",
   "metadata": {
    "ExecuteTime": {
     "end_time": "2023-02-08T08:46:52.428593Z",
     "start_time": "2023-02-08T08:46:52.418509Z"
    }
   },
   "outputs": [],
   "source": [
    "Z_va_2012 = pd.concat([Z_2012.iloc[:, 21:24], (va_2012.iloc[:, 21:24])])\n",
    "Z_va_2018 = pd.concat([Z_2018.iloc[:, [5]], (va_2018.iloc[:, [5]])])"
   ]
  },
  {
   "cell_type": "code",
   "execution_count": null,
   "id": "28a2919f",
   "metadata": {
    "ExecuteTime": {
     "end_time": "2023-02-08T08:46:52.756247Z",
     "start_time": "2023-02-08T08:46:52.742314Z"
    }
   },
   "outputs": [],
   "source": [
    "print(Z_va_2018[~Z_va_2018.index.isin(crosswalk_71_400.index.astype(str))])\n",
    "print(Z_va_2012[~Z_va_2012.index.isin(crosswalk_71_400.T.index)])"
   ]
  },
  {
   "cell_type": "code",
   "execution_count": null,
   "id": "f554269e",
   "metadata": {
    "ExecuteTime": {
     "end_time": "2023-02-08T08:46:53.069881Z",
     "start_time": "2023-02-08T08:46:53.040713Z"
    }
   },
   "outputs": [],
   "source": [
    "# groupby the 2012 detailed IO table by summary (71 industry) classification\n",
    "Z_va_2012_summary = Z_va_2012.merge(BEA_71_400, left_index=True, right_on='Detail').groupby('Summary').sum()\n",
    "Z_va_2012_summary.index = Z_va_2012_summary.index.astype(str)\n",
    "Z_va_2012_summary = Z_va_2012_summary.loc[Z_va_2018.index]"
   ]
  },
  {
   "cell_type": "code",
   "execution_count": null,
   "id": "d372dbc7",
   "metadata": {
    "ExecuteTime": {
     "end_time": "2023-02-08T08:46:54.240889Z",
     "start_time": "2023-02-08T08:46:54.226931Z"
    }
   },
   "outputs": [],
   "source": [
    "Z_fd_2012 = pd.concat([Z_2012.iloc[21:24, :], fd_2012.iloc[21:24, :]], axis=1)\n",
    "Z_fd_2018 = pd.concat([Z_2018.iloc[[5], :], fd_2018.iloc[[5], :]], axis=1)"
   ]
  },
  {
   "cell_type": "code",
   "execution_count": null,
   "id": "050129ef",
   "metadata": {
    "ExecuteTime": {
     "end_time": "2023-02-08T08:46:54.585181Z",
     "start_time": "2023-02-08T08:46:54.571217Z"
    }
   },
   "outputs": [],
   "source": [
    "Z_fd_2012_summary = Z_fd_2012.T.merge(BEA_71_400, left_index=True, right_on='Detail').groupby('Summary').sum().T\n",
    "Z_fd_2012_summary.columns = Z_fd_2012_summary.columns.astype(str)\n",
    "Z_fd_2012_summary = Z_fd_2012_summary.loc[:, Z_fd_2018.columns]"
   ]
  },
  {
   "cell_type": "code",
   "execution_count": null,
   "id": "0e705114",
   "metadata": {
    "ExecuteTime": {
     "end_time": "2023-02-08T08:46:54.945676Z",
     "start_time": "2023-02-08T08:46:54.934312Z"
    }
   },
   "outputs": [],
   "source": [
    "Z_core = Z_2012.iloc[21:24, 21:24]"
   ]
  },
  {
   "cell_type": "markdown",
   "id": "04ca1901",
   "metadata": {},
   "source": [
    "### 3. We will impute the 2012 values into the 2018 IO table. A number of conditions must hold:\n",
    "i. Sum of inputs for disaggregated sectors equals inputs of original\n",
    "\n",
    "ii. Total sum of input from disaggregated sectors equals input from original\n",
    "\n",
    "iii. inputs to and from disaggregated dsectors equals original self-link\n",
    "\n",
    "iV. All items > 0 (including final demand and value added)"
   ]
  },
  {
   "cell_type": "markdown",
   "id": "340ce2c6",
   "metadata": {
    "ExecuteTime": {
     "end_time": "2021-07-07T09:16:56.808750Z",
     "start_time": "2021-07-07T09:16:56.795747Z"
    }
   },
   "source": [
    "#### i. sum of inputs equals original inputs "
   ]
  },
  {
   "cell_type": "code",
   "execution_count": null,
   "id": "5a5c8616",
   "metadata": {
    "ExecuteTime": {
     "end_time": "2023-02-08T08:46:56.064549Z",
     "start_time": "2023-02-08T08:46:56.049600Z"
    }
   },
   "outputs": [],
   "source": [
    "factor_2018_2012 = Z_va_2018.div(Z_va_2012_summary.sum(axis=1), axis=0)"
   ]
  },
  {
   "cell_type": "code",
   "execution_count": null,
   "id": "0ea35744",
   "metadata": {
    "ExecuteTime": {
     "end_time": "2023-02-08T08:46:56.446377Z",
     "start_time": "2023-02-08T08:46:56.433421Z"
    }
   },
   "outputs": [],
   "source": [
    "# all zeros, so no problem\n",
    "zero_list = Z_va_2018[factor_2018_2012.isna()['22']].index\n",
    "print(Z_va_2012_summary.loc[zero_list])\n",
    "print(Z_va_2018.loc[zero_list])"
   ]
  },
  {
   "cell_type": "code",
   "execution_count": null,
   "id": "fb07da30",
   "metadata": {
    "ExecuteTime": {
     "end_time": "2023-02-08T08:46:57.641395Z",
     "start_time": "2023-02-08T08:46:57.634418Z"
    }
   },
   "outputs": [],
   "source": [
    "# factor_2018_2012 = A_va_2018.div(A_va_2012_summary.dot(w_2012), axis=0).fillna(0)\n",
    "factor_2018_2012 = factor_2018_2012.fillna(0)"
   ]
  },
  {
   "cell_type": "code",
   "execution_count": null,
   "id": "28311337",
   "metadata": {
    "ExecuteTime": {
     "end_time": "2023-02-08T08:46:58.047667Z",
     "start_time": "2023-02-08T08:46:58.034145Z"
    }
   },
   "outputs": [],
   "source": [
    "Z_column_insert = Z_va_2012_summary.multiply(factor_2018_2012['22'], axis=0)"
   ]
  },
  {
   "cell_type": "markdown",
   "id": "9675c9d0",
   "metadata": {},
   "source": [
    "#### ii. sum of outputs = original output"
   ]
  },
  {
   "cell_type": "code",
   "execution_count": null,
   "id": "cb517d71",
   "metadata": {
    "ExecuteTime": {
     "end_time": "2023-02-08T08:46:58.501415Z",
     "start_time": "2023-02-08T08:46:58.481501Z"
    }
   },
   "outputs": [],
   "source": [
    "factor_2018_2012 = Z_fd_2018.div(Z_fd_2012_summary.sum(axis=0), axis=1)"
   ]
  },
  {
   "cell_type": "code",
   "execution_count": null,
   "id": "9d1d02f5",
   "metadata": {
    "ExecuteTime": {
     "end_time": "2023-02-08T08:46:59.514255Z",
     "start_time": "2023-02-08T08:46:59.482344Z"
    }
   },
   "outputs": [],
   "source": [
    "# all zeros, so no problem\n",
    "zero_list = Z_fd_2018.T[factor_2018_2012.isna().loc['22']].T.columns\n",
    "print(Z_fd_2012_summary.loc[:, zero_list])\n",
    "print(Z_fd_2018.loc[:, zero_list])"
   ]
  },
  {
   "cell_type": "code",
   "execution_count": null,
   "id": "41f26d52",
   "metadata": {
    "ExecuteTime": {
     "end_time": "2023-02-08T08:47:01.215674Z",
     "start_time": "2023-02-08T08:47:01.209695Z"
    }
   },
   "outputs": [],
   "source": [
    "# factor_2018_2012 = A_va_2018.div(A_va_2012_summary.dot(w_2012), axis=0).fillna(0)\n",
    "factor_2018_2012 = factor_2018_2012.fillna(0)"
   ]
  },
  {
   "cell_type": "code",
   "execution_count": null,
   "id": "ee88c6c0",
   "metadata": {
    "ExecuteTime": {
     "end_time": "2023-02-08T08:47:01.623924Z",
     "start_time": "2023-02-08T08:47:01.610720Z"
    }
   },
   "outputs": [],
   "source": [
    "Z_row_insert = Z_fd_2012_summary.multiply(factor_2018_2012.loc['22'], axis=1)"
   ]
  },
  {
   "cell_type": "code",
   "execution_count": null,
   "id": "1781c801",
   "metadata": {
    "ExecuteTime": {
     "end_time": "2023-02-08T08:47:07.159776Z",
     "start_time": "2023-02-08T08:47:07.122949Z"
    }
   },
   "outputs": [],
   "source": [
    "Z_row_insert"
   ]
  },
  {
   "cell_type": "code",
   "execution_count": null,
   "id": "64468f1c",
   "metadata": {
    "ExecuteTime": {
     "end_time": "2021-07-07T13:34:28.379271Z",
     "start_time": "2021-07-07T13:34:28.338926Z"
    }
   },
   "outputs": [],
   "source": []
  },
  {
   "cell_type": "markdown",
   "id": "8d2863f1",
   "metadata": {},
   "source": [
    "#### iii. Self links consistent"
   ]
  },
  {
   "cell_type": "code",
   "execution_count": null,
   "id": "58deb263",
   "metadata": {
    "ExecuteTime": {
     "end_time": "2023-02-08T08:47:14.594464Z",
     "start_time": "2023-02-08T08:47:14.577670Z"
    }
   },
   "outputs": [],
   "source": [
    "v = Z_column_insert.loc['22'].to_numpy()"
   ]
  },
  {
   "cell_type": "code",
   "execution_count": null,
   "id": "b1b67a5b",
   "metadata": {
    "ExecuteTime": {
     "end_time": "2023-02-08T08:47:15.019153Z",
     "start_time": "2023-02-08T08:47:15.005541Z"
    }
   },
   "outputs": [],
   "source": [
    "u = Z_row_insert['22'].to_numpy()"
   ]
  },
  {
   "cell_type": "code",
   "execution_count": null,
   "id": "b00943a2",
   "metadata": {
    "ExecuteTime": {
     "end_time": "2023-02-08T08:47:15.907513Z",
     "start_time": "2023-02-08T08:47:15.892558Z"
    }
   },
   "outputs": [],
   "source": [
    "u"
   ]
  },
  {
   "cell_type": "code",
   "execution_count": null,
   "id": "d11c5bad",
   "metadata": {
    "ExecuteTime": {
     "end_time": "2023-02-08T08:47:16.839306Z",
     "start_time": "2023-02-08T08:47:16.827307Z"
    }
   },
   "outputs": [],
   "source": [
    "v"
   ]
  },
  {
   "cell_type": "code",
   "execution_count": null,
   "id": "38a21700",
   "metadata": {
    "ExecuteTime": {
     "end_time": "2023-02-08T08:47:17.965472Z",
     "start_time": "2023-02-08T08:47:17.955518Z"
    }
   },
   "outputs": [],
   "source": [
    "X = Z_core.to_numpy()"
   ]
  },
  {
   "cell_type": "code",
   "execution_count": null,
   "id": "7f9ede92",
   "metadata": {
    "ExecuteTime": {
     "end_time": "2023-02-08T08:47:18.418004Z",
     "start_time": "2023-02-08T08:47:18.405046Z"
    }
   },
   "outputs": [],
   "source": [
    "def ipfp(b, u, v, X, rowsum=True):\n",
    "    \n",
    "    a_n = u / X.dot(b)\n",
    "    b_n = v / X.T.dot(a_n)\n",
    "    if rowsum:\n",
    "        a_n = u / X.dot(b_n)\n",
    "    \n",
    "    m_n = np.outer(a_n, b_n)\n",
    "    m_n = np.multiply(m_n, X)\n",
    "    \n",
    "    return a_n, b_n, m_n"
   ]
  },
  {
   "cell_type": "code",
   "execution_count": null,
   "id": "1381bcde",
   "metadata": {
    "ExecuteTime": {
     "end_time": "2023-02-08T08:47:18.826651Z",
     "start_time": "2023-02-08T08:47:18.813655Z"
    }
   },
   "outputs": [],
   "source": [
    "b = np.array([1, 1, 1])"
   ]
  },
  {
   "cell_type": "code",
   "execution_count": null,
   "id": "7d18a96e",
   "metadata": {
    "ExecuteTime": {
     "end_time": "2023-02-08T08:47:19.232251Z",
     "start_time": "2023-02-08T08:47:19.203996Z"
    }
   },
   "outputs": [],
   "source": [
    "ipfp(b, u, v, X, rowsum=False)"
   ]
  },
  {
   "cell_type": "code",
   "execution_count": null,
   "id": "bd635d63",
   "metadata": {
    "ExecuteTime": {
     "end_time": "2023-02-08T08:47:20.492938Z",
     "start_time": "2023-02-08T08:47:20.474002Z"
    }
   },
   "outputs": [],
   "source": [
    "a_n, b_n, m_n = ipfp(b, u, v, X, rowsum=False)"
   ]
  },
  {
   "cell_type": "code",
   "execution_count": null,
   "id": "87b7e0e0",
   "metadata": {
    "ExecuteTime": {
     "end_time": "2023-02-08T08:47:20.949973Z",
     "start_time": "2023-02-08T08:47:20.890023Z"
    }
   },
   "outputs": [],
   "source": [
    "np.testing.assert_allclose(m_n.sum(axis=0), v)"
   ]
  },
  {
   "cell_type": "code",
   "execution_count": null,
   "id": "2340fb5e",
   "metadata": {
    "ExecuteTime": {
     "end_time": "2023-02-08T08:47:21.326193Z",
     "start_time": "2023-02-08T08:47:21.314321Z"
    }
   },
   "outputs": [],
   "source": [
    "np.testing.assert_allclose(m_n.sum(axis=1), u)"
   ]
  },
  {
   "cell_type": "code",
   "execution_count": null,
   "id": "8db0a7a9",
   "metadata": {
    "ExecuteTime": {
     "end_time": "2023-02-08T08:47:21.689050Z",
     "start_time": "2023-02-08T08:47:21.677967Z"
    }
   },
   "outputs": [],
   "source": [
    "Z_core_insert = pd.DataFrame(m_n, columns=Z_core.columns, index=Z_core.index)"
   ]
  },
  {
   "cell_type": "code",
   "execution_count": null,
   "id": "e3a73ad3",
   "metadata": {},
   "outputs": [],
   "source": []
  },
  {
   "cell_type": "markdown",
   "id": "6d967bee",
   "metadata": {},
   "source": [
    "#### iv. All positive"
   ]
  },
  {
   "cell_type": "code",
   "execution_count": null,
   "id": "937479fa",
   "metadata": {},
   "outputs": [],
   "source": []
  },
  {
   "cell_type": "markdown",
   "id": "9ee51ea0",
   "metadata": {},
   "source": [
    "### 4. Combine everything"
   ]
  },
  {
   "cell_type": "code",
   "execution_count": null,
   "id": "cca1a354",
   "metadata": {
    "ExecuteTime": {
     "end_time": "2023-02-08T08:47:23.511574Z",
     "start_time": "2023-02-08T08:47:23.489647Z"
    }
   },
   "outputs": [],
   "source": [
    "Z_2018_new = pd.concat([\n",
    "    pd.concat([Z_2018.iloc[:5, :5], Z_column_insert.iloc[:5, :], Z_2018.iloc[:5, 6:]], axis=1), \n",
    "    pd.concat([Z_row_insert.iloc[:, :5], Z_core_insert, Z_row_insert.iloc[:, 6:71]], axis=1), \n",
    "    pd.concat([Z_2018.iloc[6:, :5], Z_column_insert.iloc[6:72, :], Z_2018.iloc[6:, 6:]], axis=1)],\n",
    "    axis=0)\n",
    "\n",
    "fd_2018_new = pd.concat([fd_2018.iloc[:5, :], Z_row_insert.iloc[:, 71:], fd_2018.iloc[6:, :]], axis=0)\n",
    "\n",
    "va_2018_new = pd.concat([va_2018.iloc[:, :5], Z_column_insert.iloc[72:, :], va_2018.iloc[:, 6:]], axis=1)\n",
    "\n",
    "Z_2018_new.index = Z_2018_new.index.astype(str)\n",
    "va_2018_new.index = va_2018_new.index.astype(str)\n",
    "fd_2018_new.index = fd_2018_new.index.astype(str)\n",
    "\n",
    "Z_2018_new.columns = Z_2018_new.columns.astype(str)\n",
    "va_2018_new.columns = va_2018_new.columns.astype(str)\n",
    "fd_2018_new.columns = fd_2018_new.columns.astype(str)"
   ]
  },
  {
   "cell_type": "code",
   "execution_count": null,
   "id": "43e583f3",
   "metadata": {
    "ExecuteTime": {
     "end_time": "2023-02-08T08:47:23.998092Z",
     "start_time": "2023-02-08T08:47:23.984644Z"
    }
   },
   "outputs": [],
   "source": [
    "Z_fd_2018_new = pd.concat([Z_2018_new, fd_2018_new], axis=1)"
   ]
  },
  {
   "cell_type": "code",
   "execution_count": null,
   "id": "ce6ac33a",
   "metadata": {
    "ExecuteTime": {
     "end_time": "2023-02-08T08:47:24.470020Z",
     "start_time": "2023-02-08T08:47:24.457337Z"
    }
   },
   "outputs": [],
   "source": [
    "Z_va_2018_new = pd.concat([Z_2018_new, va_2018_new])"
   ]
  },
  {
   "cell_type": "code",
   "execution_count": null,
   "id": "a5addd0a",
   "metadata": {
    "ExecuteTime": {
     "end_time": "2023-02-08T08:47:24.968326Z",
     "start_time": "2023-02-08T08:47:24.955998Z"
    }
   },
   "outputs": [],
   "source": [
    "Z_va_fd_2018_new = pd.concat([Z_fd_2018_new, va_2018_new])"
   ]
  },
  {
   "cell_type": "code",
   "execution_count": null,
   "id": "5a5ad762",
   "metadata": {
    "ExecuteTime": {
     "end_time": "2023-02-08T08:47:33.568384Z",
     "start_time": "2023-02-08T08:47:33.523490Z"
    }
   },
   "outputs": [],
   "source": [
    "Z_va_fd_2018_new.to_csv('output_lit/Z_2018_incl_utilities_split.csv')"
   ]
  },
  {
   "cell_type": "code",
   "execution_count": null,
   "id": "0acba5f0",
   "metadata": {
    "ExecuteTime": {
     "end_time": "2023-02-08T08:47:37.247441Z",
     "start_time": "2023-02-08T08:47:37.210513Z"
    }
   },
   "outputs": [],
   "source": [
    "Z_va_fd_2018_new"
   ]
  },
  {
   "cell_type": "code",
   "execution_count": null,
   "id": "54dd16e3",
   "metadata": {
    "ExecuteTime": {
     "end_time": "2023-02-08T08:47:51.676203Z",
     "start_time": "2023-02-08T08:47:51.651330Z"
    }
   },
   "outputs": [],
   "source": [
    "A_va_2018_new = Z_va_2018_new / Z_va_2018_new.sum()\n",
    "A_va_2018_new.to_csv('output_lit/A_2018_incl_utilities_split.csv')"
   ]
  },
  {
   "cell_type": "markdown",
   "id": "6eb233be",
   "metadata": {},
   "source": [
    "## B: We next use literature-based estimates to further disaggregate the electricity sector\n",
    "electricity sector (221100)\n",
    "1. We first read the li IO tables and find the US submatrix\n",
    "2. We make a crosswalk from EXIOBASE industries to BEA industries\n",
    "3. We prepare the Z matrix electricity rows and columns from EXIOBASE data using the crosswalk\n",
    "4. Then we make the imputation by tackling the 4 constraints\n",
    "5. Finally, we combine everything into a 2018 extended IO table"
   ]
  },
  {
   "cell_type": "markdown",
   "id": "f7ca3e49",
   "metadata": {
    "ExecuteTime": {
     "end_time": "2021-07-26T14:03:28.752762Z",
     "start_time": "2021-07-26T14:03:28.745763Z"
    }
   },
   "source": [
    "### 1. Read in literature estimates tables and find US submatrix"
   ]
  },
  {
   "cell_type": "code",
   "execution_count": null,
   "id": "21eada7e",
   "metadata": {
    "ExecuteTime": {
     "end_time": "2023-02-08T08:49:17.518767Z",
     "start_time": "2023-02-08T08:49:17.427676Z"
    }
   },
   "outputs": [],
   "source": [
    "A_lit= pd.read_excel('../../data/Synthetic IO sectors energy technologies alt.xlsx', \\\n",
    "                sheet_name='opex_for_A_inclusion', index_col=1)\n",
    "A_lit.drop('Industries', axis=1, inplace=True)\n",
    "# Monetary IO 2011\n",
    "#A = pd.read_csv('../Data/Exiobase/IOT_2011_ixi/IOT_2011_ixi/A.txt', delimiter = \"\\t\", index_col=[0,1], header=[0,1])\n",
    "#fc = pd.read_csv('../Data/Exiobase/IOT_2011_ixi/IOT_2011_ixi/Y.txt', delimiter = \"\\t\", index_col=[0,1], header=[0,1])"
   ]
  },
  {
   "cell_type": "code",
   "execution_count": null,
   "id": "0efef272",
   "metadata": {
    "ExecuteTime": {
     "end_time": "2023-02-08T08:49:19.467451Z",
     "start_time": "2023-02-08T08:49:19.450506Z"
    }
   },
   "outputs": [],
   "source": [
    "ind_names = {'Wind': 'Wind electric power generation', 'Solar': 'Solar electric power generation', \\\n",
    "             'Fossil Fuel': 'Fossil fuel electric power generation', 'Biomass': 'Biomass electric power generation', \\\n",
    "             'Geothermal': 'Geothermal electric power generation', 'Hydro': 'Hydroelectric power generation', \\\n",
    "             'Coal': 'Coal electric power generation', 'Gas': 'Gas electric power generation'}\n",
    "\n",
    "A_lit.rename(ind_names, axis=1, inplace=True)\n",
    "A_lit.index = A_lit.index.astype(str)\n",
    "A_lit.drop('Fossil fuel electric power generation', axis=1, inplace=True)"
   ]
  },
  {
   "cell_type": "code",
   "execution_count": null,
   "id": "1f751c07",
   "metadata": {
    "ExecuteTime": {
     "end_time": "2023-02-08T08:49:20.283483Z",
     "start_time": "2023-02-08T08:49:20.274511Z"
    }
   },
   "outputs": [],
   "source": [
    "# odd typo and cannot get rid off:\n",
    "A_lit.rename({'521CI ': '521CI'}, axis=0, inplace=True)"
   ]
  },
  {
   "cell_type": "code",
   "execution_count": null,
   "id": "e3ffc470",
   "metadata": {
    "ExecuteTime": {
     "end_time": "2023-02-08T08:49:24.845515Z",
     "start_time": "2023-02-08T08:49:24.827576Z"
    }
   },
   "outputs": [],
   "source": [
    "# manual edits (expert opinion):\n",
    "\n",
    "# Add 2% of opex spending in coal/gas to utilities (currently 0):\n",
    "A_lit.loc[:, 'Coal electric power generation'] *= 0.98\n",
    "A_lit.loc[:, 'Gas electric power generation'] *= 0.98\n",
    "\n",
    "A_lit.loc['22', 'Coal electric power generation'] = 0.02\n",
    "A_lit.loc['22', 'Gas electric power generation'] = 0.02"
   ]
  },
  {
   "cell_type": "code",
   "execution_count": null,
   "id": "2bac4e94",
   "metadata": {
    "ExecuteTime": {
     "end_time": "2023-02-08T08:49:25.708630Z",
     "start_time": "2023-02-08T08:49:25.690692Z"
    }
   },
   "outputs": [],
   "source": [
    "A_lit_s = A_lit.copy()"
   ]
  },
  {
   "cell_type": "code",
   "execution_count": null,
   "id": "e388538d",
   "metadata": {
    "ExecuteTime": {
     "end_time": "2023-02-08T08:49:27.954414Z",
     "start_time": "2023-02-08T08:49:27.916541Z"
    }
   },
   "outputs": [],
   "source": [
    "# for those we have no litearture estimates, we impute the values of the electricity sector (221100)\n",
    "A_lit_others = pd.DataFrame()\n",
    "not_lit = ['Nuclear electric power generation', 'Other electric power generation', \\\n",
    "           'Electric bulk power transmission and control', 'Electric power distribution']\n",
    "\n",
    "for sect in not_lit:\n",
    "    A_lit_others[sect] = A_va_2018_new['221100']\n",
    "\n",
    "# except fuel costs, which we assume to be 1/5th for nuclear (mining), and 0 for the others:\n",
    "# nuclear also has fuel costs, but these are not part of the I-O table for two reasons\n",
    "# 1: The 2012 I-O table shows no relation between elec geneartion and sector 2122A0 (gold and other \n",
    "# metal mining, incl uranium). 2. The EIA suggests most uranium is imported and about 1/6th is \n",
    "# sourced locall https://www.eia.gov/totalenergy/data/monthly/pdf/sec8_5.pdf\n",
    "# Total costs of nuclear fuel for 2018 seems to be 42.98 * 11.1 = 477 million USD (about 1.3% for nuclear A matrix)\n",
    "# Nuclear fuel is sector 325189 (other inorganic chemicals)\n",
    "nuclear_fuel = 0.013\n",
    "for sect in not_lit:\n",
    "    for fuel_sect in ['211', '212', '324', '486']:\n",
    "        A_lit_others.loc[fuel_sect, sect] = 0\n",
    "A_lit_others.loc['325', 'Nuclear electric power generation'] = nuclear_fuel\n",
    "\n",
    "for sect in not_lit:\n",
    "    A_lit_others.iloc[:74, :].loc[:, sect] /= (A_lit_others.iloc[:74, :].loc[:, sect].sum() / \\\n",
    "                                            (1-A_lit_others.loc[['V001', 'V002', 'V003'], sect].sum()))\n",
    "\n",
    "# we lack value added fractions of total spending for the new sectors\n",
    "# we impute values of the electricity sector (221100) for v002 and v003\n",
    "va_frac = ((va_2018_new.sum() / (va_2018_new.sum() + Z_2018_new.sum())).loc['221100'])"
   ]
  },
  {
   "cell_type": "code",
   "execution_count": null,
   "id": "4b06f418",
   "metadata": {
    "ExecuteTime": {
     "end_time": "2023-02-08T08:49:29.954328Z",
     "start_time": "2023-02-08T08:49:29.939386Z"
    }
   },
   "outputs": [],
   "source": [
    "A_va_2018_new.loc['212', '221100']"
   ]
  },
  {
   "cell_type": "code",
   "execution_count": null,
   "id": "3eb4ba65",
   "metadata": {
    "ExecuteTime": {
     "end_time": "2023-02-08T08:49:31.929245Z",
     "start_time": "2023-02-08T08:49:31.914295Z"
    }
   },
   "outputs": [],
   "source": [
    "A_lit = A_lit_others.join(A_lit * (1-va_frac))    "
   ]
  },
  {
   "cell_type": "code",
   "execution_count": null,
   "id": "2b829041",
   "metadata": {
    "ExecuteTime": {
     "end_time": "2023-02-08T08:49:33.598195Z",
     "start_time": "2023-02-08T08:49:33.571287Z"
    }
   },
   "outputs": [],
   "source": [
    "# similarlty, where we do have data, we also do not have the value added split\n",
    "# We impute that with data from the 'other electric power generation'\n",
    "ref = 'Other electric power generation'\n",
    "for col in A_lit.columns:\n",
    "    for v in ['V001', 'V002', 'V003']:\n",
    "        A_lit.loc[v, col] = A_lit.loc[v, ref]\n",
    "\n",
    "# The original inputs from the 'utility sector' (22) are replaced with that of the disaggregated sectors)\n",
    "elec_sects = ['221100', '221200', '221300']\n",
    "elec_sum = A_lit.loc[elec_sects, ref].sum()\n",
    "for col in A_lit_s.columns:\n",
    "    for s in elec_sects:\n",
    "        A_lit.loc[s, col] = A_lit_s.loc['22', col] * (A_lit.loc[s, ref] / elec_sum) * (1-va_frac)\n",
    "    "
   ]
  },
  {
   "cell_type": "code",
   "execution_count": null,
   "id": "2828c125",
   "metadata": {
    "ExecuteTime": {
     "end_time": "2023-02-08T08:49:34.525544Z",
     "start_time": "2023-02-08T08:49:34.515541Z"
    }
   },
   "outputs": [],
   "source": [
    "A_lit = A_lit.fillna(0)"
   ]
  },
  {
   "cell_type": "code",
   "execution_count": null,
   "id": "90bb5c08",
   "metadata": {
    "ExecuteTime": {
     "end_time": "2023-02-08T08:49:35.136132Z",
     "start_time": "2023-02-08T08:49:35.123176Z"
    }
   },
   "outputs": [],
   "source": [
    "set(A_lit_s.index) - set(A_lit.index)"
   ]
  },
  {
   "cell_type": "code",
   "execution_count": null,
   "id": "4cdaa00e",
   "metadata": {
    "ExecuteTime": {
     "end_time": "2023-02-08T08:49:42.462538Z",
     "start_time": "2023-02-08T08:49:42.425604Z"
    }
   },
   "outputs": [],
   "source": [
    "A_lit"
   ]
  },
  {
   "cell_type": "code",
   "execution_count": null,
   "id": "7a10e9cc",
   "metadata": {
    "ExecuteTime": {
     "end_time": "2023-02-08T08:50:19.893846Z",
     "start_time": "2023-02-08T08:50:19.690863Z"
    }
   },
   "outputs": [],
   "source": [
    "# BEA total output in 2018 of detailed electricty sectors, in millions of dollar\n",
    "bea_electricity_output = pd.read_excel(\"../../data/BEA/GrossOutput.xlsx\", sheet_name='UGO305-A', usecols=[1, 24], skiprows=list(range(7)) + list(range(8, 29)), nrows=10)\n",
    "bea_electricity_output.set_index('Industry', inplace=True)\n",
    "eia_elec_output = pd.read_csv('../../data/US_generated_electricity.csv', index_col=1)"
   ]
  },
  {
   "cell_type": "code",
   "execution_count": null,
   "id": "0b44bb9d",
   "metadata": {
    "ExecuteTime": {
     "end_time": "2023-02-08T08:50:21.905168Z",
     "start_time": "2023-02-08T08:50:21.890180Z"
    }
   },
   "outputs": [],
   "source": [
    "# BEA output only has 'fossil fuel', not coal and gas separately. We use\n",
    "# EIA data with total GWh output to disaggregate the two, assuming relative monetary output\n",
    "# reflects relative GWh output\n",
    "\n",
    "coal_frac_fossil = (eia_elec_output.loc[2018, 'coal']) / \\\n",
    "    (eia_elec_output.loc[2018, 'oil'] + eia_elec_output.loc[2018, 'gas'] + eia_elec_output.loc[2018, 'coal'])\n",
    "\n",
    "bea_electricity_output.loc['Coal electric power generation', '2018'] = (coal_frac_fossil * \\\n",
    "                bea_electricity_output.loc['Fossil fuel electric power generation', '2018']).round()\n",
    "bea_electricity_output.loc['Gas electric power generation', '2018'] = ((1-coal_frac_fossil) * \\\n",
    "                bea_electricity_output.loc['Fossil fuel electric power generation', '2018']).round()\n",
    "bea_electricity_output.drop('Fossil fuel electric power generation', axis=0, inplace=True)"
   ]
  },
  {
   "cell_type": "code",
   "execution_count": null,
   "id": "91e3ddf7",
   "metadata": {
    "ExecuteTime": {
     "end_time": "2023-02-08T08:50:22.575527Z",
     "start_time": "2023-02-08T08:50:22.554615Z"
    }
   },
   "outputs": [],
   "source": [
    "coal_frac_fossil"
   ]
  },
  {
   "cell_type": "code",
   "execution_count": null,
   "id": "3238e764",
   "metadata": {
    "ExecuteTime": {
     "end_time": "2023-02-08T08:50:24.431450Z",
     "start_time": "2023-02-08T08:50:24.418507Z"
    }
   },
   "outputs": [],
   "source": [
    "factor_bea_elec = Z_va_2018_new.sum().loc['221100'] / bea_electricity_output['2018'].sum()\n",
    "bea_electricity_output.loc[:, '2018'] *= factor_bea_elec\n",
    "print(factor_bea_elec)"
   ]
  },
  {
   "cell_type": "markdown",
   "id": "a4cd8326",
   "metadata": {},
   "source": [
    "#### i.b: value added v001 correction based on wages\n",
    "1. We use total wages to compute the value added fraction\n",
    "2. We assume that V001 (employee compensation) scales with total wages\n",
    "3. We readjust intermediate spending to compensate\n",
    "3. The others V002 (taxes and subsidies) and V003 (gross margin) are assumed to be constant"
   ]
  },
  {
   "cell_type": "code",
   "execution_count": null,
   "metadata": {},
   "outputs": [],
   "source": [
    "# jobs_wages has number of workers and mean wage for electricity sector\n",
    "jobs_wages = pd.read_csv('../../results/data_out/jobs_per_MWh_through_time.csv')\n",
    "jobs_wages = jobs_wages[jobs_wages['year'] == 2018]\n",
    "jobs_wages['tot_wage'] = jobs_wages['tot_emp'] * jobs_wages['a_mean'] \n",
    "\n",
    "ind_names_l = {'wind': 'Wind electric power generation', 'solar': 'Solar electric power generation', \\\n",
    "             'fossil': 'Fossil fuel electric power generation', 'biomass': 'Biomass electric power generation', \\\n",
    "             'geothermal': 'Geothermal electric power generation', 'hydro': 'Hydroelectric power generation', \\\n",
    "             'nuclear': 'Nuclear electric power generation', 'other': 'Other electric power generation', \\\n",
    "             'coal': 'Coal electric power generation', 'gas': 'Gas electric power generation', 'total': 'Total'}\n",
    "\n",
    "jobs_wages['name'] = jobs_wages['short name'].map(ind_names_l)\n",
    "tot_wage = jobs_wages.set_index('name')['tot_wage']\n",
    "\n",
    "# for electric power distribution and transmission we don't have separate estimates\n",
    "# We assume everyone working in electricity but not in generation works in transmission and distribution\n",
    "tot_wage.loc['Electric power transmission and distribution'] = 2*tot_wage['Total'] - tot_wage.sum()\n",
    "tot_wage.drop('Total', inplace=True)\n",
    "\n",
    "# We split fossil fuel in coal and gas according to GWh generation split\n",
    "tot_wage['Coal electric power generation'] = coal_frac_fossil * tot_wage['Fossil fuel electric power generation']\n",
    "tot_wage['Gas electric power generation'] = (1-coal_frac_fossil) * tot_wage['Fossil fuel electric power generation']\n",
    "\n",
    "# We further split distribution and transmission by using total USD output data\n",
    "frac_dist = bea_electricity_output.loc['Electric power distribution', '2018'] / (bea_electricity_output.loc[\\\n",
    "                    'Electric bulk power transmission and control', '2018'] + bea_electricity_output.loc[\\\n",
    "                    'Electric power distribution', '2018'])\n",
    "\n",
    "tot_wage['Electric power distribution'] = frac_dist * tot_wage['Electric power transmission and distribution']\n",
    "tot_wage['Electric bulk power transmission and control'] = (1-frac_dist) * tot_wage['Electric power transmission and distribution']\n",
    "\n",
    "# we rescale total wage to million of USD, and calculate fraction of total output\n",
    "output_vs_wage = pd.concat([bea_electricity_output, tot_wage/1000000], axis=1).dropna()\n",
    "output_vs_wage['frac_wage_of_output'] = output_vs_wage.tot_wage / output_vs_wage.loc[:,'2018']\n",
    "va001_frac_output = (va_2018_new.loc['V001'] / (va_2018_new.sum() + Z_2018_new.sum())).loc['221100']\n",
    "wage_frac_output = output_vs_wage.tot_wage.sum() / (va_2018_new.sum() + Z_2018_new.sum()).loc['221100']\n",
    "wage_to_va001 = wage_frac_output / va001_frac_output\n",
    "# impute_v001 has total wages rescaled to employee compensation using the same factor as\n",
    "# we empirically have for the electricity sector as a whole (employee comp ~= 2 x total wage)\n",
    "impute_v001 = output_vs_wage.frac_wage_of_output / wage_to_va001\n",
    "\n",
    "impute_v001.plot.bar()"
   ]
  },
  {
   "cell_type": "code",
   "execution_count": null,
   "id": "4941022f",
   "metadata": {
    "ExecuteTime": {
     "end_time": "2023-02-08T08:51:16.060199Z",
     "start_time": "2023-02-08T08:51:16.042260Z"
    }
   },
   "outputs": [],
   "source": [
    "# we impute V001 with our new estimates\n",
    "A_lit.loc['V001'] = impute_v001"
   ]
  },
  {
   "cell_type": "code",
   "execution_count": null,
   "id": "88aad745",
   "metadata": {
    "ExecuteTime": {
     "end_time": "2023-02-08T08:51:16.673404Z",
     "start_time": "2023-02-08T08:51:16.659334Z"
    }
   },
   "outputs": [],
   "source": [
    "# 'Other electric power gen' spent > 100% on wages. This is unrealistic.\n",
    "# We set it to 30%. We don't use 'other' in our analysis, so this should have little impact\n",
    "A_lit.loc['V001', 'Other electric power generation'] = 0.30"
   ]
  },
  {
   "cell_type": "code",
   "execution_count": null,
   "id": "e0ac71fa",
   "metadata": {
    "ExecuteTime": {
     "end_time": "2023-02-08T08:51:17.264896Z",
     "start_time": "2023-02-08T08:51:17.251983Z"
    }
   },
   "outputs": [],
   "source": [
    "1-va_frac"
   ]
  },
  {
   "cell_type": "code",
   "execution_count": null,
   "id": "6ae3d8b9",
   "metadata": {
    "ExecuteTime": {
     "end_time": "2023-02-08T08:51:18.950359Z",
     "start_time": "2023-02-08T08:51:18.930427Z"
    }
   },
   "outputs": [],
   "source": [
    "# we readjust intermediate spending so all adds up to unity again\n",
    "# we see that solar reaches negative values\n",
    "interm_spending_frac_output = 1-va_frac-(A_lit.loc['V001'] - va001_frac_output)\n",
    "interm_spending_frac_output"
   ]
  },
  {
   "cell_type": "code",
   "execution_count": null,
   "id": "c8ded423",
   "metadata": {
    "ExecuteTime": {
     "end_time": "2023-02-08T08:51:23.276495Z",
     "start_time": "2023-02-08T08:51:23.258555Z"
    }
   },
   "outputs": [],
   "source": [
    "# we impute 2% for solar, while actually it is -4%\n",
    "impute_solar = 0.02\n",
    "A_lit.loc['V001', 'Solar electric power generation'] -= impute_solar - interm_spending_frac_output.loc['Solar electric power generation']"
   ]
  },
  {
   "cell_type": "code",
   "execution_count": null,
   "id": "c1c75d3f",
   "metadata": {
    "ExecuteTime": {
     "end_time": "2023-02-08T08:51:24.713305Z",
     "start_time": "2023-02-08T08:51:24.698383Z"
    }
   },
   "outputs": [],
   "source": [
    "# rebalance after imputation\n",
    "rebal_v001 = Z_va_2018_new.loc['V001', '221100'] / (A_lit.loc['V001'] * bea_electricity_output['2018']).sum()\n",
    "Z_v001 = (A_lit.loc['V001'] * bea_electricity_output['2018'])  * rebal_v001\n",
    "A_lit.loc['V001'] = Z_v001 / bea_electricity_output['2018']\n",
    "\n",
    "interm_spending_frac_output = 1-va_frac-(A_lit.loc['V001'] - va001_frac_output)"
   ]
  },
  {
   "cell_type": "code",
   "execution_count": null,
   "id": "4a9142d8",
   "metadata": {
    "ExecuteTime": {
     "end_time": "2023-02-08T08:51:25.352465Z",
     "start_time": "2023-02-08T08:51:25.338439Z"
    }
   },
   "outputs": [],
   "source": [
    "# readjust intermediate spending\n",
    "A_lit = pd.concat([(A_lit.drop(['V001', 'V002','V003']) * (interm_spending_frac_output / (1-va_frac))),\n",
    "           A_lit.loc[['V001', 'V002','V003'], :]])"
   ]
  },
  {
   "cell_type": "markdown",
   "id": "13a08486",
   "metadata": {},
   "source": [
    "### 4. We will impute the literature based values into the 2018 IO table. A number of conditions must hold:\n",
    "i. Sum of inputs for disaggregated sectors equals inputs of original\n",
    "\n",
    "ii. Total sum of input from disaggregated sectors equals input from original\n",
    "\n",
    "iii. inputs to and from disaggregated dsectors equals original self-link\n",
    "\n",
    "iV. All items > 0 (including final demand and value added)"
   ]
  },
  {
   "cell_type": "markdown",
   "id": "abbb123e",
   "metadata": {
    "ExecuteTime": {
     "end_time": "2021-07-07T09:16:56.808750Z",
     "start_time": "2021-07-07T09:16:56.795747Z"
    }
   },
   "source": [
    "#### i. sum of inputs equals original inputs "
   ]
  },
  {
   "cell_type": "code",
   "execution_count": null,
   "id": "7f8d2368",
   "metadata": {
    "ExecuteTime": {
     "end_time": "2023-02-08T08:51:26.977218Z",
     "start_time": "2023-02-08T08:51:26.961211Z"
    }
   },
   "outputs": [],
   "source": [
    "# Scale Literature items so that output per electricity technology equals BEA numbers (recipes stay the same)\n",
    "Z_lit = A_lit.loc[:, bea_electricity_output.index].mul(bea_electricity_output['2018'], axis=1)"
   ]
  },
  {
   "cell_type": "code",
   "execution_count": null,
   "id": "b8dc245c",
   "metadata": {
    "ExecuteTime": {
     "end_time": "2023-02-08T08:51:27.624612Z",
     "start_time": "2023-02-08T08:51:27.611686Z"
    }
   },
   "outputs": [],
   "source": [
    "assert(Z_lit.sum().sum() - Z_va_2018_new.sum().loc['221100'] < 0.00000001)"
   ]
  },
  {
   "cell_type": "code",
   "execution_count": null,
   "id": "0a23eaf8",
   "metadata": {
    "ExecuteTime": {
     "end_time": "2023-02-08T08:51:32.883163Z",
     "start_time": "2023-02-08T08:51:32.858206Z"
    }
   },
   "outputs": [],
   "source": [
    "Z_lit"
   ]
  },
  {
   "cell_type": "code",
   "execution_count": null,
   "id": "2453fbe1",
   "metadata": {
    "ExecuteTime": {
     "end_time": "2023-02-08T08:51:54.389502Z",
     "start_time": "2023-02-08T08:51:54.370561Z"
    }
   },
   "outputs": [],
   "source": [
    "def ipfp_repeat(b, u, v, X, rowsum=False, n=2):\n",
    "    a_n, b_n, m_n = ipfp(b, u, v, X, rowsum)\n",
    "    for i in range(n):\n",
    "        a_n, b_n, m_n = ipfp(b_n, u, v, X, rowsum)\n",
    "    return a_n, b_n, m_n"
   ]
  },
  {
   "cell_type": "code",
   "execution_count": null,
   "id": "7f857055",
   "metadata": {
    "ExecuteTime": {
     "end_time": "2023-02-08T08:51:55.871228Z",
     "start_time": "2023-02-08T08:51:55.777552Z"
    }
   },
   "outputs": [],
   "source": [
    "# the high number of zero-valued entries can lead to non-convergence. \n",
    "# We set all rows where all but the default vectors are zero to the default vectors\n",
    "Z_ipfp = Z_lit.copy()\n",
    "lits = ['Hydroelectric power generation', 'Coal electric power generation', 'Gas electric power generation', \\\n",
    "               'Solar electric power generation', 'Wind electric power generation', \\\n",
    "               'Geothermal electric power generation', 'Biomass electric power generation']\n",
    "\n",
    "for ind in Z_ipfp.index:\n",
    "    imp = True\n",
    "    for tech in lits:\n",
    "        if Z_ipfp.loc[ind, tech] > 0:\n",
    "            imp = False\n",
    "            break\n",
    "    if imp:\n",
    "        for tech in lits:\n",
    "            Z_ipfp.loc[ind, tech] = bea_electricity_output.loc[tech, '2018'] * \\\n",
    "                                    A_lit.loc[ind, 'Other electric power generation'] / \\\n",
    "                                    (1 - va_frac + va001_frac_output - A_lit.loc['V001', 'Other electric power generation']) * \\\n",
    "                                    (1 - va_frac + va001_frac_output - A_lit.loc['V001', tech])       "
   ]
  },
  {
   "cell_type": "code",
   "execution_count": null,
   "id": "1e05678f",
   "metadata": {
    "ExecuteTime": {
     "end_time": "2023-02-08T08:52:02.410162Z",
     "start_time": "2023-02-08T08:52:02.379240Z"
    }
   },
   "outputs": [],
   "source": [
    "Z_ipfp"
   ]
  },
  {
   "cell_type": "code",
   "execution_count": null,
   "id": "c190b32b",
   "metadata": {
    "ExecuteTime": {
     "end_time": "2023-02-08T08:52:05.832176Z",
     "start_time": "2023-02-08T08:52:05.818270Z"
    }
   },
   "outputs": [],
   "source": [
    "# Adjust matrix such that rows sum to BEA input figures, and columns sum to BEA output figures\n",
    "# additionally, we also set all zero-valued entries to a small value, so the ipfp converges\n",
    "# This cell laves the value added intact as they were\n",
    "small_value = 0.001\n",
    "va = ['V001', 'V002', 'V003']\n",
    "\n",
    "u = Z_va_2018_new['221100'].drop(va, axis=0).to_numpy()\n",
    "v = (bea_electricity_output['2018'] * interm_spending_frac_output.loc[bea_electricity_output.index]).to_numpy()\n",
    "X = Z_ipfp.drop(va, axis=0).to_numpy()\n",
    "X[X == 0] = small_value\n",
    "b = np.ones(X.shape[1])\n",
    "\n",
    "a_n, b_n, m_n = ipfp_repeat(b, u, v, X, n=150)"
   ]
  },
  {
   "cell_type": "code",
   "execution_count": null,
   "id": "a44faf4e",
   "metadata": {
    "ExecuteTime": {
     "end_time": "2023-02-08T08:52:09.236252Z",
     "start_time": "2023-02-08T08:52:09.218261Z"
    }
   },
   "outputs": [],
   "source": [
    "np.testing.assert_allclose(m_n.sum(axis=0), v)"
   ]
  },
  {
   "cell_type": "code",
   "execution_count": null,
   "id": "ab55eeff",
   "metadata": {
    "ExecuteTime": {
     "end_time": "2023-02-08T08:52:09.915024Z",
     "start_time": "2023-02-08T08:52:09.901996Z"
    }
   },
   "outputs": [],
   "source": [
    "# adjustments can be made so that totals are within 99.8% of targets (relative difference < 0.002)\n",
    "np.testing.assert_allclose(m_n.sum(axis=1), u)"
   ]
  },
  {
   "cell_type": "code",
   "execution_count": null,
   "id": "93e6a0c6",
   "metadata": {
    "ExecuteTime": {
     "end_time": "2023-02-08T08:52:10.887088Z",
     "start_time": "2023-02-08T08:52:10.867165Z"
    }
   },
   "outputs": [],
   "source": [
    "Z_lit_cols = pd.DataFrame(m_n, index=Z_lit.index.drop(va), columns=Z_lit.columns)\n",
    "# add value added again (unmuted)\n",
    "Z_lit_cols = pd.concat([Z_lit_cols, Z_lit.loc[va, :]])"
   ]
  },
  {
   "cell_type": "code",
   "execution_count": null,
   "id": "c8635c10",
   "metadata": {
    "ExecuteTime": {
     "end_time": "2023-02-08T08:52:12.224401Z",
     "start_time": "2023-02-08T08:52:12.195463Z"
    }
   },
   "outputs": [],
   "source": [
    "Z_lit_cols.round(1)"
   ]
  },
  {
   "cell_type": "code",
   "execution_count": null,
   "id": "b0656590",
   "metadata": {
    "ExecuteTime": {
     "end_time": "2023-02-08T08:52:13.646287Z",
     "start_time": "2023-02-08T08:52:13.611404Z"
    }
   },
   "outputs": [],
   "source": [
    "(Z_lit_cols / Z_lit_cols.sum()).round(3)"
   ]
  },
  {
   "cell_type": "markdown",
   "id": "a98272ca",
   "metadata": {},
   "source": [
    "#### ii. sum of outputs = original output"
   ]
  },
  {
   "cell_type": "code",
   "execution_count": null,
   "id": "24f129d1",
   "metadata": {
    "ExecuteTime": {
     "end_time": "2023-02-08T08:52:15.294448Z",
     "start_time": "2023-02-08T08:52:15.186514Z"
    }
   },
   "outputs": [],
   "source": [
    "# The output of each sector is electricity\n",
    "# we simply split the output vectors to other sectors according to total output\n",
    "Z_lit_rows = pd.DataFrame(columns=Z_fd_2018_new.columns, index=Z_lit_cols.columns).fillna(0)\n",
    "for tech in Z_lit_rows.index:\n",
    "    Z_lit_rows.loc[tech, :] = Z_fd_2018_new.loc['221100'] * \\\n",
    "                            (bea_electricity_output.loc[tech] / bea_electricity_output.sum())['2018']"
   ]
  },
  {
   "cell_type": "code",
   "execution_count": null,
   "id": "d5d2ae54",
   "metadata": {
    "ExecuteTime": {
     "end_time": "2023-02-08T08:52:15.957583Z",
     "start_time": "2023-02-08T08:52:15.928764Z"
    }
   },
   "outputs": [],
   "source": [
    "assert((Z_lit_rows.sum() - Z_fd_2018_new.loc['221100'] == 0).all)"
   ]
  },
  {
   "cell_type": "code",
   "execution_count": null,
   "id": "d2440ad9",
   "metadata": {
    "ExecuteTime": {
     "end_time": "2023-02-08T08:52:16.600965Z",
     "start_time": "2023-02-08T08:52:16.572063Z"
    }
   },
   "outputs": [],
   "source": [
    "Z_lit_rows"
   ]
  },
  {
   "cell_type": "markdown",
   "id": "924b1a14",
   "metadata": {},
   "source": [
    "#### iii. Self links consistent"
   ]
  },
  {
   "cell_type": "code",
   "execution_count": null,
   "id": "3cdb3ade",
   "metadata": {
    "ExecuteTime": {
     "end_time": "2023-02-08T08:52:19.015330Z",
     "start_time": "2023-02-08T08:52:18.993404Z"
    }
   },
   "outputs": [],
   "source": [
    "Z_lit_core = pd.DataFrame(columns=Z_lit_cols.columns, index=Z_lit_cols.columns).fillna(1)"
   ]
  },
  {
   "cell_type": "code",
   "execution_count": null,
   "id": "f87a83d8",
   "metadata": {
    "ExecuteTime": {
     "end_time": "2023-02-08T08:52:20.519062Z",
     "start_time": "2023-02-08T08:52:20.505106Z"
    }
   },
   "outputs": [],
   "source": [
    "# Literature self-links in BEA figures\n",
    "Z_lit_cols.loc['221100', :]"
   ]
  },
  {
   "cell_type": "code",
   "execution_count": null,
   "id": "0110993f",
   "metadata": {
    "ExecuteTime": {
     "end_time": "2023-02-08T08:52:24.828287Z",
     "start_time": "2023-02-08T08:52:24.818304Z"
    }
   },
   "outputs": [],
   "source": [
    "Z_lit_rows.loc[:, '221100']"
   ]
  },
  {
   "cell_type": "code",
   "execution_count": null,
   "id": "047b81c2",
   "metadata": {
    "ExecuteTime": {
     "end_time": "2023-02-08T08:52:28.253370Z",
     "start_time": "2023-02-08T08:52:28.243406Z"
    }
   },
   "outputs": [],
   "source": [
    "# Adjust matrix such that rows sum to BEA input figures, and columns sum to BEA output figures\n",
    "\n",
    "u = Z_lit_rows.loc[:, '221100'].to_numpy()\n",
    "v = Z_lit_cols.loc['221100', :].to_numpy()\n",
    "X = Z_lit_core.to_numpy()\n",
    "b = np.ones(X.shape[1])\n",
    "\n",
    "a_n, b_n, m_n = ipfp_repeat(b, u, v, X, n=50)"
   ]
  },
  {
   "cell_type": "code",
   "execution_count": null,
   "id": "ed8a1dc9",
   "metadata": {
    "ExecuteTime": {
     "end_time": "2023-02-08T08:52:29.274280Z",
     "start_time": "2023-02-08T08:52:29.258339Z"
    }
   },
   "outputs": [],
   "source": [
    "np.testing.assert_allclose(m_n.sum(axis=0), v)"
   ]
  },
  {
   "cell_type": "code",
   "execution_count": null,
   "id": "7fd7b4b2",
   "metadata": {
    "ExecuteTime": {
     "end_time": "2023-02-08T08:52:29.984019Z",
     "start_time": "2023-02-08T08:52:29.970060Z"
    }
   },
   "outputs": [],
   "source": [
    "# accurate within 1% of row and column sums (relative difference  < 0.01)\n",
    "np.testing.assert_allclose(m_n.sum(axis=1), u)"
   ]
  },
  {
   "cell_type": "code",
   "execution_count": null,
   "id": "57a39d83",
   "metadata": {
    "ExecuteTime": {
     "end_time": "2023-02-08T08:52:30.569852Z",
     "start_time": "2023-02-08T08:52:30.556620Z"
    }
   },
   "outputs": [],
   "source": [
    "Z_lit_core = pd.DataFrame(m_n, index=Z_lit_core.index, columns=Z_lit_core.columns)"
   ]
  },
  {
   "cell_type": "code",
   "execution_count": null,
   "id": "15ec5aa1",
   "metadata": {
    "ExecuteTime": {
     "end_time": "2023-02-08T08:52:31.217108Z",
     "start_time": "2023-02-08T08:52:31.188213Z"
    }
   },
   "outputs": [],
   "source": [
    "Z_lit_core"
   ]
  },
  {
   "cell_type": "markdown",
   "id": "30bfda67",
   "metadata": {},
   "source": [
    "#### iv. All positive"
   ]
  },
  {
   "cell_type": "code",
   "execution_count": null,
   "id": "6764a9bb",
   "metadata": {},
   "outputs": [],
   "source": []
  },
  {
   "cell_type": "markdown",
   "id": "f1a035c6",
   "metadata": {},
   "source": [
    "### 5. Combine everything"
   ]
  },
  {
   "cell_type": "code",
   "execution_count": null,
   "id": "65d54469",
   "metadata": {
    "ExecuteTime": {
     "end_time": "2023-02-08T08:52:36.018112Z",
     "start_time": "2023-02-08T08:52:35.986231Z"
    }
   },
   "outputs": [],
   "source": [
    "# build up the new Z matrix by inserting the new rows and columns in the right place\n",
    "# | old matrix        new column          old matrix |\n",
    "# | old matrix        new column          old matrix |\n",
    "# | new row           core                new row    |\n",
    "# | new row           core                new row    |\n",
    "# | old matrix        new column          old matrix |\n",
    "# | old matrix        new column          old matrix |\n",
    "# | old matrix        new column          old matrix |\n",
    "\n",
    "# Then add the value added and final demand submatrices in a similar fashion\n",
    "\n",
    "\n",
    "Z_2018_new_new = pd.concat([\n",
    "    pd.concat([Z_2018_new.iloc[:5, :5], Z_lit_cols.iloc[:5, :], Z_2018_new.iloc[:5, 6:]], axis=1), \n",
    "    pd.concat([Z_lit_rows.iloc[:, :5], Z_lit_core, Z_lit_rows.iloc[:, 6:73]], axis=1), \n",
    "    pd.concat([Z_2018_new.iloc[6:, :5], Z_lit_cols.iloc[6:74, :], Z_2018_new.iloc[6:, 6:]], axis=1)],\n",
    "    axis=0)\n",
    "\n",
    "fd_2018_new_new = pd.concat([fd_2018_new.iloc[:5, :], Z_lit_rows.iloc[:, 73:], fd_2018_new.iloc[6:, :]], axis=0)\n",
    "\n",
    "va_2018_new_new = pd.concat([va_2018_new.iloc[:, :5], Z_lit_cols.iloc[74:, :], va_2018_new.iloc[:, 6:]], axis=1)\n",
    "\n",
    "Z_2018_new_new.index = Z_2018_new_new.index.astype(str)\n",
    "va_2018_new_new.index = va_2018_new_new.index.astype(str)\n",
    "fd_2018_new_new.index = fd_2018_new_new.index.astype(str)\n",
    "\n",
    "Z_2018_new_new.columns = Z_2018_new_new.columns.astype(str)\n",
    "va_2018_new_new.columns = va_2018_new_new.columns.astype(str)\n",
    "fd_2018_new_new.columns = fd_2018_new_new.columns.astype(str)"
   ]
  },
  {
   "cell_type": "code",
   "execution_count": null,
   "id": "b9699566",
   "metadata": {
    "ExecuteTime": {
     "end_time": "2023-02-08T08:52:36.769023Z",
     "start_time": "2023-02-08T08:52:36.740509Z"
    }
   },
   "outputs": [],
   "source": [
    "Z_fd_2018_new_new = pd.concat([Z_2018_new_new, fd_2018_new_new], axis=1)\n",
    "Z_va_2018_new_new = pd.concat([Z_2018_new_new, va_2018_new_new])\n",
    "Z_va_fd_2018_new_new = pd.concat([Z_fd_2018_new_new, va_2018_new_new])"
   ]
  },
  {
   "cell_type": "code",
   "execution_count": null,
   "id": "b0a250ff",
   "metadata": {
    "ExecuteTime": {
     "end_time": "2023-02-08T08:52:37.583411Z",
     "start_time": "2023-02-08T08:52:37.554770Z"
    }
   },
   "outputs": [],
   "source": [
    "A_2018_new_new = Z_2018_new_new / Z_va_2018_new_new.sum()\n",
    "A_2018_new_new.loc[:, 'imports'] = 0"
   ]
  },
  {
   "cell_type": "code",
   "execution_count": null,
   "id": "4759b9bd",
   "metadata": {
    "ExecuteTime": {
     "end_time": "2023-02-08T08:52:38.741373Z",
     "start_time": "2023-02-08T08:52:38.730410Z"
    }
   },
   "outputs": [],
   "source": [
    "# manual intervention biomass and nuclear\n",
    "# we put 10% of biomass in agriculture: 5% in 111CA and 5% in 113FF (* 1-(value added frac))\n",
    "biomass_111CA = 0.05\n",
    "biomass_113FF = 0.05\n",
    "#nuclear_fuel  = 0.013 #1.3% of cost for (domestic) uranium mining (see above)\n",
    "\n",
    "new = A_2018_new_new.loc[:, 'Biomass electric power generation']\n",
    "interm_frac = new.sum()\n",
    "\n",
    "new.loc['111CA'] = biomass_111CA\n",
    "new.loc['113FF'] = biomass_113FF\n",
    "\n",
    "interm_frac_after = new.sum()\n",
    "new *= (interm_frac / interm_frac_after)\n",
    "# sm is total output\n",
    "sm = Z_va_2018_new_new.loc[:, 'Biomass electric power generation'].sum()\n",
    "Z_2018_new_new.loc[:, 'Biomass electric power generation'] = new * sm\n"
   ]
  },
  {
   "cell_type": "code",
   "execution_count": null,
   "id": "d9c9d5a5",
   "metadata": {
    "ExecuteTime": {
     "end_time": "2023-02-08T08:52:40.551218Z",
     "start_time": "2023-02-08T08:52:40.530287Z"
    }
   },
   "outputs": [],
   "source": [
    "Z_fd_2018_new_new = pd.concat([Z_2018_new_new, fd_2018_new_new], axis=1)\n",
    "Z_va_2018_new_new = pd.concat([Z_2018_new_new, va_2018_new_new])\n",
    "Z_va_fd_2018_new_new = pd.concat([Z_fd_2018_new_new, va_2018_new_new])"
   ]
  },
  {
   "cell_type": "code",
   "execution_count": null,
   "id": "db1200fd",
   "metadata": {
    "ExecuteTime": {
     "end_time": "2023-02-08T08:52:41.385172Z",
     "start_time": "2023-02-08T08:52:41.356929Z"
    }
   },
   "outputs": [],
   "source": [
    "A_2018_new_new = Z_2018_new_new / Z_va_2018_new_new.sum()\n",
    "A_2018_new_new.loc[:, 'imports'] = 0"
   ]
  },
  {
   "cell_type": "code",
   "execution_count": null,
   "id": "40be5224",
   "metadata": {
    "ExecuteTime": {
     "end_time": "2023-02-08T08:52:42.950348Z",
     "start_time": "2023-02-08T08:52:42.914404Z"
    }
   },
   "outputs": [],
   "source": [
    "Z_va_fd_2018_new_new.to_csv('output_lit/Z_2018_inc_elec_split_lit.csv')\n",
    "\n",
    "#helper function\n",
    "Z_lit.to_csv('output_lit/Z_lit.csv')"
   ]
  },
  {
   "cell_type": "code",
   "execution_count": null,
   "id": "5b2cfade",
   "metadata": {
    "ExecuteTime": {
     "end_time": "2023-02-08T08:52:43.830060Z",
     "start_time": "2023-02-08T08:52:43.793200Z"
    }
   },
   "outputs": [],
   "source": [
    "L = np.linalg.inv(np.identity(A_2018_new_new.shape[0]) - A_2018_new_new)\n",
    "L_2018_new_new = pd.DataFrame(L, index=A_2018_new_new.index, columns=A_2018_new_new.columns)"
   ]
  },
  {
   "cell_type": "code",
   "execution_count": null,
   "id": "b010e5a1",
   "metadata": {
    "ExecuteTime": {
     "end_time": "2023-02-08T08:52:45.066057Z",
     "start_time": "2023-02-08T08:52:45.010193Z"
    }
   },
   "outputs": [],
   "source": [
    "L_2018_new_new.drop('imports', axis=1).to_csv('output_lit/L_2018_inc_elec_split_lit.csv')\n",
    "A_2018_new_new.drop('imports', axis=1).to_csv('output_lit/A_2018_inc_elec_split_lit.csv')"
   ]
  },
  {
   "cell_type": "code",
   "execution_count": null,
   "id": "cfc6ccb1",
   "metadata": {
    "ExecuteTime": {
     "end_time": "2023-02-08T08:52:50.852272Z",
     "start_time": "2023-02-08T08:52:50.818363Z"
    }
   },
   "outputs": [],
   "source": [
    "A_2018_new_new.iloc[:, 4:20].round(3)"
   ]
  },
  {
   "cell_type": "code",
   "execution_count": null,
   "id": "b48b5e52",
   "metadata": {
    "ExecuteTime": {
     "end_time": "2023-02-08T08:53:26.595298Z",
     "start_time": "2023-02-08T08:53:26.562410Z"
    }
   },
   "outputs": [],
   "source": [
    "Z_va_2018_new_new"
   ]
  }
 ],
 "metadata": {
  "kernelspec": {
   "display_name": "Python 3 (ipykernel)",
   "language": "python",
   "name": "python3"
  },
  "language_info": {
   "codemirror_mode": {
    "name": "ipython",
    "version": 3
   },
   "file_extension": ".py",
   "mimetype": "text/x-python",
   "name": "python",
   "nbconvert_exporter": "python",
   "pygments_lexer": "ipython3",
   "version": "3.8.4"
  },
  "toc": {
   "base_numbering": 1,
   "nav_menu": {},
   "number_sections": true,
   "sideBar": true,
   "skip_h1_title": false,
   "title_cell": "Table of Contents",
   "title_sidebar": "Contents",
   "toc_cell": false,
   "toc_position": {},
   "toc_section_display": true,
   "toc_window_display": false
  },
  "varInspector": {
   "cols": {
    "lenName": 16,
    "lenType": 16,
    "lenVar": 40
   },
   "kernels_config": {
    "python": {
     "delete_cmd_postfix": "",
     "delete_cmd_prefix": "del ",
     "library": "var_list.py",
     "varRefreshCmd": "print(var_dic_list())"
    },
    "r": {
     "delete_cmd_postfix": ") ",
     "delete_cmd_prefix": "rm(",
     "library": "var_list.r",
     "varRefreshCmd": "cat(var_dic_list()) "
    }
   },
   "types_to_exclude": [
    "module",
    "function",
    "builtin_function_or_method",
    "instance",
    "_Feature"
   ],
   "window_display": false
  }
 },
 "nbformat": 4,
 "nbformat_minor": 5
}
