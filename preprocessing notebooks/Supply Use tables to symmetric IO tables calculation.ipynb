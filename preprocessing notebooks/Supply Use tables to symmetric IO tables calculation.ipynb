{
 "cells": [
  {
   "cell_type": "code",
   "execution_count": null,
   "id": "essential-toolbox",
   "metadata": {
    "ExecuteTime": {
     "end_time": "2022-03-30T13:46:17.961705Z",
     "start_time": "2022-03-30T13:46:17.065435Z"
    }
   },
   "outputs": [],
   "source": [
    "import numpy as np\n",
    "import pandas as pd"
   ]
  },
  {
   "cell_type": "markdown",
   "id": "guilty-country",
   "metadata": {},
   "source": [
    "# This Notebook converts US supply and use tables into symmetric industry-by-industry I-O tables, including Z, A, and L matrices"
   ]
  },
  {
   "cell_type": "markdown",
   "id": "rising-dairy",
   "metadata": {},
   "source": [
    "The input-output US SUP tables are used. The code converting these into symmetric I-O tables is in IO_lib"
   ]
  },
  {
   "cell_type": "code",
   "execution_count": null,
   "id": "streaming-argument",
   "metadata": {
    "ExecuteTime": {
     "end_time": "2022-03-30T13:46:18.731350Z",
     "start_time": "2022-03-30T13:46:18.714214Z"
    }
   },
   "outputs": [],
   "source": [
    "from IO_lib import derive_IO\n",
    "from IO_lib import derive_IO_domestic\n",
    "from IO_lib import derive_import_perc\n",
    "from IO_lib import derive_IO_no_scrap_adjustment\n",
    "from IO_lib import derive_IO_domestic_no_scrap_adjustment\n",
    "import os.path\n",
    "from openpyxl import load_workbook"
   ]
  },
  {
   "cell_type": "code",
   "execution_count": null,
   "id": "integral-flavor",
   "metadata": {
    "ExecuteTime": {
     "end_time": "2022-03-30T13:46:19.149291Z",
     "start_time": "2022-03-30T13:46:19.137334Z"
    }
   },
   "outputs": [],
   "source": [
    "def savefile(df, filename, year, folder):\n",
    "    filename = folder + str(year) + \"-\" +  filename\n",
    "    df.to_excel(filename)"
   ]
  },
  {
   "cell_type": "markdown",
   "id": "lesbian-secret",
   "metadata": {},
   "source": [
    "## First for 71 industry codes for every year 1997 - 2019"
   ]
  },
  {
   "cell_type": "markdown",
   "id": "cardiac-banner",
   "metadata": {},
   "source": [
    "It appears to be that BEA does not do scrap calculations in its L matrices for the 71 industry summary sectors (published as IxI TR (total requirements) tables), so we follow "
   ]
  },
  {
   "cell_type": "code",
   "execution_count": null,
   "id": "7f35e398",
   "metadata": {
    "ExecuteTime": {
     "end_time": "2022-03-30T13:17:36.978323Z",
     "start_time": "2022-03-30T13:17:36.260313Z"
    }
   },
   "outputs": [],
   "source": [
    "# save industry/commodity/value added/final consumption names\n",
    "ind_names1 = pd.read_excel(\"../Data/AllTablesIO/IOUse_After_Redefinitions_PRO_1997-2019_Summary.xlsx\", \n",
    "                      sheet_name = '2018', skiprows = 7, nrows = 79, header=None,\n",
    "                      index_col = None, usecols = \"A:B\", engine='openpyxl').dropna()\n",
    "\n",
    "ind_names2 = pd.read_excel(\"../Data/AllTablesIO/IOUse_After_Redefinitions_PRO_1997-2019_Summary.xlsx\", \n",
    "                      sheet_name = '2018', header = None, skiprows=5, nrows = 2, \n",
    "                      index_col = None, usecols = \"C:CR\", engine='openpyxl').T.dropna()\n",
    "\n",
    "ind_names2.columns = ind_names1.columns = ['code', 'label']\n",
    "ind_names = ind_names1.merge(ind_names2, how='outer')\n",
    "ind_names.to_csv(\"../results/data_out/Data_out_names/ind_sum.csv\")"
   ]
  },
  {
   "cell_type": "code",
   "execution_count": null,
   "id": "005c5197",
   "metadata": {
    "ExecuteTime": {
     "end_time": "2022-03-30T13:57:42.215891Z",
     "start_time": "2022-03-30T13:57:03.685002Z"
    },
    "scrolled": true
   },
   "outputs": [],
   "source": [
    "# domestic tables, scrap redistributed, import perc calculated, domestic final demand\n",
    "\n",
    "path_data = \"../data/AllTablesIO/\"\n",
    "\n",
    "\n",
    "for year in range(1997, 2020):\n",
    "    make = pd.read_excel(path_data + \"IOMake_After_Redefinitions_1997-2019_Summary.xlsx\", \n",
    "                          sheet_name = str(year), header = 5, skiprows = [6], nrows = 72, \n",
    "                          index_col = 0, usecols = \"A, C:BX\", engine='openpyxl')\n",
    "    make.replace('...', 0, inplace=True)\n",
    "\n",
    "    use = pd.read_excel(path_data + \"IOUse_After_Redefinitions_PRO_1997-2019_Summary.xlsx\", \n",
    "                      sheet_name = str(year), header = 5, skiprows = [6], nrows = 83, \n",
    "                      index_col = 0, usecols = \"A, C:CV\", engine='openpyxl')\n",
    "    use.replace('...', 0, inplace=True)\n",
    "\n",
    "    imp = pd.read_excel(path_data + \"ImportMatrices_After_Redefinitions_SUM_1997-2020.xlsx\", \n",
    "                      sheet_name = str(year), header = 5, skiprows = [6], nrows = 83, \n",
    "                      index_col = 0, usecols = \"A, C:CV\", engine='openpyxl')\n",
    "    imp.replace('...', 0, inplace=True)\n",
    "    imp_copy = imp.copy()\n",
    "\n",
    "    for imp_reducer in [1, 0.9, 0.7, 0.5]:\n",
    "\n",
    "        imp = imp_copy * imp_reducer\n",
    "\n",
    "        # Make matrix\n",
    "        # industry x commodity\n",
    "        V = make.iloc[:71, :71]\n",
    "\n",
    "        # Use matrix (producer value)\n",
    "        # Commodity x industry \n",
    "        U = use.iloc[:72, :71]\n",
    "\n",
    "        # scrap adjustment: divide proportional over incoming sectors\n",
    "        #U /= U.sum() / (U.sum() + use.iloc[71, :71])\n",
    "\n",
    "        # Import matrix\n",
    "        # Commodity x industry\n",
    "        W = imp.iloc[:72, :71]\n",
    "\n",
    "        # industry total output (Producer prices)\n",
    "        g = use.iloc[82, :71]\n",
    "\n",
    "        # commodity total output (Producer value)\n",
    "        q = make.iloc[71, :71]\n",
    "\n",
    "        # scrap\n",
    "        h = make.iloc[:71, 71]\n",
    "\n",
    "        # final demand\n",
    "        # Commodity x industry\n",
    "        fc = use.iloc[:72, 74:94]\n",
    "\n",
    "        # final demand import\n",
    "        # Commodity x industry\n",
    "        W_fc = imp.iloc[:72, 72:92].loc[:, fc.columns]\n",
    "\n",
    "        # non-standard imports\n",
    "        imp_non = use.iloc[72, :71]\n",
    "\n",
    "        # value added\n",
    "        va = use.iloc[76:79, :71]\n",
    "\n",
    "\n",
    "        Z, A, L, f, p = derive_IO_domestic(U.to_numpy(),W.to_numpy(),V.to_numpy(), h.to_numpy(), imp_non.to_numpy(), \\\n",
    "                                                    q.to_numpy(),g.to_numpy(),fc.to_numpy(), W_fc.to_numpy(), how = \"industry\")\n",
    "\n",
    "        Z_df = pd.DataFrame(data= Z, index= list(U.columns) + ['imports'], columns= U.columns)\n",
    "        A_df = pd.DataFrame(data= A, index= list(U.columns) + ['imports'], columns= U.columns)\n",
    "        L_df = pd.DataFrame(data= L, index= list(U.columns) + ['imports'], columns= U.columns)\n",
    "        f_df = pd.DataFrame(data= f, index= U.columns, columns= fc.columns)\n",
    "\n",
    "        import_perc = derive_import_perc(U.iloc[:-1, :].to_numpy(),W.iloc[:-1, :].to_numpy(), V.to_numpy(), h.to_numpy(), \\\n",
    "                                    imp_non.to_numpy(), q.to_numpy(),g.to_numpy(),fc.to_numpy(), W_fc.to_numpy(), how = \"industry\")\n",
    "\n",
    "        import_perc_df = pd.DataFrame(data= import_perc, index= U.index[:-1], columns= ['import_perc'])\n",
    "\n",
    "        if imp_reducer == 1:\n",
    "            savefile(Z_df, \"Z_sum_dom.xlsx\", year, \"../data/Data_out_IO/\")\n",
    "            savefile(A_df, \"A_sum_dom.xlsx\", year, \"../data/Data_out_IO/\")\n",
    "            savefile(L_df, \"L_sum_dom.xlsx\", year, \"../data/Data_out_IO/\")\n",
    "            savefile(f_df, \"f_sum_dom.xlsx\", year, \"../data/Data_out_IO/\")\n",
    "            savefile(va, \"va_sum_dom.xlsx\", year, \"../data/Data_out_IO/\")\n",
    "            savefile(import_perc_df, \"import_perc_sum.xlsx\", year, \"../data/Data_out_IO/\")\n",
    "        else:\n",
    "            savefile(Z_df, \"Z_sum_dom_\" + str(imp_reducer) + \".xlsx\", year, \"../data/Data_out_IO/imp_reduced/\")\n",
    "            savefile(A_df, \"A_sum_dom_\" + str(imp_reducer) + \".xlsx\", year, \"../data/Data_out_IO/imp_reduced/\")\n",
    "            savefile(L_df, \"L_sum_dom_\" + str(imp_reducer) + \".xlsx\", year, \"../data/Data_out_IO/imp_reduced/\")\n",
    "            savefile(f_df, \"f_sum_dom_\" + str(imp_reducer) + \".xlsx\", year, \"../data/Data_out_IO/imp_reduced/\")\n",
    "            savefile(va, \"va_sum_dom_\" + str(imp_reducer) + \".xlsx\", year, \"../data/Data_out_IO/imp_reduced/\")\n",
    "            savefile(import_perc_df, \"import_perc_sum_\" + str(imp_reducer) + \".xlsx\", year, \"../data/Data_out_IO/imp_reduced/\")"
   ]
  },
  {
   "cell_type": "code",
   "execution_count": null,
   "id": "207c4d5a",
   "metadata": {},
   "outputs": [],
   "source": []
  },
  {
   "cell_type": "code",
   "execution_count": null,
   "metadata": {},
   "outputs": [],
   "source": [
    "# original tables, not domestic\n",
    "# original, no scrap\n",
    "# Load data\n",
    "\n",
    "path_data = \"../data/AllTablesIO/\"\n",
    "\n",
    "\n",
    "for year in range(1997, 2020):\n",
    "    make = pd.read_excel(path_data + \"IOMake_After_Redefinitions_1997-2019_Summary.xlsx\", \n",
    "                      sheet_name = str(year), header = 5, skiprows = [6], nrows = 72, \n",
    "                      index_col = 0, usecols = \"A, C:BX\", engine='openpyxl')\n",
    "    make.replace('...', 0, inplace=True)\n",
    "\n",
    "    use = pd.read_excel(path_data + \"IOUse_After_Redefinitions_PRO_1997-2019_Summary.xlsx\", \n",
    "                      sheet_name = str(year), header = 5, skiprows = [6], nrows = 83, \n",
    "                      index_col = 0, usecols = \"A, C:CV\", engine='openpyxl')\n",
    "    use.replace('...', 0, inplace=True)\n",
    "\n",
    "    # Make matrix\n",
    "    # industry x commodity\n",
    "    V = make.iloc[:71, :73]\n",
    "\n",
    "    # Use matrix (producer value)\n",
    "    # Commodity x industry \n",
    "    U = use.iloc[:73, :71]\n",
    "\n",
    "    # industry total output (Producer prices)\n",
    "    g = use.iloc[82, :71]\n",
    "\n",
    "    # commodity total output (Producer value)\n",
    "    q = make.iloc[71, :73]\n",
    "\n",
    "    # scrap\n",
    "    #h = make.iloc[:71, 71]\n",
    "\n",
    "    # final demand\n",
    "    fc = use.iloc[:73, 74:94]\n",
    "    \n",
    "    # value added\n",
    "    va = use.iloc[76:79, :71]\n",
    "\n",
    "    Z, A, L, f = derive_IO_no_scrap_adjustment(U.to_numpy(),V.to_numpy(),q.to_numpy(),g.to_numpy(),fc.to_numpy(), how = \"industry\")\n",
    "\n",
    "    Z_df = pd.DataFrame(data= Z, index= U.columns, columns= U.columns)\n",
    "    A_df = pd.DataFrame(data= A, index= U.columns, columns= U.columns)\n",
    "    L_df = pd.DataFrame(data= L, index= U.columns, columns= U.columns)\n",
    "    f_df = pd.DataFrame(data= f, index= U.columns, columns= fc.columns)\n",
    "\n",
    "    savefile(Z_df, \"Z_sum.xlsx\", year, \"../data/Data_out_IO/\")\n",
    "    savefile(A_df, \"A_sum.xlsx\", year, \"../data/Data_out_IO/\")\n",
    "    savefile(L_df, \"L_sum.xlsx\", year, \"../data/Data_out_IO/\")\n",
    "    savefile(f_df, \"f_sum.xlsx\", year, \"../data/Data_out_IO/\")\n",
    "    savefile(va, \"va_sum.xlsx\", year, \"../data/Data_out_IO/\")"
   ]
  },
  {
   "cell_type": "markdown",
   "id": "suffering-growing",
   "metadata": {},
   "source": [
    "## Now for detailed 389 industry tables, for 2012"
   ]
  },
  {
   "cell_type": "markdown",
   "id": "unnecessary-syracuse",
   "metadata": {},
   "source": [
    "I follow p.15-16 of https://www.cbo.gov/sites/default/files/111th-congress-2009-2010/workingpaper/2010-04-io_model_paper_0.pdf in the following way:\n",
    "- Scrap adjustment for scrap and secondhand goods\n",
    "- Ignore Rest of world adjustment\n",
    "- Noncomparable imports are part of value added\n",
    "- Sectors without commodities (i.e. State and local government educational services (GLSGE), State and local government hospitals and health services (GSLGH), State and local government passenger transit (S00201)) are taken along in the calculation as normal"
   ]
  },
  {
   "cell_type": "code",
   "execution_count": null,
   "id": "61d7b146",
   "metadata": {
    "ExecuteTime": {
     "end_time": "2021-05-14T11:02:19.705608Z",
     "start_time": "2021-05-14T11:02:15.305868Z"
    }
   },
   "outputs": [],
   "source": [
    "# save industry/commodity/value added/final consumption names names\n",
    "ind_names1 = pd.read_excel(\"../Data/AllTablesIO/IOUse_After_Redefinitions_PRO_2007_2012_Detail.xlsx\", \n",
    "                      sheet_name = '2012', skiprows=6, header = None, nrows = 419, \n",
    "                      index_col = None, usecols = \"A:B\", engine='openpyxl').dropna()\n",
    "ind_names1.columns = ['code', 'label']\n",
    "\n",
    "ind_names2 = pd.read_excel(\"../Data/AllTablesIO/IOUse_After_Redefinitions_PRO_2007_2012_Detail.xlsx\", \n",
    "                      sheet_name = '2012', skiprows=4, header = None, nrows = 2, \n",
    "                      index_col = None, usecols = \"C:PN\", engine='openpyxl').T.dropna()\n",
    "ind_names2.columns = ['label', 'code'] # note, reversed\n",
    "\n",
    "\n",
    "ind_names1.merge(ind_names2, how='outer').to_csv(\"../results/data_out/Data_out_names/ind_det.csv\")"
   ]
  },
  {
   "cell_type": "code",
   "execution_count": null,
   "id": "c1910218",
   "metadata": {
    "ExecuteTime": {
     "end_time": "2022-03-22T14:09:33.559259Z",
     "start_time": "2022-03-22T14:08:58.139159Z"
    }
   },
   "outputs": [],
   "source": [
    "# domestic tables, no scarp adjustment\n",
    "# Load data\n",
    "\n",
    "path_data = \"../data/AllTablesIO/\"\n",
    "\n",
    "\n",
    "for year in (2007, 2012):\n",
    "    make = pd.read_excel(path_data + \"IOMake_After_Redefinitions_2007_2012_Detail.xlsx\", \n",
    "                      sheet_name = str(year), header = 5, nrows = 411, \n",
    "                      index_col = 0, usecols = \"A, C:OR\", engine='openpyxl').fillna(0)\n",
    "\n",
    "    use = pd.read_excel(path_data + \"IOUse_After_Redefinitions_PRO_2007_2012_Detail.xlsx\",\\\n",
    "                      sheet_name = str(year), header = 5, nrows = 411,\\\n",
    "                      index_col = 0, usecols = \"A, C:PN\", engine='openpyxl').fillna(0)\n",
    "    \n",
    "    imp = pd.read_excel(path_data + \"ImportMatrices_Before_Redefinitions_DET_2007_2012.xlsx\", \n",
    "                      sheet_name = str(year), header = 5, nrows = 411,\n",
    "                      index_col = 0, usecols = \"A, C:PN\", engine='openpyxl').fillna(0)\n",
    "    \n",
    "    imp_copy = imp.copy()\n",
    "\n",
    "    for imp_reducer in [1, 0.9, 0.7, 0.5]:\n",
    "\n",
    "        imp = imp_copy * imp_reducer\n",
    "    \n",
    "        # Make matrix\n",
    "        # industry x commodity\n",
    "        V = make.iloc[:405, :401]\n",
    "\n",
    "        # Use matrix (producer value)\n",
    "        # Commodity x industry \n",
    "        U = use.iloc[:401, :405]\n",
    "        \n",
    "        # Import matrix\n",
    "        # Commodity x industry\n",
    "        W = imp.iloc[:401, :405]\n",
    "\n",
    "        # industry total output (Producer prices)\n",
    "        g = use.iloc[410, :405]\n",
    "\n",
    "        # commodity total output (Producer value)\n",
    "        q = make.iloc[405, :401]\n",
    "\n",
    "        # scrap (output per industry) + secondhand\n",
    "        #h = make.iloc[:405, 401] + make.iloc[:405, 402]\n",
    "\n",
    "        # final demand\n",
    "        fc = use.iloc[:401, 406:426]\n",
    "        \n",
    "        # noncomparable inports\n",
    "        #nci = use.iloc[403, :405]\n",
    "        \n",
    "        # value added includes non-comparable imports\n",
    "        #va = use.iloc[np.r_[403, 406:409], :405]\n",
    "\n",
    "        va = use.iloc[406:409, :405]\n",
    "        \n",
    "        Z, A, L, f = derive_IO_domestic_no_scrap_adjustment(U.to_numpy(),W.to_numpy(),V.to_numpy(),q.to_numpy(),g.to_numpy(),fc.to_numpy(), how = \"industry\")\n",
    "\n",
    "        Z_df = pd.DataFrame(data= Z, index= list(U.columns) + ['imports'], columns= U.columns)\n",
    "        A_df = pd.DataFrame(data= A, index= list(U.columns) + ['imports'], columns= U.columns)\n",
    "        L_df = pd.DataFrame(data= L, index= list(U.columns) + ['imports'], columns= U.columns)\n",
    "        f_df = pd.DataFrame(data= f, index= U.columns, columns= fc.columns)\n",
    "\n",
    "        if imp_reducer == 1:\n",
    "            savefile(Z_df, \"Z_det_dom.xlsx\", year, \"../data/Data_out_IO389/\")\n",
    "            savefile(A_df, \"A_det_dom.xlsx\", year, \"../data/Data_out_IO389/\")\n",
    "            savefile(L_df, \"L_det_dom.xlsx\", year, \"../data/Data_out_IO389/\")\n",
    "            savefile(f_df, \"f_det_dom.xlsx\", year, \"../data/Data_out_IO389/\")\n",
    "            savefile(va, \"va_det_dom.xlsx\", year, \"../data/Data_out_IO389/\")\n",
    "        else:\n",
    "            savefile(Z_df, \"Z_det_dom_\" + str(imp_reducer) + \".xlsx\", year, \"../data/Data_out_IO389/imp_reduced/\")\n",
    "            savefile(A_df, \"A_det_dom_\" + str(imp_reducer) + \".xlsx\", year, \"../data/Data_out_IO389/imp_reduced/\")\n",
    "            savefile(L_df, \"L_det_dom_\" + str(imp_reducer) + \".xlsx\", year, \"../data/Data_out_IO389/imp_reduced/\")\n",
    "            savefile(f_df, \"f_det_dom_\" + str(imp_reducer) + \".xlsx\", year, \"../data/Data_out_IO389/imp_reduced/\")\n",
    "            savefile(va, \"va_det_dom_\" + str(imp_reducer) + \".xlsx\", year, \"../data/Data_out_IO389/imp_reduced/\")"
   ]
  }
 ],
 "metadata": {
  "kernelspec": {
   "display_name": "Python 3 (ipykernel)",
   "language": "python",
   "name": "python3"
  },
  "language_info": {
   "codemirror_mode": {
    "name": "ipython",
    "version": 3
   },
   "file_extension": ".py",
   "mimetype": "text/x-python",
   "name": "python",
   "nbconvert_exporter": "python",
   "pygments_lexer": "ipython3",
   "version": "3.8.4"
  },
  "toc": {
   "base_numbering": 1,
   "nav_menu": {},
   "number_sections": true,
   "sideBar": true,
   "skip_h1_title": false,
   "title_cell": "Table of Contents",
   "title_sidebar": "Contents",
   "toc_cell": false,
   "toc_position": {},
   "toc_section_display": true,
   "toc_window_display": false
  },
  "varInspector": {
   "cols": {
    "lenName": 16,
    "lenType": 16,
    "lenVar": 40
   },
   "kernels_config": {
    "python": {
     "delete_cmd_postfix": "",
     "delete_cmd_prefix": "del ",
     "library": "var_list.py",
     "varRefreshCmd": "print(var_dic_list())"
    },
    "r": {
     "delete_cmd_postfix": ") ",
     "delete_cmd_prefix": "rm(",
     "library": "var_list.r",
     "varRefreshCmd": "cat(var_dic_list()) "
    }
   },
   "types_to_exclude": [
    "module",
    "function",
    "builtin_function_or_method",
    "instance",
    "_Feature"
   ],
   "window_display": false
  }
 },
 "nbformat": 4,
 "nbformat_minor": 5
}
