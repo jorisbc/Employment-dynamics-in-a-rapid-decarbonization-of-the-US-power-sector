{
 "cells": [
  {
   "cell_type": "code",
   "execution_count": 60,
   "id": "ea3db54d",
   "metadata": {
    "ExecuteTime": {
     "end_time": "2023-03-02T13:28:32.837737Z",
     "start_time": "2023-03-02T13:28:32.824732Z"
    }
   },
   "outputs": [],
   "source": [
    "import pandas as pd\n",
    "import numpy as np"
   ]
  },
  {
   "cell_type": "markdown",
   "id": "dfd9850d",
   "metadata": {},
   "source": [
    "# Pro-ff (Pro-re) is a hybrid scenario of advanced cost estimates for fossil fuels (renewabels) and conservative for renewables (fossil fuels)"
   ]
  },
  {
   "cell_type": "code",
   "execution_count": null,
   "id": "b86625c5",
   "metadata": {},
   "outputs": [],
   "source": []
  },
  {
   "cell_type": "code",
   "execution_count": 70,
   "id": "e97bb65d",
   "metadata": {
    "ExecuteTime": {
     "end_time": "2023-03-02T13:30:11.536635Z",
     "start_time": "2023-03-02T13:30:11.471337Z"
    }
   },
   "outputs": [],
   "source": [
    "adv1 = pd.read_csv('ADVANCED_alldata_io_tech_nosmoothing.csv', index_col=0)\n",
    "con1 = pd.read_csv('CONSERVATIVE_alldata_io_tech_nosmoothing.csv', index_col=0)\n",
    "\n",
    "adv2 = pd.read_csv('ADVANCED_alldata_scenario_tech.csv', index_col=0)\n",
    "con2 = pd.read_csv('CONSERVATIVE_alldata_scenario_tech.csv', index_col=0)"
   ]
  },
  {
   "cell_type": "code",
   "execution_count": 71,
   "id": "9cfe861d",
   "metadata": {
    "ExecuteTime": {
     "end_time": "2023-03-02T13:30:11.710415Z",
     "start_time": "2023-03-02T13:30:11.697417Z"
    }
   },
   "outputs": [
    {
     "data": {
      "text/plain": [
       "{'Batteries', 'Bio', 'Coal', 'Gas', 'Geo', 'Hydro', 'Nuclear', 'Solar', 'Wind'}"
      ]
     },
     "execution_count": 71,
     "metadata": {},
     "output_type": "execute_result"
    }
   ],
   "source": [
    "set(adv1.technology)"
   ]
  },
  {
   "cell_type": "code",
   "execution_count": 72,
   "id": "f9541bdf",
   "metadata": {
    "ExecuteTime": {
     "end_time": "2023-03-02T13:30:11.884533Z",
     "start_time": "2023-03-02T13:30:11.873597Z"
    }
   },
   "outputs": [],
   "source": [
    "ff = ['Coal', 'Gas']"
   ]
  },
  {
   "cell_type": "code",
   "execution_count": 73,
   "id": "b8fe33b4",
   "metadata": {
    "ExecuteTime": {
     "end_time": "2023-03-02T13:30:12.103899Z",
     "start_time": "2023-03-02T13:30:12.059984Z"
    }
   },
   "outputs": [],
   "source": [
    "adv1_ff = adv1[adv1.technology.isin(ff)]\n",
    "con1_re = con1[~con1.technology.isin(ff)]\n",
    "\n",
    "pro_ff = pd.concat([adv1_ff, con1_re]).sort_index()\n",
    "pro_ff.to_csv('pro-ff_alldata_io_tech_nosmoothing.csv')"
   ]
  },
  {
   "cell_type": "code",
   "execution_count": 74,
   "id": "53bcfa7d",
   "metadata": {
    "ExecuteTime": {
     "end_time": "2023-03-02T13:30:12.325737Z",
     "start_time": "2023-03-02T13:30:12.296745Z"
    }
   },
   "outputs": [],
   "source": [
    "adv1_re = adv1[~adv1.technology.isin(ff)]\n",
    "con1_ff = con1[con1.technology.isin(ff)]\n",
    "\n",
    "pro_re = pd.concat([adv1_re, con1_ff]).sort_index()\n",
    "pro_re.to_csv('pro-re_alldata_io_tech_nosmoothing.csv')"
   ]
  },
  {
   "cell_type": "code",
   "execution_count": 75,
   "id": "e3170d82",
   "metadata": {
    "ExecuteTime": {
     "end_time": "2023-03-02T13:30:12.500589Z",
     "start_time": "2023-03-02T13:30:12.487591Z"
    }
   },
   "outputs": [
    {
     "data": {
      "text/plain": [
       "{'Batteries',\n",
       " 'Biomass',\n",
       " 'CSP',\n",
       " 'Coal',\n",
       " 'Gas CC',\n",
       " 'Gas CC CCS',\n",
       " 'Gas CT',\n",
       " 'Geothermal',\n",
       " 'Hydro',\n",
       " 'Nuclear',\n",
       " 'PHS',\n",
       " 'PV dist',\n",
       " 'PV utility',\n",
       " 'Wind off',\n",
       " 'Wind on'}"
      ]
     },
     "execution_count": 75,
     "metadata": {},
     "output_type": "execute_result"
    }
   ],
   "source": [
    "set(adv2.technology)"
   ]
  },
  {
   "cell_type": "code",
   "execution_count": 76,
   "id": "6c043060",
   "metadata": {
    "ExecuteTime": {
     "end_time": "2023-03-02T13:30:12.674750Z",
     "start_time": "2023-03-02T13:30:12.661875Z"
    }
   },
   "outputs": [],
   "source": [
    "ff = [ 'Coal', 'Gas CC', 'Gas CC CCS', 'Gas CT']"
   ]
  },
  {
   "cell_type": "code",
   "execution_count": 77,
   "id": "8fabecb2",
   "metadata": {
    "ExecuteTime": {
     "end_time": "2023-03-02T13:30:12.863041Z",
     "start_time": "2023-03-02T13:30:12.819204Z"
    }
   },
   "outputs": [],
   "source": [
    "adv2_ff = adv2[adv2.technology.isin(ff)]\n",
    "con2_re = con2[~con2.technology.isin(ff)]\n",
    "\n",
    "pro_ff = pd.concat([adv2_ff, con2_re]).sort_index()\n",
    "pro_ff.to_csv('pro-ff_alldata_scenario_tech.csv')"
   ]
  },
  {
   "cell_type": "code",
   "execution_count": 78,
   "id": "258a856c",
   "metadata": {
    "ExecuteTime": {
     "end_time": "2023-03-02T13:30:13.053763Z",
     "start_time": "2023-03-02T13:30:13.008812Z"
    }
   },
   "outputs": [],
   "source": [
    "adv2_re = adv2[~adv2.technology.isin(ff)]\n",
    "con2_ff = con2[con2.technology.isin(ff)]\n",
    "\n",
    "pro_re = pd.concat([adv2_re, con2_ff]).sort_index()\n",
    "pro_re.to_csv('pro-re_alldata_scenario_tech.csv')"
   ]
  },
  {
   "cell_type": "code",
   "execution_count": null,
   "id": "45635eb2",
   "metadata": {},
   "outputs": [],
   "source": []
  },
  {
   "cell_type": "code",
   "execution_count": null,
   "id": "a634ee9c",
   "metadata": {},
   "outputs": [],
   "source": []
  }
 ],
 "metadata": {
  "kernelspec": {
   "display_name": "Python 3 (ipykernel)",
   "language": "python",
   "name": "python3"
  },
  "language_info": {
   "codemirror_mode": {
    "name": "ipython",
    "version": 3
   },
   "file_extension": ".py",
   "mimetype": "text/x-python",
   "name": "python",
   "nbconvert_exporter": "python",
   "pygments_lexer": "ipython3",
   "version": "3.8.15"
  },
  "toc": {
   "base_numbering": 1,
   "nav_menu": {},
   "number_sections": true,
   "sideBar": true,
   "skip_h1_title": false,
   "title_cell": "Table of Contents",
   "title_sidebar": "Contents",
   "toc_cell": false,
   "toc_position": {},
   "toc_section_display": true,
   "toc_window_display": false
  },
  "varInspector": {
   "cols": {
    "lenName": 16,
    "lenType": 16,
    "lenVar": 40
   },
   "kernels_config": {
    "python": {
     "delete_cmd_postfix": "",
     "delete_cmd_prefix": "del ",
     "library": "var_list.py",
     "varRefreshCmd": "print(var_dic_list())"
    },
    "r": {
     "delete_cmd_postfix": ") ",
     "delete_cmd_prefix": "rm(",
     "library": "var_list.r",
     "varRefreshCmd": "cat(var_dic_list()) "
    }
   },
   "types_to_exclude": [
    "module",
    "function",
    "builtin_function_or_method",
    "instance",
    "_Feature"
   ],
   "window_display": false
  }
 },
 "nbformat": 4,
 "nbformat_minor": 5
}
