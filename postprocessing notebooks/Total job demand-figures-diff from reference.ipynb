{
 "cells": [
  {
   "cell_type": "code",
   "execution_count": null,
   "id": "f65a2b2c",
   "metadata": {
    "ExecuteTime": {
     "end_time": "2023-05-30T07:51:49.592918Z",
     "start_time": "2023-05-30T07:51:42.140201Z"
    }
   },
   "outputs": [],
   "source": [
    "import pandas as pd\n",
    "import numpy as np\n",
    "import matplotlib.pyplot as plt\n",
    "import seaborn as sns\n",
    "from itertools import cycle, islice\n",
    "from matplotlib.ticker import FuncFormatter"
   ]
  },
  {
   "cell_type": "code",
   "execution_count": null,
   "id": "fe2153ff",
   "metadata": {
    "ExecuteTime": {
     "end_time": "2023-05-30T07:51:49.688690Z",
     "start_time": "2023-05-30T07:51:49.675911Z"
    }
   },
   "outputs": [],
   "source": [
    "analysis = '../analysis/'\n",
    "data = '../data/'\n",
    "data_out = '../results/data_out/'\n",
    "output_folder = '../results/data_out/results/'\n",
    "fig_folder = '../results/figs/'\n",
    "version = '3_oct_2022'\n",
    "ylim = (-250000, 700000)\n",
    "yrs = np.arange(2021, 2050, 1)"
   ]
  },
  {
   "cell_type": "code",
   "execution_count": null,
   "id": "74e19f56",
   "metadata": {
    "ExecuteTime": {
     "end_time": "2023-05-30T07:51:53.414336Z",
     "start_time": "2023-05-30T07:51:53.386629Z"
    }
   },
   "outputs": [],
   "source": [
    "ind_agg = pd.read_csv('../results/data_out/Data_out_names/ind_sum_aggr.csv', index_col=0)['label aggr']"
   ]
  },
  {
   "cell_type": "code",
   "execution_count": null,
   "id": "d129217a",
   "metadata": {},
   "outputs": [],
   "source": [
    "short_ind_names = {'Agriculture, Forestry, Fishing and Hunting': 'Agriculture',\n",
    " 'Mining, Quarrying, and Oil and Gas Extraction': 'Mining (incl. fossil fuels)',\n",
    " 'Utilities': 'Utilities',\n",
    " 'Construction': 'Construction',\n",
    " 'Manufacturing': 'Manufacturing',\n",
    " 'Wholesale Trade': 'Wholesale',\n",
    " 'Retail Trade': 'Retail',\n",
    " 'Transportation and Warehousing': 'Transportation',\n",
    " 'Information': 'Information',\n",
    " 'Finance and Insurance': 'Finance',\n",
    " 'Real Estate and Rental and Leasing': 'Real Estate',\n",
    " 'Professional, Scientific, and Technical Services': 'Professional Services',\n",
    " 'Management of Companies and Enterprises': 'Company Management',\n",
    " 'Administrative and Support and Waste Management and Remediation Services': 'Administrative Services',\n",
    " 'Educational Services': 'Education',\n",
    " 'Health Care and Social Assistance': 'Health Care',\n",
    " 'Arts, Entertainment, and Recreation': 'Arts',\n",
    " 'Accommodation and Food Services': 'Accommodation and Food',\n",
    " 'Other Services (except Public Administration)': 'Other Services',\n",
    " 'Public Administration': 'Public Administration'}"
   ]
  },
  {
   "cell_type": "code",
   "execution_count": null,
   "id": "334dde60",
   "metadata": {},
   "outputs": [],
   "source": [
    "np.unique(ind_agg)"
   ]
  },
  {
   "cell_type": "code",
   "execution_count": null,
   "id": "9d047cc3",
   "metadata": {
    "ExecuteTime": {
     "end_time": "2023-05-30T08:01:07.554791Z",
     "start_time": "2023-05-30T08:01:06.350628Z"
    }
   },
   "outputs": [],
   "source": [
    "df_full = pd.DataFrame()\n",
    "for yr in yrs:\n",
    "    yr_name = str(yr-1) + '-'+ str(yr)\n",
    "    df = pd.read_csv(output_folder + 'industry_employment_effects_' + \\\n",
    "                                        yr_name + \\\n",
    "                                         '__' + version + '.csv', index_col=0)\n",
    "    df['year'] = yr\n",
    "    df_full = pd.concat([df_full, df])\n",
    "\n",
    "print(df_full.sum().sum())\n",
    "df_full = df_full.reset_index().set_index(['index', 'year'])\n",
    "df_try = df_full.unstack().T.copy()\n",
    "df_try.index = df_try.index.droplevel(0)\n",
    "df_try = df_try.groupby(df_try.index).sum()\n",
    "df_try.loc[2020, :] = 0\n",
    "df_try.sort_index(inplace=True)\n",
    "\n",
    "\n",
    "utils = set(df_try) - set(ind_agg.index)\n",
    "\n",
    "utils = dict(zip(utils, ['Utilities' for x in utils]))\n",
    "\n",
    "ind_agg = pd.concat([ind_agg, pd.Series(utils, dtype=str)])\n",
    "ind_agg = ind_agg.map(short_ind_names)\n",
    "\n",
    "indcat = np.unique(ind_agg)\n",
    "my_colors = list(islice(cycle(['grey',  'darkgrey', 'darkgrey', 'grey', 'dimgrey', \n",
    "                               'b', 'darkgrey', 'grey', 'dimgrey', 'darkgrey', 'gold',\n",
    "                               'r', 'grey', 'c', 'grey', \n",
    "                               'dimgrey', 'darkgrey', 'm', \n",
    "                               'g', 'grey', 'grey']), None, \n",
    "                        len(indcat)))\n",
    "# ['lime',  'violet', 'y', 'darkred', 'aquamarine', \n",
    "#                                'b', 'r', 'pink', 'peru', 'k', 'grey',\n",
    "#                                'slategrey', 'midnightblue', 'salmon', 'goldenrod', \n",
    "#                                'teal', 'purple', \n",
    "#                                'deeppink', 'g', 'm', 'c'] \n",
    "colordict = dict(zip(indcat, my_colors))\n",
    "colorlist = [colordict[ind_agg.to_dict()[ind]] for ind in df_try.columns]\n",
    "\n",
    "pd.concat([df_try.cumsum().clip(lower=0), df_try.cumsum().clip(upper=0)], axis=1).\\\n",
    "            plot.area(color=colorlist, figsize=(6,4), ylim=ylim, legend='reverse')#.\\\n",
    "                #legend(loc='center left', bbox_to_anchor=(1.0, 0.5))\n",
    "\n",
    "colordict_select = {a:b for a,b in zip(colordict.keys(), colordict.values()) if b not in ['grey', 'dimgrey', 'darkgrey']}\n",
    "\n",
    "markers = [plt.Line2D([0,0],[0,0],color=color, marker='o', linestyle='') for color in colordict_select.values()]\n",
    "plt.legend(markers, colordict_select.keys(), numpoints=1, loc='center left', bbox_to_anchor=(0,-0.3), ncols=2)\n",
    "\n",
    "# plt.vlines(x=[2034, 2038], ymin=[-50000, -250000], ymax=[700000, 700000], colors='teal', ls='--', lw=2)\n",
    "# plt.text(2025, -120000, 'Transition phase', fontsize=13)\n",
    "# plt.text(2024, 400000, 'Scale up', fontsize=13)\n",
    "# plt.text(2034.2, 600000, 'Scale \\n down', fontsize=13)\n",
    "# plt.text(2038.6, 400000, 'Low carbon power \\nsystem', fontsize=13)\n",
    "\n",
    "# despine\n",
    "sns.despine()\n",
    "\n",
    "# set ylim\n",
    "ylim = [-150000, 700000]\n",
    "plt.ylim(ylim)\n",
    "\n",
    "# fewer yticks\n",
    "plt.yticks(np.arange(0, 700000, 200000))\n",
    "\n",
    "# add thousand separator to y axis\n",
    "ax = plt.gca()\n",
    "ax.get_yaxis().set_major_formatter(\n",
    "    FuncFormatter(lambda x, p: format(int(x), ',')))\n",
    "\n",
    "\n",
    "plt.ylabel('Cumulative worker demand \\nin the electricity supply chain')     \n",
    "\n",
    "# save figure\n",
    "plt.savefig(fig_folder + 'cumulative_worker_demand_industry.png', bbox_inches='tight', dpi=300)\n",
    "# save as pdf\n",
    "plt.savefig(fig_folder + 'cumulative_worker_demand_industry.pdf', bbox_inches='tight', dpi=300)\n",
    "# save as svg\n",
    "plt.savefig(fig_folder + 'cumulative_worker_demand_industry.svg', bbox_inches='tight', dpi=300)\n",
    "\n",
    "plt.show()"
   ]
  },
  {
   "cell_type": "code",
   "execution_count": null,
   "id": "e03ab278",
   "metadata": {},
   "outputs": [],
   "source": [
    "df_try.cumsum().clip(lower=0).sum(axis=1)#, df_try.cumsum().clip(upper=0)"
   ]
  },
  {
   "cell_type": "code",
   "execution_count": null,
   "id": "e5e17e91",
   "metadata": {
    "ExecuteTime": {
     "end_time": "2023-05-30T07:53:04.555913Z",
     "start_time": "2023-05-30T07:53:04.523591Z"
    }
   },
   "outputs": [],
   "source": [
    "major_occ = pd.read_csv('../results/data_out/results_sensitivity/annual_change_sens/4_empl_95% by 2035_2021-2022.csv', index_col=0)['OCC_TITLE_major']"
   ]
  },
  {
   "cell_type": "code",
   "execution_count": null,
   "id": "f4c129e5",
   "metadata": {
    "ExecuteTime": {
     "end_time": "2023-05-30T07:53:04.804354Z",
     "start_time": "2023-05-30T07:53:04.795331Z"
    }
   },
   "outputs": [],
   "source": [
    "cols = ['Wind-capex', 'Solar-capex',\n",
    "       'Natural gas-capex', 'Coal-capex', 'Biomass-capex', 'Geothermal-capex',\n",
    "       'Hydro-capex', 'Battery storage-capex', 'T&D-capex', 'Biomass-opex', 'Coal-opex',\n",
    "       'Solar-opex', 'Natural gas-opex', 'Geothermal-opex', 'Hydro-opex',\n",
    "       'Nuclear-opex', 'Wind-opex', 'Transmission and distribution-opex',\n",
    "       'Battery storage-opex']"
   ]
  },
  {
   "cell_type": "code",
   "execution_count": null,
   "id": "691e16dd",
   "metadata": {},
   "outputs": [],
   "source": [
    "short_major_occ_names = {'Management Occupations': 'Management',\n",
    " 'Business and Financial Operations Occupations': 'Business & Financial',\n",
    " 'Computer and Mathematical Occupations': 'Computer & Maths',\n",
    " 'Architecture and Engineering Occupations': 'Engineering',\n",
    " 'Life, Physical, and Social Science Occupations': 'Science Occupations',\n",
    " 'Community and Social Service Occupations': 'Social Service',\n",
    " 'Legal Occupations': 'Legal',\n",
    " 'Education, Training, and Library Occupations': 'Education',\n",
    " 'Arts, Design, Entertainment, Sports, and Media Occupations': 'Arts',\n",
    " 'Healthcare Practitioners and Technical Occupations': 'Healthcare Pract.',\n",
    " 'Healthcare Support Occupations': 'Healthcare Support',\n",
    " 'Protective Service Occupations': 'Protective Service',\n",
    " 'Food Preparation and Serving Related Occupations': 'Food Preparation',\n",
    " 'Building and Grounds Cleaning and Maintenance Occupations': 'Cleaning and Maintenance ',\n",
    " 'Personal Care and Service Occupations': 'Personal Care',\n",
    " 'Sales and Related Occupations': 'Sales',\n",
    " 'Office and Administrative Support Occupations': 'Administrative',\n",
    " 'Farming, Fishing, and Forestry Occupations': 'Farming',\n",
    " 'Construction and Extraction Occupations': 'Construction & Extraction',\n",
    " 'Installation, Maintenance, and Repair Occupations': 'Installation & Repair',\n",
    " 'Production Occupations': 'Production',\n",
    " 'Transportation and Material Moving Occupations': 'Transportation'}"
   ]
  },
  {
   "cell_type": "code",
   "execution_count": null,
   "metadata": {},
   "outputs": [],
   "source": [
    "df_full = pd.DataFrame()\n",
    "for yr in yrs:\n",
    "    yr_name = str(yr-1) + '-'+ str(yr)\n",
    "    df = pd.read_csv(output_folder + 'diff_baseline_employment_effects_' + \\\n",
    "                                        yr_name + \\\n",
    "                                         '__' + version + '.csv', index_col=0)\n",
    "    df['year'] = yr\n",
    "    df_full = pd.concat([df_full, df])\n",
    "\n",
    "df_full = df_full.reset_index().set_index(['index', 'year'])\n",
    "df_try = df_full.loc[:,cols].unstack().T.copy()\n",
    "df_try.index = df_try.index.droplevel(0)\n",
    "df_try = df_try.groupby(df_try.index).sum()\n",
    "df_try.loc[2020, :] = 0\n",
    "df_try.sort_index(inplace=True)\n",
    "\n",
    "short_majocc = major_occ.map(short_major_occ_names)\n",
    "\n",
    "occcat = np.unique(short_majocc)\n",
    "my_colors = list(islice(cycle(['b', 'grey', 'g', 'grey', 'darkgrey', 'm', 'grey', 'lime', \n",
    "                               'darkgrey', 'dimgrey', 'grey', 'darkgrey', \n",
    "                               'teal', 'grey', 'violet', 'darkgrey', 'peru', 'grey', \n",
    "                               'deeppink', 'dimgrey', 'grey', 'aquamarine']), None, \n",
    "                        len(occcat)))\n",
    "colordict = dict(zip(occcat, my_colors))\n",
    "colorlist = [colordict[occ] for occ in short_majocc]\n",
    "\n",
    "\n",
    "pd.concat([df_try.cumsum().clip(lower=0), df_try.cumsum().clip(upper=0)], axis=1).plot.area(color=colorlist, \n",
    "                figsize=(6,4), ylim=ylim, legend='reverse')#.\\\n",
    "                #legend(loc='center left', bbox_to_anchor=(1.0, 0.5))\n",
    "\n",
    "colordict_select = {a:b for a,b in zip(colordict.keys(), colordict.values()) if b not in ['grey', 'dimgrey', 'darkgrey']}\n",
    "\n",
    "markers = [plt.Line2D([0,0],[0,0],color=color, marker='o', linestyle='') for color in colordict_select.values()]\n",
    "plt.legend(markers, colordict_select.keys(), numpoints=1, loc='center left', bbox_to_anchor=(0, -0.35), ncols=2)\n",
    "\n",
    "# plt.vlines(x=[2034, 2038], ymin=[-8000, -250000], ymax=[700000, 700000], colors='teal', ls='--', lw=2)\n",
    "# plt.text(2025, -120000, 'Transition phase', fontsize=13)\n",
    "# plt.text(2024, 400000, 'Scale up', fontsize=13)\n",
    "# plt.text(2034.2, 600000, 'Scale \\n down', fontsize=13)\n",
    "# plt.text(2038.6, 400000, 'Low carbon power \\nsystem', fontsize=13)\n",
    "\n",
    "# despine\n",
    "sns.despine()\n",
    "\n",
    "# set ylim\n",
    "ylim = [-150000, 700000]\n",
    "plt.ylim(ylim)\n",
    "\n",
    "# fewer yticks\n",
    "plt.yticks(np.arange(0, 700000, 200000))\n",
    "\n",
    "plt.ylabel('Cumulative worker demand in the electricity supply chain')     \n",
    "\n",
    "# save figure\n",
    "plt.savefig(fig_folder + 'cumulative_worker_demand_occ.png', bbox_inches='tight', dpi=300)\n",
    "# save as pdf\n",
    "plt.savefig(fig_folder + 'cumulative_worker_demand_occ.pdf', bbox_inches='tight', dpi=300)\n",
    "# save as svg\n",
    "plt.savefig(fig_folder + 'cumulative_worker_demand_occ.svg', bbox_inches='tight', dpi=300)\n",
    "\n",
    "\n",
    "plt.show()"
   ]
  },
  {
   "cell_type": "code",
   "execution_count": null,
   "id": "73b5c9a9",
   "metadata": {},
   "outputs": [],
   "source": []
  },
  {
   "cell_type": "code",
   "execution_count": null,
   "id": "f2f7df3d",
   "metadata": {},
   "outputs": [],
   "source": [
    "df_full = pd.DataFrame()\n",
    "for yr in yrs:\n",
    "    yr_name = str(yr-1) + '-'+ str(yr)\n",
    "    df = pd.read_csv(output_folder + 'diff_baseline_employment_effects_' + \\\n",
    "                                        yr_name + \\\n",
    "                                         '__' + version + '.csv', index_col=0)\n",
    "    df['year'] = yr\n",
    "    df_full = pd.concat([df_full, df])\n",
    "\n",
    "df_full = df_full.reset_index().set_index(['index', 'year'])\n",
    "df_try = df_full.loc[:,cols].unstack().T.copy()\n",
    "df_try.index = df_try.index.droplevel(0)\n",
    "df_try = df_try.groupby(df_try.index).sum()\n",
    "df_try.loc[2020, :] = 0\n",
    "df_try.sort_index(inplace=True)\n",
    "\n",
    "short_majocc = major_occ.map(short_major_occ_names)\n",
    "\n",
    "occcat = np.unique(short_majocc)\n",
    "my_colors = list(islice(cycle(['b', 'r', 'g', 'y', 'k', 'm', 'c', 'lime', \n",
    "                               'slategrey', 'midnightblue', 'salmon', 'goldenrod', \n",
    "                               'teal', 'purple', 'violet', 'pink', 'peru', 'grey', \n",
    "                               'deeppink', 'olive', 'darkred', 'aquamarine']), None, \n",
    "                        len(occcat)))\n",
    "colordict = dict(zip(occcat, my_colors))\n",
    "colorlist = [colordict[occ] for occ in short_majocc]\n",
    "\n",
    "\n",
    "pd.concat([df_try.cumsum().clip(lower=0), df_try.cumsum().clip(upper=0)], axis=1).plot.area(color=colorlist, \n",
    "                figsize=(6,4), ylim=ylim, legend='reverse')#.\\\n",
    "                #legend(loc='center left', bbox_to_anchor=(1.0, 0.5))\n",
    "\n",
    "markers = [plt.Line2D([0,0],[0,0],color=color, marker='o', linestyle='') for color in colordict.values()]\n",
    "plt.legend(markers, colordict.keys(), numpoints=1, loc='center left', bbox_to_anchor=(0, -0.7), ncols=2)\n",
    "\n",
    "plt.vlines(x=[2034, 2038], ymin=[-8000, -250000], ymax=[700000, 700000], colors='teal', ls='--', lw=2)\n",
    "plt.text(2025, -120000, 'Transition phase', fontsize=13)\n",
    "plt.text(2024, 400000, 'Scale up', fontsize=13)\n",
    "plt.text(2034.2, 580000, 'Scale \\n down', fontsize=13)\n",
    "plt.text(2038.6, 400000, 'Low carbon power \\nsystem', fontsize=13)\n",
    "\n",
    "# despine\n",
    "sns.despine()\n",
    "\n",
    "# set ylim\n",
    "ylim = [-150000, 700000]\n",
    "plt.ylim(ylim)\n",
    "\n",
    "# fewer yticks\n",
    "plt.yticks(np.arange(0, 700000, 200000))\n",
    "\n",
    "plt.ylabel('Cumulative worker demand in the electricity supply chain')     \n",
    "\n",
    "# save figure\n",
    "plt.savefig(fig_folder + 'cumulative_worker_demand_occ.png', bbox_inches='tight', dpi=300)\n",
    "# save as pdf\n",
    "plt.savefig(fig_folder + 'cumulative_worker_demand_occ.pdf', bbox_inches='tight', dpi=300)\n",
    "# save as svg\n",
    "plt.savefig(fig_folder + 'cumulative_worker_demand_occ.svg', bbox_inches='tight', dpi=300)\n",
    "\n",
    "\n",
    "plt.show()"
   ]
  }
 ],
 "metadata": {
  "kernelspec": {
   "display_name": "Python 3 (ipykernel)",
   "language": "python",
   "name": "python3"
  },
  "language_info": {
   "codemirror_mode": {
    "name": "ipython",
    "version": 3
   },
   "file_extension": ".py",
   "mimetype": "text/x-python",
   "name": "python",
   "nbconvert_exporter": "python",
   "pygments_lexer": "ipython3",
   "version": "3.8.4"
  },
  "toc": {
   "base_numbering": 1,
   "nav_menu": {},
   "number_sections": true,
   "sideBar": true,
   "skip_h1_title": false,
   "title_cell": "Table of Contents",
   "title_sidebar": "Contents",
   "toc_cell": false,
   "toc_position": {
    "height": "calc(100% - 180px)",
    "left": "10px",
    "top": "150px",
    "width": "165px"
   },
   "toc_section_display": true,
   "toc_window_display": true
  },
  "varInspector": {
   "cols": {
    "lenName": 16,
    "lenType": 16,
    "lenVar": 40
   },
   "kernels_config": {
    "python": {
     "delete_cmd_postfix": "",
     "delete_cmd_prefix": "del ",
     "library": "var_list.py",
     "varRefreshCmd": "print(var_dic_list())"
    },
    "r": {
     "delete_cmd_postfix": ") ",
     "delete_cmd_prefix": "rm(",
     "library": "var_list.r",
     "varRefreshCmd": "cat(var_dic_list()) "
    }
   },
   "types_to_exclude": [
    "module",
    "function",
    "builtin_function_or_method",
    "instance",
    "_Feature"
   ],
   "window_display": false
  }
 },
 "nbformat": 4,
 "nbformat_minor": 5
}
