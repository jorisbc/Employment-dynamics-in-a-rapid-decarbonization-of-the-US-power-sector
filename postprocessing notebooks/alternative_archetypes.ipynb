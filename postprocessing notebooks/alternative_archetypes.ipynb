{
 "cells": [
  {
   "cell_type": "code",
   "execution_count": null,
   "metadata": {},
   "outputs": [],
   "source": [
    "import numpy as np\n",
    "import pandas as pd"
   ]
  },
  {
   "cell_type": "code",
   "execution_count": null,
   "metadata": {},
   "outputs": [],
   "source": [
    "analysis = '../analysis/'\n",
    "data = '../data/'\n",
    "data_out = '../results/data_out/'\n",
    "output_folder = '../results/data_out/results/'\n",
    "fig_folder = '../results/figs/'\n",
    "version = '3_oct_2022'\n",
    "ylim = (-250000, 600000)"
   ]
  },
  {
   "cell_type": "code",
   "execution_count": null,
   "metadata": {},
   "outputs": [],
   "source": [
    "df_occ = pd.read_csv(data_out + 'occ_names_bls_minor_major.csv', index_col=0)\n",
    "df_occ = df_occ[['OCC_CODE', 'OCC_TITLE', 'TOT_EMP']]"
   ]
  },
  {
   "cell_type": "code",
   "execution_count": null,
   "metadata": {},
   "outputs": [],
   "source": [
    "cols = ['Wind-capex', 'Solar-capex',\n",
    "       'Natural gas-capex', 'Coal-capex', 'Biomass-capex', 'Geothermal-capex',\n",
    "       'Hydro-capex', 'Battery storage-capex', 'T&D-capex', 'Biomass-opex', 'Coal-opex',\n",
    "       'Solar-opex', 'Natural gas-opex', 'Geothermal-opex', 'Hydro-opex',\n",
    "       'Nuclear-opex', 'Wind-opex', 'Transmission and distribution-opex',\n",
    "       'Battery storage-opex']\n",
    "\n",
    "df_full = pd.DataFrame()\n",
    "for yr in range(2021, 2050, 1):\n",
    "    df = pd.read_csv(output_folder + 'diff_baseline_employment_effects_' + \\\n",
    "                                        str(yr-1) + '-'+ str(yr) + \\\n",
    "                                         '__' + version + '.csv', index_col=0)\n",
    "    df['year'] = yr\n",
    "    df_full = pd.concat([df_full, df])\n",
    "\n",
    "df_full = df_full.reset_index().set_index(['index', 'year'])\n",
    "df_try = df_full.loc[:,cols].unstack().T.copy()\n",
    "df_try.index = df_try.index.droplevel(0)\n",
    "df_try = df_try.groupby(df_try.index).sum()\n",
    "df_try.loc[2020, :] = 0\n",
    "df_try.sort_index(inplace=True)\n",
    "\n",
    "cumul_plus = df_try[df_try > 0].sum()\n",
    "cumul_min = -1 * df_try[df_try < 0].sum()\n",
    "\n",
    "# cumul_plus = temp + perm\n",
    "# cumul_min = lost + temp\n",
    "dff = (cumul_plus - cumul_min)\n",
    "\n",
    "perm = dff.clip(lower=0.0)\n",
    "lost = (-1 * dff).clip(lower=0.0)\n",
    "temp = (cumul_plus - perm)\n",
    "\n",
    "ind_perm = perm\n",
    "ind_lost = lost\n",
    "ind_temp = temp\n",
    "split_year = 2034\n",
    "end_year = 2038\n",
    "# shock 2035 split\n",
    "df_until2035 = df_full.loc[df_full.index.get_level_values('year').isin(range(2020, split_year + 1)), 'emp_tot'].groupby(df_full.loc[df_full.index.get_level_values('year').isin(range(2020, split_year + 1))].index.get_level_values('index')).sum()\n",
    "df_after2035 = df_full.loc[df_full.index.get_level_values('year').isin(range(split_year + 1, end_year + 1)), 'emp_tot'].groupby(df_full.loc[df_full.index.get_level_values('year').isin(range(split_year + 1, end_year + 1))].index.get_level_values('index')).sum()\n",
    "\n",
    "# rel employment 2035 split\n",
    "merged_2035 = df_occ.merge(df_until2035, left_on='OCC_CODE', right_index=True, how='right')\n",
    "merged_2035.set_index('OCC_CODE', inplace=True)\n",
    "df_until2035_rel_emp = merged_2035.emp_tot / merged_2035.TOT_EMP\n",
    "\n",
    "merged_2035 = df_occ.merge(df_after2035, left_on='OCC_CODE', right_index=True, how='right')\n",
    "merged_2035.set_index('OCC_CODE', inplace=True)\n",
    "df_after2035_rel_emp = merged_2035.emp_tot / merged_2035.TOT_EMP\n",
    "ind_profs = pd.concat([ind_temp, ind_lost, ind_perm], axis=1).rename(columns={0: 'temp', 1: 'lost', 2: 'perm'})\n",
    "\n",
    "ind_profs = ind_profs.merge(df_occ, right_on='OCC_CODE', left_index=True, how='outer')\n",
    "# rel shock\n",
    "ind_profs_rel_shock = ind_profs.copy()\n",
    "ind_profs_rel_shock[['temp', 'lost', 'perm']] = ind_profs_rel_shock[['temp', 'lost', 'perm']].div(ind_profs_rel_shock[['temp', 'lost', 'perm']].sum())\n",
    "\n",
    "# rel employment\n",
    "ind_profs_rel_emp = ind_profs.copy()\n",
    "ind_profs_rel_emp[['temp', 'lost', 'perm']] = ind_profs_rel_emp[['temp', 'lost', 'perm']].div(ind_profs_rel_emp.TOT_EMP, axis=0)\n",
    "\n",
    "# RCA\n",
    "ind_profs_rca = ind_profs.copy()\n",
    "ind_profs_rca.TOT_EMP = ind_profs_rca.TOT_EMP / ind_profs_rca.TOT_EMP.sum()\n",
    "ind_profs_rca[['temp', 'lost', 'perm']] = ind_profs_rca[['temp', 'lost', 'perm']].div(ind_profs_rca[['temp', 'lost', 'perm']].sum())# = ind_profs_rca.div(ind_profs_rca.sum())\n",
    "# and\n",
    "ind_profs_rca[['temp', 'lost', 'perm']] = ind_profs_rca[['temp', 'lost', 'perm']].div(ind_profs_rca.TOT_EMP, axis=0)\n",
    "ind_profs = ind_profs.drop(['OCC_TITLE', 'TOT_EMP'], axis=1).set_index('OCC_CODE')\n",
    "ind_profs_rel_emp = ind_profs_rel_emp.drop(['OCC_TITLE', 'TOT_EMP'], axis=1).set_index('OCC_CODE')\n",
    "ind_profs_rel_shock = ind_profs_rel_shock.drop(['OCC_TITLE', 'TOT_EMP'], axis=1).set_index('OCC_CODE')\n",
    "ind_profs_rca = ind_profs_rca.drop(['OCC_TITLE', 'TOT_EMP'], axis=1).set_index('OCC_CODE')"
   ]
  },
  {
   "cell_type": "code",
   "execution_count": null,
   "metadata": {},
   "outputs": [],
   "source": [
    "display(ind_profs.head())\n",
    "display(ind_profs_rel_emp.head())\n",
    "display(ind_profs_rel_shock.head())\n",
    "display(ind_profs_rca.head())"
   ]
  },
  {
   "cell_type": "code",
   "execution_count": null,
   "metadata": {},
   "outputs": [],
   "source": [
    "thres = 0.01\n",
    "display((ind_profs_rel_emp > thres).sum())\n",
    "ind_profs_rel_emp_25 = ind_profs_rel_emp.copy()\n",
    "ind_profs_rel_emp_25['idmax'] = ind_profs_rel_emp_25.idxmax(axis=1)\n",
    "ind_profs_rel_emp_25 = ind_profs_rel_emp_25.loc[(ind_profs_rel_emp_25.drop('idmax', axis=1)>thres).any(axis=1)]"
   ]
  },
  {
   "cell_type": "code",
   "execution_count": null,
   "metadata": {},
   "outputs": [],
   "source": [
    "ind_profs_rel_emp.to_csv('../results/data_out/occs_archetypes_dynamic.csv')"
   ]
  },
  {
   "cell_type": "code",
   "execution_count": null,
   "metadata": {},
   "outputs": [],
   "source": []
  }
 ],
 "metadata": {
  "kernelspec": {
   "display_name": "trns",
   "language": "python",
   "name": "python3"
  },
  "language_info": {
   "codemirror_mode": {
    "name": "ipython",
    "version": 3
   },
   "file_extension": ".py",
   "mimetype": "text/x-python",
   "name": "python",
   "nbconvert_exporter": "python",
   "pygments_lexer": "ipython3",
   "version": "3.8.4"
  }
 },
 "nbformat": 4,
 "nbformat_minor": 2
}
