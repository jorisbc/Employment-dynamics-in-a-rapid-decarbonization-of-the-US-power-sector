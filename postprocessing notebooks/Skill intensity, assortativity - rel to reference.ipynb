{
 "cells": [
  {
   "cell_type": "code",
   "execution_count": null,
   "id": "c56f73dc",
   "metadata": {
    "ExecuteTime": {
     "end_time": "2023-05-01T08:30:34.229851Z",
     "start_time": "2023-05-01T08:30:31.562037Z"
    }
   },
   "outputs": [],
   "source": [
    "import numpy as np\n",
    "import pandas as pd\n",
    "import matplotlib.pyplot as plt"
   ]
  },
  {
   "cell_type": "code",
   "execution_count": null,
   "id": "3e9d67a8",
   "metadata": {
    "ExecuteTime": {
     "end_time": "2023-05-01T08:30:34.340822Z",
     "start_time": "2023-05-01T08:30:34.263803Z"
    }
   },
   "outputs": [],
   "source": [
    "#apply to our set of occupations\n",
    "bls = pd.read_csv('../results/data_out/occ_names_bls_minor_major.csv', index_col=0)"
   ]
  },
  {
   "cell_type": "code",
   "execution_count": null,
   "id": "0533c44b",
   "metadata": {},
   "outputs": [],
   "source": [
    "activities = pd.read_excel('../data/skill_Bowen/Work Activities.xlsx')\n",
    "context = pd.read_excel('../data/skill_Bowen/Work Context.xlsx')\n",
    "abilities = pd.read_excel('../data/skill_Bowen/Abilities.xlsx')"
   ]
  },
  {
   "cell_type": "code",
   "execution_count": null,
   "id": "63227227",
   "metadata": {
    "ExecuteTime": {
     "end_time": "2023-04-20T11:18:28.171349Z",
     "start_time": "2023-04-20T11:18:27.046569Z"
    }
   },
   "outputs": [],
   "source": [
    "cmmv =  pd.read_excel('../data/skill_Bowen/CMMV.xlsx')"
   ]
  },
  {
   "attachments": {},
   "cell_type": "markdown",
   "id": "65b588e1",
   "metadata": {},
   "source": [
    "Routine index (RTI index)\t(Autor and Dorn (2013))\tlog(1 + 4.5 * RC + 4.5 * RM) − log(1 + 4.5 * NRA + 4.5 * NRI)"
   ]
  },
  {
   "cell_type": "code",
   "execution_count": null,
   "id": "bc900b1e",
   "metadata": {
    "ExecuteTime": {
     "end_time": "2023-03-31T07:01:52.666112Z",
     "start_time": "2023-03-31T07:01:52.638202Z"
    }
   },
   "outputs": [],
   "source": [
    "set(activities[activities['Element ID'].isin(cmmv.Element)]['Element ID'])"
   ]
  },
  {
   "cell_type": "code",
   "execution_count": null,
   "id": "2dfc8986",
   "metadata": {
    "ExecuteTime": {
     "end_time": "2023-03-31T07:01:52.760907Z",
     "start_time": "2023-03-31T07:01:52.731887Z"
    }
   },
   "outputs": [],
   "source": [
    "activities = activities.loc[(activities['Element ID'].isin(cmmv.Element)) & (activities['Scale ID'] == 'IM')]"
   ]
  },
  {
   "cell_type": "code",
   "execution_count": null,
   "id": "02c28bc4",
   "metadata": {
    "ExecuteTime": {
     "end_time": "2023-03-31T07:01:52.871531Z",
     "start_time": "2023-03-31T07:01:52.825681Z"
    }
   },
   "outputs": [],
   "source": [
    "set(context[context['Element ID'].isin(cmmv.Element)]['Element ID'])"
   ]
  },
  {
   "cell_type": "code",
   "execution_count": null,
   "id": "db4afb56",
   "metadata": {
    "ExecuteTime": {
     "end_time": "2023-03-31T07:01:52.982461Z",
     "start_time": "2023-03-31T07:01:52.922355Z"
    }
   },
   "outputs": [],
   "source": [
    "context = context.loc[(context['Element ID'].isin(cmmv.Element)) & (context['Scale ID'] == 'CX')]"
   ]
  },
  {
   "cell_type": "code",
   "execution_count": null,
   "id": "7c27618c",
   "metadata": {
    "ExecuteTime": {
     "end_time": "2023-03-31T07:01:53.044868Z",
     "start_time": "2023-03-31T07:01:53.030915Z"
    }
   },
   "outputs": [],
   "source": [
    "# reverse 4.C.3.b.8\tCX\n",
    "context.loc[context['Element ID'] == '4.C.3.b.8', 'Data Value'] = 5 - context.loc[context['Element ID'] == '4.C.3.b.8', 'Data Value']"
   ]
  },
  {
   "cell_type": "code",
   "execution_count": null,
   "id": "e228f266",
   "metadata": {
    "ExecuteTime": {
     "end_time": "2023-03-31T07:01:53.107658Z",
     "start_time": "2023-03-31T07:01:53.093703Z"
    }
   },
   "outputs": [],
   "source": [
    "set(abilities[abilities['Element ID'].isin(cmmv.Element)]['Element ID'])"
   ]
  },
  {
   "cell_type": "code",
   "execution_count": null,
   "id": "1bab8f92",
   "metadata": {
    "ExecuteTime": {
     "end_time": "2023-03-31T07:01:53.186397Z",
     "start_time": "2023-03-31T07:01:53.159485Z"
    }
   },
   "outputs": [],
   "source": [
    "abilities = abilities[(abilities['Element ID'].isin(cmmv.Element)) & (abilities['Scale ID'] == 'IM')]"
   ]
  },
  {
   "cell_type": "code",
   "execution_count": null,
   "id": "7c441ace",
   "metadata": {
    "ExecuteTime": {
     "end_time": "2023-03-31T07:01:53.266216Z",
     "start_time": "2023-03-31T07:01:53.236226Z"
    }
   },
   "outputs": [],
   "source": [
    "df = pd.concat([abilities, context, activities])"
   ]
  },
  {
   "cell_type": "code",
   "execution_count": null,
   "id": "61776f7d",
   "metadata": {
    "ExecuteTime": {
     "end_time": "2023-03-31T07:01:53.470529Z",
     "start_time": "2023-03-31T07:01:53.456576Z"
    }
   },
   "outputs": [],
   "source": [
    "df['O*NET-SOC Code'] = df['O*NET-SOC Code'].str[:-3]"
   ]
  },
  {
   "cell_type": "code",
   "execution_count": null,
   "id": "49c79026",
   "metadata": {
    "ExecuteTime": {
     "end_time": "2023-03-31T07:01:53.564293Z",
     "start_time": "2023-03-31T07:01:53.537284Z"
    }
   },
   "outputs": [],
   "source": [
    "for skill in set(cmmv.Skill):\n",
    "    skill_items = cmmv[cmmv.Skill == skill].Element\n",
    "    df.loc[df['Element ID'].isin(skill_items), 'Skill type'] = skill"
   ]
  },
  {
   "cell_type": "code",
   "execution_count": null,
   "id": "f589cc97",
   "metadata": {
    "ExecuteTime": {
     "end_time": "2023-03-31T07:01:53.658269Z",
     "start_time": "2023-03-31T07:01:53.630107Z"
    }
   },
   "outputs": [],
   "source": [
    "df_skills = df[['O*NET-SOC Code', 'Skill type','Data Value']].groupby(['O*NET-SOC Code', 'Skill type']).mean() / 5"
   ]
  },
  {
   "cell_type": "code",
   "execution_count": null,
   "id": "27475589",
   "metadata": {
    "ExecuteTime": {
     "end_time": "2023-03-31T07:01:53.737581Z",
     "start_time": "2023-03-31T07:01:53.723505Z"
    }
   },
   "outputs": [],
   "source": [
    "df_skills = df_skills.reset_index()"
   ]
  },
  {
   "cell_type": "code",
   "execution_count": null,
   "id": "3a5cc488",
   "metadata": {
    "ExecuteTime": {
     "end_time": "2023-03-31T07:01:54.008238Z",
     "start_time": "2023-03-31T07:01:53.804459Z"
    }
   },
   "outputs": [],
   "source": [
    "xwalk = pd.read_excel('../data/skill_Bowen/crosswalk_bls.xlsx', sheet_name='xwalk')\n",
    "xwalk_extra = pd.read_excel('../data/skill_Bowen/crosswalk_bls.xlsx', sheet_name='xwalk help')\n",
    "xwalk = pd.concat([xwalk, xwalk_extra])"
   ]
  },
  {
   "cell_type": "code",
   "execution_count": null,
   "id": "84e48ded",
   "metadata": {
    "ExecuteTime": {
     "end_time": "2023-03-31T07:01:54.084424Z",
     "start_time": "2023-03-31T07:01:54.071407Z"
    }
   },
   "outputs": [],
   "source": [
    "df_skills = df_skills.merge(xwalk, on='O*NET-SOC Code', how='outer')"
   ]
  },
  {
   "cell_type": "code",
   "execution_count": null,
   "id": "9d630719",
   "metadata": {
    "ExecuteTime": {
     "end_time": "2023-03-31T07:01:54.164232Z",
     "start_time": "2023-03-31T07:01:54.150276Z"
    }
   },
   "outputs": [],
   "source": [
    "df_skills = df_skills[['Skill type', 'Data Value', 'OCC_CODE']].groupby(['OCC_CODE', 'Skill type']).mean()"
   ]
  },
  {
   "cell_type": "code",
   "execution_count": null,
   "id": "52febc96",
   "metadata": {
    "ExecuteTime": {
     "end_time": "2023-03-31T07:01:54.257672Z",
     "start_time": "2023-03-31T07:01:54.243718Z"
    }
   },
   "outputs": [],
   "source": [
    "df_skills"
   ]
  },
  {
   "attachments": {},
   "cell_type": "markdown",
   "id": "2e57d061",
   "metadata": {
    "ExecuteTime": {
     "end_time": "2023-01-28T09:54:38.740397Z",
     "start_time": "2023-01-28T09:54:38.727439Z"
    }
   },
   "source": [
    "Routine index (RTI index)\t(Autor and Dorn (2013))\tlog(1 + 4.5 * RC + 4.5 * RM) − log(1 + 4.5 * NRA + 4.5 * NRI)"
   ]
  },
  {
   "cell_type": "code",
   "execution_count": null,
   "id": "bfeae0bc",
   "metadata": {
    "ExecuteTime": {
     "end_time": "2023-03-31T07:01:54.812619Z",
     "start_time": "2023-03-31T07:01:54.338400Z"
    }
   },
   "outputs": [],
   "source": [
    "for occ in set(df_skills.index.get_level_values('OCC_CODE')):\n",
    "    rm = df_skills.loc[(occ, 'Routine manual (RM)'), 'Data Value']\n",
    "    nra = df_skills.loc[(occ, 'Non-routine analytical (NRA)'), 'Data Value']\n",
    "    nri = df_skills.loc[(occ, 'Non-routine interactive (NRI)'), 'Data Value']\n",
    "    rc = df_skills.loc[(occ, 'Routine cognitive (RC)'), 'Data Value']\n",
    "\n",
    "    df_skills.loc[(occ, 'Routine index (RTI)'), 'Data Value'] = np.log10(1 + 4.5*rc + 4.5*rm) - \\\n",
    "                                                                        np.log10(1 + 4.5*nra + 4.5*nri)"
   ]
  },
  {
   "cell_type": "code",
   "execution_count": null,
   "id": "74e53e75",
   "metadata": {
    "ExecuteTime": {
     "end_time": "2023-01-28T10:03:54.537549Z",
     "start_time": "2023-01-28T10:03:54.492642Z"
    }
   },
   "outputs": [],
   "source": [
    "df_skills.to_csv('../data/skill_Bowen/skill_per_BLS_out.csv')"
   ]
  },
  {
   "attachments": {},
   "cell_type": "markdown",
   "id": "ca251c3b",
   "metadata": {},
   "source": [
    "# apply to shock"
   ]
  },
  {
   "cell_type": "code",
   "execution_count": null,
   "id": "e25a7a00",
   "metadata": {
    "ExecuteTime": {
     "end_time": "2023-05-01T08:30:52.507986Z",
     "start_time": "2023-05-01T08:30:52.499947Z"
    }
   },
   "outputs": [],
   "source": [
    "util_small_to_upp_caps = {'Electric bulk power transmission and control': 'Electric Bulk Power Transmission and Control',\n",
    " 'Wind electric power generation': 'Wind Electric Power Generation',\n",
    " 'Electric power distribution': 'Electric Power Distribution',\n",
    " 'Solar electric power generation': 'Solar Electric Power Generation',\n",
    " '221200': 'Natural Gas Distribution',\n",
    " 'Gas electric power generation': 'Gas Electric Power Generation',\n",
    " 'Geothermal electric power generation':'Geothermal Electric Power Generation',\n",
    " 'Nuclear electric power generation': 'Nuclear Electric Power Generation',\n",
    " '221300': 'Water, Sewage and Other Systems',\n",
    " 'Other electric power generation': 'Other Electric Power Generation',\n",
    " 'Hydroelectric power generation': 'Hydroelectric Power Generation',\n",
    " 'Coal electric power generation': 'Coal Electric Power Generation',\n",
    " 'Biomass electric power generation': 'Biomass Electric Power Generation'}\n",
    "util_upp_to_small_caps = {v: k for k, v in util_small_to_upp_caps.items()}"
   ]
  },
  {
   "cell_type": "code",
   "execution_count": null,
   "id": "650186da",
   "metadata": {
    "ExecuteTime": {
     "end_time": "2023-05-01T08:30:53.004665Z",
     "start_time": "2023-05-01T08:30:52.994666Z"
    }
   },
   "outputs": [],
   "source": [
    "analysis = '../analysis/'\n",
    "data = '../data/'\n",
    "data_out = '../results/data_out/'\n",
    "output_folder = '../results/data_out/results/'\n",
    "fig_folder = '../results/figs/'\n",
    "version = '3_oct_2022'\n",
    "ylim = (-250000, 600000)"
   ]
  },
  {
   "cell_type": "code",
   "execution_count": null,
   "id": "eefb9d7c",
   "metadata": {
    "ExecuteTime": {
     "end_time": "2023-05-01T08:30:53.516947Z",
     "start_time": "2023-05-01T08:30:53.494987Z"
    }
   },
   "outputs": [],
   "source": [
    "df_skills = pd.read_csv(data + 'skill_Bowen/skill_per_BLS_out.csv', index_col=0)"
   ]
  },
  {
   "cell_type": "code",
   "execution_count": null,
   "id": "99d2cf59",
   "metadata": {
    "ExecuteTime": {
     "end_time": "2023-05-01T08:30:54.534164Z",
     "start_time": "2023-05-01T08:30:54.514105Z"
    }
   },
   "outputs": [],
   "source": [
    "df_occ = pd.read_csv(data_out + 'occ_names_bls_minor_major.csv', index_col=0)\n",
    "df_occ = df_occ[['OCC_CODE', 'OCC_TITLE', 'TOT_EMP']]"
   ]
  },
  {
   "cell_type": "code",
   "execution_count": null,
   "id": "4f4fb3fa",
   "metadata": {
    "ExecuteTime": {
     "end_time": "2023-05-01T08:30:54.906151Z",
     "start_time": "2023-05-01T08:30:54.867150Z"
    }
   },
   "outputs": [],
   "source": [
    "ind_occ = pd.read_csv(data_out + 'bi-partite_emp_sum_elec.csv', index_col=0)\n",
    "ind_occ.rename(index = util_upp_to_small_caps, inplace=True)\n",
    "\n",
    "ind_occ_frac = ind_occ.T.div(ind_occ.sum(axis=1), axis=1).fillna(0.0)"
   ]
  },
  {
   "cell_type": "code",
   "execution_count": null,
   "id": "a1dd197f",
   "metadata": {
    "ExecuteTime": {
     "end_time": "2023-05-01T08:30:55.748727Z",
     "start_time": "2023-05-01T08:30:55.340096Z"
    }
   },
   "outputs": [],
   "source": [
    "df_full = pd.DataFrame()\n",
    "for yr in range(2021, 2048, 1):\n",
    "    df = pd.read_csv(output_folder + 'industry_employment_effects_' + \\\n",
    "                                        str(yr) + '-'+ str(yr+1) + \\\n",
    "                                         '__' + version + '.csv', index_col=0)\n",
    "    df['year'] = yr\n",
    "    df_full = pd.concat([df_full, df])\n",
    "\n",
    "df_full = df_full.reset_index().set_index(['index', 'year'])\n",
    "df_try = df_full.unstack().T.copy()\n",
    "df_try.index = df_try.index.droplevel(0)\n",
    "df_try = df_try.groupby(df_try.index).sum()\n",
    "df_try.loc[2020, :] = 0\n",
    "df_try.sort_index(inplace=True)\n",
    "\n",
    "cumul_plus = df_try[df_try > 0].sum()\n",
    "cumul_min = -1 * df_try[df_try < 0].sum()\n",
    "\n",
    "# cumul_plus = temp + perm\n",
    "# cumul_min = lost + temp\n",
    "dff = (cumul_plus - cumul_min)\n",
    "\n",
    "perm = dff.clip(lower=0.0)\n",
    "lost = (-1 * dff).clip(lower=0.0)\n",
    "temp = (cumul_plus - perm)\n",
    "\n",
    "ind_perm = ind_occ_frac @ perm\n",
    "ind_lost = ind_occ_frac @ lost\n",
    "ind_temp = ind_occ_frac @ temp"
   ]
  },
  {
   "cell_type": "code",
   "execution_count": null,
   "id": "d28f96f5",
   "metadata": {
    "ExecuteTime": {
     "end_time": "2023-05-01T08:30:56.623482Z",
     "start_time": "2023-05-01T08:30:56.595476Z"
    }
   },
   "outputs": [],
   "source": [
    "skills_pivot = df_skills.reset_index().pivot_table(columns='OCC_CODE', index='Skill type', values='Data Value')"
   ]
  },
  {
   "cell_type": "code",
   "execution_count": null,
   "id": "93dfe7f0",
   "metadata": {
    "ExecuteTime": {
     "end_time": "2023-05-01T08:30:56.888738Z",
     "start_time": "2023-05-01T08:30:56.877739Z"
    }
   },
   "outputs": [],
   "source": [
    "df_profile = pd.concat([ind_perm, ind_temp, ind_lost, ind_occ.sum()], axis=1).rename(columns={0: 'perm', 1: 'temp', 2: 'lost', 3: 'tot'})"
   ]
  },
  {
   "cell_type": "code",
   "execution_count": null,
   "id": "819c0d44",
   "metadata": {
    "ExecuteTime": {
     "end_time": "2023-05-01T08:30:57.173236Z",
     "start_time": "2023-05-01T08:30:57.145180Z"
    }
   },
   "outputs": [],
   "source": [
    "skill_profile = skills_pivot @ df_profile"
   ]
  },
  {
   "cell_type": "code",
   "execution_count": null,
   "id": "712ab9ca",
   "metadata": {
    "ExecuteTime": {
     "end_time": "2023-05-01T08:30:59.363441Z",
     "start_time": "2023-05-01T08:30:59.331443Z"
    }
   },
   "outputs": [],
   "source": [
    "skill_profile.div(skill_profile.sum(axis=0), axis=1).round(2)"
   ]
  },
  {
   "cell_type": "code",
   "execution_count": null,
   "id": "6fb19fd8",
   "metadata": {
    "ExecuteTime": {
     "end_time": "2023-05-01T08:31:01.105013Z",
     "start_time": "2023-05-01T08:31:00.531163Z"
    }
   },
   "outputs": [],
   "source": [
    "a = skills_pivot.apply(lambda x: df_profile.mul(x, axis=0).stack()).unstack()"
   ]
  },
  {
   "cell_type": "code",
   "execution_count": null,
   "id": "661396fa",
   "metadata": {
    "ExecuteTime": {
     "end_time": "2023-05-01T08:31:01.371856Z",
     "start_time": "2023-05-01T08:31:01.361815Z"
    }
   },
   "outputs": [],
   "source": [
    "df_skill_occ = pd.concat({x: df_profile.mul(skills_pivot.loc[x], axis=0) for x in skills_pivot.index}, axis=1)"
   ]
  },
  {
   "cell_type": "code",
   "execution_count": null,
   "id": "3b2a9b4a",
   "metadata": {
    "ExecuteTime": {
     "end_time": "2023-05-01T08:31:01.688254Z",
     "start_time": "2023-05-01T08:31:01.659126Z"
    }
   },
   "outputs": [],
   "source": [
    "df_skill_occ.stack()"
   ]
  },
  {
   "cell_type": "code",
   "execution_count": null,
   "id": "6e26d172",
   "metadata": {
    "ExecuteTime": {
     "end_time": "2023-05-01T08:31:01.958268Z",
     "start_time": "2023-05-01T08:31:01.946302Z"
    }
   },
   "outputs": [],
   "source": [
    "df_skill_and_weight = pd.concat([skills_pivot.T, df_profile], axis=1)"
   ]
  },
  {
   "cell_type": "code",
   "execution_count": null,
   "id": "3cea266f",
   "metadata": {
    "ExecuteTime": {
     "end_time": "2023-05-01T08:31:02.274929Z",
     "start_time": "2023-05-01T08:31:02.260942Z"
    }
   },
   "outputs": [],
   "source": [
    "df_skill_and_weight[['perm', 'temp', 'lost', 'tot']] = df_skill_and_weight[['perm', 'temp', 'lost', 'tot']].div(df_skill_and_weight[['perm', 'temp', 'lost', 'tot']].sum())"
   ]
  },
  {
   "cell_type": "code",
   "execution_count": null,
   "id": "a7e3fd83",
   "metadata": {
    "ExecuteTime": {
     "end_time": "2023-05-01T08:31:03.978092Z",
     "start_time": "2023-05-01T08:31:02.549115Z"
    }
   },
   "outputs": [],
   "source": [
    "ax = df_skill_and_weight[['Non-routine analytical (NRA)', 'Non-routine interactive (NRI)',\n",
    "       'Non-routine manual (NRM)', 'Routine cognitive (RC)',\n",
    "       'Routine index (RTI)', 'Routine manual (RM)']].plot(kind='hist', weights=df_skill_and_weight['tot'], subplots=True, alpha = 0.99, figsize=(12, 6), layout=(2,3), bins=25, histtype='step', legend=False, color='red', title=['Non-routine analytical (NRA)', 'Non-routine interactive (NRI)',\n",
    "                                                                                                                                                                                                                                       'Non-routine manual (NRM)', 'Routine cognitive (RC)',\n",
    "                                                                                                                                                                                                                                       'Routine index (RTI)', 'Routine manual (RM)'])\n",
    "\n",
    "for tp, col in zip(['perm', 'lost', 'temp'], ['blue', 'green', 'black']):\n",
    "    a = df_skill_and_weight[['Non-routine analytical (NRA)', 'Non-routine interactive (NRI)',\n",
    "       'Non-routine manual (NRM)', 'Routine cognitive (RC)',\n",
    "       'Routine index (RTI)', 'Routine manual (RM)']].plot(kind='hist', weights=df_skill_and_weight[tp], subplots=True, ax=ax, alpha = 0.99, bins=25, histtype='step', legend=False, color=col)\n",
    "    \n",
    "from matplotlib.lines import Line2D\n",
    "custom_lines = [Line2D([0], [0], color='red', lw=2),\n",
    "                Line2D([0], [0], color='blue', lw=2),\n",
    "                Line2D([0], [0], color='green', lw=2),\n",
    "                Line2D([0], [0], color='black', lw=2)]\n",
    "\n",
    "ax[0][1].legend(custom_lines, ['All workers', 'Perm boost', 'Phase out', 'Temp boost'], loc='upper left')\n",
    "\n",
    "# save figure\n",
    "plt.savefig(fig_folder + 'skill_intensity.png', dpi=300, bbox_inches='tight')\n",
    "# save figure pdf\n",
    "plt.savefig(fig_folder + 'skill_intensity.pdf', dpi=300, bbox_inches='tight')\n",
    "# save figure svg\n",
    "plt.savefig(fig_folder + 'skill_intensity.svg', dpi=300, bbox_inches='tight')\n",
    "\n",
    "plt.show()"
   ]
  },
  {
   "cell_type": "code",
   "execution_count": null,
   "id": "f0ec044c",
   "metadata": {
    "ExecuteTime": {
     "end_time": "2023-05-01T08:31:04.764490Z",
     "start_time": "2023-05-01T08:31:04.249942Z"
    }
   },
   "outputs": [],
   "source": [
    "cols = ['Wind-capex', 'Solar-capex',\n",
    "       'Natural gas-capex', 'Coal-capex', 'Biomass-capex', 'Geothermal-capex',\n",
    "       'Hydro-capex', 'Battery storage-capex', 'T&D-capex', 'Biomass-opex', 'Coal-opex',\n",
    "       'Solar-opex', 'Natural gas-opex', 'Geothermal-opex', 'Hydro-opex',\n",
    "       'Nuclear-opex', 'Wind-opex', 'Transmission and distribution-opex',\n",
    "       'Battery storage-opex']\n",
    "\n",
    "df_full = pd.DataFrame()\n",
    "for yr in range(2021, 2050, 1):\n",
    "    df = pd.read_csv(output_folder + 'diff_baseline_employment_effects_' + \\\n",
    "                                        str(yr-1) + '-'+ str(yr) + \\\n",
    "                                         '__' + version + '.csv', index_col=0)\n",
    "    df['year'] = yr\n",
    "    df_full = pd.concat([df_full, df])\n",
    "\n",
    "df_full = df_full.reset_index().set_index(['index', 'year'])\n",
    "df_try = df_full.loc[:,cols].unstack().T.copy()\n",
    "df_try.index = df_try.index.droplevel(0)\n",
    "df_try = df_try.groupby(df_try.index).sum()\n",
    "df_try.loc[2020, :] = 0\n",
    "df_try.sort_index(inplace=True)\n",
    "\n",
    "cumul_plus = df_try[df_try > 0].sum()\n",
    "cumul_min = -1 * df_try[df_try < 0].sum()\n",
    "\n",
    "# cumul_plus = temp + perm\n",
    "# cumul_min = lost + temp\n",
    "dff = (cumul_plus - cumul_min)\n",
    "\n",
    "perm = dff.clip(lower=0.0)\n",
    "lost = (-1 * dff).clip(lower=0.0)\n",
    "temp = (cumul_plus - perm)\n",
    "\n",
    "ind_perm = perm\n",
    "ind_lost = lost\n",
    "ind_temp = temp\n",
    "split_year = 2034\n",
    "end_year = 2038\n",
    "# shock 2035 split\n",
    "df_until2035 = df_full.loc[df_full.index.get_level_values('year').isin(range(2020, split_year + 1)), 'emp_tot'].groupby(df_full.loc[df_full.index.get_level_values('year').isin(range(2020, split_year + 1))].index.get_level_values('index')).sum()\n",
    "df_after2035 = df_full.loc[df_full.index.get_level_values('year').isin(range(split_year + 1, end_year + 1)), 'emp_tot'].groupby(df_full.loc[df_full.index.get_level_values('year').isin(range(split_year + 1, end_year + 1))].index.get_level_values('index')).sum()\n",
    "\n",
    "# rel employment 2035 split\n",
    "merged_2035 = df_occ.merge(df_until2035, left_on='OCC_CODE', right_index=True, how='right')\n",
    "merged_2035.set_index('OCC_CODE', inplace=True)\n",
    "df_until2035_rel_emp = merged_2035.emp_tot / merged_2035.TOT_EMP\n",
    "\n",
    "merged_2035 = df_occ.merge(df_after2035, left_on='OCC_CODE', right_index=True, how='right')\n",
    "merged_2035.set_index('OCC_CODE', inplace=True)\n",
    "df_after2035_rel_emp = merged_2035.emp_tot / merged_2035.TOT_EMP\n",
    "ind_profs = pd.concat([ind_temp, ind_lost, ind_perm], axis=1).rename(columns={0: 'temp', 1: 'lost', 2: 'perm'})\n",
    "\n",
    "ind_profs = ind_profs.merge(df_occ, right_on='OCC_CODE', left_index=True, how='outer')\n",
    "# rel shock\n",
    "ind_profs_rel_shock = ind_profs.copy()\n",
    "ind_profs_rel_shock[['temp', 'lost', 'perm']] = ind_profs_rel_shock[['temp', 'lost', 'perm']].div(ind_profs_rel_shock[['temp', 'lost', 'perm']].sum())\n",
    "\n",
    "# rel employment\n",
    "ind_profs_rel_emp = ind_profs.copy()\n",
    "ind_profs_rel_emp[['temp', 'lost', 'perm']] = ind_profs_rel_emp[['temp', 'lost', 'perm']].div(ind_profs_rel_emp.TOT_EMP, axis=0)\n",
    "\n",
    "# RCA\n",
    "ind_profs_rca = ind_profs.copy()\n",
    "ind_profs_rca.TOT_EMP = ind_profs_rca.TOT_EMP / ind_profs_rca.TOT_EMP.sum()\n",
    "ind_profs_rca[['temp', 'lost', 'perm']] = ind_profs_rca[['temp', 'lost', 'perm']].div(ind_profs_rca[['temp', 'lost', 'perm']].sum())# = ind_profs_rca.div(ind_profs_rca.sum())\n",
    "# and\n",
    "ind_profs_rca[['temp', 'lost', 'perm']] = ind_profs_rca[['temp', 'lost', 'perm']].div(ind_profs_rca.TOT_EMP, axis=0)\n",
    "ind_profs = ind_profs.drop(['OCC_TITLE', 'TOT_EMP'], axis=1).set_index('OCC_CODE')\n",
    "ind_profs_rel_emp = ind_profs_rel_emp.drop(['OCC_TITLE', 'TOT_EMP'], axis=1).set_index('OCC_CODE')\n",
    "ind_profs_rel_shock = ind_profs_rel_shock.drop(['OCC_TITLE', 'TOT_EMP'], axis=1).set_index('OCC_CODE')\n",
    "ind_profs_rca = ind_profs_rca.drop(['OCC_TITLE', 'TOT_EMP'], axis=1).set_index('OCC_CODE')"
   ]
  },
  {
   "cell_type": "code",
   "execution_count": null,
   "id": "564c8a6c",
   "metadata": {
    "ExecuteTime": {
     "end_time": "2023-05-01T08:31:06.573137Z",
     "start_time": "2023-05-01T08:31:06.529135Z"
    }
   },
   "outputs": [],
   "source": [
    "display(ind_profs.head())\n",
    "display(ind_profs_rel_emp.head())\n",
    "display(ind_profs_rel_shock.head())\n",
    "display(ind_profs_rca.head())"
   ]
  },
  {
   "cell_type": "code",
   "execution_count": null,
   "id": "3a7e2cb4",
   "metadata": {
    "ExecuteTime": {
     "end_time": "2023-05-01T08:31:06.937165Z",
     "start_time": "2023-05-01T08:31:06.908165Z"
    }
   },
   "outputs": [],
   "source": [
    "thres = 0.01\n",
    "display((ind_profs_rel_emp > thres).sum())\n",
    "ind_profs_rel_emp_25 = ind_profs_rel_emp.copy()\n",
    "ind_profs_rel_emp_25['idmax'] = ind_profs_rel_emp_25.idxmax(axis=1)\n",
    "ind_profs_rel_emp_25 = ind_profs_rel_emp_25.loc[(ind_profs_rel_emp_25.drop('idmax', axis=1)>thres).any(axis=1)]\n",
    "print(skills_pivot.drop(ind_profs_rel_emp_25.index, axis=1).shape[1])"
   ]
  },
  {
   "cell_type": "code",
   "execution_count": null,
   "id": "ddf344ab",
   "metadata": {
    "ExecuteTime": {
     "end_time": "2023-04-10T09:11:07.310167Z",
     "start_time": "2023-04-10T09:11:07.286205Z"
    }
   },
   "outputs": [],
   "source": [
    "ind_profs_rel_emp.to_csv('../results/data_out/occs_archetypes_dynamic.csv')"
   ]
  },
  {
   "cell_type": "code",
   "execution_count": null,
   "id": "c15a0864",
   "metadata": {
    "ExecuteTime": {
     "end_time": "2023-05-01T08:31:12.943053Z",
     "start_time": "2023-05-01T08:31:12.921022Z"
    }
   },
   "outputs": [],
   "source": [
    "occ_arch = pd.read_csv('../data/omn/occ_archetypes_thresholds_relbase_2034_2038.csv')\n",
    "occ_arch = occ_arch[['O*NET-SOC Code', 'Phase_out_r0.01', 'Permanent_boost_r0.01', \n",
    "                     'Temporary_boost_r0.01', 'Late_boost_r0.01']]\n",
    "occ_arch.rename(columns = {'O*NET-SOC Code': 'OCC_CODE', 'Phase_out_r0.01': 'lost', 'Permanent_boost_r0.01': 'perm', \n",
    "                     'Temporary_boost_r0.01': 'temp', 'Late_boost_r0.01': 'late'}, inplace=True)\n",
    "occ_arch.set_index('OCC_CODE', inplace=True)"
   ]
  },
  {
   "cell_type": "code",
   "execution_count": null,
   "id": "80032b9d",
   "metadata": {
    "ExecuteTime": {
     "end_time": "2023-05-01T08:31:14.890263Z",
     "start_time": "2023-05-01T08:31:14.841264Z"
    }
   },
   "outputs": [],
   "source": [
    "for idm in ['lost', 'perm', 'temp']:\n",
    "    with pd.option_context(\"max_colwidth\", 1000):\n",
    "        #print(bls[bls.OCC_CODE.isin(ind_profs_rel_emp_25[ind_profs_rel_emp_25.idmax == idm].index)][['OCC_CODE', 'OCC_TITLE', 'A_MEAN']].to_latex())\n",
    "        print(bls[bls.OCC_CODE.isin(occ_arch[occ_arch[idm] == 1].index)][['OCC_CODE', 'OCC_TITLE', 'A_MEAN']].to_latex())"
   ]
  },
  {
   "cell_type": "code",
   "execution_count": null,
   "id": "c23e963f",
   "metadata": {
    "ExecuteTime": {
     "end_time": "2023-05-01T08:31:16.299907Z",
     "start_time": "2023-05-01T08:31:16.274907Z"
    }
   },
   "outputs": [],
   "source": [
    "(ind_profs_rca > 5).sum()\n",
    "\n",
    "ind_profs_rca_five = ind_profs_rca.copy()\n",
    "ind_profs_rca_five['idmax'] = ind_profs_rca_five.idxmax(axis=1)\n",
    "\n",
    "ind_profs_rca_five\n",
    "\n",
    "# only those with rca > 5\n",
    "ind_profs_rca_five = ind_profs_rca_five.loc[(ind_profs_rca_five.drop('idmax', axis=1)>5).any(axis=1)]\n",
    "\n",
    "ind_profs_rca_five.idmax.value_counts()\n",
    "\n",
    "skills_pivot.drop(ind_profs_rca_five.index, axis=1).shape[1]"
   ]
  },
  {
   "cell_type": "code",
   "execution_count": null,
   "id": "0381f561",
   "metadata": {
    "ExecuteTime": {
     "end_time": "2023-05-01T08:31:18.041683Z",
     "start_time": "2023-05-01T08:31:18.028626Z"
    }
   },
   "outputs": [],
   "source": [
    "skills_pivot.index.to_list()"
   ]
  },
  {
   "cell_type": "code",
   "execution_count": null,
   "id": "c48ca67e",
   "metadata": {
    "ExecuteTime": {
     "end_time": "2023-05-01T08:31:21.309399Z",
     "start_time": "2023-05-01T08:31:20.403197Z"
    }
   },
   "outputs": [],
   "source": [
    "#ax = skills_pivot.drop(ind_profs_rel_emp_25.index, axis=1) \\\n",
    "ax = skills_pivot.drop(occ_arch[occ_arch.sum(axis=1) > 0].index, axis=1) \\\n",
    "                .T.plot(kind='hist', color='red', alpha=1, subplots=True, \n",
    "                        legend=False, density=True, histtype='step', \n",
    "                        figsize=(10,5), layout=(2,3), ylim=(0,12), title=skills_pivot.index.to_list())\n",
    "for item, col in zip(['perm', 'lost', 'temp'], ['blue', 'green', 'black']):\n",
    "    #skills_pivot.loc[:, ind_profs_rel_emp_25[ind_profs_rel_emp_25.idmax == item].index\n",
    "    skills_pivot.loc[:, occ_arch[occ_arch[item] == 1].index] \\\n",
    "                    .T.plot(kind='hist', ax=ax, subplots=True, \n",
    "                            color=col, alpha=1, legend=False, \n",
    "                            density=True, histtype='step')\n",
    "    \n",
    "from matplotlib.lines import Line2D\n",
    "custom_lines = [Line2D([0], [0], color='red', lw=2),\n",
    "                Line2D([0], [0], color='blue', lw=2),\n",
    "                Line2D([0], [0], color='green', lw=2),\n",
    "                Line2D([0], [0], color='black', lw=2)]\n",
    "\n",
    "ax[0][0].legend(custom_lines, ['Other', 'Perm boost', 'Phase out', 'Temp boost'], loc='upper left')\n",
    "\n",
    "# save figure\n",
    "plt.savefig(fig_folder + 'skill_intensity_occ_archetypes.png', dpi=300, bbox_inches='tight')\n",
    "# save figure pdf\n",
    "plt.savefig(fig_folder + 'skill_intensity_occ_archetypes.pdf', dpi=300, bbox_inches='tight')\n",
    "# save figure svg\n",
    "plt.savefig(fig_folder + 'skill_intensity_occ_archetypes.svg', dpi=300, bbox_inches='tight')"
   ]
  },
  {
   "cell_type": "code",
   "execution_count": null,
   "id": "5d6849db",
   "metadata": {},
   "outputs": [],
   "source": [
    "occ_arch"
   ]
  },
  {
   "cell_type": "code",
   "execution_count": null,
   "id": "8a79e6ee",
   "metadata": {},
   "outputs": [],
   "source": [
    "df_names = pd.read_csv(data_out + 'occ_names_bls_minor_major.csv', index_col=0)"
   ]
  },
  {
   "cell_type": "code",
   "execution_count": null,
   "id": "12ad9482",
   "metadata": {},
   "outputs": [],
   "source": [
    "# select from df_names all OCC_CODE from occ_arch with perm=1\n",
    "otherr = 1\n",
    "for archetype in ['lost', 'perm', 'temp', 'late']:\n",
    "    print(archetype)\n",
    "    perc_arch = df_names[df_names['OCC_CODE'].isin(occ_arch[occ_arch[archetype] == 1].index)].TOT_EMP.sum() / df_names.TOT_EMP.sum()\n",
    "    print(perc_arch)\n",
    "    otherr -= perc_arch\n",
    "print(otherr)"
   ]
  },
  {
   "cell_type": "code",
   "execution_count": null,
   "id": "d07e41fa",
   "metadata": {},
   "outputs": [],
   "source": [
    "temp_occs = df_names[df_names['OCC_CODE'].isin(occ_arch[occ_arch['temp'] == 1].index)]\n",
    "other_occs = df_names[df_names['OCC_CODE'].isin(occ_arch[occ_arch.sum(axis=1) == 0].index)]"
   ]
  },
  {
   "cell_type": "code",
   "execution_count": null,
   "id": "8ea5c586",
   "metadata": {},
   "outputs": [],
   "source": [
    "# temp jobs\n",
    "\n",
    "for grouping in ['OCC_TITLE_major', 'OCC_TITLE_minor']:\n",
    "    for gr_name in df_names[grouping].unique():\n",
    "        gr_in_temp = temp_occs[temp_occs[grouping] == gr_name].TOT_EMP.sum()\n",
    "        gr_in_total = df_names[df_names[grouping] == gr_name].TOT_EMP.sum()\n",
    "        print(gr_name, '\\n', gr_in_temp/gr_in_total)"
   ]
  },
  {
   "cell_type": "code",
   "execution_count": null,
   "id": "b616d07d",
   "metadata": {},
   "outputs": [],
   "source": [
    "for grouping in ['OCC_TITLE_major', 'OCC_TITLE_minor']:\n",
    "    for gr_name in df_names[grouping].unique():\n",
    "        gr_in_others = other_occs[other_occs[grouping] == gr_name].TOT_EMP.sum()\n",
    "        gr_in_total = df_names[df_names[grouping] == gr_name].TOT_EMP.sum()\n",
    "        print(gr_name, '\\n', gr_in_others/gr_in_total)"
   ]
  },
  {
   "attachments": {},
   "cell_type": "markdown",
   "id": "0fbd39c7",
   "metadata": {},
   "source": [
    "# Add network"
   ]
  },
  {
   "cell_type": "code",
   "execution_count": null,
   "id": "7ea0f18d",
   "metadata": {
    "ExecuteTime": {
     "end_time": "2023-05-01T08:31:23.937244Z",
     "start_time": "2023-05-01T08:31:23.850195Z"
    }
   },
   "outputs": [],
   "source": [
    "mixed = pd.read_csv('../data/omn/edgelist_cc_mobility_merge.csv')"
   ]
  },
  {
   "cell_type": "code",
   "execution_count": null,
   "id": "2fdbb06e",
   "metadata": {
    "ExecuteTime": {
     "end_time": "2023-05-01T08:31:24.859498Z",
     "start_time": "2023-05-01T08:31:24.491450Z"
    }
   },
   "outputs": [],
   "source": [
    "omn = mixed.pivot_table(index='OCC_source', columns='OCC_target', values='transition_prob_BLS_ASECnorm_corr', fill_value=0.0)\n",
    "cc = mixed.pivot_table(index='OCC_source', columns='OCC_target', values='trans_prob_cc', fill_value=0.0)\n",
    "mixed05 = mixed.pivot_table(index='OCC_source', columns='OCC_target', values='trans_merge_alpha05', fill_value=0.0)\n",
    "mixed63 = mixed.pivot_table(index='OCC_source', columns='OCC_target', values='trans_merge_alphaweight', fill_value=0.0)"
   ]
  },
  {
   "cell_type": "code",
   "execution_count": null,
   "id": "32023949",
   "metadata": {
    "ExecuteTime": {
     "end_time": "2023-05-01T08:31:25.653473Z",
     "start_time": "2023-05-01T08:31:25.642473Z"
    }
   },
   "outputs": [],
   "source": [
    "# cc and omn do not have the same codes. \n",
    "print(set(cc.index) - set(omn.index))\n",
    "print(set(omn.index) - set(cc.index))"
   ]
  },
  {
   "attachments": {},
   "cell_type": "markdown",
   "id": "42dbbd67",
   "metadata": {},
   "source": [
    "## Assortativity"
   ]
  },
  {
   "attachments": {},
   "cell_type": "markdown",
   "id": "1301ae3e",
   "metadata": {},
   "source": [
    "From Maria: Clustering and assortativity of attributes\n",
    "\n",
    "Networkx only has inbuilt function for assortativity coefficient of integer values in unweighted networks. We code our assortativity coefficient for weighted and directed networks with scalar attributes. This coefficient is given by\n",
    "\n",
    "$$\n",
    "r = \\frac{\\sum_{ij} \\left(A_{ij} - \\frac{s_i^+ s_j^-}{W}\\right)x_ix_j}{\\sqrt{\\sum_{ij} \\left(k_i^-\\delta_{ij} - \\frac{s_i^+ s_j^+}{W}\\right)x_ix_j\\sum_{ij} \\left(k_i^-\\delta_{ij} - \\frac{s_i^- s_j^-}{W}\\right)x_ix_j} }\n",
    "$$\n",
    "where $A$ is the weighted adjacency matrix, $s_i^+$ and $s_i^-$ are the in and out strenghts of node $i$ given by\n",
    "$$ s_i^+ = \\sum_j A_{ij}$$\n",
    "$$ s_i^- = \\sum_i A_{ij}$$\n",
    "and\n",
    "$$W = \\sum_{ij}A_{ij} $$\n",
    "is the sum of the weights of all edges in the network."
   ]
  },
  {
   "cell_type": "code",
   "execution_count": null,
   "id": "e52e5de3",
   "metadata": {
    "ExecuteTime": {
     "end_time": "2023-05-01T08:31:32.438189Z",
     "start_time": "2023-05-01T08:31:32.370196Z"
    }
   },
   "outputs": [],
   "source": [
    "# function that gives assortativity coefficient (to double check I coded it for the\n",
    "# definition and simplified formula we derive. They both give same results)\n",
    "\n",
    "def delta_kron(i,j):\n",
    "    if i == j:\n",
    "        return 1\n",
    "    else:\n",
    "        return 0\n",
    "\n",
    "def assortativity_weighted_directed(A, x, direction='both'):\n",
    "    \"\"\"\n",
    "    Computes assortativity coefficient for weighted and directed networks\n",
    "    A(np array): adjacency matrix of network\n",
    "    x(np array): nodes' attributes\n",
    "    NOTE error in standard deviatos, should be strenght instead of A\n",
    "    \"\"\"\n",
    "    n = A.shape[0]\n",
    "    W = A.sum()\n",
    "    W_div = 1/W\n",
    "    # outstregth\n",
    "    s_plus = A.sum(axis=1)\n",
    "    # instrength\n",
    "    s_minus = A.sum(axis=0)\n",
    "    # naming covariance and sf for + and -\n",
    "    cov = 0\n",
    "    sd_plus = 0\n",
    "    sd_minus = 0\n",
    "    for i in range(n):\n",
    "        for j in range(n):\n",
    "            if direction == 'both':\n",
    "                cov += (A[i,j] - W_div * s_plus[i]*s_minus[j])*x[i]*x[j]\n",
    "                sd_plus += (s_plus[i]*delta_kron(i,j) - W_div * s_plus[i]*s_plus[j])*x[i]*x[j]\n",
    "                sd_minus += (s_minus[j]*delta_kron(i,j) - W_div * s_minus[i]*s_minus[j])*x[i]*x[j]\n",
    "            if direction == 'out':\n",
    "                cov += (A[i,j] - W_div * s_plus[i]*s_plus[j])*x[i]*x[j]\n",
    "                sd_plus += (s_plus[i]*delta_kron(i,j) - W_div * s_plus[i]*s_plus[j])*x[i]*x[j]\n",
    "                sd_minus += (s_plus[j]*delta_kron(i,j) - W_div * s_plus[i]*s_plus[j])*x[i]*x[j]\n",
    "            if direction == 'in':\n",
    "                cov += (A[i,j] - W_div * s_minus[i]*s_minus[j])*x[i]*x[j]\n",
    "                sd_plus += (s_minus[i]*delta_kron(i,j) - W_div * s_minus[i]*s_minus[j])*x[i]*x[j]\n",
    "                sd_minus += (s_minus[j]*delta_kron(i,j) - W_div * s_minus[i]*s_minus[j])*x[i]*x[j]\n",
    "    return cov / np.sqrt(sd_plus * sd_minus)\n",
    "\n",
    "def assortativity_weighted_directed_v2(A, x, direction = 'both'):\n",
    "    \"\"\"\n",
    "    Computes assortativity coefficient for weighted and directed networks\n",
    "    A(np array): adjacency matrix of network\n",
    "    x(np array): nodes' attributes\n",
    "    JB changes: following https://arxiv.org/pdf/2101.05389.pdf\n",
    "    \"\"\"\n",
    "    \n",
    "    n = A.shape[0]\n",
    "    W = A.sum()\n",
    "    W_div = 1/W\n",
    "    # outstregth\n",
    "    s_plus = A.sum(axis=1)\n",
    "    # instrength\n",
    "    s_minus = A.sum(axis=0)\n",
    "    # average over in and out str\n",
    "    mu_plus = (s_plus * x).sum() * W_div\n",
    "    mu_minus = (s_minus * x).sum() * W_div\n",
    "    # naming covariance and sf for + and -\n",
    "    cov = 0\n",
    "    sd_plus = 0\n",
    "    sd_minus = 0\n",
    "    for i in range(n):\n",
    "        for j in range(n):\n",
    "            if direction == 'both':\n",
    "                cov += A[i,j] * (x[i] - mu_plus) * (x[j] - mu_minus)\n",
    "                sd_plus += A[i,j] * (x[i] - mu_plus)** 2\n",
    "                sd_minus += A[i,j] * (x[j] - mu_minus)** 2\n",
    "            if direction == 'out':\n",
    "                cov += A[i,j] * (x[i] - mu_plus) * (x[j] - mu_plus)\n",
    "                sd_plus += A[i,j] * (x[i] - mu_plus)** 2\n",
    "                sd_minus += A[i,j] * (x[i] - mu_plus)** 2\n",
    "            if direction == 'in':\n",
    "                cov += A[i,j] * (x[i] - mu_minus) * (x[j] - mu_minus)\n",
    "                sd_plus += A[i,j] * (x[j] - mu_minus)** 2\n",
    "                sd_minus += A[i,j] * (x[j] - mu_minus)** 2\n",
    "    return cov / np.sqrt(sd_plus * sd_minus)\n",
    "\n",
    "def assortativity_weighted_directed_v2_vectorized(A, x, direction='both'):\n",
    "    \"\"\"\n",
    "    Computes assortativity coefficient for weighted and directed networks\n",
    "    A(np array): adjacency matrix of network\n",
    "    x(np array): nodes' attributes\n",
    "    JB changes: following https://arxiv.org/pdf/2101.05389.pdf\n",
    "    \"\"\"\n",
    "\n",
    "    n = A.shape[0]\n",
    "    W = A.sum()\n",
    "    W_div = 1/W\n",
    "    # outstregth\n",
    "    s_plus = A.sum(axis=1)\n",
    "    # instrength\n",
    "    s_minus = A.sum(axis=0)\n",
    "    # average over in and out str\n",
    "    mu_plus = (s_plus * x).sum() * W_div\n",
    "    mu_minus = (s_minus * x).sum() * W_div\n",
    "\n",
    "    cov = A@(x - mu_minus)@(x - mu_plus)\n",
    "    sd_plus = np.sum(A.T@((x - mu_plus) ** 2))\n",
    "    sd_minus = np.sum(A@((x - mu_minus) ** 2))\n",
    "        \n",
    "    return cov / np.sqrt(sd_plus * sd_minus)\n",
    "\n",
    "\n",
    "def assortativity_weighted_directed_discrete_vectorized(A, x):\n",
    "    \"\"\"\n",
    "    Computes assortativity coefficient for weighted and directed networks\n",
    "    A(np array): adjacency matrix of network\n",
    "    x(np array): nodes' discrete attributes, categorical\n",
    "    JB changes: follows Eq 2 of Newman (2002): https://journals.aps.org/pre/pdf/10.1103/PhysRevE.67.026126,\n",
    "    but it weighs everything\n",
    "    \"\"\"\n",
    "    x = np.array(x)\n",
    "    set_of_types = set(x)\n",
    "    e = np.zeros((len(set_of_types), len(set_of_types)))\n",
    "    for i,typeS in enumerate(set_of_types):\n",
    "        for j,typeT in enumerate(set_of_types):\n",
    "            A_ij = A[x == typeS].T[x == typeT]\n",
    "            e[i,j] = A_ij.sum() / A.sum()\n",
    "            \n",
    "    a = e.sum(axis=0)\n",
    "    b = e.sum(axis=1)\n",
    "    \n",
    "    r = (np.diag(e).sum() - (a*b).sum()) / (1 - (a*b).sum())\n",
    "    return r\n",
    "\n",
    "def assortativity_weighted_directed_discrete_vectorized_v2(A, x):\n",
    "    \"\"\"\n",
    "    Computes assortativity coefficient for weighted and directed networks\n",
    "    A(np array): adjacency matrix of network\n",
    "    x(np array): nodes' discrete attributes, categorical\n",
    "    JB changes: follows Eq 2 of Newman (2002): https://journals.aps.org/pre/pdf/10.1103/PhysRevE.67.026126,\n",
    "    but it weighs everything\n",
    "    \"\"\"\n",
    "    x = np.array(x)\n",
    "    set_of_types = set(x)\n",
    "    e = np.zeros((len(set_of_types), len(set_of_types)))\n",
    "    for i,typeS in enumerate(set_of_types):\n",
    "        for j,typeT in enumerate(set_of_types):\n",
    "            A_ij = A[x == typeS].T[x == typeT]\n",
    "            e[i,j] = A_ij.sum() / A.sum()\n",
    "            \n",
    "    e2_sum = np.linalg.matrix_power(e, 2).sum()\n",
    "    \n",
    "    r = (np.trace(e) - e2_sum) / (1 - e2_sum)\n",
    "\n",
    "    return r\n",
    "\n",
    "def shuffle_assort(A, x, categorical):\n",
    "    np.random.shuffle(x)\n",
    "    if categorical:\n",
    "        return assortativity_weighted_directed_discrete_vectorized(A, x)\n",
    "    else:\n",
    "        return assortativity_weighted_directed_v2_vectorized(A, x)\n",
    "\n",
    "from tqdm import tqdm\n",
    "def assort_bounds(A, x, size = 100000, categorical = False):\n",
    "    shuffles = [shuffle_assort(A, x, categorical) for i in tqdm(range(size))]\n",
    "    shuffles.sort()\n",
    "    bounds = [shuffles[int(size / 1000)], shuffles[int(size / 100)], shuffles[int(size / 20)],\n",
    "              shuffles[-1 + int(size / -1000)], shuffles[-1 + int(size / -100)], shuffles[-1 + int(size / -20)]]\n",
    "    vals = np.array(shuffles)\n",
    "    return bounds, np.nanmean(vals), np.nanstd(vals)"
   ]
  },
  {
   "attachments": {},
   "cell_type": "markdown",
   "id": "853fe8a2",
   "metadata": {},
   "source": [
    "Testing our algorithm with trivial cases and also real network and compare with networkx\n",
    "We first test both our versions coincide and get right the trivial cases. We then test that our algorithm reproduces the assortative coefficinet for an unweighted undirected network where nodes have integer attributes.\n"
   ]
  },
  {
   "cell_type": "code",
   "execution_count": null,
   "id": "820e8a93",
   "metadata": {
    "ExecuteTime": {
     "end_time": "2023-05-01T08:31:33.081221Z",
     "start_time": "2023-05-01T08:31:33.058245Z"
    }
   },
   "outputs": [],
   "source": [
    "# Trivial cases\n",
    "A_two_cliques = np.array([[0, 1, 0, 0], [1, 0, 0, 0], [0, 0, 0, 1], [0, 0, 1, 0]])\n",
    "x_assortative = [1,0.3, 0, 0]\n",
    "x_dissasortative = [1,0, 1, 0]\n",
    "x_mix = [1,0, 0, 0]\n",
    "print(\"Assortative case, alg v1\", assortativity_weighted_directed(A_two_cliques, x_assortative))\n",
    "print(\"Assortative case, alg v2\", assortativity_weighted_directed_v2(A_two_cliques, x_assortative))\n",
    "print(\"Dissasortative case, alg v1\", assortativity_weighted_directed(A_two_cliques, x_dissasortative))\n",
    "print(\"Dissasortative case, alg v2\", assortativity_weighted_directed_v2(A_two_cliques, x_dissasortative))\n",
    "print(\"mix case, alg v1\", assortativity_weighted_directed(A_two_cliques, x_mix))\n",
    "print(\"mix case, alg v2\", assortativity_weighted_directed_v2(A_two_cliques, x_mix))\n"
   ]
  },
  {
   "cell_type": "code",
   "execution_count": null,
   "id": "794a70fd",
   "metadata": {
    "ExecuteTime": {
     "end_time": "2023-05-01T08:31:34.189290Z",
     "start_time": "2023-05-01T08:31:34.163271Z"
    }
   },
   "outputs": [],
   "source": [
    "# Less trivial cases\n",
    "A_two_connected_cliques = np.array([[0, 1, 1, 0], [1, 0, 0, 0], [0, 0, 0, 1], [1, 0, 1, 0]])\n",
    "x_assortative = [1,1, 0, 0]\n",
    "x_dissasortative = [1,0, 1, 0.2]\n",
    "x_mix = [1,0, 0, 0]\n",
    "print(\"Assortative case, alg v1    \", assortativity_weighted_directed(A_two_connected_cliques, x_assortative))\n",
    "print(\"Assortative case, alg v2    \", assortativity_weighted_directed_v2(A_two_connected_cliques, x_assortative))\n",
    "print(\"Assortative case, alg v2 vec\", assortativity_weighted_directed_v2_vectorized(A_two_connected_cliques, x_assortative))\n",
    "print(\"Dissasortative case, alg v1    \", assortativity_weighted_directed(A_two_connected_cliques, x_dissasortative))\n",
    "print(\"Dissasortative case, alg v2    \", assortativity_weighted_directed_v2(A_two_connected_cliques, x_dissasortative))\n",
    "print(\"Disassortative case, alg v2 vec\", assortativity_weighted_directed_v2_vectorized(A_two_connected_cliques, x_dissasortative))\n",
    "print(\"mix case, alg v1    \", assortativity_weighted_directed(A_two_connected_cliques, x_mix))\n",
    "print(\"mix case, alg v2    \", assortativity_weighted_directed_v2(A_two_connected_cliques, x_mix))\n",
    "print(\"mix case, alg v2 vec\", assortativity_weighted_directed_v2_vectorized(A_two_connected_cliques, x_mix))"
   ]
  },
  {
   "cell_type": "code",
   "execution_count": null,
   "id": "103d470e",
   "metadata": {
    "ExecuteTime": {
     "end_time": "2023-05-01T08:31:34.769650Z",
     "start_time": "2023-05-01T08:31:34.756595Z"
    }
   },
   "outputs": [],
   "source": [
    "# discrete trivial cases\n",
    "A_two_cliques = np.array([[0, 1, 0, 0], [1, 0, 0, 0], [0, 0, 0, 1], [0, 0, 1, 0]])\n",
    "x_assortative = [1,1, 0, 0]\n",
    "x_dissasortative = [1,0, 1, 0]\n",
    "x_mix = [1,0, 0, 0]\n",
    "print(\"Assortative case, alg v2\", assortativity_weighted_directed_v2(A_two_cliques, x_assortative))\n",
    "print(\"Dissasortative case, alg v2\", assortativity_weighted_directed_v2(A_two_cliques, x_dissasortative))\n",
    "print(\"mix case, alg v2\", assortativity_weighted_directed_v2(A_two_cliques, x_mix))\n",
    "print(\"Assortative case, alg disc\", assortativity_weighted_directed_discrete_vectorized(A_two_cliques, x_assortative))\n",
    "print(\"Dissasortative case, alg disc\", assortativity_weighted_directed_discrete_vectorized(A_two_cliques, x_dissasortative))\n",
    "print(\"mix case, alg disc\", assortativity_weighted_directed_discrete_vectorized(A_two_cliques, x_mix))\n",
    "print(\"Assortative case, alg disc v2\", assortativity_weighted_directed_discrete_vectorized_v2(A_two_cliques, x_assortative))\n",
    "print(\"Dissasortative case, alg disc v2\", assortativity_weighted_directed_discrete_vectorized_v2(A_two_cliques, x_dissasortative))\n",
    "print(\"mix case, alg disc v2\", assortativity_weighted_directed_discrete_vectorized_v2(A_two_cliques, x_mix))"
   ]
  },
  {
   "cell_type": "code",
   "execution_count": null,
   "id": "57886869",
   "metadata": {
    "ExecuteTime": {
     "end_time": "2023-05-01T08:31:35.249656Z",
     "start_time": "2023-05-01T08:31:35.235647Z"
    },
    "scrolled": false
   },
   "outputs": [],
   "source": [
    "# discrete less trivial cases\n",
    "A_two_cliques = np.array([[0, 1, 1, 0], [1, 0, 0, 0], [0, 0, 0, 1], [0, 0, 1, 0]])\n",
    "x_assortative = [1,1, 2, 2]\n",
    "x_dissasortative = [1,0, 1, 3]\n",
    "x_mix = [1,2, 3, 3]\n",
    "print(\"Assortative case, alg disc\", assortativity_weighted_directed_discrete_vectorized(A_two_cliques, x_assortative))\n",
    "print(\"Dissasortative case, alg disc\", assortativity_weighted_directed_discrete_vectorized(A_two_cliques, x_dissasortative))\n",
    "print(\"mix case, alg disc\", assortativity_weighted_directed_discrete_vectorized(A_two_cliques, x_mix))\n",
    "print(\"Assortative case, alg disc v2\", assortativity_weighted_directed_discrete_vectorized_v2(A_two_cliques, x_assortative))\n",
    "print(\"Dissasortative case, alg disc v2\", assortativity_weighted_directed_discrete_vectorized_v2(A_two_cliques, x_dissasortative))\n",
    "print(\"mix case, alg disc v2\", assortativity_weighted_directed_discrete_vectorized_v2(A_two_cliques, x_mix))"
   ]
  },
  {
   "cell_type": "code",
   "execution_count": null,
   "id": "f147f3bb",
   "metadata": {
    "ExecuteTime": {
     "end_time": "2023-05-01T08:31:39.387092Z",
     "start_time": "2023-05-01T08:31:39.371039Z"
    }
   },
   "outputs": [],
   "source": [
    "occ_arch['oth'] = (1 - occ_arch.sum(axis=1)).clip(lower=0)"
   ]
  },
  {
   "cell_type": "code",
   "execution_count": null,
   "id": "bf883428",
   "metadata": {
    "ExecuteTime": {
     "end_time": "2023-05-01T08:31:40.000953Z",
     "start_time": "2023-05-01T08:31:39.955792Z"
    }
   },
   "outputs": [],
   "source": [
    "omn_no_diag = omn.copy()\n",
    "v = omn_no_diag.values\n",
    "np.fill_diagonal(v, 0)\n",
    "omn_no_diag = pd.DataFrame(data=v, index=omn_no_diag.index, columns=omn_no_diag.columns)\n",
    "omn_no_diag = omn_no_diag.div(omn_no_diag.sum(axis=1), axis=0).fillna(0.0)\n",
    "\n",
    "cc_no_diag  = cc.copy()\n",
    "v = cc_no_diag.values\n",
    "np.fill_diagonal(v, 0)\n",
    "cc_no_diag = pd.DataFrame(data=v, index=cc_no_diag.index, columns=cc_no_diag.columns)\n",
    "cc_no_diag = cc_no_diag.div(cc_no_diag.sum(axis=1), axis=0).fillna(0.0)\n",
    "\n",
    "mixed05_no_diag  = mixed05.copy()\n",
    "v = mixed05_no_diag.values\n",
    "np.fill_diagonal(v, 0)\n",
    "mixed05_no_diag = pd.DataFrame(data=v, index=mixed05_no_diag.index, columns=mixed05_no_diag.columns)\n",
    "mixed05_no_diag = mixed05_no_diag.div(mixed05_no_diag.sum(axis=1), axis=0).fillna(0.0)\n",
    "\n",
    "mixed63_no_diag  = mixed63.copy()\n",
    "v = mixed63_no_diag.values\n",
    "np.fill_diagonal(v, 0)\n",
    "mixed63_no_diag = pd.DataFrame(data=v, index=mixed63_no_diag.index, columns=mixed63_no_diag.columns)\n",
    "mixed63_no_diag = mixed63_no_diag.div(mixed63_no_diag.sum(axis=1), axis=0).fillna(0.0)"
   ]
  },
  {
   "cell_type": "code",
   "execution_count": null,
   "id": "922ee805",
   "metadata": {
    "ExecuteTime": {
     "end_time": "2023-04-10T10:12:35.376040Z",
     "start_time": "2023-04-10T09:13:06.960050Z"
    },
    "scrolled": true
   },
   "outputs": [],
   "source": [
    "# assortativity by weighted and directed\n",
    "#assortativity_weighted_directed_v2(A, x):\n",
    "# assortativity with NetworkX assortativity calculation\n",
    "#import networkx as nx\n",
    "\n",
    "# for df, txt in list(zip([ind_profs_rca, ind_profs, ind_profs_rel_emp, ind_profs_rel_shock, ind_profs_binary_rca, ind_profs_binary_emp], \n",
    "#                     ['RCA', 'Abs', 'Rel to emp', 'Rel to shck', 'binary RCA > 5', 'binary emprel > 0.025'])):\n",
    "assort_list = []\n",
    "for df, txt in list(zip([ind_profs_rel_emp, occ_arch], \n",
    "                    ['Rel to emp', 'binary emprel_1perc'])):\n",
    "    for direc in ['both']:#, 'out', 'in']:\n",
    "        df = df[['temp', 'lost', 'perm']]\n",
    "        print(\"\")\n",
    "        print(txt)\n",
    "        print(direc)\n",
    "        assort = pd.DataFrame(columns=['omn', 'cc', 'mix05', 'mix63'], index=['perm', 'temp', 'lost'])\n",
    "        assort_shuffle = pd.DataFrame(columns=['omn', 'cc', 'mix05', 'mix63'], index=['perm', 'temp', 'lost'])\n",
    "        for netw, name in list(zip([omn_no_diag, cc_no_diag, mixed05_no_diag, mixed63_no_diag], ['omn', 'cc', 'mix05', 'mix63'])):\n",
    "            for att in ['perm', 'temp', 'lost']:\n",
    "                assort.loc[att, name] = assortativity_weighted_directed_v2_vectorized(netw.to_numpy(), df.loc[netw.index, att].to_numpy(), direction=direc)\n",
    "                x_resh = df.loc[netw.index, att].to_numpy()\n",
    "                bounds, mean, std = assort_bounds(netw.to_numpy(), x_resh, size=100000)\n",
    "                assort_shuffle.loc[att, name] = [b.round(3) for b in bounds] + [mean, std]\n",
    "\n",
    "        assort = assort.astype(float)\n",
    "        assort.rename(index={'lost': 'phaseout'}, inplace=True)\n",
    "        assort.to_csv('../results/data_out/assortativity/assort_' + txt + '.csv')\n",
    "        assort_list += [assort]\n",
    "        print(assort.round(3).to_latex())\n",
    "        \n",
    "        #assort_shuffle = assort_shuffle.astype(float)\n",
    "        assort_shuffle.rename(index={'lost': 'phaseout'}, inplace=True)\n",
    "        assort_shuffle.to_csv('../results/data_out/assortativity/assort_bounds_mean_std_' + txt + '.csv')\n",
    "        assort_list += [assort_shuffle]\n",
    "        print(assort_shuffle.to_latex())"
   ]
  },
  {
   "cell_type": "code",
   "execution_count": null,
   "id": "33cfd33d",
   "metadata": {
    "ExecuteTime": {
     "end_time": "2023-04-10T10:32:58.268333Z",
     "start_time": "2023-04-10T10:12:35.986528Z"
    }
   },
   "outputs": [],
   "source": [
    "for df, txt in list(zip([df_until2035_rel_emp, df_after2035_rel_emp], \n",
    "                    ['bef35_rel_emp', 'aft35_rel_emp'])):\n",
    "    print(\"\")\n",
    "    print(txt)\n",
    "    assort = pd.DataFrame(columns=['omn', 'cc', 'mix05', 'mix63'], index=[txt])\n",
    "    assort_shuffle = pd.DataFrame(columns=['omn', 'cc', 'mix05', 'mix63'], index=[txt])\n",
    "    for netw, name in list(zip([omn_no_diag, cc_no_diag, mixed05_no_diag, mixed63_no_diag], ['omn', 'cc', 'mix05', 'mix63'])):\n",
    "        assort.loc[txt, name] = assortativity_weighted_directed_v2_vectorized(netw.to_numpy(), df.loc[netw.index].to_numpy())\n",
    "        x_resh = df.loc[netw.index].to_numpy()\n",
    "        bounds, mean, std  = assort_bounds(netw.to_numpy(), x_resh, size=100000)\n",
    "        assort_shuffle.loc[txt, name] = [b.round(3) for b in bounds] + [mean, std]\n",
    "\n",
    "\n",
    "    assort = assort.astype(float)\n",
    "    assort.to_csv('../results/data_out/assortativity/assort_' + txt + '.csv')\n",
    "    print(assort.round(3).to_latex())\n",
    "    \n",
    "    assort_shuffle.to_csv('../results/data_out/assortativity/assort_bounds_mean_std_' + txt + '.csv')\n",
    "    print(assort_shuffle.to_latex())"
   ]
  },
  {
   "cell_type": "code",
   "execution_count": null,
   "id": "018d197c",
   "metadata": {
    "ExecuteTime": {
     "end_time": "2023-05-01T08:31:48.490192Z",
     "start_time": "2023-05-01T08:31:48.475206Z"
    }
   },
   "outputs": [],
   "source": [
    "occ_discr = occ_arch.stack()\n",
    "occ_discr = occ_discr[occ_discr == 1]"
   ]
  },
  {
   "cell_type": "code",
   "execution_count": null,
   "id": "1870a68b",
   "metadata": {
    "ExecuteTime": {
     "end_time": "2023-05-01T08:31:49.170391Z",
     "start_time": "2023-05-01T08:31:49.158307Z"
    }
   },
   "outputs": [],
   "source": [
    "occ_discr = occ_discr.reset_index().drop(0, axis=1).rename(columns={'level_1': 'type'}).set_index('OCC_CODE')"
   ]
  },
  {
   "cell_type": "code",
   "execution_count": null,
   "id": "e558d8f6",
   "metadata": {
    "ExecuteTime": {
     "end_time": "2023-05-01T08:31:49.763501Z",
     "start_time": "2023-05-01T08:31:49.750497Z"
    }
   },
   "outputs": [],
   "source": [
    "occ_discr"
   ]
  },
  {
   "cell_type": "code",
   "execution_count": null,
   "id": "406b4eff",
   "metadata": {
    "ExecuteTime": {
     "end_time": "2023-04-10T11:45:15.868688Z",
     "start_time": "2023-04-10T10:33:02.553094Z"
    }
   },
   "outputs": [],
   "source": [
    "assort_list = []\n",
    "for df, txt in list(zip([occ_discr], ['binary arch_dicr'])):\n",
    "    df = df['type']\n",
    "    print(\"\")\n",
    "    print(txt)\n",
    "    assort = pd.DataFrame(columns=['omn', 'cc', 'mix05', 'mix63'], index=[txt])\n",
    "    assort_shuffle = pd.DataFrame(columns=['omn', 'cc', 'mix05', 'mix63'], index=[txt])\n",
    "    for netw, name in list(zip([omn_no_diag, cc_no_diag, mixed05_no_diag, mixed63_no_diag], ['omn', 'cc', 'mix05', 'mix63'])):\n",
    "        assort.loc[txt, name] = assortativity_weighted_directed_discrete_vectorized(netw.to_numpy(), df.loc[netw.index].to_numpy())\n",
    "        x_resh = df.loc[netw.index].to_numpy()\n",
    "        bounds, mean, std = assort_bounds(netw.to_numpy(), x_resh, size=100000, categorical=True)\n",
    "        assort_shuffle.loc[txt, name] = [b.round(3) for b in bounds] + [mean, std]\n",
    "\n",
    "    assort = assort.astype(float)\n",
    "    assort.rename(index={'lost': 'phaseout'}, inplace=True)\n",
    "    assort.to_csv('../results/data_out/assortativity/assort_' + txt + '.csv')\n",
    "    assort_list += [assort]\n",
    "    print(assort.round(3).to_latex())\n",
    "\n",
    "    #assort_shuffle = assort_shuffle.astype(float)\n",
    "    assort_shuffle.rename(index={'lost': 'phaseout'}, inplace=True)\n",
    "    assort_shuffle.to_csv('../results/data_out/assortativity/assort_bounds_mean_std_' + txt + '.csv')\n",
    "    assort_list += [assort_shuffle]\n",
    "    print(assort_shuffle.to_latex())"
   ]
  },
  {
   "cell_type": "code",
   "execution_count": null,
   "id": "d23c7097",
   "metadata": {},
   "outputs": [],
   "source": []
  }
 ],
 "metadata": {
  "kernelspec": {
   "display_name": "Python 3 (ipykernel)",
   "language": "python",
   "name": "python3"
  },
  "language_info": {
   "codemirror_mode": {
    "name": "ipython",
    "version": 3
   },
   "file_extension": ".py",
   "mimetype": "text/x-python",
   "name": "python",
   "nbconvert_exporter": "python",
   "pygments_lexer": "ipython3",
   "version": "3.8.4"
  },
  "toc": {
   "base_numbering": 1,
   "nav_menu": {},
   "number_sections": true,
   "sideBar": true,
   "skip_h1_title": false,
   "title_cell": "Table of Contents",
   "title_sidebar": "Contents",
   "toc_cell": false,
   "toc_position": {
    "height": "calc(100% - 180px)",
    "left": "10px",
    "top": "150px",
    "width": "165px"
   },
   "toc_section_display": true,
   "toc_window_display": true
  },
  "varInspector": {
   "cols": {
    "lenName": 16,
    "lenType": 16,
    "lenVar": 40
   },
   "kernels_config": {
    "python": {
     "delete_cmd_postfix": "",
     "delete_cmd_prefix": "del ",
     "library": "var_list.py",
     "varRefreshCmd": "print(var_dic_list())"
    },
    "r": {
     "delete_cmd_postfix": ") ",
     "delete_cmd_prefix": "rm(",
     "library": "var_list.r",
     "varRefreshCmd": "cat(var_dic_list()) "
    }
   },
   "types_to_exclude": [
    "module",
    "function",
    "builtin_function_or_method",
    "instance",
    "_Feature"
   ],
   "window_display": false
  }
 },
 "nbformat": 4,
 "nbformat_minor": 5
}
