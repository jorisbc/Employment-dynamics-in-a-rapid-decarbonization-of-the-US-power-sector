{
 "cells": [
  {
   "cell_type": "code",
   "execution_count": 1,
   "id": "41fa6bfc",
   "metadata": {
    "ExecuteTime": {
     "end_time": "2023-04-01T18:15:36.204040Z",
     "start_time": "2023-04-01T18:15:34.897838Z"
    }
   },
   "outputs": [],
   "source": [
    "import pandas as pd\n",
    "import numpy as np"
   ]
  },
  {
   "cell_type": "code",
   "execution_count": 2,
   "id": "22f93cad",
   "metadata": {
    "ExecuteTime": {
     "end_time": "2023-04-01T18:15:36.219986Z",
     "start_time": "2023-04-01T18:15:36.209025Z"
    }
   },
   "outputs": [],
   "source": [
    "analysis = '../analysis/'\n",
    "data = '../data/'\n",
    "data_out = '../results/data_out/'\n",
    "output_folder = '../results/data_out/results_sensitivity/annual_change_sens/'\n",
    "save_folder = '../results/data_out/results/'\n",
    "fig_folder = '../results/figs/'\n",
    "version = '3_oct_2022'\n",
    "ylim = (-250000, 600000)\n",
    "\n",
    "prel = '4_' # model run id\n",
    "prel_ref = '4_'"
   ]
  },
  {
   "cell_type": "code",
   "execution_count": 3,
   "id": "47bf97b9",
   "metadata": {
    "ExecuteTime": {
     "end_time": "2023-04-01T18:15:36.235933Z",
     "start_time": "2023-04-01T18:15:36.222978Z"
    }
   },
   "outputs": [],
   "source": [
    "scens = ['95% by 2050', '95% by 2035', 'Reference']\n",
    "fast_scen = '95% by 2035'\n",
    "ref_scen = 'Reference'"
   ]
  },
  {
   "cell_type": "code",
   "execution_count": 4,
   "id": "6735ff4c",
   "metadata": {
    "ExecuteTime": {
     "end_time": "2023-04-01T18:16:01.074315Z",
     "start_time": "2023-04-01T18:15:59.521925Z"
    }
   },
   "outputs": [],
   "source": [
    "cols = ['Wind-capex', 'Solar-capex',\n",
    "       'Natural gas-capex', 'Coal-capex', 'Biomass-capex', 'Geothermal-capex',\n",
    "       'Hydro-capex', 'Battery storage-capex', 'T&D-capex', 'Biomass-opex', \n",
    "        'Coal-opex', 'Solar-opex', 'Natural gas-opex', 'Geothermal-opex', \n",
    "        'Hydro-opex', 'Nuclear-opex', 'Wind-opex', \n",
    "        'Transmission and distribution-opex','Battery storage-opex', 'emp_tot']\n",
    "\n",
    "for yr in range(2020, 2049, 1):\n",
    "    df_fast = pd.read_csv(output_folder + prel + 'empl_' + \\\n",
    "                                            fast_scen + '_' + str(yr) + '-'+ str(yr+1) + \\\n",
    "                                             '.csv', index_col=0)\n",
    "\n",
    "    df_ref = pd.read_csv(output_folder + prel_ref + 'empl_' + \\\n",
    "                                            ref_scen + '_' + str(yr) + '-'+ str(yr+1) + \\\n",
    "                                             '.csv', index_col=0)\n",
    "\n",
    "    df_diff = df_fast[cols] - df_ref[cols]\n",
    "\n",
    "    df_diff = pd.concat([df_fast.drop(cols, axis=1), df_diff], axis=1)\n",
    "\n",
    "    df_diff.to_csv(save_folder + 'diff_baseline_employment_effects_' + \\\n",
    "                                            str(yr) + '-'+ str(yr+1) + \\\n",
    "                                             '__' + version + '.csv')"
   ]
  },
  {
   "cell_type": "code",
   "execution_count": 5,
   "id": "c3755c30",
   "metadata": {
    "ExecuteTime": {
     "end_time": "2023-04-01T18:16:01.633456Z",
     "start_time": "2023-04-01T18:16:01.139588Z"
    }
   },
   "outputs": [],
   "source": [
    "for yr in range(2020, 2049, 1):\n",
    "    df_fast = pd.read_csv(output_folder + prel + 'ind_empl_' + \\\n",
    "                                        fast_scen + '_' + str(yr) + '-'+ str(yr+1) + \\\n",
    "                                         '.csv', index_col=0)\n",
    "\n",
    "    df_ref = pd.read_csv(output_folder + prel_ref + 'ind_empl_' + \\\n",
    "                                        ref_scen + '_' + str(yr) + '-'+ str(yr+1) + \\\n",
    "                                         '.csv', index_col=0)\n",
    "\n",
    "    df_diff = df_fast - df_ref\n",
    "\n",
    "    df_diff.to_csv(save_folder + 'industry_employment_effects_' + \\\n",
    "                                            str(yr) + '-'+ str(yr+1) + \\\n",
    "                                             '__' + version + '.csv')"
   ]
  },
  {
   "cell_type": "code",
   "execution_count": null,
   "id": "7e145594",
   "metadata": {},
   "outputs": [],
   "source": []
  }
 ],
 "metadata": {
  "kernelspec": {
   "display_name": "Python 3 (ipykernel)",
   "language": "python",
   "name": "python3"
  },
  "language_info": {
   "codemirror_mode": {
    "name": "ipython",
    "version": 3
   },
   "file_extension": ".py",
   "mimetype": "text/x-python",
   "name": "python",
   "nbconvert_exporter": "python",
   "pygments_lexer": "ipython3",
   "version": "3.8.4"
  },
  "toc": {
   "base_numbering": 1,
   "nav_menu": {},
   "number_sections": true,
   "sideBar": true,
   "skip_h1_title": false,
   "title_cell": "Table of Contents",
   "title_sidebar": "Contents",
   "toc_cell": false,
   "toc_position": {},
   "toc_section_display": true,
   "toc_window_display": false
  },
  "varInspector": {
   "cols": {
    "lenName": 16,
    "lenType": 16,
    "lenVar": 40
   },
   "kernels_config": {
    "python": {
     "delete_cmd_postfix": "",
     "delete_cmd_prefix": "del ",
     "library": "var_list.py",
     "varRefreshCmd": "print(var_dic_list())"
    },
    "r": {
     "delete_cmd_postfix": ") ",
     "delete_cmd_prefix": "rm(",
     "library": "var_list.r",
     "varRefreshCmd": "cat(var_dic_list()) "
    }
   },
   "types_to_exclude": [
    "module",
    "function",
    "builtin_function_or_method",
    "instance",
    "_Feature"
   ],
   "window_display": false
  }
 },
 "nbformat": 4,
 "nbformat_minor": 5
}
