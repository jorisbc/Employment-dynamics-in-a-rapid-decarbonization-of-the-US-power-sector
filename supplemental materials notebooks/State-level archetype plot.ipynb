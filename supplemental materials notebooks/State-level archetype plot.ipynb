{
 "cells": [
  {
   "cell_type": "code",
   "execution_count": null,
   "id": "3d5a056b",
   "metadata": {
    "ExecuteTime": {
     "end_time": "2023-04-10T09:27:32.487328Z",
     "start_time": "2023-04-10T09:27:25.520628Z"
    }
   },
   "outputs": [],
   "source": [
    "import pandas as pd\n",
    "import numpy as np\n",
    "import matplotlib.pyplot as plt\n",
    "import geopandas"
   ]
  },
  {
   "cell_type": "code",
   "execution_count": null,
   "id": "70812eb1",
   "metadata": {
    "ExecuteTime": {
     "end_time": "2023-04-10T09:27:32.565069Z",
     "start_time": "2023-04-10T09:27:32.543144Z"
    }
   },
   "outputs": [],
   "source": [
    "data = '../data/'\n",
    "data_out = '../results/data_out/'\n",
    "fig_folder = '../results/figs/'"
   ]
  },
  {
   "cell_type": "markdown",
   "id": "4a366470",
   "metadata": {},
   "source": [
    "# File content: 1) Data read + state imputation + 2) indentify and plot states with type of employment (3 quadrants) + 3) adjust industry scenario to state proportional to current employment + 4) plot on map + 5) Add occupations and plot on map"
   ]
  },
  {
   "cell_type": "markdown",
   "id": "7723e64d",
   "metadata": {},
   "source": [
    "## Data read + state imputation: Takes ~20 minutes. Skip if already done"
   ]
  },
  {
   "cell_type": "code",
   "execution_count": null,
   "id": "ce730ee6",
   "metadata": {
    "ExecuteTime": {
     "end_time": "2023-04-10T09:27:32.658755Z",
     "start_time": "2023-04-10T09:27:32.636830Z"
    }
   },
   "outputs": [],
   "source": [
    "elec_gen = ['221111', '221112', '221113', '221114', '221115', '221116', '221117', '221118']"
   ]
  },
  {
   "cell_type": "code",
   "execution_count": null,
   "id": "e3bad9b1",
   "metadata": {},
   "outputs": [],
   "source": [
    "xwalk_bea_bls = pd.read_csv('additional data/BEA_71_BLS_NAICS_proportional_no_ownership.csv', index_col=0)"
   ]
  },
  {
   "cell_type": "code",
   "execution_count": null,
   "id": "32d2f386",
   "metadata": {
    "ExecuteTime": {
     "end_time": "2022-12-05T07:49:40.888997Z",
     "start_time": "2022-12-05T07:49:26.811931Z"
    }
   },
   "outputs": [],
   "source": [
    "occ_ind_state = pd.read_excel(data + \"BLS/oes_research_2018_allsectors.xlsx\", usecols=['area', 'area_title', 'naics', \n",
    "                                            'naics_title', 'occ code', 'occ title', 'tot_emp', 'emp_prse'])\n",
    "occ_ind_state = occ_ind_state[occ_ind_state['occ code'] =='00-0000']\n",
    "occ_ind_state.naics=occ_ind_state.naics.str.ljust(6, '0')\n",
    "\n",
    "# all required industries are available\n",
    "print(set(xwalk_bea_bls.columns) - set(occ_ind_state.naics.astype(str)))\n",
    "\n",
    "occ_ind_state = occ_ind_state[occ_ind_state.naics.isin(list(xwalk_bea_bls.columns) + ['221100'])]\n",
    "occ_ind_state.drop_duplicates(['area_title', 'naics'], inplace=True)"
   ]
  },
  {
   "cell_type": "code",
   "execution_count": null,
   "id": "a899af58",
   "metadata": {
    "ExecuteTime": {
     "end_time": "2022-12-05T07:49:40.907655Z",
     "start_time": "2022-12-05T07:49:40.907655Z"
    }
   },
   "outputs": [],
   "source": [
    "ind5_6 = pd.read_excel(data + 'BLS/oesm18in4/oesm18in4/nat5d_6d_M2018_dl.xlsx')\n",
    "ind4 =  pd.read_excel(data + 'BLS/oesm18in4/oesm18in4/nat4d_M2018_dl.xlsx')\n",
    "ind3 =  pd.read_excel(data + 'BLS/oesm18in4/oesm18in4/nat3d_M2018_dl.xlsx')\n",
    "ind2 =  pd.read_excel(data + 'BLS/oesm18in4/oesm18in4/natsector_M2018_dl.xlsx')\n",
    "\n",
    "ind_tot = pd.concat([ind2, ind3, ind4, ind5_6])\n",
    "ind_tot.NAICS=ind_tot.NAICS.astype(str)\n",
    "ind_tot.NAICS=ind_tot.NAICS.str.ljust(6, '0')\n",
    "\n",
    "# all required industries are available\n",
    "print(set(xwalk_bea_bls.columns) - set(ind_tot.NAICS.astype(str)))\n",
    "\n",
    "# select total employment for naics in our crosswalk\n",
    "ind_tot = ind_tot[ind_tot.NAICS.isin(list(xwalk_bea_bls.columns) + ['221100'])]\n",
    "ind_tot = ind_tot[ind_tot.OCC_CODE == '00-0000']\n",
    "ind_tot.drop_duplicates('NAICS', inplace=True)"
   ]
  },
  {
   "cell_type": "code",
   "execution_count": null,
   "id": "f70ec847",
   "metadata": {
    "ExecuteTime": {
     "end_time": "2022-12-05T07:49:40.919317Z",
     "start_time": "2022-12-05T07:49:40.919317Z"
    }
   },
   "outputs": [],
   "source": [
    "occ_ind_state.tot_emp = pd.to_numeric(occ_ind_state.tot_emp, errors='coerce')"
   ]
  },
  {
   "cell_type": "code",
   "execution_count": null,
   "id": "8bdbd95d",
   "metadata": {
    "ExecuteTime": {
     "end_time": "2022-12-05T07:49:40.932226Z",
     "start_time": "2022-12-05T07:49:40.932226Z"
    }
   },
   "outputs": [],
   "source": [
    "tot_emp_state = occ_ind_state[['area', 'area_title', 'tot_emp']].groupby(['area', 'area_title']).sum()"
   ]
  },
  {
   "cell_type": "code",
   "execution_count": null,
   "id": "cf696fb9",
   "metadata": {
    "ExecuteTime": {
     "end_time": "2022-12-05T07:49:40.951163Z",
     "start_time": "2022-12-05T07:49:40.951163Z"
    },
    "scrolled": true
   },
   "outputs": [],
   "source": [
    "ind_state_imputed = pd.DataFrame(columns=occ_ind_state.columns)\n",
    "for ind, title in ind_tot[['NAICS', 'NAICS_TITLE']].values:\n",
    "    ind_tot_emp = ind_tot[ind_tot.NAICS == ind].TOT_EMP.sum()\n",
    "    state_df = occ_ind_state[occ_ind_state.naics == ind]\n",
    "    ind_tot_emp_state = state_df.tot_emp.sum()\n",
    "    if ind_tot_emp > ind_tot_emp_state:\n",
    "        print(ind)\n",
    "        remainder = ind_tot_emp - ind_tot_emp_state\n",
    "        tot_emp_state_remains = tot_emp_state[~(tot_emp_state.index.get_level_values(1).isin(state_df[~state_df.tot_emp.isna()].area_title))]\n",
    "        remainder_key = ((tot_emp_state_remains / tot_emp_state_remains.sum()) * remainder).round(0)\n",
    "        remainder_key.reset_index(inplace=True)\n",
    "        remainder_key['naics'] = ind\n",
    "        remainder_key['naics_title'] = title\n",
    "        remainder_key['occ code'] = '00-0000'\n",
    "        remainder_key['occ title'] = 'All Occupations'\n",
    "        remainder_key['emp_prse'] = 0.0\n",
    "        a = pd.concat([state_df[~state_df.tot_emp.isna()], remainder_key]).reset_index(drop=True)\n",
    "        ind_state_imputed = pd.concat([ind_state_imputed, a]).reset_index(drop=True)\n",
    "    else: #ind_tot_emp < ind_tot_emp_state\n",
    "        remainder = ind_tot_emp_state - ind_tot_emp\n",
    "        # scale down existing\n",
    "        state_df.tot_emp *= (ind_tot_emp / ind_tot_emp_state)\n",
    "        ind_state_imputed = pd.concat([ind_state_imputed, state_df]).reset_index(drop=True)"
   ]
  },
  {
   "cell_type": "code",
   "execution_count": null,
   "id": "acf3e5f8",
   "metadata": {
    "ExecuteTime": {
     "end_time": "2022-12-05T07:49:40.964042Z",
     "start_time": "2022-12-05T07:49:40.964042Z"
    }
   },
   "outputs": [],
   "source": [
    "# impute 221120\n",
    "trans_dist = (ind_tot[ind_tot.NAICS == '221100'].TOT_EMP - ind_tot[ind_tot.NAICS.isin(elec_gen)].TOT_EMP.sum()).values[0]\n",
    "\n",
    "ind_tot.loc[len(ind_tot.index)] = ['221120', 'Electric Power Transmission and Distribution', '00-0000', 'Industry Total',\n",
    "                                   'total', trans_dist, 0.0, 100, 0,0,0,0,0,0,0,0,0,0,0,0,0,0, 'NaN', 'NaN']\n",
    "\n",
    "ind_tot = ind_tot[~(ind_tot.NAICS == '221100')]"
   ]
  },
  {
   "cell_type": "code",
   "execution_count": null,
   "id": "a52e8daa",
   "metadata": {
    "ExecuteTime": {
     "end_time": "2022-12-05T07:49:40.974978Z",
     "start_time": "2022-12-05T07:49:40.974978Z"
    }
   },
   "outputs": [],
   "source": [
    "left_over = 0\n",
    "for state in set(ind_state_imputed.area_title):\n",
    "    state_df = ind_state_imputed[ind_state_imputed.area_title == state]\n",
    "    trans_dist = (state_df[state_df.naics == '221100'].tot_emp.sum() - \\\n",
    "                  pd.to_numeric(state_df[state_df.naics.isin(elec_gen)].\\\n",
    "                                tot_emp, errors='coerce').sum())\n",
    "    if trans_dist < 0:\n",
    "        left_over += trans_dist\n",
    "        trans_dist = 0\n",
    "    ind_state_imputed.loc[len(ind_state_imputed.index)] = [ind_state_imputed[ind_state_imputed.area_title == state].area.values.mean()\n",
    "                                                           , state, '221120', \n",
    "                                                           'Electric Power Transmission and Distribution',\n",
    "                                                           '00-0000', 'All Occupations', trans_dist, 0.0]\n",
    "    \n",
    "tot_sum = ind_state_imputed[ind_state_imputed.naics == '221120'].tot_emp.sum()\n",
    "tot_ind = ind_tot[ind_tot.NAICS == '221120'].TOT_EMP.sum()\n",
    "ind_state_imputed.loc[ind_state_imputed.naics == '221120', 'tot_emp'] *= tot_ind / tot_sum"
   ]
  },
  {
   "cell_type": "code",
   "execution_count": null,
   "id": "67d81cde",
   "metadata": {
    "ExecuteTime": {
     "start_time": "2022-06-08T17:14:23.527Z"
    }
   },
   "outputs": [],
   "source": [
    "ind_state_imputed.tot_emp = ind_state_imputed.tot_emp.round(0)"
   ]
  },
  {
   "cell_type": "code",
   "execution_count": null,
   "id": "5b8f3310",
   "metadata": {
    "ExecuteTime": {
     "end_time": "2022-06-08T17:15:05.312801Z",
     "start_time": "2022-06-08T17:15:05.245561Z"
    }
   },
   "outputs": [],
   "source": [
    "ind_state_imputed.to_csv(data_out + 'BLS_oes_research_allsectors_2018_imputed.csv')"
   ]
  },
  {
   "cell_type": "markdown",
   "id": "d3ea35d9",
   "metadata": {},
   "source": [
    "## Find 3 quadrants of occupations in states"
   ]
  },
  {
   "cell_type": "code",
   "execution_count": null,
   "id": "3cadf7c7",
   "metadata": {
    "ExecuteTime": {
     "end_time": "2023-04-10T09:27:37.881289Z",
     "start_time": "2023-04-10T09:27:37.795575Z"
    }
   },
   "outputs": [],
   "source": [
    "ind_state_imputed = pd.read_csv(data_out + 'BLS_oes_research_allsectors_2018_imputed.csv', index_col=0)\n",
    "ind_state_imputed = ind_state_imputed[~(ind_state_imputed.naics == 221100)]"
   ]
  },
  {
   "cell_type": "code",
   "execution_count": null,
   "id": "0510ca2d",
   "metadata": {},
   "outputs": [],
   "source": [
    "xwalk_bea_bls = pd.read_csv('additional data/BEA_71_BLS_NAICS_proportional_no_ownership.csv', index_col=0)\n",
    "xwalk_bea_bls.columns = xwalk_bea_bls.columns.astype(int)"
   ]
  },
  {
   "cell_type": "code",
   "execution_count": null,
   "id": "2e805cf2",
   "metadata": {
    "ExecuteTime": {
     "end_time": "2023-04-10T09:27:39.038445Z",
     "start_time": "2023-04-10T09:27:39.015523Z"
    },
    "scrolled": true
   },
   "outputs": [],
   "source": [
    "# all industries in crosswalk and data\n",
    "print(set(xwalk_bea_bls.columns) - set(ind_state_imputed.naics))\n",
    "print(set(ind_state_imputed.naics) - set(xwalk_bea_bls.columns))"
   ]
  },
  {
   "cell_type": "code",
   "execution_count": null,
   "id": "82bd10e6",
   "metadata": {
    "ExecuteTime": {
     "end_time": "2023-04-10T09:27:40.335793Z",
     "start_time": "2023-04-10T09:27:40.309875Z"
    }
   },
   "outputs": [],
   "source": [
    "elec_capital_smallcaps = {'Biomass Electric Power Generation': 'Biomass electric power generation',\n",
    " 'Coal Electric Power Generation': 'Coal electric power generation',\n",
    " 'Electric Bulk Power Transmission and Control': 'Electric bulk power transmission and control',\n",
    " 'Electric Power Distribution': 'Electric power distribution',\n",
    " 'Gas Electric Power Generation': 'Gas electric power generation',\n",
    " 'Geothermal Electric Power Generation':  'Geothermal electric power generation',\n",
    " 'Hydroelectric Power Generation': 'Hydroelectric power generation',\n",
    " 'Natural Gas Distribution': '221200',\n",
    " 'Nuclear Electric Power Generation': 'Nuclear electric power generation',\n",
    " 'Other Electric Power Generation': 'Other electric power generation',\n",
    " 'Solar Electric Power Generation': 'Solar electric power generation',\n",
    " 'Water, Sewage and Other Systems': '221300',\n",
    " 'Wind Electric Power Generation': 'Wind electric power generation'}"
   ]
  },
  {
   "cell_type": "code",
   "execution_count": null,
   "id": "91fcb75e",
   "metadata": {
    "ExecuteTime": {
     "end_time": "2023-04-10T09:27:40.806441Z",
     "start_time": "2023-04-10T09:27:40.686838Z"
    }
   },
   "outputs": [],
   "source": [
    "# crosswalk to BEA industries\n",
    "ind_state_emp = ind_state_imputed.pivot_table(values='tot_emp', index='naics', columns='area_title').fillna(0)\n",
    "ind_state_emp = xwalk_bea_bls @ ind_state_emp\n",
    "\n",
    "ind_state_prop = ind_state_emp.div(ind_state_emp.sum(axis=1), axis=0).fillna(0)\n",
    "ind_state_prop.rename(index=elec_capital_smallcaps, inplace=True)"
   ]
  },
  {
   "cell_type": "code",
   "execution_count": null,
   "id": "ea79af52",
   "metadata": {
    "ExecuteTime": {
     "end_time": "2023-04-10T09:27:44.764218Z",
     "start_time": "2023-04-10T09:27:44.731327Z"
    }
   },
   "outputs": [],
   "source": [
    "# impact relative to reference scenario\n",
    "impact_type = pd.read_csv('../data/omn/occ_archetypes_thresholds_relbase_2034_2038.csv', index_col=0)"
   ]
  },
  {
   "cell_type": "code",
   "execution_count": null,
   "id": "bf715816",
   "metadata": {
    "ExecuteTime": {
     "end_time": "2023-04-10T09:27:52.455578Z",
     "start_time": "2023-04-10T09:27:52.434645Z"
    }
   },
   "outputs": [],
   "source": [
    "perm_boost = impact_type[impact_type['Permanent_boost_r0.01'] == 1].index.values\n",
    "phase_out = impact_type[impact_type['Phase_out_r0.01'] == 1].index.values\n",
    "temp_boost = impact_type[impact_type['Temporary_boost_r0.01'] == 1].index.values"
   ]
  },
  {
   "cell_type": "code",
   "execution_count": null,
   "id": "b71e8897",
   "metadata": {
    "ExecuteTime": {
     "end_time": "2023-04-10T09:27:54.463218Z",
     "start_time": "2023-04-10T09:27:54.345614Z"
    }
   },
   "outputs": [],
   "source": [
    "emp_profile = pd.read_csv(data_out + 'bi-partite_emp_sum_elec.csv', index_col=0)\n",
    "emp_profile = emp_profile.divide(emp_profile.sum(axis=1), axis=0).fillna(0)\n",
    "\n",
    "state_occ = (ind_state_emp.T @ emp_profile).T"
   ]
  },
  {
   "cell_type": "markdown",
   "id": "8fe8f86e",
   "metadata": {},
   "source": [
    "calculate location quotient:$\\dfrac{x_{ab} / x_a}{x_b / x}$\n",
    "\n",
    "$$ \\dfrac{\\text{\\# workers in state a phase out } / \n",
    "\\text{ \\# workers in state a} }{\\text{\\# workers in phase out } / \\text{ \\# workers}} $$"
   ]
  },
  {
   "cell_type": "code",
   "execution_count": null,
   "id": "56f2902a",
   "metadata": {
    "ExecuteTime": {
     "end_time": "2023-04-10T09:27:56.373895Z",
     "start_time": "2023-04-10T09:27:56.349975Z"
    }
   },
   "outputs": [],
   "source": [
    "employment_occ = state_occ.sum(axis=1)\n",
    "employment_state = state_occ.sum(axis=0)\n",
    "employment_tot = state_occ.sum().sum()"
   ]
  },
  {
   "cell_type": "code",
   "execution_count": null,
   "id": "dbb74e5a",
   "metadata": {
    "ExecuteTime": {
     "end_time": "2023-04-10T09:27:57.320731Z",
     "start_time": "2023-04-10T09:27:57.304780Z"
    }
   },
   "outputs": [],
   "source": [
    "state_occ_quotient = state_occ.div(employment_state, axis=1).div((employment_occ / employment_tot), axis=0)"
   ]
  },
  {
   "cell_type": "code",
   "execution_count": null,
   "id": "66c4dd3e",
   "metadata": {
    "ExecuteTime": {
     "end_time": "2023-04-10T09:27:58.140371Z",
     "start_time": "2023-04-10T09:27:58.113459Z"
    }
   },
   "outputs": [],
   "source": [
    "quadrant_4 = pd.DataFrame(state_occ_quotient.loc[perm_boost].mean())\n",
    "quadrant_4.columns = ['perm_boost']\n",
    "\n",
    "quadrant_4['temp_boost'] = state_occ_quotient.loc[temp_boost].mean()\n",
    "quadrant_4['phase_out'] = state_occ_quotient.loc[phase_out].mean()"
   ]
  },
  {
   "cell_type": "code",
   "execution_count": null,
   "id": "3511d7eb",
   "metadata": {
    "ExecuteTime": {
     "end_time": "2023-04-10T09:28:04.071360Z",
     "start_time": "2023-04-10T09:27:58.872751Z"
    }
   },
   "outputs": [],
   "source": [
    "states = geopandas.read_file('additional data/usa-states-census-2014/usa-states-census-2014.shp')\n",
    "states.STATEFP = states.STATEFP.astype(int)\n",
    "us_boundary_map = states.boundary.plot(figsize=(3, 3), color=\"Black\", linewidth=.5)\n",
    "\n",
    "quadrant_geo = states.merge(quadrant_4, left_on = 'NAME', right_index=True, how='outer').dropna()"
   ]
  },
  {
   "cell_type": "code",
   "execution_count": null,
   "id": "fb106550",
   "metadata": {
    "ExecuteTime": {
     "end_time": "2023-04-10T09:28:05.730808Z",
     "start_time": "2023-04-10T09:28:05.693934Z"
    }
   },
   "outputs": [],
   "source": [
    "quadrant_geo.drop_duplicates(inplace=True)"
   ]
  },
  {
   "cell_type": "code",
   "execution_count": null,
   "id": "ebc6a57f",
   "metadata": {
    "ExecuteTime": {
     "end_time": "2023-04-10T09:28:13.731054Z",
     "start_time": "2023-04-10T09:28:10.345380Z"
    }
   },
   "outputs": [],
   "source": [
    "#ax = ind_geo.boundary.plot(figsize=(18, 12), color=\"Black\", linewidth=.5)\n",
    "for col in ['perm_boost', 'temp_boost', 'phase_out']:\n",
    "    vmin, vmax = (0.5, 2)\n",
    "    if col == 'phase_out':\n",
    "        vmin, vmax = (0.5, 4)\n",
    "    quadrant_geo.plot(column =col, cmap='inferno', figsize=(10, 10), linewidth=.5, vmin=vmin, vmax=vmax, legend=True, legend_kwds={'shrink': 0.4})\n",
    "    plt.tight_layout()\n",
    "plt.savefig('no_elec_growth_impact_rel_states.png', bbox_inches='tight')\n",
    "# save svg\n",
    "plt.savefig('no_elec_growth_impact_rel_states.svg', bbox_inches='tight')\n",
    "# save pdf\n",
    "plt.savefig('no_elec_growth_impact_rel_states.pdf', bbox_inches='tight')"
   ]
  }
 ],
 "metadata": {
  "kernelspec": {
   "display_name": "Python 3 (ipykernel)",
   "language": "python",
   "name": "python3"
  },
  "language_info": {
   "codemirror_mode": {
    "name": "ipython",
    "version": 3
   },
   "file_extension": ".py",
   "mimetype": "text/x-python",
   "name": "python",
   "nbconvert_exporter": "python",
   "pygments_lexer": "ipython3",
   "version": "3.8.4"
  },
  "toc": {
   "base_numbering": 1,
   "nav_menu": {},
   "number_sections": true,
   "sideBar": true,
   "skip_h1_title": false,
   "title_cell": "Table of Contents",
   "title_sidebar": "Contents",
   "toc_cell": false,
   "toc_position": {},
   "toc_section_display": true,
   "toc_window_display": false
  },
  "varInspector": {
   "cols": {
    "lenName": 16,
    "lenType": 16,
    "lenVar": 40
   },
   "kernels_config": {
    "python": {
     "delete_cmd_postfix": "",
     "delete_cmd_prefix": "del ",
     "library": "var_list.py",
     "varRefreshCmd": "print(var_dic_list())"
    },
    "r": {
     "delete_cmd_postfix": ") ",
     "delete_cmd_prefix": "rm(",
     "library": "var_list.r",
     "varRefreshCmd": "cat(var_dic_list()) "
    }
   },
   "position": {
    "height": "691.844px",
    "left": "1562px",
    "right": "20px",
    "top": "120px",
    "width": "338px"
   },
   "types_to_exclude": [
    "module",
    "function",
    "builtin_function_or_method",
    "instance",
    "_Feature"
   ],
   "window_display": false
  }
 },
 "nbformat": 4,
 "nbformat_minor": 5
}
