{
 "cells": [
  {
   "cell_type": "code",
   "execution_count": null,
   "metadata": {},
   "outputs": [],
   "source": [
    "import numpy as np\n",
    "import pandas as pd\n",
    "import matplotlib.pyplot as plt"
   ]
  },
  {
   "cell_type": "code",
   "execution_count": null,
   "metadata": {},
   "outputs": [],
   "source": [
    "df_import = pd.DataFrame()\n",
    "for year in range(1997, 2020):\n",
    "    import_perc_df = pd.read_excel(\"../data/Data_out_IO/\" + str(year) + \"-import_perc_sum.xlsx\", index_col=0)\n",
    "    import_perc_df.rename(columns={\"import_perc\": year}, inplace=True)\n",
    "\n",
    "    df_import = pd.concat([df_import, import_perc_df], axis=1)"
   ]
  },
  {
   "cell_type": "code",
   "execution_count": null,
   "metadata": {},
   "outputs": [],
   "source": [
    "cm = plt.get_cmap('gist_rainbow')\n",
    "fig, ax = plt.subplots(figsize=(13, 6))\n",
    "n = len(df_import.columns)\n",
    "df_import[df_import.mean(axis=1) >= 0.1].T.plot(color=[cm(1.*i/n) for i in range(n)], ax=ax).legend(loc='center left', bbox_to_anchor=(0.03,-0.3), ncols=8)\n",
    "df_import[df_import.mean(axis=1) < 0.1].T.plot(color='grey', ax=ax).legend(loc='center left', bbox_to_anchor=(0.03,-0.3), ncols=8)\n",
    "# add y axis legend\n",
    "plt.ylabel(\"Import fraction in inter-sectoral trade\")"
   ]
  },
  {
   "cell_type": "code",
   "execution_count": null,
   "metadata": {},
   "outputs": [],
   "source": [
    "df_import.mean(axis=1).sort_values(ascending=False).head(10)"
   ]
  },
  {
   "cell_type": "code",
   "execution_count": null,
   "metadata": {},
   "outputs": [],
   "source": [
    "df_import[10:25]"
   ]
  }
 ],
 "metadata": {
  "kernelspec": {
   "display_name": "trns",
   "language": "python",
   "name": "python3"
  },
  "language_info": {
   "codemirror_mode": {
    "name": "ipython",
    "version": 3
   },
   "file_extension": ".py",
   "mimetype": "text/x-python",
   "name": "python",
   "nbconvert_exporter": "python",
   "pygments_lexer": "ipython3",
   "version": "3.8.4"
  }
 },
 "nbformat": 4,
 "nbformat_minor": 2
}
