{
 "cells": [
  {
   "cell_type": "code",
   "execution_count": null,
   "id": "f65a2b2c",
   "metadata": {
    "ExecuteTime": {
     "end_time": "2023-04-12T06:47:18.560172Z",
     "start_time": "2023-04-12T06:47:11.474110Z"
    }
   },
   "outputs": [],
   "source": [
    "import pandas as pd\n",
    "import numpy as np\n",
    "import matplotlib.pyplot as plt\n",
    "import seaborn as sns\n",
    "from itertools import cycle, islice"
   ]
  },
  {
   "cell_type": "code",
   "execution_count": null,
   "id": "fe2153ff",
   "metadata": {
    "ExecuteTime": {
     "end_time": "2023-04-12T06:47:18.591072Z",
     "start_time": "2023-04-12T06:47:18.579114Z"
    }
   },
   "outputs": [],
   "source": [
    "data = '../data/'\n",
    "data_out = '../results/data_out/'\n",
    "output_folder = '../results/data_out/results_sensitivity/annual_change_sens/'\n",
    "fig_folder = '../results/figs/'\n",
    "version = '3_oct_2022'\n",
    "ylim = (-250000, 700000)\n",
    "prefix = '4_'"
   ]
  },
  {
   "cell_type": "code",
   "execution_count": null,
   "id": "1bb42822",
   "metadata": {
    "ExecuteTime": {
     "end_time": "2023-04-12T06:47:18.607025Z",
     "start_time": "2023-04-12T06:47:18.595058Z"
    }
   },
   "outputs": [],
   "source": [
    "scens = ['95% by 2035', 'Reference']\n",
    "global_scen = '95% by 2035'\n",
    "ind_agg = pd.read_csv('../results/data_out/Data_out_names/ind_sum_aggr.csv', index_col=0)['label aggr']\n",
    "order_flat_to_bell = False"
   ]
  },
  {
   "cell_type": "code",
   "execution_count": null,
   "id": "7ef13850",
   "metadata": {},
   "outputs": [],
   "source": [
    "short_ind_names = {'Agriculture, Forestry, Fishing and Hunting': 'Agriculture',\n",
    " 'Mining, Quarrying, and Oil and Gas Extraction': 'Mining (incl. fossil fuels)',\n",
    " 'Utilities': 'Utilities',\n",
    " 'Construction': 'Construction',\n",
    " 'Manufacturing': 'Manufacturing',\n",
    " 'Wholesale Trade': 'Wholesale',\n",
    " 'Retail Trade': 'Retail',\n",
    " 'Transportation and Warehousing': 'Transportation',\n",
    " 'Information': 'Information',\n",
    " 'Finance and Insurance': 'Finance',\n",
    " 'Real Estate and Rental and Leasing': 'Real Estate',\n",
    " 'Professional, Scientific, and Technical Services': 'Professional Services',\n",
    " 'Management of Companies and Enterprises': 'Company Management',\n",
    " 'Administrative and Support and Waste Management and Remediation Services': 'Administrative Services',\n",
    " 'Educational Services': 'Education',\n",
    " 'Health Care and Social Assistance': 'Health Care',\n",
    " 'Arts, Entertainment, and Recreation': 'Arts',\n",
    " 'Accommodation and Food Services': 'Accommodation and Food',\n",
    " 'Other Services (except Public Administration)': 'Other Services',\n",
    " 'Public Administration': 'Public Administration'}"
   ]
  },
  {
   "cell_type": "code",
   "execution_count": null,
   "id": "83d92386",
   "metadata": {},
   "outputs": [],
   "source": [
    "ind_agg = ind_agg.map(short_ind_names)"
   ]
  },
  {
   "cell_type": "code",
   "execution_count": null,
   "id": "3b4c1fa2",
   "metadata": {
    "ExecuteTime": {
     "end_time": "2023-04-12T06:53:12.273109Z",
     "start_time": "2023-04-12T06:53:08.382616Z"
    },
    "scrolled": false
   },
   "outputs": [],
   "source": [
    "for global_scen in scens:\n",
    "    print(global_scen)\n",
    "    df_full = pd.DataFrame()\n",
    "    for yr in range(2021, 2050, 1):\n",
    "        df = pd.read_csv(output_folder + prefix + 'ind_empl_' + \\\n",
    "                                            global_scen + '_' + str(yr-1) + '-'+ str(yr) + \\\n",
    "                                             '.csv', index_col=0)\n",
    "        df['year'] = yr\n",
    "        df_full = pd.concat([df_full, df])\n",
    "\n",
    "    print(df_full.sum().sum())\n",
    "    df_full = df_full.reset_index().set_index(['index', 'year'])\n",
    "    df_try = df_full.unstack().T.copy()\n",
    "    df_try.index = df_try.index.droplevel(0)\n",
    "    df_try = df_try.groupby(df_try.index).sum()\n",
    "    df_try.loc[2020, :] = 0\n",
    "    df_try.sort_index(inplace=True)\n",
    "    \n",
    "    \n",
    "    utils = set(df_try) - set(ind_agg.index)\n",
    "\n",
    "    utils = dict(zip(utils, ['Utilities' for x in utils]))\n",
    "\n",
    "    ind_agg = pd.concat([ind_agg, pd.Series(utils, dtype=str)])\n",
    "\n",
    "    indcat = np.unique(ind_agg)\n",
    "    my_colors = list(islice(cycle(['lime',  'violet', 'y', 'darkred', 'aquamarine', \n",
    "                                   'b', 'r', 'pink', 'peru', 'k', 'grey',\n",
    "                                   'slategrey', 'midnightblue', 'salmon', 'goldenrod', \n",
    "                                   'teal', 'purple', \n",
    "                                   'deeppink', 'g', 'm', 'c']), None, \n",
    "                            len(indcat)))\n",
    "    colordict = dict(zip(indcat, my_colors))\n",
    "\n",
    "#     my_colors = list(islice(cycle(['b', 'r', 'g', 'y', 'k', 'm', 'c', 'lime', \n",
    "#                                    'slategrey', 'midnightblue', 'salmon', 'goldenrod', \n",
    "#                                    'teal', 'purple', 'violet', 'pink', 'peru', 'grey']), None, 2*len(df_try.columns)))\n",
    "\n",
    "    \n",
    "    to_plot = pd.concat([df_try.cumsum().clip(lower=0), df_try.cumsum().clip(upper=0)], axis=1)\n",
    "\n",
    "    if order_flat_to_bell == True:\n",
    "        to_order = df_try.cumsum().copy()\n",
    "        idx_order = np.abs(to_order.loc[2033] / to_order.loc[2037]).fillna(0).sort_values().index\n",
    "        if global_scen == '95% by 2050':\n",
    "            idx_order = idx_order[::-1]\n",
    "        to_plot = to_plot.loc[:,idx_order]\n",
    "    \n",
    "\n",
    "    colorlist = [colordict[ind_agg.to_dict()[ind]] for ind in to_plot.columns]\n",
    "        \n",
    "    to_plot.plot.area(color=colorlist, figsize=(6,6), ylim=ylim, legend='reverse')#.\\\n",
    "                    #legend(loc='center left', bbox_to_anchor=(1.0, 0.5))\n",
    "        \n",
    "    markers = [plt.Line2D([0,0],[0,0],color=color, marker='o', linestyle='') for color in colordict.values()]\n",
    "    plt.legend(markers, colordict.keys(), numpoints=1, loc='center left', bbox_to_anchor=(-0.06, -1.1), ncols=2)#, bbox_to_anchor=(1.0, 0.5))\n",
    "\n",
    "    sns.despine()\n",
    "\n",
    "    plt.ylabel('Cumulative worker demand \\nin the electricity supply chain') \n",
    "    plt.tight_layout()\n",
    "    plt.show()"
   ]
  },
  {
   "cell_type": "code",
   "execution_count": null,
   "id": "e5e17e91",
   "metadata": {
    "ExecuteTime": {
     "end_time": "2023-04-12T06:53:41.398732Z",
     "start_time": "2023-04-12T06:53:41.369832Z"
    }
   },
   "outputs": [],
   "source": [
    "major_occ = pd.read_csv('../results/data_out/results_sensitivity/annual_change_sens/4_empl_95% by 2035_2021-2022.csv', index_col=0)['OCC_TITLE_major']"
   ]
  },
  {
   "cell_type": "code",
   "execution_count": null,
   "id": "62d78b74",
   "metadata": {},
   "outputs": [],
   "source": [
    "short_major_occ_names = {'Management Occupations': 'Management',\n",
    " 'Business and Financial Operations Occupations': 'Business & Financial',\n",
    " 'Computer and Mathematical Occupations': 'Computer & Maths',\n",
    " 'Architecture and Engineering Occupations': 'Engineering',\n",
    " 'Life, Physical, and Social Science Occupations': 'Science Occupations',\n",
    " 'Community and Social Service Occupations': 'Social Service',\n",
    " 'Legal Occupations': 'Legal',\n",
    " 'Education, Training, and Library Occupations': 'Education',\n",
    " 'Arts, Design, Entertainment, Sports, and Media Occupations': 'Arts',\n",
    " 'Healthcare Practitioners and Technical Occupations': 'Healthcare Pract.',\n",
    " 'Healthcare Support Occupations': 'Healthcare Support',\n",
    " 'Protective Service Occupations': 'Protective Service',\n",
    " 'Food Preparation and Serving Related Occupations': 'Food Preparation',\n",
    " 'Building and Grounds Cleaning and Maintenance Occupations': 'Cleaning and Maintenance ',\n",
    " 'Personal Care and Service Occupations': 'Personal Care',\n",
    " 'Sales and Related Occupations': 'Sales',\n",
    " 'Office and Administrative Support Occupations': 'Administrative',\n",
    " 'Farming, Fishing, and Forestry Occupations': 'Farming',\n",
    " 'Construction and Extraction Occupations': 'Construction & Extraction',\n",
    " 'Installation, Maintenance, and Repair Occupations': 'Installation & Repair',\n",
    " 'Production Occupations': 'Production',\n",
    " 'Transportation and Material Moving Occupations': 'Transportation'}"
   ]
  },
  {
   "cell_type": "code",
   "execution_count": null,
   "id": "5a9355fc",
   "metadata": {
    "ExecuteTime": {
     "end_time": "2023-04-12T06:54:01.879862Z",
     "start_time": "2023-04-12T06:53:56.677722Z"
    }
   },
   "outputs": [],
   "source": [
    "cols = ['Wind-capex', 'Solar-capex',\n",
    "       'Natural gas-capex', 'Coal-capex', 'Biomass-capex', 'Geothermal-capex',\n",
    "       'Hydro-capex', 'Battery storage-capex', 'T&D-capex', 'Biomass-opex',\n",
    "       'Coal-opex', 'Solar-opex', 'Natural gas-opex', 'Geothermal-opex',\n",
    "       'Hydro-opex', 'Nuclear-opex', 'Wind-opex',\n",
    "       'Transmission and distribution-opex', 'Battery storage-opex']\n",
    "\n",
    "#for global_scen in scens:\n",
    "global_scen = scens[0]\n",
    "print(global_scen)\n",
    "df_full = pd.DataFrame()\n",
    "for yr in range(2021, 2050, 1):\n",
    "    df = pd.read_csv(output_folder + prefix + 'empl_' + \\\n",
    "                                        global_scen + '_' + str(yr-1) + '-'+ str(yr) + \\\n",
    "                                         '.csv', index_col=0)\n",
    "    df['year'] = yr\n",
    "    df_full = pd.concat([df_full, df])\n",
    "\n",
    "df_full = df_full.reset_index().set_index(['index', 'year'])\n",
    "df_try = df_full.loc[:,cols].unstack().T.copy()\n",
    "df_try.index = df_try.index.droplevel(0)\n",
    "df_try = df_try.groupby(df_try.index).sum()\n",
    "df_try.loc[2020, :] = 0\n",
    "df_try.sort_index(inplace=True)\n",
    "\n",
    "short_majocc = major_occ.map(short_major_occ_names)\n",
    "\n",
    "occcat = np.unique(short_majocc)\n",
    "\n",
    "my_colors = list(islice(cycle(['b', 'r', 'g', 'y', 'k', 'm', 'c', 'lime', \n",
    "                               'slategrey', 'midnightblue', 'salmon', 'goldenrod', \n",
    "                               'teal', 'purple', 'violet', 'pink', 'peru', 'grey', \n",
    "                               'deeppink', 'olive', 'darkred', 'aquamarine']), None, \n",
    "                        len(occcat)))\n",
    "colordict = dict(zip(occcat, my_colors))\n",
    "colorlist = [colordict[occ] for occ in short_majocc]\n",
    "\n",
    "\n",
    "pd.concat([df_try.cumsum().clip(lower=0), df_try.cumsum().clip(upper=0)], axis=1).plot.area(color=colorlist, figsize=(6,6), ylim=ylim, legend='reverse')#.\\\n",
    "                #legend(loc='center left', bbox_to_anchor=(1.0, 0.5))\n",
    "\n",
    "markers = [plt.Line2D([0,0],[0,0],color=color, marker='o', linestyle='') for color in colordict.values()]\n",
    "\n",
    "plt.legend(markers, colordict.keys(), numpoints=1, loc='center left', bbox_to_anchor=(0, -0.7), ncols=2)\n",
    "\n",
    "sns.despine()\n",
    "\n",
    "plt.ylabel('Cumulative new jobs in electricity supply chain')     \n",
    "plt.show()"
   ]
  },
  {
   "cell_type": "code",
   "execution_count": null,
   "id": "8c824bc9",
   "metadata": {
    "ExecuteTime": {
     "end_time": "2023-04-12T06:54:08.539512Z",
     "start_time": "2023-04-12T06:54:03.658439Z"
    }
   },
   "outputs": [],
   "source": [
    "cols = ['Wind-capex', 'Solar-capex',\n",
    "       'Natural gas-capex', 'Coal-capex', 'Biomass-capex', 'Geothermal-capex',\n",
    "       'Hydro-capex', 'Battery storage-capex', 'T&D-capex', 'Biomass-opex', 'Coal-opex',\n",
    "       'Solar-opex', 'Natural gas-opex', 'Geothermal-opex', 'Hydro-opex',\n",
    "       'Nuclear-opex', 'Wind-opex', 'Transmission and distribution-opex',\n",
    "       'Battery storage-opex']\n",
    "\n",
    "#for global_scen in scens:\n",
    "global_scen = scens[1]\n",
    "print(global_scen)\n",
    "df_full = pd.DataFrame()\n",
    "for yr in range(2021, 2050, 1):\n",
    "    df = pd.read_csv(output_folder + prefix + 'empl_' + \\\n",
    "                                        global_scen + '_' + str(yr-1) + '-'+ str(yr) + \\\n",
    "                                         '.csv', index_col=0)\n",
    "    df['year'] = yr\n",
    "    df_full = pd.concat([df_full, df])\n",
    "\n",
    "df_full = df_full.reset_index().set_index(['index', 'year'])\n",
    "df_try = df_full.loc[:,cols].unstack().T.copy()\n",
    "df_try.index = df_try.index.droplevel(0)\n",
    "df_try = df_try.groupby(df_try.index).sum()\n",
    "df_try.loc[2020, :] = 0\n",
    "df_try.sort_index(inplace=True)\n",
    "\n",
    "occcat = np.unique(major_occ.str[:-12])\n",
    "my_colors = list(islice(cycle(['b', 'r', 'g', 'y', 'k', 'm', 'c', 'lime', \n",
    "                               'slategrey', 'midnightblue', 'salmon', 'goldenrod', \n",
    "                               'teal', 'purple', 'violet', 'pink', 'peru', 'grey', \n",
    "                               'deeppink', 'olive', 'darkred', 'aquamarine']), None, \n",
    "                        len(occcat)))\n",
    "colordict = dict(zip(occcat, my_colors))\n",
    "colorlist = [colordict[occ] for occ in major_occ.str[:-12]]\n",
    "\n",
    "\n",
    "pd.concat([df_try.cumsum().clip(lower=0), df_try.cumsum().clip(upper=0)], axis=1).plot.area(color=colorlist, figsize=(6,6), ylim=ylim, legend='reverse')#.\\\n",
    "                #legend(loc='center left', bbox_to_anchor=(1.0, 0.5))\n",
    "\n",
    "markers = [plt.Line2D([0,0],[0,0],color=color, marker='o', linestyle='') for color in colordict.values()]\n",
    "plt.legend(markers, colordict.keys(), numpoints=1, loc='center left', bbox_to_anchor=(1.0, 0.5))\n",
    "\n",
    "plt.ylabel('Cumulative new jobs in electricity supply chain')     \n",
    "plt.show()"
   ]
  }
 ],
 "metadata": {
  "kernelspec": {
   "display_name": "Python 3 (ipykernel)",
   "language": "python",
   "name": "python3"
  },
  "language_info": {
   "codemirror_mode": {
    "name": "ipython",
    "version": 3
   },
   "file_extension": ".py",
   "mimetype": "text/x-python",
   "name": "python",
   "nbconvert_exporter": "python",
   "pygments_lexer": "ipython3",
   "version": "3.8.4"
  },
  "toc": {
   "base_numbering": 1,
   "nav_menu": {},
   "number_sections": true,
   "sideBar": true,
   "skip_h1_title": false,
   "title_cell": "Table of Contents",
   "title_sidebar": "Contents",
   "toc_cell": false,
   "toc_position": {
    "height": "calc(100% - 180px)",
    "left": "10px",
    "top": "150px",
    "width": "165px"
   },
   "toc_section_display": true,
   "toc_window_display": true
  },
  "varInspector": {
   "cols": {
    "lenName": 16,
    "lenType": 16,
    "lenVar": 40
   },
   "kernels_config": {
    "python": {
     "delete_cmd_postfix": "",
     "delete_cmd_prefix": "del ",
     "library": "var_list.py",
     "varRefreshCmd": "print(var_dic_list())"
    },
    "r": {
     "delete_cmd_postfix": ") ",
     "delete_cmd_prefix": "rm(",
     "library": "var_list.r",
     "varRefreshCmd": "cat(var_dic_list()) "
    }
   },
   "types_to_exclude": [
    "module",
    "function",
    "builtin_function_or_method",
    "instance",
    "_Feature"
   ],
   "window_display": false
  }
 },
 "nbformat": 4,
 "nbformat_minor": 5
}
